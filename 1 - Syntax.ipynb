{
 "cells": [
  {
   "cell_type": "markdown",
   "metadata": {},
   "source": [
    "# Syntax in Latin, Syntax in other languages\n",
    "\n",
    "One of the hypothesis for my thesis is that Latin free syntax might impact the result of NLP the way NLP tools have been designed mainly for Latin in terms of data window and data preparation. The objective of this first experiment is to analyze the statisical difference between Latin and other languages, and the difference in Latin itself overtime.\n",
    "\n",
    "The following measurements will be object of research :\n",
    "- Word Distance between object and target, in a relative and absolute way\n",
    "  - *From which in particular*\n",
    "  - Distance between Adjectives and qualified Nouns\n",
    "  - Distance between verb and subject\n",
    "- Number of word by phrase\n",
    "- Number of verb by phrase"
   ]
  },
  {
   "cell_type": "code",
   "execution_count": null,
   "metadata": {},
   "outputs": [],
   "source": [
    "%matplotlib inline\n",
    "\n",
    "from src.treebank.syntax import *\n",
    "# Date resources\n",
    "\n",
    "UNIVERSAL_DEPENDENCY_VERSION = \"1.2\"\n",
    "FILE_TO_USE = \"train\"\n",
    "LATINS = [\"UD_Latin\", \"UD_Latin-ITT\", \"UD_Latin-PROIEL\"]\n",
    "GREEKS = [\"UD_Ancient_Greek\", \"UD_Ancient_Greek-PROIEL\"]\n",
    "Language = {}"
   ]
  },
  {
   "cell_type": "code",
   "execution_count": null,
   "metadata": {},
   "outputs": [],
   "source": [
    "# Checking the code base\n",
    "import unittest\n",
    "import sys\n",
    "\n",
    "suite = unittest.TestLoader().discover( \"test\", pattern=\"test_syntax.py\" )\n",
    "unittest.TextTestRunner(verbosity=1,stream=sys.stderr).run( suite )"
   ]
  },
  {
   "cell_type": "markdown",
   "metadata": {},
   "source": [
    "## Data preparation and data status"
   ]
  },
  {
   "cell_type": "code",
   "execution_count": null,
   "metadata": {},
   "outputs": [],
   "source": [
    "# Data Loading\n",
    "Language[\"lat\"] = Lang(folders=[\n",
    "    \"resources/universal-dependencies-{0}/{1}\".format(\n",
    "        UNIVERSAL_DEPENDENCY_VERSION,\n",
    "        latin\n",
    "    ) for latin in LATINS\n",
    "])\n",
    "Language[\"grc\"] = Lang(folders=[\n",
    "    \"resources/universal-dependencies-{0}/{1}\".format(\n",
    "        UNIVERSAL_DEPENDENCY_VERSION,\n",
    "        greek\n",
    "    ) for greek in GREEKS\n",
    "])\n",
    "Language[\"fre\"] = Lang(folders=[\"resources/universal-dependencies-{0}/UD_French\".format(UNIVERSAL_DEPENDENCY_VERSION)])\n",
    "Language[\"eng\"] = Lang(folders=[\"resources/universal-dependencies-{0}/UD_English\".format(UNIVERSAL_DEPENDENCY_VERSION)])"
   ]
  },
  {
   "cell_type": "markdown",
   "metadata": {},
   "source": [
    "#### Computing distances\n",
    "\n",
    "- **Dependency Distances** :\n",
    "\n",
    "### Resources\n",
    "\n",
    "Resources consists of 3 Latin unversal dependencies treebanked texts.\n",
    "\n",
    "\n",
    "The resources we are using come from the three Latin Universal Dependencies resources"
   ]
  },
  {
   "cell_type": "markdown",
   "metadata": {},
   "source": [
    "## Global Dependancy Distance\n",
    "### Latin global dependancy distance"
   ]
  },
  {
   "cell_type": "code",
   "execution_count": null,
   "metadata": {
    "scrolled": false
   },
   "outputs": [],
   "source": [
    "stat = Language[\"lat\"].get_stat(\"dependancy_distances\")\n",
    "\n",
    "print(\"Population distribution\")\n",
    "stat.XGraph()\n",
    "\n",
    "print(\"Language distance mean is {}\".format(stat._y_mean))\n",
    "print(\"Language distance variance is {}\".format(stat._y_var))\n",
    "print(\"Language distance standard deviation is {}\".format(stat._y_std))\n",
    "print(\"Language distance median is {}\".format(stat._y_med))\n",
    "stat.NGraph()"
   ]
  },
  {
   "cell_type": "markdown",
   "metadata": {
    "collapsed": true
   },
   "source": [
    "The corpus represented by this statistics has the following properties regarding word and relation distance."
   ]
  },
  {
   "cell_type": "markdown",
   "metadata": {},
   "source": [
    "### Comparison with Ancient Greek"
   ]
  },
  {
   "cell_type": "code",
   "execution_count": null,
   "metadata": {},
   "outputs": [],
   "source": [
    "stat = Language[\"grc\"].get_stat(\"dependancy_distances\")\n",
    "\n",
    "print(\"Population distribution\")\n",
    "stat.XGraph()\n",
    "\n",
    "print(\"Language distance mean is {}\".format(stat._y_mean))\n",
    "print(\"Language distance variance is {}\".format(stat._y_var))\n",
    "print(\"Language distance standard deviation is {}\".format(stat._y_std))\n",
    "print(\"Language distance median is {}\".format(stat._y_med))\n",
    "stat.NGraph()"
   ]
  },
  {
   "cell_type": "markdown",
   "metadata": {},
   "source": [
    "### Comparison with French"
   ]
  },
  {
   "cell_type": "code",
   "execution_count": null,
   "metadata": {},
   "outputs": [],
   "source": [
    "stat = Language[\"fre\"].get_stat(\"dependancy_distances\")\n",
    "\n",
    "print(\"Population distribution\")\n",
    "stat.XGraph()\n",
    "\n",
    "print(\"Language distance mean is {}\".format(stat._y_mean))\n",
    "print(\"Language distance variance is {}\".format(stat._y_var))\n",
    "print(\"Language distance standard deviation is {}\".format(stat._y_std))\n",
    "print(\"Language distance median is {}\".format(stat._y_med))\n",
    "stat.NGraph()"
   ]
  },
  {
   "cell_type": "markdown",
   "metadata": {},
   "source": [
    "### Comparison with French"
   ]
  },
  {
   "cell_type": "code",
   "execution_count": null,
   "metadata": {},
   "outputs": [],
   "source": [
    "stat = Language[\"eng\"].get_stat(\"dependancy_distances\")\n",
    "\n",
    "print(\"Population distribution\")\n",
    "stat.XGraph()\n",
    "\n",
    "print(\"Language distance mean is {}\".format(stat._y_mean))\n",
    "print(\"Language distance variance is {}\".format(stat._y_var))\n",
    "print(\"Language distance standard deviation is {}\".format(stat._y_std))\n",
    "print(\"Language distance median is {}\".format(stat._y_med))\n",
    "stat.NGraph()"
   ]
  },
  {
   "cell_type": "markdown",
   "metadata": {},
   "source": [
    "## Adjectives Dependancy distance\n",
    "\n",
    "### Latin"
   ]
  },
  {
   "cell_type": "code",
   "execution_count": null,
   "metadata": {},
   "outputs": [],
   "source": [
    "# Computing distance between adjectives and nouns for ATTR relationships\n",
    "stat = Language[\"lat\"].get_stat(\"specific_distance\", labels=[\"ADJ Count\"] + LangStat.LABELS[1:], rel=ADJ, POS=\"ADJ\")\n",
    "\n",
    "stat.xlim = (2, 7)\n",
    "print(\"Population distribution\")\n",
    "stat.XGraph()\n",
    "\n",
    "print(\"Language ADJ attribute distance mean is {}\".format(stat._y_mean))\n",
    "print(\"Language ADJ attribute distance variance is {}\".format(stat._y_var))\n",
    "print(\"Language ADJ attribute distance standard deviation is {}\".format(stat._y_std))\n",
    "print(\"Language ADJ attribute distance median is {}\".format(stat._y_med))\n",
    "stat.NGraph(ylimit=(0,5), sharey=False)"
   ]
  },
  {
   "cell_type": "markdown",
   "metadata": {},
   "source": [
    "### Greek"
   ]
  },
  {
   "cell_type": "code",
   "execution_count": null,
   "metadata": {},
   "outputs": [],
   "source": [
    "stat = Language[\"grc\"].get_stat(\"specific_distance\", labels=[\"ADJ Count\"] + LangStat.LABELS[1:], rel=ADJ, POS=\"ADJ\")\n",
    "\n",
    "stat.xlim = (2, 7)\n",
    "print(\"Population distribution\")\n",
    "stat.XGraph()\n",
    "\n",
    "print(\"Language ADJ attribute distance mean is {}\".format(stat._y_mean))\n",
    "print(\"Language ADJ attribute distance variance is {}\".format(stat._y_var))\n",
    "print(\"Language ADJ attribute distance standard deviation is {}\".format(stat._y_std))\n",
    "print(\"Language ADJ attribute distance median is {}\".format(stat._y_med))\n",
    "stat.NGraph(ylimit=(0,5), sharey=False)"
   ]
  },
  {
   "cell_type": "markdown",
   "metadata": {},
   "source": [
    "### French"
   ]
  },
  {
   "cell_type": "code",
   "execution_count": null,
   "metadata": {},
   "outputs": [],
   "source": [
    "stat = Language[\"fre\"].get_stat(\"specific_distance\", labels=[\"ADJ Count\"] + LangStat.LABELS[1:], rel=ADJ, POS=\"ADJ\")\n",
    "\n",
    "stat.xlim = (2, 7)\n",
    "print(\"Population distribution\")\n",
    "stat.XGraph()\n",
    "\n",
    "print(\"Language ADJ attribute distance mean is {}\".format(stat._y_mean))\n",
    "print(\"Language ADJ attribute distance variance is {}\".format(stat._y_var))\n",
    "print(\"Language ADJ attribute distance standard deviation is {}\".format(stat._y_std))\n",
    "print(\"Language ADJ attribute distance median is {}\".format(stat._y_med))\n",
    "stat.NGraph(ylimit=(0,5), sharey=False)"
   ]
  },
  {
   "cell_type": "markdown",
   "metadata": {},
   "source": [
    "### English"
   ]
  },
  {
   "cell_type": "code",
   "execution_count": null,
   "metadata": {},
   "outputs": [],
   "source": [
    "stat = Language[\"eng\"].get_stat(\"specific_distance\", labels=[\"ADJ Count\"] + LangStat.LABELS[1:], rel=ADJ, POS=\"ADJ\")\n",
    "\n",
    "stat.xlim = (2, 7)\n",
    "print(\"Population distribution\")\n",
    "stat.XGraph()\n",
    "\n",
    "print(\"Language ADJ attribute distance mean is {}\".format(stat._y_mean))\n",
    "print(\"Language ADJ attribute distance variance is {}\".format(stat._y_var))\n",
    "print(\"Language ADJ attribute distance standard deviation is {}\".format(stat._y_std))\n",
    "print(\"Language ADJ attribute distance median is {}\".format(stat._y_med))\n",
    "stat.NGraph(ylimit=(0,5), sharey=False)"
   ]
  }
 ],
 "metadata": {
  "kernelspec": {
   "display_name": "Python 3",
   "language": "python",
   "name": "python3"
  },
  "language_info": {
   "codemirror_mode": {
    "name": "ipython",
    "version": 3
   },
   "file_extension": ".py",
   "mimetype": "text/x-python",
   "name": "python",
   "nbconvert_exporter": "python",
   "pygments_lexer": "ipython3",
   "version": "3.6.8"
  },
  "toc": {
   "base_numbering": 1,
   "nav_menu": {},
   "number_sections": true,
   "sideBar": true,
   "skip_h1_title": false,
   "title_cell": "Table of Contents",
   "title_sidebar": "Contents",
   "toc_cell": false,
   "toc_position": {},
   "toc_section_display": true,
   "toc_window_display": false
  }
 },
 "nbformat": 4,
 "nbformat_minor": 1
}
