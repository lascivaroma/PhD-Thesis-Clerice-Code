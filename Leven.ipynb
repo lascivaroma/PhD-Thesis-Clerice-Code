{
 "cells": [
  {
   "cell_type": "code",
   "execution_count": 5,
   "metadata": {},
   "outputs": [
    {
     "name": "stdout",
     "output_type": "stream",
     "text": [
      "Requirement already up-to-date: python-Levenshtein in ./these_env/lib/python3.6/site-packages (0.12.2)\n",
      "Requirement already satisfied, skipping upgrade: setuptools in ./these_env/lib/python3.6/site-packages (from python-Levenshtein) (40.6.3)\n",
      "\u001b[33mWARNING: You are using pip version 20.1.1; however, version 21.0.1 is available.\n",
      "You should consider upgrading via the '/home/thibault/dev/these/these_env/bin/python3 -m pip install --upgrade pip' command.\u001b[0m\n"
     ]
    }
   ],
   "source": [
    "# Utilise la puissance de C \n",
    "!pip install python-Levenshtein --upgrade"
   ]
  },
  {
   "cell_type": "code",
   "execution_count": 9,
   "metadata": {},
   "outputs": [],
   "source": [
    "from Levenshtein import distance, ratio, seqratio\n",
    "from typing import Dict, List\n",
    "\n",
    "\n",
    "class WordRegister:\n",
    "    \"\"\" Fonctionne comme un dictionnaire avec un index qui s'autoincrémente \"\"\"\n",
    "    def __init__(self):\n",
    "        self._register = {}\n",
    "        \n",
    "    def __getitem__(self, key):\n",
    "        if key in self._register:\n",
    "            val = self._register[key]\n",
    "        else:\n",
    "            self._register[key] = val = chr(0x0000+len(self._register))\n",
    "        return val\n",
    "    \n",
    "    \n",
    "def hot_encode(word_lists: List[List[str]], wtox: Dict[str, int]=None):\n",
    "    \"\"\" Take word_lists, transform them into hot-encoded strings\n",
    "    \n",
    "    :param word_list: List of List of words (generally 2)\n",
    "    :param wtox: Word Register\n",
    "    \n",
    "    >>> list(hot_encode([[\"w1\", \"w2\", \"w3\"], [\"w4\", \"w5\", \"w1\"]]))\n",
    "    ['\\x00\\x01\\x02', '\\x03\\x04\\x00']\n",
    "    \"\"\"\n",
    "    wtox = wtox or WordRegister()\n",
    "    for word_list in word_lists:\n",
    "        yield \"\".join([wtox[word] for word in word_list])\n",
    "    \n",
    "\n",
    "data1 = \"\"\"E tu que vens\n",
    "Com rimas branqueadas tipo talco\n",
    "Pensa duas vezes\n",
    "Antes de pisares o palco\n",
    "Tu tem cuidado a noite\n",
    "Tipo galp\n",
    "E olha bem pa tras\n",
    "Boy que eu vou tentar cuspir-te o escalpe\"\"\"\n",
    "\n",
    "data2 = \"\"\"E tu que tens\n",
    "rimas bem dadas tipo talco\n",
    "Pensa duma vez\n",
    "Antes de pisares o palco\n",
    "tem cuidado a noite\n",
    "Tipo galo\n",
    "E olha bem pa tras\n",
    "Heroi que eu vou tentar cobrir-te o escalpe\"\"\""
   ]
  },
  {
   "cell_type": "markdown",
   "metadata": {},
   "source": [
    "## WER"
   ]
  },
  {
   "cell_type": "code",
   "execution_count": 10,
   "metadata": {},
   "outputs": [
    {
     "name": "stdout",
     "output_type": "stream",
     "text": [
      "Distance 10000\n",
      "Ratio 0.761\n",
      "WER 0.278\n"
     ]
    }
   ],
   "source": [
    "# https://youtu.be/9ULmu6hh-HM?t=108\n",
    "# On split au niveau mot\n",
    "dist = distance(*hot_encode([data1.split(), data2.split()]))\n",
    "print(f\"Distance {dist}\")\n",
    "r = ratio(*hot_encode([data1.split(), data2.split()]))\n",
    "print(f\"Ratio {r:0.3f}\")\n",
    "print(f\"WER {dist/len(data1.split()):0.3f}\")"
   ]
  },
  {
   "cell_type": "markdown",
   "metadata": {},
   "source": [
    "## CER"
   ]
  },
  {
   "cell_type": "code",
   "execution_count": 11,
   "metadata": {},
   "outputs": [
    {
     "name": "stdout",
     "output_type": "stream",
     "text": [
      "Distance 26000\n",
      "Ratio 0.901\n",
      "CER 0.143\n"
     ]
    }
   ],
   "source": [
    "dist = distance(data1, data2) # Directement entre les chaines.\n",
    "#  Ça compte donc espaces et sauts de ligne (on pourrait réduire)\n",
    "#  On pourrait aussi prétraiter les chaines (tout en minuscule ? normalise espaces \\s+ vers single space ?)\n",
    "print(f\"Distance {dist}\")\n",
    "r = ratio(data1, data2)\n",
    "print(f\"Ratio {r:0.3f}\")\n",
    "print(f\"CER {dist/len(data1):0.3f}\")"
   ]
  }
 ],
 "metadata": {
  "kernelspec": {
   "display_name": "Python 3",
   "language": "python",
   "name": "python3"
  },
  "language_info": {
   "codemirror_mode": {
    "name": "ipython",
    "version": 3
   },
   "file_extension": ".py",
   "mimetype": "text/x-python",
   "name": "python",
   "nbconvert_exporter": "python",
   "pygments_lexer": "ipython3",
   "version": "3.6.7"
  },
  "toc": {
   "base_numbering": 1,
   "nav_menu": {},
   "number_sections": true,
   "sideBar": true,
   "skip_h1_title": false,
   "title_cell": "Table of Contents",
   "title_sidebar": "Contents",
   "toc_cell": false,
   "toc_position": {},
   "toc_section_display": true,
   "toc_window_display": false
  }
 },
 "nbformat": 4,
 "nbformat_minor": 2
}
