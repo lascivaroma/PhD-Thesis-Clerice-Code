{
 "cells": [
  {
   "cell_type": "code",
   "execution_count": 11,
   "metadata": {},
   "outputs": [],
   "source": [
    "import glob\n",
    "lemmas = []\n",
    "occurences = []\n",
    "for file in glob.glob(\"mood-tense-voice-pft-clitics/*.tsv\"):\n",
    "    with open(file) as f:\n",
    "        for lineno, line in enumerate(f):\n",
    "            if not line.strip():\n",
    "                continue\n",
    "            if lineno == 0:\n",
    "                header = line.strip().split(\"\\t\")\n",
    "                continue\n",
    "            line = dict(zip(header, line.strip().split(\"\\t\")))\n",
    "            if \"界\" in line[\"lemma\"]:\n",
    "                lemmas.append(line[\"lemma\"].split(\"界\")[-1])\n",
    "                occurences.append(line)\n",
    "                "
   ]
  },
  {
   "cell_type": "code",
   "execution_count": 23,
   "metadata": {},
   "outputs": [
    {
     "name": "stdout",
     "output_type": "stream",
     "text": [
      "{'token': 'sodes', 'lemma': 'si界audeo', 'pos': 'CONsub', 'Dis': '2', 'Entity': '_', 'Gend': '_', 'Numb': '_', 'Case': '_', 'Deg': '_', 'Mood_Tense_Voice': '_', 'Person': '_'}\n",
      "{'token': 'sodes', 'lemma': 'si界audeo', 'pos': 'CONsub', 'Dis': '2', 'Entity': '_', 'Gend': '_', 'Numb': '_', 'Case': '_', 'Deg': '_', 'Mood_Tense_Voice': '_', 'Person': '_'}\n",
      "{'token': 'sodes', 'lemma': 'si界audeo', 'pos': 'CONsub', 'Dis': '2', 'Entity': '_', 'Gend': '_', 'Numb': '_', 'Case': '_', 'Deg': '_', 'Mood_Tense_Voice': '_', 'Person': '_'}\n",
      "{'token': 'sodes', 'lemma': 'si界audeo', 'pos': 'CONsub', 'Dis': '2', 'Entity': '_', 'Gend': '_', 'Numb': '_', 'Case': '_', 'Deg': '_', 'Mood_Tense_Voice': '_', 'Person': '_'}\n",
      "{'token': 'sodes', 'lemma': 'si界audeo', 'pos': 'CONsub', 'Dis': '2', 'Entity': '_', 'Gend': '_', 'Numb': '_', 'Case': '_', 'Deg': '_', 'Mood_Tense_Voice': '_', 'Person': '_'}\n",
      "{'token': 'sodes', 'lemma': 'si界audeo', 'pos': 'CONsub', 'Dis': '2', 'Entity': '_', 'Gend': '_', 'Numb': '_', 'Case': '_', 'Deg': '_', 'Mood_Tense_Voice': '_', 'Person': '_'}\n",
      "{'token': 'sodes', 'lemma': 'si界audeo', 'pos': 'CONsub', 'Dis': '2', 'Entity': '_', 'Gend': '_', 'Numb': '_', 'Case': '_', 'Deg': '_', 'Mood_Tense_Voice': '_', 'Person': '_'}\n"
     ]
    }
   ],
   "source": [
    "for occ in occurences:\n",
    "    if occ[\"lemma\"].endswith(\"audeo\"):\n",
    "        print(occ)"
   ]
  },
  {
   "cell_type": "code",
   "execution_count": 10,
   "metadata": {},
   "outputs": [
    {
     "name": "stdout",
     "output_type": "stream",
     "text": [
      "{'audeo': '',\n",
      " 'consultum': '',\n",
      " 'cum': '',\n",
      " 'decimus': '',\n",
      " 'ientaculum': '',\n",
      " 'ille': '',\n",
      " 'ipse': '',\n",
      " 'is': '',\n",
      " 'iste': '',\n",
      " 'mille': '',\n",
      " 'ne': '',\n",
      " 'nouem': '',\n",
      " 'nouiens': '',\n",
      " 'octoginta': '',\n",
      " 'pollens': '',\n",
      " 'quatuor': '',\n",
      " 'que': '',\n",
      " 'quinque': '',\n",
      " 'quinquiens': '',\n",
      " 'scribo': '',\n",
      " 'seruus': '',\n",
      " 'sexaginta': '',\n",
      " 'sum': '',\n",
      " 'sumptus': '',\n",
      " 'ue': '',\n",
      " 'undetriginta': '',\n",
      " 'unus': '',\n",
      " 'uolo': ''}\n"
     ]
    }
   ],
   "source": [
    "from pprint import pprint\n",
    "pprint({lemma: \"\" for lemma in sorted(list(set(lemmas)))})"
   ]
  }
 ],
 "metadata": {
  "kernelspec": {
   "display_name": "Python 3",
   "language": "python",
   "name": "python3"
  },
  "language_info": {
   "codemirror_mode": {
    "name": "ipython",
    "version": 3
   },
   "file_extension": ".py",
   "mimetype": "text/x-python",
   "name": "python",
   "nbconvert_exporter": "python",
   "pygments_lexer": "ipython3",
   "version": "3.6.7"
  }
 },
 "nbformat": 4,
 "nbformat_minor": 2
}
