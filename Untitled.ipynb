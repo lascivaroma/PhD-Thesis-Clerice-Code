{
 "cells": [
  {
   "cell_type": "code",
   "execution_count": 19,
   "metadata": {},
   "outputs": [
    {
     "name": "stdout",
     "output_type": "stream",
     "text": [
      "alexandra.adamova@bnf.fr,alyx.taounza-jeminet@bis-sorbonne.fr,anastasia.shapovalova@irht.cnrs.fr,anne.chardonnens@arch.be,antoine.courtin@inha.fr,bernard.colombat@orange.fr,bhusson@atilf.fr,bonah@unistra.fr,cecile.mary@univ-tlse2.fr,cedric.mercier@universite-paris-saclay.fr,claire.pacheco@culture.gouv.fr,cyril.dayde@lamayenne.fr,eleonora.pellizzi@bnf.fr,elise.rajchenbach@univ-st-etienne.fr,g.boyer@icp.fr,gilles.derapper@efa.gr,gkembellec@dhi-paris.fr,goeffrey.haraux@univ-lille.fr,jean-baptiste.renault@univ-lorraine.fr,jean-philippe.talec@iker.cnrs.fr,julie.giovacchini@cnrs.fr,julie.lauvernier@lecese.fr,julien.muller@univ-lorraine.fr,manonmani.restif@culture.gouv.fr,marie-caroline.schmied@admin.vs.ch,marie.bisson@unicaen.fr,martinmorard@gmail.com,md.heusse@gmail.com,mourad.aouini@cnrs.fr,nicolas.liucci-goutnikov@centrepompidou.fr,olivier.jacquot@bnf.fr,president@chibec.fr,raphaele.mouren@sas.ac.uk,renaud.sagot@citedelarchitecture.fr,satre@mmsh.univ-aix.fr,stephane.capot@lotetgaronne.fr,tiphaine.gaumy@culture.gouv.fr,veerle.vandendaelen@kazernedossin.eu,victor.gay@tse-fr.eu\n"
     ]
    }
   ],
   "source": [
    "data = \"\"\"Pauline Breton-Chauvet\t\t\t\tO\tlaurent.pichon@culture.gouv.fr\n",
    "\t\t\t\tO\trenaud.sagot@citedelarchitecture.fr\n",
    "\t\t\t7/12\tO\tg.boyer@icp.fr\n",
    "\t\t\t\tO\tpresident@chibec.fr\n",
    "\t\t\t\tO\tclaire.pacheco@culture.gouv.fr\n",
    "\t\t\t\tN\t---\n",
    "\t\t\t\tM\tlouis.autin@sorbonne-universite.fr\n",
    "\t\t\t\tN\tjerome.darmont@univ-lyon2.fr\n",
    "\t\t\t\tN\tkarine.abiven@sorbonne-universite.fr\n",
    "Arsène Georges\t\t\t\tO\tlucie.vieillon@bis-sorbonne.fr\n",
    "Claire Jahan, Juliette Janes\t\t\t\tO\tBeatrice.Joyeux-Prunel@unige.ch\n",
    "\t\t\t\tO\tbhusson@atilf.fr\n",
    "\t\t\t\tO\tJean-Philippe.Talec@iker.cnrs.fr\n",
    "\t\t\t\tO\tveerle.vandendaelen@kazernedossin.eu\n",
    "\t\t\t\tN\t---\n",
    "Pierre Tuloup\t\t\t\tO\tchristelle.chaillou.amadieu@univ-poitiers.fr\n",
    "\t\t\t\tO\tmartinmorard@gmail.com\n",
    "\t\t\t\tO\tmartinmorard@gmail.com\n",
    "Hugo Scheithauer\t\t\t\tO\talix.chague@inria.fr\n",
    "\t\t\t\tO\tmanonmani.restif@culture.gouv.fr\n",
    "Chloé Pochon\t\t\t\tO\taurelien.conraux@culture.gouv.fr\n",
    "\t\t\t\tO\teleonora.pellizzi@bnf.fr\n",
    "Alex Soares\t\t\t\tM\tcarmen.brando@ehess.fr\n",
    "\t\t\t\tO\tmarie-caroline.schmied@admin.vs.ch\n",
    "\t\t\t\tO\talexandra.adamova@bnf.fr\n",
    "\t\t\t\tO\t julien.muller@univ-lorraine.fr\n",
    "\t\t\t\tO\tsatre@mmsh.univ-aix.fr\n",
    "\t\t\t\tO\tolivier.jacquot@bnf.fr\n",
    "\t\t\t\tO\tolivier.jacquot@bnf.fr\n",
    "Léa Perissier\t\t\t\tO\tSegolene.Albouy@obspm.fr\n",
    "\t\t\t\tO\tAlyx.Taounza-Jeminet@bis-sorbonne.fr\n",
    "\t\t\t\tO\tnicolas.liucci-goutnikov@centrepompidou.fr\n",
    "\t\t\t\tO\traphaele.mouren@sas.ac.uk\n",
    "\t\t\t\tO\tjean-baptiste.renault@univ-lorraine.fr\n",
    "\t\t\t\tO\tvictor.gay@tse-fr.eu\n",
    "Doriane Hare\t\t\t\tO\traphaelle.boissard@ined.fr\n",
    "\t\t\t\tO\tjulie.giovacchini@cnrs.fr\n",
    "Julien Fenech\t\t\t\tO\tjeanine.gaillard@culture.gouv.fr\n",
    "\t\t\t\tO\tgkembellec@dhi-paris.fr\n",
    "\t\t\t\tN\trossitza.atanassova@bl.uk\n",
    "\t\t\t\tO\tolivier.jacquot@bnf.fr\n",
    "\t\t\t\tO\tolivier.jacquot@bnf.fr\n",
    "\t\t\t\tO\tolivier.jacquot@bnf.fr\n",
    "\t\t\t\tO\tolivier.jacquot@bnf.fr\n",
    "\t\t\t\tO\ttiphaine.gaumy@culture.gouv.fr\n",
    "\t\t\t\tO\tstephane.capot@lotetgaronne.fr\n",
    "\t\t\t\tO\tbernard.colombat@orange.fr\n",
    "\t\t\t\tO\telise.rajchenbach@univ-st-etienne.fr\n",
    "\t\t\t\tO\tbonah@unistra.fr\n",
    "\t\t\t\tO\tgoeffrey.haraux@univ-lille.fr\n",
    "\t\t\t\tO\tmarie.bisson@unicaen.fr\n",
    "\t\t\t\tO\tcedric.mercier@universite-paris-saclay.fr\n",
    "\t\t\t\tN\t---\n",
    "\t\t\t\tO\tmd.heusse@gmail.com\n",
    "\t\t\t\tO\tcecile.mary@univ-tlse2.fr\n",
    "\t\t\t\tO\tanastasia.shapovalova@irht.cnrs.fr\n",
    "Mathilde Liteau\t\t\t\tO\tgporte@unistra.fr\n",
    "\t\t\t\tO\tcyril.dayde@lamayenne.fr\n",
    "\t\t\t\tO\tgilles.derapper@efa.gr\n",
    "\t\t\t\tO\tanne.chardonnens@arch.be\n",
    "\t\t\t\tO\tjulie.lauvernier@lecese.fr\n",
    "\t\t\t\tO\tAntoine.courtin@inha.fr\n",
    "\t\t\t\tO\tMourad.AOUINI@cnrs.fr\"\"\"\n",
    "\n",
    "Y = []\n",
    "for line in data.split(\"\\n\"):\n",
    "    if not line.strip():\n",
    "        continue\n",
    "    X = line.split(\"\\t\")\n",
    "    student, *_, stat, mail = X\n",
    "    if stat.upper() == \"O\" and not student:\n",
    "        Y.append(mail.strip().lower())\n",
    "        \n",
    "    \n",
    "print(\",\".join(sorted(list(set(Y)))))"
   ]
  }
 ],
 "metadata": {
  "kernelspec": {
   "display_name": "Python 3",
   "language": "python",
   "name": "python3"
  },
  "language_info": {
   "codemirror_mode": {
    "name": "ipython",
    "version": 3
   },
   "file_extension": ".py",
   "mimetype": "text/x-python",
   "name": "python",
   "nbconvert_exporter": "python",
   "pygments_lexer": "ipython3",
   "version": "3.8.5"
  },
  "toc": {
   "base_numbering": 1,
   "nav_menu": {},
   "number_sections": true,
   "sideBar": true,
   "skip_h1_title": false,
   "title_cell": "Table of Contents",
   "title_sidebar": "Contents",
   "toc_cell": false,
   "toc_position": {},
   "toc_section_display": true,
   "toc_window_display": false
  }
 },
 "nbformat": 4,
 "nbformat_minor": 2
}
