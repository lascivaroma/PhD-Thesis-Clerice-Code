{
 "cells": [
  {
   "cell_type": "markdown",
   "id": "reasonable-salon",
   "metadata": {},
   "source": [
    "# Connexion"
   ]
  },
  {
   "cell_type": "code",
   "execution_count": 5,
   "id": "wireless-senate",
   "metadata": {},
   "outputs": [
    {
     "name": "stdout",
     "output_type": "stream",
     "text": [
      "['excel', 'excel-tab', 'unix']\n"
     ]
    }
   ],
   "source": [
    "from gsheets import Sheets\n",
    "import csv\n",
    "\n",
    "print(csv.list_dialects())\n",
    "\n",
    "sheets = Sheets.from_files('gapi/creds.json', 'gapi/storage.json')"
   ]
  },
  {
   "cell_type": "markdown",
   "id": "stuffed-prize",
   "metadata": {},
   "source": [
    "# Good spreadsheet"
   ]
  },
  {
   "cell_type": "code",
   "execution_count": 8,
   "id": "killing-sharp",
   "metadata": {},
   "outputs": [],
   "source": [
    "spreadsheet = sheets['1s2Lsii2w9K6f4OrfrK0J6Qm_4dnB5X4D-qEdqduaPNs']"
   ]
  },
  {
   "cell_type": "markdown",
   "id": "continent-privilege",
   "metadata": {},
   "source": [
    "# Download and write"
   ]
  },
  {
   "cell_type": "code",
   "execution_count": 9,
   "id": "genetic-amino",
   "metadata": {},
   "outputs": [],
   "source": [
    "page = spreadsheet.find('Merged')\n",
    "page.to_csv('../../data/raw/datation.tsv', encoding='utf-8', dialect=\"excel-tab\")"
   ]
  }
 ],
 "metadata": {
  "kernelspec": {
   "display_name": "Python 3",
   "language": "python",
   "name": "python3"
  },
  "language_info": {
   "codemirror_mode": {
    "name": "ipython",
    "version": 3
   },
   "file_extension": ".py",
   "mimetype": "text/x-python",
   "name": "python",
   "nbconvert_exporter": "python",
   "pygments_lexer": "ipython3",
   "version": "3.8.5"
  },
  "toc": {
   "base_numbering": 1,
   "nav_menu": {},
   "number_sections": true,
   "sideBar": true,
   "skip_h1_title": false,
   "title_cell": "Table of Contents",
   "title_sidebar": "Contents",
   "toc_cell": false,
   "toc_position": {},
   "toc_section_display": true,
   "toc_window_display": false
  }
 },
 "nbformat": 4,
 "nbformat_minor": 5
}
