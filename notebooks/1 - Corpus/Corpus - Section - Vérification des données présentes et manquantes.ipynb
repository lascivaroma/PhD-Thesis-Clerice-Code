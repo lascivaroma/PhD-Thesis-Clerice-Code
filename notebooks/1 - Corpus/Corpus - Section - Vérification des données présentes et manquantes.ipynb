{
 "cells": [
  {
   "cell_type": "markdown",
   "id": "static-airport",
   "metadata": {},
   "source": [
    "## Récupération des corpus Capitains"
   ]
  },
  {
   "cell_type": "code",
   "execution_count": 1,
   "id": "novel-substitute",
   "metadata": {},
   "outputs": [
    {
     "name": "stderr",
     "output_type": "stream",
     "text": [
      "../../data/raw/corpora/lascivaroma_additional-texts/lascivaroma_additional-texts/data/phi1351/phi005/phi1351.phi005.perseus-eng1.xml is not present\n",
      "../../data/raw/corpora/lascivaroma_priapeia/lascivaroma_priapeia/data/phi1103/phi001/phi1103.phi001.lascivaroma-eng1.xml is not present\n",
      "../../data/raw/corpora/lascivaroma_priapeia/lascivaroma_priapeia/data/phi1103/phi001/phi1103.phi001.lascivaroma-eng2.xml is not present\n",
      "../../data/raw/corpora/PerseusDL_canonical-latinLit/PerseusDL_canonical-latinLit/data/phi0472/phi001/phi0472.phi001.perseus-eng3.xml is not present\n",
      "../../data/raw/corpora/PerseusDL_canonical-latinLit/PerseusDL_canonical-latinLit/data/phi0472/phi001/phi0472.phi001.perseus-eng4.xml is not present\n",
      "../../data/raw/corpora/PerseusDL_canonical-latinLit/PerseusDL_canonical-latinLit/data/phi0448/phi001/phi0448.phi001.perseus-eng2.xml is not present\n",
      "../../data/raw/corpora/PerseusDL_canonical-latinLit/PerseusDL_canonical-latinLit/data/phi0448/phi002/phi0448.phi002.perseus-eng2.xml is not present\n",
      "../../data/raw/corpora/PerseusDL_canonical-latinLit/PerseusDL_canonical-latinLit/data/phi0893/phi004/phi0893.phi004.perseus-eng2.xml is not present\n",
      "../../data/raw/corpora/PerseusDL_canonical-latinLit/PerseusDL_canonical-latinLit/data/phi0893/phi006/phi0893.phi006.perseus-eng2.xml is not present\n",
      "../../data/raw/corpora/PerseusDL_canonical-latinLit/PerseusDL_canonical-latinLit/data/phi0893/phi001/phi0893.phi001.perseus-eng2.xml is not present\n",
      "../../data/raw/corpora/PerseusDL_canonical-latinLit/PerseusDL_canonical-latinLit/data/phi0474/phi004/phi0474.phi004.perseus-eng2.xml is not present\n",
      "../../data/raw/corpora/PerseusDL_canonical-latinLit/PerseusDL_canonical-latinLit/data/phi0474/phi019/phi0474.phi019.perseus-eng2.xml is not present\n",
      "../../data/raw/corpora/PerseusDL_canonical-latinLit/PerseusDL_canonical-latinLit/data/phi0474/phi018/phi0474.phi018.perseus-eng2.xml is not present\n",
      "../../data/raw/corpora/PerseusDL_canonical-latinLit/PerseusDL_canonical-latinLit/data/phi0474/phi005/phi0474.phi005.perseus-eng2.xml is not present\n",
      "../../data/raw/corpora/PerseusDL_canonical-latinLit/PerseusDL_canonical-latinLit/data/phi0474/phi051/phi0474.phi051.perseus-eng1.xml is not present\n",
      "../../data/raw/corpora/PerseusDL_canonical-latinLit/PerseusDL_canonical-latinLit/data/phi0474/phi008/phi0474.phi008.perseus-eng2.xml is not present\n",
      "../../data/raw/corpora/PerseusDL_canonical-latinLit/PerseusDL_canonical-latinLit/data/phi0474/phi007/phi0474.phi007.perseus-eng2.xml is not present\n",
      "../../data/raw/corpora/PerseusDL_canonical-latinLit/PerseusDL_canonical-latinLit/data/phi0474/phi006/phi0474.phi006.perseus-eng2.xml is not present\n",
      "../../data/raw/corpora/PerseusDL_canonical-latinLit/PerseusDL_canonical-latinLit/data/phi0474/phi052/phi0474.phi052.perseus-eng2.xml is not present\n",
      "../../data/raw/corpora/PerseusDL_canonical-latinLit/PerseusDL_canonical-latinLit/data/phi0474/phi056/phi0474.phi056.perseus-eng1.xml is not present\n",
      "../../data/raw/corpora/PerseusDL_canonical-latinLit/PerseusDL_canonical-latinLit/data/phi0474/phi013/phi0474.phi013.perseus-eng2.xml is not present\n",
      "../../data/raw/corpora/PerseusDL_canonical-latinLit/PerseusDL_canonical-latinLit/data/phi0474/phi015/phi0474.phi015.perseus-eng2.xml is not present\n",
      "../../data/raw/corpora/PerseusDL_canonical-latinLit/PerseusDL_canonical-latinLit/data/phi0474/phi016/phi0474.phi016.perseus-eng2.xml is not present\n",
      "../../data/raw/corpora/PerseusDL_canonical-latinLit/PerseusDL_canonical-latinLit/data/phi0474/phi001/phi0474.phi001.perseus-eng2.xml is not present\n",
      "../../data/raw/corpora/PerseusDL_canonical-latinLit/PerseusDL_canonical-latinLit/data/phi0474/phi012/phi0474.phi012.perseus-eng3.xml is not present\n",
      "../../data/raw/corpora/PerseusDL_canonical-latinLit/PerseusDL_canonical-latinLit/data/phi0474/phi002/phi0474.phi002.perseus-eng2.xml is not present\n",
      "../../data/raw/corpora/PerseusDL_canonical-latinLit/PerseusDL_canonical-latinLit/data/phi0474/phi059/phi0474.phi059.perseus-eng1.xml is not present\n",
      "../../data/raw/corpora/PerseusDL_canonical-latinLit/PerseusDL_canonical-latinLit/data/phi0474/phi053/phi0474.phi053.perseus-eng1.xml is not present\n",
      "../../data/raw/corpora/PerseusDL_canonical-latinLit/PerseusDL_canonical-latinLit/data/phi0474/phi055/phi0474.phi055.perseus-eng1.xml is not present\n",
      "../../data/raw/corpora/PerseusDL_canonical-latinLit/PerseusDL_canonical-latinLit/data/phi0474/phi014/phi0474.phi014.perseus-eng2.xml is not present\n",
      "../../data/raw/corpora/PerseusDL_canonical-latinLit/PerseusDL_canonical-latinLit/data/phi0474/phi010/phi0474.phi010.perseus-eng2.xml is not present\n",
      "../../data/raw/corpora/PerseusDL_canonical-latinLit/PerseusDL_canonical-latinLit/data/phi0474/phi035/phi0474.phi035.perseus-eng1.xml is not present\n",
      "../../data/raw/corpora/PerseusDL_canonical-latinLit/PerseusDL_canonical-latinLit/data/phi0474/phi058/phi0474.phi058.perseus-eng1.xml is not present\n",
      "../../data/raw/corpora/PerseusDL_canonical-latinLit/PerseusDL_canonical-latinLit/data/phi0474/phi003/phi0474.phi003.perseus-eng2.xml is not present\n",
      "../../data/raw/corpora/PerseusDL_canonical-latinLit/PerseusDL_canonical-latinLit/data/phi0474/phi017/phi0474.phi017.perseus-eng2.xml is not present\n",
      "../../data/raw/corpora/PerseusDL_canonical-latinLit/PerseusDL_canonical-latinLit/data/phi0474/phi009/phi0474.phi009.perseus-eng2.xml is not present\n",
      "../../data/raw/corpora/PerseusDL_canonical-latinLit/PerseusDL_canonical-latinLit/data/phi0474/phi011/phi0474.phi011.perseus-eng2.xml is not present\n",
      "../../data/raw/corpora/PerseusDL_canonical-latinLit/PerseusDL_canonical-latinLit/data/phi0474/phi057/phi0474.phi057.perseus-eng1.xml is not present\n",
      "../../data/raw/corpora/PerseusDL_canonical-latinLit/PerseusDL_canonical-latinLit/data/phi0836/phi002/phi0836.phi002.perseus-eng2.xml is not present\n",
      "../../data/raw/corpora/PerseusDL_canonical-latinLit/PerseusDL_canonical-latinLit/data/phi0631/phi001/phi0631.phi001.perseus-eng2.xml is not present\n",
      "../../data/raw/corpora/PerseusDL_canonical-latinLit/PerseusDL_canonical-latinLit/data/phi0631/phi002/phi0631.phi002.perseus-eng2.xml is not present\n",
      "../../data/raw/corpora/PerseusDL_canonical-latinLit/PerseusDL_canonical-latinLit/data/phi1348/abo014/phi1348.abo014.perseus-eng2.xml is not present\n",
      "../../data/raw/corpora/PerseusDL_canonical-latinLit/PerseusDL_canonical-latinLit/data/phi1348/abo015/phi1348.abo015.perseus-eng2.xml is not present\n",
      "../../data/raw/corpora/PerseusDL_canonical-latinLit/PerseusDL_canonical-latinLit/data/phi1348/abo016/phi1348.abo016.perseus-eng2.xml is not present\n",
      "../../data/raw/corpora/PerseusDL_canonical-latinLit/PerseusDL_canonical-latinLit/data/phi1348/abo020/phi1348.abo020.perseus-eng2.xml is not present\n",
      "../../data/raw/corpora/PerseusDL_canonical-latinLit/PerseusDL_canonical-latinLit/data/phi1348/abo018/phi1348.abo018.perseus-eng2.xml is not present\n",
      "../../data/raw/corpora/PerseusDL_canonical-latinLit/PerseusDL_canonical-latinLit/data/phi1348/abo012/phi1348.abo012.perseus-eng2.xml is not present\n",
      "../../data/raw/corpora/PerseusDL_canonical-latinLit/PerseusDL_canonical-latinLit/data/phi1348/abo022/phi1348.abo022.perseus-eng2.xml is not present\n",
      "../../data/raw/corpora/PerseusDL_canonical-latinLit/PerseusDL_canonical-latinLit/data/phi1348/abo011/phi1348.abo011.perseus-eng2.xml is not present\n",
      "../../data/raw/corpora/PerseusDL_canonical-latinLit/PerseusDL_canonical-latinLit/data/phi1348/abo021/phi1348.abo021.perseus-eng2.xml is not present\n",
      "../../data/raw/corpora/PerseusDL_canonical-latinLit/PerseusDL_canonical-latinLit/data/phi1348/abo019/phi1348.abo019.perseus-eng2.xml is not present\n",
      "../../data/raw/corpora/PerseusDL_canonical-latinLit/PerseusDL_canonical-latinLit/data/phi1348/abo017/phi1348.abo017.perseus-eng2.xml is not present\n",
      "../../data/raw/corpora/PerseusDL_canonical-latinLit/PerseusDL_canonical-latinLit/data/phi1348/abo013/phi1348.abo013.perseus-eng2.xml is not present\n",
      "../../data/raw/corpora/PerseusDL_canonical-latinLit/PerseusDL_canonical-latinLit/data/phi1254/phi001/phi1254.phi001.perseus-eng1.xml is not present\n",
      "../../data/raw/corpora/PerseusDL_canonical-latinLit/PerseusDL_canonical-latinLit/data/phi0690/phi001/phi0690.phi001.perseus-eng2.xml is not present\n",
      "../../data/raw/corpora/PerseusDL_canonical-latinLit/PerseusDL_canonical-latinLit/data/phi0690/phi002/phi0690.phi002.perseus-eng2.xml is not present\n"
     ]
    },
    {
     "name": "stderr",
     "output_type": "stream",
     "text": [
      "../../data/raw/corpora/PerseusDL_canonical-latinLit/PerseusDL_canonical-latinLit/data/phi0690/phi003/phi0690.phi003.perseus-eng2.xml is not present\n",
      "../../data/raw/corpora/PerseusDL_canonical-latinLit/PerseusDL_canonical-latinLit/data/phi1017/phi011/phi1017.phi011.perseus-eng2.xml is not present\n",
      "../../data/raw/corpora/PerseusDL_canonical-latinLit/PerseusDL_canonical-latinLit/data/phi0660/phi003/phi0660.phi003.perseus-eng2.xml is not present\n",
      "../../data/raw/corpora/PerseusDL_canonical-latinLit/PerseusDL_canonical-latinLit/data/phi1002/phi001/phi1002.phi001.perseus-eng2.xml is not present\n",
      "../../data/raw/corpora/PerseusDL_canonical-latinLit/PerseusDL_canonical-latinLit/data/phi0914/phi001/phi0914.phi001.perseus-eng3.xml is not present\n",
      "../../data/raw/corpora/PerseusDL_canonical-latinLit/PerseusDL_canonical-latinLit/data/phi0917/phi001/phi0917.phi001.perseus-eng2.xml is not present\n",
      "../../data/raw/corpora/PerseusDL_canonical-latinLit/PerseusDL_canonical-latinLit/data/phi0119/phi004/phi0119.phi004.perseus-eng2.xml is not present\n",
      "../../data/raw/corpora/PerseusDL_canonical-latinLit/PerseusDL_canonical-latinLit/data/phi0119/phi019/phi0119.phi019.perseus-eng2.xml is not present\n",
      "../../data/raw/corpora/PerseusDL_canonical-latinLit/PerseusDL_canonical-latinLit/data/phi0119/phi018/phi0119.phi018.perseus-eng2.xml is not present\n",
      "../../data/raw/corpora/PerseusDL_canonical-latinLit/PerseusDL_canonical-latinLit/data/phi0119/phi005/phi0119.phi005.perseus-eng2.xml is not present\n",
      "../../data/raw/corpora/PerseusDL_canonical-latinLit/PerseusDL_canonical-latinLit/data/phi0119/phi008/phi0119.phi008.perseus-eng2.xml is not present\n",
      "../../data/raw/corpora/PerseusDL_canonical-latinLit/PerseusDL_canonical-latinLit/data/phi0119/phi007/phi0119.phi007.perseus-eng2.xml is not present\n",
      "../../data/raw/corpora/PerseusDL_canonical-latinLit/PerseusDL_canonical-latinLit/data/phi0119/phi020/phi0119.phi020.perseus-eng2.xml is not present\n",
      "../../data/raw/corpora/PerseusDL_canonical-latinLit/PerseusDL_canonical-latinLit/data/phi0119/phi006/phi0119.phi006.perseus-eng2.xml is not present\n",
      "../../data/raw/corpora/PerseusDL_canonical-latinLit/PerseusDL_canonical-latinLit/data/phi0119/phi013/phi0119.phi013.perseus-eng2.xml is not present\n",
      "../../data/raw/corpora/PerseusDL_canonical-latinLit/PerseusDL_canonical-latinLit/data/phi0119/phi015/phi0119.phi015.perseus-eng2.xml is not present\n",
      "../../data/raw/corpora/PerseusDL_canonical-latinLit/PerseusDL_canonical-latinLit/data/phi0119/phi016/phi0119.phi016.perseus-eng2.xml is not present\n",
      "../../data/raw/corpora/PerseusDL_canonical-latinLit/PerseusDL_canonical-latinLit/data/phi0119/phi001/phi0119.phi001.perseus-eng2.xml is not present\n",
      "../../data/raw/corpora/PerseusDL_canonical-latinLit/PerseusDL_canonical-latinLit/data/phi0119/phi012/phi0119.phi012.perseus-eng2.xml is not present\n",
      "../../data/raw/corpora/PerseusDL_canonical-latinLit/PerseusDL_canonical-latinLit/data/phi0119/phi002/phi0119.phi002.perseus-eng2.xml is not present\n",
      "../../data/raw/corpora/PerseusDL_canonical-latinLit/PerseusDL_canonical-latinLit/data/phi0119/phi014/phi0119.phi014.perseus-eng2.xml is not present\n",
      "../../data/raw/corpora/PerseusDL_canonical-latinLit/PerseusDL_canonical-latinLit/data/phi0119/phi010/phi0119.phi010.perseus-eng2.xml is not present\n",
      "../../data/raw/corpora/PerseusDL_canonical-latinLit/PerseusDL_canonical-latinLit/data/phi0119/phi003/phi0119.phi003.perseus-eng2.xml is not present\n",
      "../../data/raw/corpora/PerseusDL_canonical-latinLit/PerseusDL_canonical-latinLit/data/phi0119/phi017/phi0119.phi017.perseus-eng2.xml is not present\n",
      "../../data/raw/corpora/PerseusDL_canonical-latinLit/PerseusDL_canonical-latinLit/data/phi0119/phi009/phi0119.phi009.perseus-eng2.xml is not present\n",
      "../../data/raw/corpora/PerseusDL_canonical-latinLit/PerseusDL_canonical-latinLit/data/phi0119/phi011/phi0119.phi011.perseus-eng2.xml is not present\n",
      "../../data/raw/corpora/PerseusDL_canonical-latinLit/PerseusDL_canonical-latinLit/data/phi0134/phi004/phi0134.phi004.perseus-eng2.xml is not present\n",
      "../../data/raw/corpora/PerseusDL_canonical-latinLit/PerseusDL_canonical-latinLit/data/phi0134/phi005/phi0134.phi005.perseus-eng2.xml is not present\n",
      "../../data/raw/corpora/PerseusDL_canonical-latinLit/PerseusDL_canonical-latinLit/data/phi0134/phi006/phi0134.phi006.perseus-eng2.xml is not present\n",
      "../../data/raw/corpora/PerseusDL_canonical-latinLit/PerseusDL_canonical-latinLit/data/phi0134/phi001/phi0134.phi001.perseus-eng2.xml is not present\n",
      "../../data/raw/corpora/PerseusDL_canonical-latinLit/PerseusDL_canonical-latinLit/data/phi0134/phi002/phi0134.phi002.perseus-eng2.xml is not present\n",
      "../../data/raw/corpora/PerseusDL_canonical-latinLit/PerseusDL_canonical-latinLit/data/phi0134/phi003/phi0134.phi003.perseus-eng2.xml is not present\n",
      "../../data/raw/corpora/PerseusDL_canonical-latinLit/PerseusDL_canonical-latinLit/data/phi0959/phi004/phi0959.phi004.perseus-eng2.xml is not present\n",
      "../../data/raw/corpora/PerseusDL_canonical-latinLit/PerseusDL_canonical-latinLit/data/phi0959/phi005/phi0959.phi005.perseus-eng2.xml is not present\n",
      "../../data/raw/corpora/PerseusDL_canonical-latinLit/PerseusDL_canonical-latinLit/data/phi0959/phi006/phi0959.phi006.perseus-eng3.xml is not present\n",
      "../../data/raw/corpora/PerseusDL_canonical-latinLit/PerseusDL_canonical-latinLit/data/phi0959/phi006/phi0959.phi006.perseus-eng4.xml is not present\n",
      "../../data/raw/corpora/PerseusDL_canonical-latinLit/PerseusDL_canonical-latinLit/data/phi0959/phi001/phi0959.phi001.perseus-eng2.xml is not present\n",
      "../../data/raw/corpora/PerseusDL_canonical-latinLit/PerseusDL_canonical-latinLit/data/phi0959/phi002/phi0959.phi002.perseus-eng2.xml is not present\n",
      "../../data/raw/corpora/PerseusDL_canonical-latinLit/PerseusDL_canonical-latinLit/data/phi0959/phi003/phi0959.phi003.perseus-eng2.xml is not present\n",
      "../../data/raw/corpora/PerseusDL_canonical-latinLit/PerseusDL_canonical-latinLit/data/stoa0023/stoa001/stoa0023.stoa001.perseus-eng2.xml is not present\n",
      "../../data/raw/corpora/PerseusDL_canonical-latinLit/PerseusDL_canonical-latinLit/data/stoa0089/stoa013/stoa0089.stoa013.perseus-eng1.xml is not present\n",
      "../../data/raw/corpora/PerseusDL_canonical-latinLit/PerseusDL_canonical-latinLit/data/stoa0089/stoa004/stoa0089.stoa004.perseus-eng1.xml is not present\n",
      "../../data/raw/corpora/PerseusDL_canonical-latinLit/PerseusDL_canonical-latinLit/data/stoa0089/stoa005/stoa0089.stoa005.perseus-eng1.xml is not present\n",
      "../../data/raw/corpora/PerseusDL_canonical-latinLit/PerseusDL_canonical-latinLit/data/stoa0089/stoa012/stoa0089.stoa012.perseus-eng1.xml is not present\n",
      "../../data/raw/corpora/PerseusDL_canonical-latinLit/PerseusDL_canonical-latinLit/data/stoa0089/stoa007/stoa0089.stoa007.perseus-eng1.xml is not present\n",
      "../../data/raw/corpora/PerseusDL_canonical-latinLit/PerseusDL_canonical-latinLit/data/stoa0089/stoa003/stoa0089.stoa003.perseus-eng1.xml is not present\n",
      "../../data/raw/corpora/PerseusDL_canonical-latinLit/PerseusDL_canonical-latinLit/data/stoa0089/stoa009/stoa0089.stoa009.perseus-eng1.xml is not present\n",
      "../../data/raw/corpora/PerseusDL_canonical-latinLit/PerseusDL_canonical-latinLit/data/stoa0089/stoa008/stoa0089.stoa008.perseus-eng1.xml is not present\n",
      "../../data/raw/corpora/PerseusDL_canonical-latinLit/PerseusDL_canonical-latinLit/data/stoa0089/stoa014/stoa0089.stoa014.perseus-eng1.xml is not present\n",
      "../../data/raw/corpora/PerseusDL_canonical-latinLit/PerseusDL_canonical-latinLit/data/stoa0089/stoa002/stoa0089.stoa002.perseus-eng1.xml is not present\n",
      "../../data/raw/corpora/PerseusDL_canonical-latinLit/PerseusDL_canonical-latinLit/data/stoa0089/stoa006/stoa0089.stoa006.perseus-eng1.xml is not present\n",
      "../../data/raw/corpora/PerseusDL_canonical-latinLit/PerseusDL_canonical-latinLit/data/stoa0089/stoa001/stoa0089.stoa001.perseus-eng1.xml is not present\n",
      "../../data/raw/corpora/PerseusDL_canonical-latinLit/PerseusDL_canonical-latinLit/data/stoa0089/stoa011/stoa0089.stoa011.perseus-eng1.xml is not present\n",
      "../../data/raw/corpora/PerseusDL_canonical-latinLit/PerseusDL_canonical-latinLit/data/stoa0089/stoa010/stoa0089.stoa010.perseus-eng1.xml is not present\n",
      "../../data/raw/corpora/PerseusDL_canonical-latinLit/PerseusDL_canonical-latinLit/data/phi1056/phi001/phi1056.phi001.perseus-eng1.xml is not present\n"
     ]
    },
    {
     "name": "stderr",
     "output_type": "stream",
     "text": [
      "../../data/raw/corpora/PerseusDL_canonical-latinLit/PerseusDL_canonical-latinLit/data/phi1351/phi004/phi1351.phi004.perseus-eng1.xml is not present\n",
      "../../data/raw/corpora/PerseusDL_canonical-latinLit/PerseusDL_canonical-latinLit/data/phi1351/phi001/phi1351.phi001.perseus-eng2.xml is not present\n",
      "../../data/raw/corpora/PerseusDL_canonical-latinLit/PerseusDL_canonical-latinLit/data/phi1351/phi001/phi1351.phi001.perseus-eng1.xml is not present\n",
      "../../data/raw/corpora/PerseusDL_canonical-latinLit/PerseusDL_canonical-latinLit/data/phi1351/phi002/phi1351.phi002.perseus-eng1.xml is not present\n",
      "../../data/raw/corpora/PerseusDL_canonical-latinLit/PerseusDL_canonical-latinLit/data/phi0550/phi001/phi0550.phi001.perseus-eng1.xml is not present\n"
     ]
    }
   ],
   "source": [
    "CHECKSUM_PATH = \"./checksum-xmls.csv\"\n",
    "CORPORA_PATH = \"../../data/raw/corpora/**/*\"\n",
    "WRITE_TEXT = True # Set to True for really applying XSL\n",
    "FORCE_REGENERATE = False  # Mostly useful if the XSL changes\n",
    "FORCE_GENERATE_CSV_FROM_SCRATCH = False # Force writing from scratch the CHECKSUM\n",
    "\n",
    "import tqdm\n",
    "import glob\n",
    "from MyCapytain.resolvers.cts.local import CtsCapitainsLocalResolver\n",
    "\n",
    "\n",
    "repositories = list(glob.glob(CORPORA_PATH, recursive=False))\n",
    "resolver = CtsCapitainsLocalResolver(repositories)"
   ]
  },
  {
   "cell_type": "markdown",
   "id": "later-world",
   "metadata": {},
   "source": [
    "## Récupération des métadonnées"
   ]
  },
  {
   "cell_type": "code",
   "execution_count": 2,
   "id": "adjustable-decimal",
   "metadata": {},
   "outputs": [],
   "source": [
    "import pandas\n",
    "\n",
    "metadata = pandas.read_csv(\"../../data/raw/datation.tsv\", dialect=\"excel-tab\").fillna(\"\")\n",
    "authors = {\n",
    "    \".\".join(text[\"URN\"].split(\".\")[:1]): text\n",
    "    for _, text in metadata.iterrows()\n",
    "}"
   ]
  },
  {
   "cell_type": "markdown",
   "id": "pretty-research",
   "metadata": {},
   "source": [
    "## Données absentes"
   ]
  },
  {
   "cell_type": "code",
   "execution_count": 3,
   "id": "thousand-instruction",
   "metadata": {},
   "outputs": [
    {
     "name": "stdout",
     "output_type": "stream",
     "text": [
      "set()\n"
     ]
    }
   ],
   "source": [
    "texts = {\n",
    "    str(text.id): text \n",
    "    for text in resolver.getMetadata().readableDescendants\n",
    "    if text.lang == \"lat\"\n",
    "}\n",
    "\n",
    "not_found = set(texts.keys()).difference(set(metadata[\"URN\"].to_list()))\n",
    "\n",
    "cols = \"\"\"Vérifié \tIgnore \t\n",
    "        Nom FR \tBirth \tDeath \t\n",
    "        certainty \tcertainty.1 \t\n",
    "        Citation level \tName of citation level \t\n",
    "        Sources \tSources Pages \tNotes\"\"\"\n",
    "\n",
    "new_elements = []\n",
    "\n",
    "print(not_found)\n",
    "\n",
    "for nf in list(sorted(not_found)):\n",
    "    identifier = nf\n",
    "    citation_level = \",\".join([str(cite.name) for cite in list(texts[nf].citation)])\n",
    "    author = texts[nf].parent.parent.get_label()\n",
    "    author_id = str(texts[nf].parent.parent.id)\n",
    "    # print(author_id)\n",
    "    work = texts[nf].parent.get_label()\n",
    "    temp = {\n",
    "        \"URN\": nf,\n",
    "        \"Nom EN\": author,\n",
    "        \"Name of citation level\": citation_level,\n",
    "        \"Titre\": work\n",
    "    }\n",
    "    new_elements.append({\n",
    "        key: temp.get(key, \"\")\n",
    "        for key in metadata.columns\n",
    "    })\n",
    "    new_elements[-1].update(temp)\n",
    "    if author_id in authors:\n",
    "        new_elements[-1].update(\n",
    "            authors[author_id][[\n",
    "                \"Birth\", \"Death\", \"Sources\", \"Sources Pages\", \"Notes\", \"Nom FR\",\n",
    "                \"certainty\", \"certainty.1\"]\n",
    "            ].to_dict())\n",
    "    \n",
    "new = pandas.DataFrame(new_elements)\n",
    "new.to_csv(\"to_be_edited.csv\")"
   ]
  },
  {
   "cell_type": "code",
   "execution_count": 4,
   "id": "patent-powell",
   "metadata": {},
   "outputs": [
    {
     "data": {
      "text/html": [
       "<table border=\"1\" class=\"dataframe\">\n",
       "  <thead>\n",
       "    <tr style=\"text-align: right;\">\n",
       "      <th></th>\n",
       "    </tr>\n",
       "  </thead>\n",
       "  <tbody>\n",
       "  </tbody>\n",
       "</table>"
      ],
      "text/plain": [
       "<IPython.core.display.HTML object>"
      ]
     },
     "metadata": {},
     "output_type": "display_data"
    }
   ],
   "source": [
    "from IPython.display import display, HTML\n",
    "display(HTML(new.to_html()))"
   ]
  },
  {
   "cell_type": "code",
   "execution_count": 5,
   "id": "alternate-palestinian",
   "metadata": {},
   "outputs": [],
   "source": [
    "#from MyCapytain.common.constants import Mimetypes\n",
    "##print(resolver.getTextualNode(\"urn:cts:latinLit:stoa0024.stoa001.digilibLT-lat1\").export(Mimetypes.XML.TEI))"
   ]
  }
 ],
 "metadata": {
  "kernelspec": {
   "display_name": "Python 3",
   "language": "python",
   "name": "python3"
  },
  "language_info": {
   "codemirror_mode": {
    "name": "ipython",
    "version": 3
   },
   "file_extension": ".py",
   "mimetype": "text/x-python",
   "name": "python",
   "nbconvert_exporter": "python",
   "pygments_lexer": "ipython3",
   "version": "3.8.10"
  },
  "toc": {
   "base_numbering": 1,
   "nav_menu": {},
   "number_sections": true,
   "sideBar": true,
   "skip_h1_title": false,
   "title_cell": "Table of Contents",
   "title_sidebar": "Contents",
   "toc_cell": false,
   "toc_position": {},
   "toc_section_display": true,
   "toc_window_display": false
  }
 },
 "nbformat": 4,
 "nbformat_minor": 5
}
