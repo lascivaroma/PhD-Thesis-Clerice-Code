{
 "cells": [
  {
   "cell_type": "code",
   "execution_count": 40,
   "metadata": {},
   "outputs": [],
   "source": [
    "# Can be run with python -m pie.scripts.evaluate\n",
    "import os.path\n",
    "from pie import utils\n",
    "\n",
    "\n",
    "from pie.models import BaseModel\n",
    "from pie.data import Dataset, Reader\n",
    "from pie.settings import load_default_settings, settings_from_file\n",
    "\n",
    "\n",
    "def run(model_path, test_path, train_path=None, # data\n",
    "        # decoding\n",
    "        settings=None, batch_size=16, buffer_size=100000, use_beam=False, beam_width=2, device=\"cuda\", \n",
    "        model_info=False):  # report\n",
    "\n",
    "    model = BaseModel.load(model_path).to(device)\n",
    "    if model_info:\n",
    "        print(model)\n",
    "\n",
    "    # settings\n",
    "    if hasattr(model, '_settings'):  # new models should all have _settings\n",
    "        settings = model._settings\n",
    "    elif settings:\n",
    "        print(\"Using user specified settings file: {}\".format(settings))\n",
    "        with utils.shutup():\n",
    "            settings = settings_from_file(settings)\n",
    "    else:\n",
    "        print(\"Warning! Using default settings\")\n",
    "        with utils.shutup():\n",
    "            settings = load_default_settings()\n",
    "\n",
    "    # overwrite defaults\n",
    "    settings.batch_size = batch_size\n",
    "    settings.buffer_size = buffer_size\n",
    "    settings.device = device\n",
    "    settings.shuffle = False    # avoid shuffling\n",
    "\n",
    "    # read datasets\n",
    "    trainset = None\n",
    "    if train_path:\n",
    "        trainset = Dataset(\n",
    "            settings, Reader(settings, train_path), model.label_encoder)\n",
    "    elif hasattr(settings, \"input_path\") and \\\n",
    "         settings.input_path and os.path.exists(settings.input_path):\n",
    "        print(\"--- Using train set from settings\")\n",
    "        trainset = Dataset(\n",
    "            settings, Reader(settings, settings.input_path), model.label_encoder)\n",
    "    else:\n",
    "        print(\"--- Not using trainset to evaluate known/unknown tokens\")\n",
    "\n",
    "    if not len(test_path) and hasattr(settings, \"test_path\"):\n",
    "        print(\"--- Using test set from settings\")\n",
    "        test_path = (settings.test_path, )\n",
    "\n",
    "    testset = Dataset(settings, Reader(settings, *test_path), model.label_encoder)\n",
    "\n",
    "    return {task:score for task, score in model.evaluate(testset, trainset,\n",
    "                               use_beam=use_beam, beam_width=beam_width).items()}"
   ]
  },
  {
   "cell_type": "code",
   "execution_count": 46,
   "metadata": {},
   "outputs": [
    {
     "name": "stderr",
     "output_type": "stream",
     "text": [
      "643it [01:09,  9.19it/s]\n"
     ]
    }
   ],
   "source": [
    "results = run(\n",
    "    model_path=\"/home/thibault/dev/latin-lasla-models/model.tar\",\n",
    "    test_path=[\"/home/thibault/dev/thesis-lasla-pipeline/test.tsv\"],\n",
    "    train_path=\"/home/thibault/dev/thesis-lasla-pipeline/train.tsv\"\n",
    "    #test_path=[\"/home/thibault/dev/thesis-lasla-pipeline/mood-tense-voice-pft-clitics-uppercase/test.tsv\"]\n",
    ")"
   ]
  },
  {
   "cell_type": "code",
   "execution_count": 62,
   "metadata": {},
   "outputs": [],
   "source": [
    "from typing import List\n",
    "\n",
    "full_results: List[bool] = [\n",
    "    True for _ in range(len(results[\"lemma\"].preds))    \n",
    "]\n",
    "full_results_unknown: List[bool] = [   \n",
    "]\n",
    "lemma = []\n",
    "\n",
    "tasks = {\n",
    "    task: []\n",
    "    for task in results if task not in (\"Dis\", \"Entity\", \"lemma\")\n",
    "}\n",
    "\n",
    "known_tokens = set(results[\"lemma\"].known_tokens)\n",
    "for task, scorer in results.items():\n",
    "    if task in (\"Dis\", \"Entity\"):\n",
    "        #print(scorer.__dict__.keys())\n",
    "        continue\n",
    "        \n",
    "    for idx, (p, t, cur, tok) in enumerate(zip(scorer.preds, scorer.trues, full_results, scorer.tokens)):\n",
    "        full_results[idx] = cur and p == t\n",
    "        \n",
    "        if task == \"lemma\":\n",
    "            lemma.append(p == t)\n",
    "        elif t != \"_\":\n",
    "            tasks[task].append(p == t)\n",
    "        if tok not in known_tokens:\n",
    "            full_results_unknown.append(full_results[idx])\n",
    "    # scorer.print_summary()\n"
   ]
  },
  {
   "cell_type": "code",
   "execution_count": 74,
   "metadata": {},
   "outputs": [
    {
     "name": "stdout",
     "output_type": "stream",
     "text": [
      "\\begin{tabular}{lr}\n",
      "\\hline\n",
      " Mesure                             &   Score \\\\\n",
      "\\hline\n",
      " Tâches Agrégées                    &   85.86 \\\\\n",
      " Tâches Agrégées (Formes inconnues) &   76.68 \\\\\n",
      " pos                                &   96.49 \\\\\n",
      " Gend                               &   89.98 \\\\\n",
      " Numb                               &   96.44 \\\\\n",
      " Case                               &   87.84 \\\\\n",
      " Deg                                &   93.37 \\\\\n",
      " Mood\\_Tense\\_Voice                   &   94.44 \\\\\n",
      " Person                             &   98.49 \\\\\n",
      "\\hline\n",
      "\\end{tabular}\n"
     ]
    }
   ],
   "source": [
    "from tabulate import tabulate\n",
    "table = [\n",
    "    (\"Mesure\", \"Score\")\n",
    "]\n",
    "#data.append((\"Lemme\", f\"{lemma.count(True)*100/len(lemma):.2f}\"))\n",
    "table.append((\"Tâches Agrégées\", f\"{full_results.count(True)*100/len(full_results):.2f}\"))\n",
    "table.append((\"Tâches Agrégées (Formes inconnues)\",\n",
    "             f\"{full_results_unknown.count(True)*100/len(full_results_unknown):.2f}\"))\n",
    "for task, task_score in tasks.items():\n",
    "    table.append((f\"{task}\", f\"{task_score.count(True)*100/len(task_score):.2f}\"))\n",
    "    \n",
    "print(tabulate(table[1:], headers=table[0], tablefmt=\"latex\"))"
   ]
  }
 ],
 "metadata": {
  "kernelspec": {
   "display_name": "Python 3",
   "language": "python",
   "name": "python3"
  },
  "language_info": {
   "codemirror_mode": {
    "name": "ipython",
    "version": 3
   },
   "file_extension": ".py",
   "mimetype": "text/x-python",
   "name": "python",
   "nbconvert_exporter": "python",
   "pygments_lexer": "ipython3",
   "version": "3.6.7"
  },
  "toc": {
   "base_numbering": 1,
   "nav_menu": {},
   "number_sections": true,
   "sideBar": true,
   "skip_h1_title": false,
   "title_cell": "Table of Contents",
   "title_sidebar": "Contents",
   "toc_cell": false,
   "toc_position": {},
   "toc_section_display": true,
   "toc_window_display": false
  }
 },
 "nbformat": 4,
 "nbformat_minor": 2
}
