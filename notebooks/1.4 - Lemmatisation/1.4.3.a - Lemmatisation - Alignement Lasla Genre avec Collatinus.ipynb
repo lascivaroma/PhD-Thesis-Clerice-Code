{
 "cells": [
  {
   "cell_type": "code",
   "execution_count": 1,
   "metadata": {},
   "outputs": [],
   "source": [
    "import pycollatinus\n",
    "\n",
    "lemmatiseur = pycollatinus.lemmatiseur.Lemmatiseur()"
   ]
  },
  {
   "cell_type": "markdown",
   "metadata": {},
   "source": [
    "## Étude sur l'utilisation de l'annotation morphologique\n",
    "\n",
    "1. Alignement sur la base avec PyCollatinus sur la base (Cas+Nombre), récupération du genre quand possible.\n",
    "2. Récupération dans le même temps des formes pour trouver des "
   ]
  },
  {
   "cell_type": "code",
   "execution_count": 71,
   "metadata": {},
   "outputs": [],
   "source": [
    "from collections import Counter, defaultdict\n",
    "\n",
    "def to_list(line):\n",
    "    return line.strip().split()\n",
    "\n",
    "def collatinus_morph(morph_string: str):\n",
    "    out = {}\n",
    "    gend = None\n",
    "    for info in morph_string.split():\n",
    "        if info in [\"nominatif\", \"accusatif\", \"ablatif\", \"génitif\", \"vocatif\", \"datif\", \"locatif\"]:\n",
    "            out[\"Case\"] = info[0].upper()+info[1:3].replace(\"é\", \"e\")\n",
    "        elif info in [\"singulier\", \"pluriel\"]:\n",
    "            out[\"Numb\"] = info[0].upper()+info[1:4]\n",
    "        elif info in [\"masculin\", \"féminin\", \"neutre\"]:\n",
    "            gend = info[0].upper()+info[1:4]\n",
    "    return out, gend\n",
    "\n",
    "\n",
    "input_file = \"../../LASLA/genders.tsv\"\n",
    "limit = None\n",
    "possibilities = defaultdict(list)\n",
    "forms = defaultdict(list)\n",
    "with open(input_file) as f:\n",
    "    for line_no, line in enumerate(f):\n",
    "        if line_no == 0:\n",
    "            header = to_list(line)\n",
    "        elif line_no == limit:\n",
    "            break\n",
    "        else:\n",
    "            line = dict(zip(header, to_list(line)))\n",
    "            # On ajoute le dictionnaire de la forme liée à sa morphologie \"simplifiée\"\n",
    "            forms[line[\"token\"]].append({\"Case\": line[\"Case\"], \"Numb\": line[\"Numb\"], \"Gend\": line[\"Gend\"], \"lemma\": line[\"lemma\"]})\n",
    "            # Ici, on s'occupe de ce qui va être aligné avec Collatinus\n",
    "            if line[\"Gend\"] not in [\"_\", \"Masc\", \"Fem\", \"Neut\"]:\n",
    "                working = []\n",
    "                for possibility in lemmatiseur.lemmatise(line[\"token\"]):\n",
    "                    morph, gend = collatinus_morph(possibility[\"morph\"])\n",
    "                    if morph == {\"Case\": line[\"Case\"], \"Numb\": line[\"Numb\"]}:\n",
    "                        if gend:\n",
    "                            working.append(gend)\n",
    "                possibilities[line[\"Gend\"]].append(len(set(working)))\n",
    "\n",
    "                \n",
    "dico = {g: Counter(val) for g, val in possibilities.items()}"
   ]
  },
  {
   "cell_type": "markdown",
   "metadata": {},
   "source": [
    "### Alignement avec collatinus\n",
    "\n",
    "Est aligné un terme dont la forme, le cas et le nombre sont identiques. Pour chacun de ces alignements, on compte le nombre de genres associés."
   ]
  },
  {
   "cell_type": "code",
   "execution_count": 64,
   "metadata": {},
   "outputs": [
    {
     "name": "stdout",
     "output_type": "stream",
     "text": [
      ",MascNeut,MascFem,Com,Gend\n",
      "0,783,653,1478,2\n",
      "1,219,3863,33,0\n",
      "2,65852,25155,2512,0\n",
      "3,1591,172,67206,0\n"
     ]
    }
   ],
   "source": [
    "cats = sorted(list(set([value for file in dico.values() for value in file.keys()])))\n",
    "print(\",\".join([\"\"] + [cnt for cnt in dico]))\n",
    "for key in cats:\n",
    "    print(\",\".join([str(key)] + [str(dico[cnt].get(key, \"0\")) for cnt in dico]))\n"
   ]
  },
  {
   "cell_type": "markdown",
   "metadata": {},
   "source": [
    "### Recherche d'instabilité dans l'annotation\n",
    "\n",
    "Bien que peu probable, on vérifie que la doctrine d'annotation morphologique a été suivie en vérifiant le nombre de formes et de lemmes qui possèdent les deux annotations."
   ]
  },
  {
   "cell_type": "code",
   "execution_count": 65,
   "metadata": {},
   "outputs": [],
   "source": [
    "def map_val(dic):\n",
    "    return (\"|\".join([key+\"=\"+val for key, val in dic.items() if key!=\"Gend\"]), dic[\"Gend\"])\n",
    "forms2 = {g: Counter(list(map(map_val, val))) for g, val in forms.items()}"
   ]
  },
  {
   "cell_type": "code",
   "execution_count": 70,
   "metadata": {},
   "outputs": [
    {
     "name": "stdout",
     "output_type": "stream",
     "text": [
      "Counter({('MascNeut', 'Neut'): 71, ('MascNeut', 'Masc'): 63, ('MascNeut', 'Fem'): 27, ('MascFem', 'Masc'): 26, ('Com', 'Masc'): 17, ('Com', 'Fem'): 17, ('Com', 'Neut'): 16, ('MascFem', 'Fem'): 15, ('MascFem', 'Neut'): 7})\n",
      "['1', '10', '11', '13', '15', '2', '2000', '21', '22', '3', '32', '5', '6', '7', '8', 'achaemenius', 'admoueo', 'aduersus', 'aduncus', 'affero', 'ago', 'alacer', 'albus', 'alienus', 'aliquis', 'alter', 'ambo', 'amplus', 'anhelo', 'annosus', 'aonius', 'armatus', 'ascraeus', 'assumo', 'astutus', 'barbatus', 'bistonis', 'bonus', 'caelestis', 'campester', 'capitolinus', 'careo', 'carus', 'cecropis', 'celeber', 'celer', 'certus', 'ceterus', 'clamito', 'claudo', 'coepio', 'colligo', 'comis', 'comminiscor', 'concedo', 'confero', 'conflo', 'conscribo', 'consulo', 'cornipes', 'cous', 'credo', 'crinitus', 'danaus', 'decimus', 'dedo', 'deligo', 'dico', 'difficilis', 'dignor', 'disertus', 'disicio', 'diuus', 'do', 'dubius', 'duco', 'dulichius', 'ecquis', 'emax', 'eo', 'euboicus', 'exitiosus', 'experior', 'exsanguis', 'facio', 'fero', 'flumineus', 'frango', 'fraternus', 'frendo', 'fulmineus', 'furtiuus', 'gladiatorius', 'gorgoneus', 'habeo', 'haemonius', 'herculeus', 'herilis', 'hic', 'iberus', 'idaeus', 'idem', 'iliacus', 'immundus', 'impono', 'infestus', 'ingens', 'instituo', 'insto', 'interdico', 'intermitto', 'intrepidus', 'ipse', 'istic', 'iudaicus', 'libycus', 'libys', 'liquidus', 'macedo', 'maeonius', 'magnus', 'malus', 'maritimus', 'marsus', 'medicabilis', 'mordax', 'multus', 'mytilenaeus', 'nascor', 'nescioquis', 'nonnullus', 'nosco', 'numarius', 'obliquus', 'obruo', 'offero', 'pandus', 'parrhasis', 'parthus', 'paruus', 'patrius', 'pauidus', 'perago', 'perpetuus', 'peruenio', 'pheraeus', 'phrygius', 'poeticus', 'praeualidus', 'premo', 'proficiscor', 'pronuntio', 'prouideo', 'pudibundus', 'qualis', 'quamplures', 'quantum', 'quartus', 'quasso', 'qui', 'quis', 'quisnam', 'quispiam', 'quisquam', 'quisque', 'quisquis', 'quotusquisque', 'rapidus', 'recens', 'reliquus', 'remitto', 'renuntio', 'repleo', 'romanus', 'sacer', 'samius', 'scelestus', 'sequor', 'similis', 'soleo', 'spatior', 'stabilis', 'sum', 'tantum', 'teneo', 'threicius', 'tractabilis', 'trado', 'tres', 'tueor', 'turgidus', 'uenio', 'uetus', 'uinco', 'ultimus', 'unus', 'unusquisque', 'uulnero']\n",
      "198\n"
     ]
    }
   ],
   "source": [
    "# Formes annotées \n",
    "out = []\n",
    "lemma = []\n",
    "for form, counter in forms2.items():\n",
    "    for (case_numb, gend), count in counter.items():\n",
    "        if gend not in [\"Masc\", \"Fem\", \"Neut\"]:\n",
    "            for secondary_gend in [\"Masc\", \"Fem\", \"Neut\"]:\n",
    "                if (case_numb, secondary_gend) in counter:\n",
    "                    out.append((gend, secondary_gend))\n",
    "                    lemma.append(case_numb.split(\"|\")[-1].split(\"=\")[-1])\n",
    "\n",
    "print(Counter(out))\n",
    "print(sorted(list(set(lemma))))\n",
    "print(len(set(lemma)))"
   ]
  }
 ],
 "metadata": {
  "kernelspec": {
   "display_name": "Python 3",
   "language": "python",
   "name": "python3"
  },
  "language_info": {
   "codemirror_mode": {
    "name": "ipython",
    "version": 3
   },
   "file_extension": ".py",
   "mimetype": "text/x-python",
   "name": "python",
   "nbconvert_exporter": "python",
   "pygments_lexer": "ipython3",
   "version": "3.6.7"
  }
 },
 "nbformat": 4,
 "nbformat_minor": 2
}
