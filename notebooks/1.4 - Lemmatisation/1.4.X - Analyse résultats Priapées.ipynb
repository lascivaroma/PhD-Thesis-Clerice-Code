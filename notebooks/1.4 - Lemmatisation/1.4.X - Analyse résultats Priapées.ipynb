{
 "cells": [
  {
   "cell_type": "code",
   "execution_count": 17,
   "metadata": {},
   "outputs": [],
   "source": [
    "from typing import List, Dict\n",
    "from tqdm import tqdm"
   ]
  },
  {
   "cell_type": "markdown",
   "metadata": {},
   "source": [
    "# Analyse sur le hors domaine Priapées"
   ]
  },
  {
   "cell_type": "markdown",
   "metadata": {},
   "source": [
    "## Objectifs\n",
    "\n",
    "Évaluer et visualiser les résultats sur la vulgate"
   ]
  },
  {
   "cell_type": "markdown",
   "metadata": {},
   "source": [
    "## Chargement du corpus GOLD"
   ]
  },
  {
   "cell_type": "code",
   "execution_count": 18,
   "metadata": {},
   "outputs": [],
   "source": [
    "import lxml.etree as ET\n",
    "\n",
    "GOLD: List[List[Dict[str, str]]] = [[]]\n",
    "    \n",
    "MILESTONES: List[int] = []\n",
    "    \n",
    "PRIA_START, PRIA_END = 2, 75\n",
    "NS = {\"t\":\"http://www.tei-c.org/ns/1.0\"}\n",
    "\n",
    "with open(\"../../../priapea-lemmat/priapea.xml\") as f:\n",
    "    xml = ET.parse(f)\n",
    "    for ab_num, ab in enumerate(xml.xpath(\n",
    "        \"//t:ab\", \n",
    "        namespaces=NS)):\n",
    "        \n",
    "        if ab_num < PRIA_START or ab_num > PRIA_END:\n",
    "            continue\n",
    "        \n",
    "        for tok in ab.xpath(\"./t:w\", namespaces=NS):\n",
    "            token = tok.text\n",
    "            try:\n",
    "                lemma, pos, msd = (\n",
    "                    tok.attrib[\"lemma\"],\n",
    "                    tok.attrib[\"pos\"], \n",
    "                    tok.attrib[\"msd\"]\n",
    "                )\n",
    "            except KeyError:\n",
    "                print(ET.tostring(tok))\n",
    "                raise\n",
    "            if pos == \"PUNC\":\n",
    "                if token in \".!?\":\n",
    "                    GOLD.append([])\n",
    "                continue\n",
    "            GOLD[-1].append({\n",
    "                \"form\": token,\n",
    "                \"lemma\": lemma,\n",
    "                \"pos\": pos,\n",
    "                \"morph\": msd\n",
    "            })\n",
    "            \n",
    "        MILESTONES.append(sum(len([x for x in g if not x[\"form\"].startswith(\"-\")]) for g in GOLD if len(g)))\n",
    "    \n",
    "GOLD = [g for g in GOLD if len(g)]"
   ]
  },
  {
   "cell_type": "code",
   "execution_count": 19,
   "metadata": {},
   "outputs": [
    {
     "name": "stdout",
     "output_type": "stream",
     "text": [
      "[68, 87, 113, 144, 158, 182, 279, 319, 343, 417, 427, 482, 519, 565, 581, 595, 624, 661, 685, 699, 726, 750, 786, 840, 876, 902, 929, 958, 983, 1048, 1087, 1112, 1136, 1194, 1264, 1290, 1329, 1354, 1372, 1397, 1426, 1446, 1482, 1526, 1555, 1584, 1606, 1640, 1789, 1848, 1886, 1899, 1937, 1968, 2010, 2029, 2039, 2051, 2119, 2129, 2224, 2238, 2264, 2284, 2312, 2554, 2577, 2639, 2651, 2674, 2701, 2713, 2794, 2883]\n",
      "74\n"
     ]
    }
   ],
   "source": [
    "#Debug:\n",
    "print(MILESTONES)\n",
    "print(len(MILESTONES))"
   ]
  },
  {
   "cell_type": "markdown",
   "metadata": {},
   "source": [
    "## Reparse morphology for evaluation"
   ]
  },
  {
   "cell_type": "code",
   "execution_count": 20,
   "metadata": {},
   "outputs": [
    {
     "name": "stderr",
     "output_type": "stream",
     "text": [
      "100%|██████████| 168/168 [00:00<00:00, 13308.71it/s]\n"
     ]
    }
   ],
   "source": [
    "TEMP = []\n",
    "TASKS = \"lemma,Deg,Numb,Person,Mood_Tense_Voice,Case,Gend,pos\".split(\",\")\n",
    "for sentence in tqdm(GOLD):\n",
    "    temp_sentence = []\n",
    "    for token in sentence:\n",
    "        new_token = {task: \"_\" for task in TASKS}\n",
    "        new_token.update({\n",
    "            \"form\": token[\"form\"].replace(\"v\", \"u\").replace(\"j\", \"i\").replace(\"J\", \"I\").replace(\"V\", \"U\"),#.lower(),\n",
    "            \"lemma\": token[\"lemma\"],#.lower(),\n",
    "            # No POS distinction\n",
    "            \"pos\": token[\"pos\"].replace(\"com\", \"\").replace(\"pro\", \"\")\n",
    "        })\n",
    "        # No disambiguation at the lemmatizer lever\n",
    "        if new_token[\"lemma\"][-1].isnumeric():\n",
    "            new_token[\"lemma\"] = new_token[\"lemma\"][:-1]\n",
    "            \n",
    "        # Treat morph as separate tasks\n",
    "        for morph in token[\"morph\"].split(\"|\"):\n",
    "            task, value = morph.split(\"=\")\n",
    "            new_token[task] = value\n",
    "        new_token[\"Mood_Tense_Voice\"] = \"|\".join([\n",
    "            new_token.get(task, \"_\")\n",
    "            for task in (\"Mood\", \"Tense\", \"Voice\")\n",
    "        ]).replace(\"_|_|_\", \"_\")\n",
    "        \n",
    "        if new_token[\"form\"].startswith(\"-\"):\n",
    "            temp_sentence[-1][\"form\"] += new_token[\"form\"][1:]\n",
    "            temp_sentence[-1][\"lemma\"] += \"界\" + new_token[\"lemma\"]\n",
    "            continue\n",
    "        temp_sentence.append(new_token)\n",
    "        \n",
    "    TEMP.append(temp_sentence)\n",
    "GOLD = TEMP"
   ]
  },
  {
   "cell_type": "markdown",
   "metadata": {},
   "source": [
    "## Obtention des données (formes uniquement)"
   ]
  },
  {
   "cell_type": "code",
   "execution_count": 21,
   "metadata": {},
   "outputs": [
    {
     "name": "stdout",
     "output_type": "stream",
     "text": [
      "['Obscure', 'poteram', 'tibi', 'dicere', 'da', 'mihi', 'quod', 'tu', 'des', 'licet', 'assidue', 'nil', 'tamen', 'inde', 'perit']\n",
      "15 15\n",
      "['da', 'mihi', 'quod', 'cupies', 'frustra', 'dare', 'forsitan', 'olim', 'cum', 'tenet', 'obsessas', 'inuida', 'barba', 'genas', 'quodque', 'Ioui', 'dederat', 'qui', 'raptus', 'ab', 'alite', 'sacra', 'miscet', 'amatori', 'pocula', 'grata', 'suo', 'quod', 'uirgo', 'prima', 'cupido', 'dat', 'nocte', 'marito', 'dum', 'timet', 'alterius', 'uulnus', 'inepta', 'loci']\n",
      "40 55\n",
      "['simplicius', 'multo', 'est', 'da', 'pedicare', 'Latine', 'dicere', 'quid', 'faciam']\n",
      "9 64\n",
      "['crassa', 'Minerua', 'mea', 'est']\n",
      "4 68\n",
      "['Obscenas', 'rigido', 'deo', 'tabellas', 'ducens', 'ex', 'Elephantidos', 'libellis', 'dat', 'donum', 'Lalage', 'rogatque', 'temptes', 'si', 'pictas', 'opus', 'edat', 'ad', 'figuras']\n",
      "19 87\n",
      "['Quam', 'puero', 'legem', 'fertur', 'dixisse', 'Priapus', 'uersibus', 'haec', 'infra', 'scripta', 'duobus', 'erit', 'quod', 'meus', 'hortus', 'habet', 'sumas', 'impune', 'licebit', 'si', 'dederis', 'nobis', 'quod', 'tuus', 'hortus', 'habet']\n",
      "26 113\n",
      "['Qui', 'sum', 'ligneus', 'ut', 'uides', 'Priapus', 'et', 'falx', 'lignea', 'ligneusque', 'penis', 'prendam', 'te', 'tamen', 'et', 'tenebo', 'prensum', 'totamque', 'hanc', 'sine', 'fraude', 'quantacumque', 'est', 'tormento', 'citharaque', 'tensiorem', 'ad', 'costam', 'tibi', 'septimam', 'recondam']\n",
      "31 144\n",
      "['Cum', 'loquor', 'una', 'mihi', 'peccatur', 'littera', 'nam', 'te', 'pedico', 'semper', 'blaesaque', 'lingua', 'mihi', 'est']\n",
      "14 158\n",
      "['Matronae', 'procul', 'hinc', 'abite', 'castae', 'turpe', 'est', 'uos', 'legere', 'impudica', 'uerba']\n",
      "11 169\n",
      "['non', 'assis', 'faciunt', 'euntque', 'recta', 'nimirum', 'sapiunt', 'uidentque', 'magnam', 'matronae', 'quoque', 'mentulam', 'libenter']\n",
      "13 182\n",
      "['Cur', 'obscena', 'mihi', 'pars', 'sit', 'sine', 'ueste', 'requiris', 'quaere', 'tegat', 'nullus', 'cur', 'sua', 'tela', 'deus']\n",
      "15 197\n",
      "['fulmen', 'habet', 'mundi', 'dominus', 'tenet', 'illud', 'aperte', 'nec', 'datur', 'aequoreo', 'fuscina', 'tecta', 'deo']\n",
      "13 210\n",
      "['nec', 'Mauors', 'illum', 'per', 'quem', 'ualet', 'occulit', 'ensem', 'nec', 'latet', 'in', 'tepido', 'Palladis', 'hasta', 'sinu']\n",
      "15 225\n",
      "['num', 'pudet', 'auratas', 'Phoebum', 'portare', 'sagittas']\n",
      "6 231\n",
      "['clamne', 'solet', 'pharetram', 'ferre', 'Diana', 'suam']\n",
      "6 237\n",
      "['num', 'tegit', 'Alcides', 'nodosae', 'robora', 'clauae']\n",
      "6 243\n",
      "['sub', 'tunica', 'uirgam', 'num', 'deus', 'ales', 'habet']\n",
      "7 250\n",
      "['quis', 'Bacchum', 'gracili', 'uestem', 'praetendere', 'thyrso', 'quis', 'te', 'celata', 'cum', 'face', 'uidit', 'Amor']\n",
      "13 263\n",
      "['nec', 'mihi', 'sit', 'crimen', 'quod', 'mentula', 'semper', 'aperta', 'est', 'hoc', 'mihi', 'si', 'telum', 'desit', 'inermis', 'ero']\n",
      "16 279\n",
      "['Insulsissima', 'quid', 'puella', 'rides']\n",
      "4 283\n",
      "['non', 'me', 'Praxiteles', 'Scopasue', 'fecit', 'non', 'sum', 'Phidiaca', 'manu', 'politus', 'sed', 'lignum', 'rude', 'uillicus', 'dolauit', 'et', 'dixit', 'mihi', 'tu', 'Priapus', 'esto']\n",
      "21 304\n",
      "['spectas', 'me', 'tamen', 'et', 'subinde', 'rides', 'nimirum', 'tibi', 'salsa', 'res', 'uidetur', 'adstans', 'inguinibus', 'columna', 'nostris']\n",
      "15 319\n",
      "['Ne', 'prendare', 'caue']\n",
      "3 322\n",
      "['prenso', 'nec', 'fuste', 'nocebo', 'saeua', 'nec', 'incurua', 'uulnera', 'falce', 'dabo', 'traiectus', 'conto', 'sic', 'extendere', 'pedali', 'ut', 'culum', 'rugam', 'non', 'habuisse', 'putes']\n",
      "21 343\n",
      "['Quaedam', 'iunior', 'Hectoris', 'parente', 'Cumaeae', 'soror', 'ut', 'puto', 'Sibyllae', 'aequalis', 'tibi', 'quam', 'domum', 'reuertens', 'Theseus', 'repperit', 'in', 'rogo', 'iacentem', 'infirmo', 'solet', 'huc', 'gradu', 'uenire', 'rugosasque', 'manus', 'ad', 'astra', 'tollens', 'ne', 'desit', 'sibi', 'mentulam', 'rogare']\n",
      "34 377\n",
      "['hesterna', 'quoque', 'luce', 'dum', 'precatur', 'dentem', 'de', 'tribus', 'excreauit', 'unum']\n",
      "10 387\n",
      "['tolle', 'inquam', 'procul', 'ac', 'iube', 'latere', 'scissa', 'sub', 'tunica', 'stolaque', 'russa', 'ut', 'semper', 'solet', 'et', 'timere', 'lucem', 'qui', 'tanto', 'patet', 'indecens', 'hiatu', 'barbato', 'macer', 'eminente', 'naso', 'ut', 'credas', 'Epicuron', 'oscitari']\n",
      "30 417\n",
      "['Percidere', 'puer', 'moneo', 'futuere', 'puella', 'barbatum', 'furem', 'tertia', 'poena', 'manet']\n",
      "10 427\n",
      "['Huc', 'huc', 'quisquis', 'es', 'in', 'dei', 'salacis', 'deuerti', 'graue', 'ne', 'puta', 'sacellum']\n",
      "12 439\n",
      "['et', 'si', 'nocte', 'fuit', 'puella', 'cum', 'te', 'hac', 're', 'quod', 'metuas', 'adire', 'non', 'est']\n",
      "14 453\n",
      "['istud', 'caelitibus', 'datur', 'seueris', 'nos', 'uappae', 'sumus', 'et', 'pusilla', 'culti', 'ruris', 'numina', 'nos', 'pudore', 'pulso', 'stamus', 'sub', 'Ioue', 'coleis', 'apertis']\n",
      "20 473\n",
      "['ergo', 'quilibet', 'huc', 'licebit', 'intret', 'nigra', 'fornicis', 'oblitus', 'fauilla']\n",
      "9 482\n",
      "['Commisso', 'mihi', 'non', 'satis', 'modestas', 'quicumque', 'attulerit', 'manus', 'agello', 'is', 'me', 'sentiet', 'esse', 'non', 'spadonem']\n",
      "15 497\n",
      "['dicat', 'forsitan', 'haec', 'sibi', 'ipse', 'nemo', 'hic', 'inter', 'frutices', 'loco', 'remoto', 'percisum', 'sciet', 'esse', 'me', 'sed', 'errat', 'magnis', 'testibus', 'ista', 'res', 'agetur']\n",
      "22 519\n",
      "['Qualibus', 'Hippomenes', 'rapuit', 'Schoeneida', 'pomis', 'qualibus', 'Hesperidum', 'nobilis', 'hortus', 'erat', 'qualia', 'credibile', 'est', 'spatiantem', 'rure', 'paterno', 'Nausicam', 'pleno', 'saepe', 'tulisse', 'sinu', 'quale', 'fuit', 'malum', 'quod', 'littera', 'pinxit', 'Aconti', 'qua', 'cupido', 'lecta', 'pacta', 'puella', 'uiro', 'est', 'Talia', 'cuncta', 'pius', 'dominus', 'florentis', 'agelli', 'imposuit', 'mensae', 'nude', 'Priape', 'tuae']\n",
      "46 565\n",
      "['Quid', 'cum', 'me', 'tibi', 'circitor', 'moleste']\n",
      "6 571\n",
      "['ad', 'me', 'quid', 'prohibes', 'uenire', 'furem']\n",
      "6 577\n",
      "['accedat', 'sine', 'laxior', 'redibit']\n",
      "4 581\n",
      "['Commoditas', 'haec', 'est', 'in', 'nostro', 'maxima', 'pene', 'laxa', 'quod', 'esse', 'mihi', 'femina', 'nulla', 'potest']\n",
      "14 595\n",
      "['Hic', 'quando', 'Telethusa', 'circulatrix', 'quae', 'clunem', 'tunica', 'tegente', 'nulla', 'Extis', 'satius', 'altiusque', 'motat', 'crisabit', 'tibi', 'fluctuante', 'lumbo', 'haec', 'sic', 'non', 'modo', 'te', 'Priape', 'possit', 'priuignum', 'quoque', 'sed', 'mouere', 'Phaedrae']\n",
      "29 624\n",
      "['Fulmina', 'sub', 'Ioue', 'sunt', 'Neptuni', 'fuscina', 'telum', 'ense', 'potens', 'Mars', 'est', 'hasta', 'Minerua', 'tua', 'est', 'suttilibus', 'Liber', 'committit', 'praelia', 'thyrsis', 'fertur', 'Apollinea', 'missa', 'sagitta', 'manu', 'Herculis', 'armata', 'est', 'inuicta', 'dextera', 'claua', 'at', 'me', 'terribilem', 'mentula', 'tenta', 'facit']\n",
      "37 661\n",
      "['Copia', 'me', 'perdit', 'tu', 'suffragare', 'rogatus', 'indicio', 'nec', 'me', 'prode', 'Priape', 'tuo', 'quaeque', 'tibi', 'posui', 'tamquam', 'uernacula', 'poma', 'de', 'sacra', 'nulli', 'dixeris', 'esse', 'uia']\n",
      "24 685\n",
      "['Femina', 'si', 'furtum', 'faciet', 'mihi', 'uirue', 'puerue', 'haec', 'cunnum', 'caput', 'hic', 'praebeat', 'ille', 'nates']\n",
      "14 699\n",
      "['Quicumque', 'hic', 'uiolam', 'rosamue', 'carpet', 'furtiuumue', 'olus', 'aut', 'inempta', 'poma', 'defectus', 'pueroque', 'feminaque', 'hac', 'tentigine', 'quam', 'uidetis', 'in', 'me', 'rumpatur', 'precor', 'usque', 'mentulaque', 'nequicquam', 'sibi', 'pulset', 'umbilicum']\n",
      "27 726\n",
      "['Hic', 'me', 'custodem', 'fecundi', 'uillicus', 'horti', 'mandati', 'curam', 'iussit', 'habere', 'loci']\n",
      "11 737\n",
      "['fur', 'habeas', 'poenam', 'licet', 'indignere', 'feramque', 'propter', 'olus', 'dicas', 'hoc', 'ego']\n",
      "11 748\n",
      "['propter', 'olus']\n",
      "2 750\n",
      "['Hoc', 'sceptrum', 'quod', 'ab', 'arbore', 'est', 'recisum', 'nulla', 'iam', 'poterit', 'uirere', 'fronde', 'sceptrum', 'quod', 'pathicae', 'petunt', 'puellae', 'quod', 'quidam', 'cupiunt', 'tenere', 'reges', 'cui', 'dant', 'oscula', 'nobiles', 'cinaedi', 'intra', 'uiscera', 'furis', 'ibit', 'usque', 'ad', 'pubem', 'capulumque', 'coleorum']\n",
      "36 786\n",
      "['Porro', 'nam', 'quis', 'erit', 'modus']\n",
      "5 791\n",
      "['Quirites', 'aut', 'praecidite', 'seminale', 'membrum', 'quod', 'totis', 'mihi', 'noctibus', 'fatigant', 'uicinae', 'sine', 'fine', 'prurientes', 'uernis', 'passeribus', 'salaciores', 'aut', 'rumpar', 'nec', 'habebitis', 'Priapum']\n",
      "22 813\n",
      "['ipsi', 'cernitis', 'ecfututus', 'ut', 'sim', 'confectusque', 'macerque', 'pallidusque', 'qui', 'quondam', 'ruber', 'et', 'calens', 'solebam', 'fures', 'caedere', 'quamlibet', 'ualentes']\n",
      "18 831\n",
      "['defecit', 'latus', 'et', 'periculosam', 'cum', 'tussi', 'miser', 'expuo', 'saliuam']\n",
      "9 840\n",
      "['Deliciae', 'populi', 'magno', 'notissima', 'circo', 'Quintia', 'uibratas', 'docta', 'mouere', 'nates', 'cymbala', 'cum', 'crotalis', 'pruriginis', 'arma', 'Priapo', 'ponit', 'et', 'adducta', 'tympana', 'pulsa', 'manu']\n",
      "22 862\n",
      "['pro', 'quibus', 'ut', 'semper', 'placeat', 'spectantibus', 'orat', 'tentaque', 'ad', 'exemplum', 'sit', 'sua', 'turba', 'dei']\n",
      "14 876\n",
      "['Tu', 'qui', 'non', 'bene', 'cogitas', 'et', 'aegre', 'carpendo', 'tibi', 'temperas', 'ab', 'horto', 'pedicabere', 'fascino', 'pedali']\n",
      "15 891\n",
      "['quod', 'si', 'tam', 'grauis', 'et', 'molesta', 'poena', 'non', 'profecerit', 'altiora', 'tangam']\n",
      "11 902\n",
      "['Obscenis', 'peream', 'Priape', 'si', 'non', 'uti', 'me', 'pudet', 'inprobisque', 'inprobisque', 'uerbis']\n",
      "11 913\n",
      "['sed', 'cum', 'tu', 'posito', 'deus', 'pudore', 'ostendas', 'mihi', 'coleos', 'patentes', 'cum', 'cunno', 'mihi', 'mentula', 'est', 'uocanda']\n",
      "16 929\n",
      "['Falce', 'minax', 'et', 'parte', 'tui', 'maiore', 'Priape', 'ad', 'fontem', 'quaeso', 'dic', 'mihi', 'qua', 'sit', 'iter']\n",
      "15 944\n",
      "['uade', 'per', 'has', 'uites', 'quarum', 'si', 'carpseris', 'uuam', 'cur', 'aliter', 'sumas', 'hospes', 'habebis', 'aquam']\n",
      "14 958\n",
      "['Donec', 'proterua', 'nil', 'mei', 'manu', 'carpes', 'licebit', 'ipsa', 'sis', 'pudicior', 'Uesta']\n",
      "11 969\n",
      "['sin', 'haec', 'mei', 'te', 'uentris', 'arma', 'laxabunt', 'exire', 'ut', 'ipse', 'de', 'tuo', 'queas', 'culo']\n",
      "14 983\n",
      "['Uuis', 'aridior', 'puella', 'passis', 'buxo', 'pallidior', 'nouaque', 'cera', 'collatas', 'sibi', 'quae', 'suisque', 'membris', 'formicas', 'facit', 'altiles', 'uideri', 'cuius', 'uiscera', 'non', 'aperta', 'Tuscus', 'per', 'pellem', 'poterit', 'uidere', 'aruspex', 'quae', 'suco', 'caret', 'estque', 'pura', 'pumex', 'Nemo', 'uiderit', 'hanc', 'ut', 'expuentem', 'quam', 'pro', 'sanguine', 'puluerem', 'scobemque', 'in', 'uenis', 'medici', 'putant', 'habere', 'ad', 'me', 'nocte', 'solet', 'uenire', 'et', 'affert', 'pallorem', 'maciemque', 'larualem']\n",
      "58 1041\n",
      "['ductor', 'ferreus', 'insulariusque', 'lanternae', 'uideor', 'fricare', 'cornu']\n",
      "7 1048\n",
      "['Naidas', 'antiqui', 'Dryadasque', 'habuere', 'Priapi', 'et', 'quo', 'tenta', 'dei', 'uena', 'subiret', 'erat']\n",
      "12 1060\n",
      "['nunc', 'adeo', 'nihil', 'est', 'adeo', 'mea', 'plena', 'libido', 'est', 'ut', 'Nymphas', 'omnis', 'interiisse', 'putem']\n",
      "14 1074\n",
      "['turpe', 'quidem', 'factu', 'sed', 'ne', 'tentigine', 'rumpar', 'falce', 'mihi', 'posita', 'fiet', 'amica', 'manus']\n",
      "13 1087\n",
      "['Cum', 'sacrum', 'fieret', 'deo', 'salaci', 'conducta', 'est', 'pretio', 'puella', 'paruo', 'communis', 'satis', 'omnibus', 'futura', 'quae', 'quot', 'nocte', 'uiros', 'peregit', 'una', 'tot', 'uerpas', 'tibi', 'dedicat', 'salignas']\n",
      "25 1112\n",
      "['Pedicabere', 'fur', 'semel', 'sed', 'idem', 'si', 'praedatus', 'eris', 'bis', 'irrumabo']\n",
      "10 1122\n",
      "['et', 'si', 'tertia', 'furta', 'molieris', 'ut', 'poenam', 'patiare', 'et', 'hanc', 'et', 'illam', 'pedicaberis', 'irrumaberisque']\n",
      "14 1136\n",
      "['Notas', 'habemus', 'quisque', 'corporis', 'formas', 'Phoebus', 'comosus', 'Hercules', 'lacertosus', 'trahit', 'figuram', 'uirginis', 'tener', 'Bacchus', 'Minerua', 'rauo', 'lumine', 'est', 'Uenus', 'paeto', 'Frontem', 'caprinos', 'Arcadas', 'uides', 'Faunos', 'habet', 'decentes', 'nuntius', 'deum', 'plantas', 'tutela', 'Lemni', 'dispares', 'mouet', 'gressus', 'intonsa', 'semper', 'Aesculapio', 'barba', 'est', 'nemo', 'est', 'feroci', 'pectorosior', 'Marte', 'quod', 'si', 'quis', 'inter', 'hos', 'locus', 'mihi', 'restat', 'deus', 'Priapo', 'mentulatior', 'non', 'est']\n",
      "58 1194\n",
      "['Cur', 'pictum', 'memori', 'sit', 'in', 'tabella', 'membrum', 'quaeritis', 'unde', 'procreamur']\n",
      "10 1204\n",
      "['cum', 'penis', 'mihi', 'forte', 'laesus', 'esset', 'chirurgique', 'manum', 'miser', 'timerem', 'dis', 'me', 'legitimis', 'nimisque', 'magnis', 'ut', 'Phoebo', 'puta', 'filioque', 'Phoebi', 'Curandam', 'dare', 'mentulam', 'uerebar']\n",
      "24 1228\n",
      "['huic', 'dixi', 'fer', 'opem', 'Priape', 'parti', 'cuius', 'tu', 'pater', 'ipse', 'pars', 'uideris', 'qua', 'salua', 'sine', 'sectione', 'facta', 'ponetur', 'tibi', 'picta', 'quam', 'leuaris', 'par', 'uel', 'consimilisque', 'concolorque']\n",
      "26 1254\n",
      "['promisit', 'fore', 'mentulamque', 'mouit', 'pro', 'nutu', 'deus', 'et', 'rogata', 'fecit']\n",
      "10 1264\n",
      "['Simpliciter', 'tibi', 'me', 'quodcumque', 'est', 'dicere', 'oportet', 'natura', 'est', 'quoniam', 'semper', 'aperta', 'mihi', 'pedicare', 'uolo', 'tu', 'uis', 'decerpere', 'poma', 'quod', 'peto', 'si', 'dederis', 'quod', 'petis', 'accipies']\n",
      "26 1290\n",
      "['Forma', 'Mercurius', 'potest', 'placere', 'forma', 'conspiciendus', 'est', 'Apollo', 'formosus', 'quoque', 'pingitur', 'Lyaeus', 'formosissimus', 'omnium', 'est', 'Cupido']\n",
      "16 1306\n",
      "['me', 'pulcra', 'fateor', 'carere', 'forma', 'uerum', 'mentula', 'luculenta', 'nostra', 'est', 'hanc', 'mauult', 'sibi', 'quam', 'deos', 'priores', 'si', 'qua', 'est', 'non', 'fatui', 'puella', 'cunni']\n",
      "23 1329\n",
      "['Nota', 'Suburanas', 'inter', 'Telethusa', 'puellas', 'quae', 'puto', 'de', 'quaestu', 'libera', 'facta', 'suo', 'est', 'cingit', 'inaurata', 'penem', 'tibi', 'sancte', 'corona', 'hunc', 'pathicae', 'summi', 'numinis', 'instar', 'habent']\n",
      "25 1354\n",
      "['Quisquis', 'uenerit', 'huc', 'poeta', 'fiat', 'et', 'uersus', 'mihi', 'dedicet', 'iocosos']\n",
      "10 1364\n",
      "['qui', 'non', 'fecerit', 'inter', 'eruditos', 'ficosissimus', 'ambulet', 'poetas']\n",
      "8 1372\n",
      "['Laetus', 'Aristagoras', 'natis', 'bene', 'uilicus', 'uuis', 'de', 'cera', 'ficta', 'dat', 'tibi', 'poma', 'deus']\n",
      "13 1385\n",
      "['at', 'tu', 'sacrati', 'contentus', 'imagine', 'pomi', 'fac', 'ueros', 'fructus', 'ille', 'Priape', 'ferat']\n",
      "12 1397\n",
      "['uelle', 'quid', 'hanc', 'dicas', 'quamuis', 'sim', 'ligneus', 'hastam', 'oscula', 'dat', 'medio', 'si', 'qua', 'puella', 'mihi']\n",
      "15 1412\n",
      "['augure', 'non', 'opus', 'est', 'in', 'me', 'mihi', 'credite', 'dixit', 'Utetur', 'ueris', 'usibus', 'hasta', 'rudis']\n",
      "14 1426\n",
      "['Nolite', 'omnia', 'quae', 'loquor', 'putare', 'per', 'lusum', 'mihi', 'per', 'iocumque', 'dici']\n",
      "11 1437\n",
      "['deprensos', 'ego', 'ter', 'quaterque', 'fures', 'omnes', 'ne', 'dubitetis', 'irrumabo']\n",
      "9 1446\n",
      "['Cum', 'quendam', 'rigidus', 'deus', 'uideret', 'feruenti', 'caput', 'ustulare', 'ferro', 'ut', 'Maurae', 'similis', 'foret', 'puellae', 'heus', 'inquit', 'tibi', 'dicimus', 'cinaede', 'uras', 'te', 'licet', 'usque', 'torqueasque', 'num', 'tandem', 'prior', 'es', 'puella', 'quaeso', 'quam', 'sunt', 'mentula', 'quos', 'habet', 'capilli']\n",
      "36 1482\n",
      "['O', 'non', 'candidior', 'puella', 'Mauro', 'sed', 'morbosior', 'omnibus', 'cinaedis', 'Pygmaeo', 'breuior', 'gruem', 'timenti', 'ursis', 'asperior', 'pilosiorque', 'Medis', 'laxior', 'Indicisue', 'bracis', 'manes', 'hinc', 'licet', 'ut', 'libenter', 'ires']\n",
      "26 1508\n",
      "['nam', 'quamuis', 'uidear', 'satis', 'paratus', 'erucarum', 'opus', 'est', 'decem', 'maniplis', 'fossas', 'inguinis', 'ut', 'teram', 'dolemque', 'cunni', 'uermiculos', 'scaturrientis']\n",
      "18 1526\n",
      "['Quicumque', 'uestrum', 'qui', 'uenitis', 'ad', 'cenam', 'libare', 'nullos', 'sustinet', 'mihi', 'uersus', 'illius', 'uxor', 'aut', 'amica', 'riualem', 'lasciuiendo', 'languidum', 'precor', 'reddat', 'et', 'ipse', 'longa', 'nocte', 'dormiat', 'solus', 'libidinosis', 'incitatus', 'erucis']\n",
      "29 1555\n",
      "['Quod', 'partem', 'madidam', 'mei', 'uidetis', 'per', 'quam', 'significor', 'Priapus', 'esse', 'non', 'ros', 'est', 'mihi', 'crede', 'nec', 'pruina', 'sed', 'quod', 'sponte', 'sua', 'solet', 'remitti', 'cum', 'mens', 'est', 'pathicae', 'memor', 'puellae']\n",
      "29 1584\n",
      "['Tu', 'quicumque', 'uides', 'circa', 'tectoria', 'nostra', 'non', 'nimium', 'casti', 'carmina', 'plena', 'ioci', 'uersibus', 'obscenis', 'offendi', 'desine', 'non', 'est', 'mentula', 'subducti', 'nostra', 'supercilii']\n",
      "22 1606\n",
      "['Quaedam', 'si', 'placet', 'hoc', 'tibi', 'Priape', 'fucosissima', 'me', 'puella', 'ludit', 'et', 'nec', 'dat', 'mihi', 'nec', 'negat', 'daturam', 'causas', 'inuenit', 'usque', 'differendi']\n",
      "21 1627\n",
      "['quae', 'si', 'contigerit', 'fruenda', 'nobis', 'totam', 'comparibus', 'Priape', 'nostris', 'cingemus', 'tibi', 'mentulam', 'coronis']\n",
      "13 1640\n",
      "['Quid', 'hoc', 'negoti', 'est', 'quaue', 'suspicer', 'causa', 'uenire', 'in', 'hortum', 'plurimos', 'meum', 'fures', 'cum', 'quisquis', 'in', 'nos', 'incidit', 'luat', 'poenas', 'et', 'usque', 'curuos', 'excauetur', 'ad', 'lumbos']\n",
      "26 1666\n",
      "['non', 'ficus', 'hic', 'est', 'praeferenda', 'uicinae', 'uuaeque', 'quales', 'flaua', 'legit', 'Arete', 'non', 'mala', 'truncis', 'adserenda', 'Picenis', 'pirumue', 'tanto', 'quod', 'periculo', 'captes', 'magisque', 'cera', 'luteum', 'noua', 'prunum', 'sorbumue', 'uentres', 'lubricos', 'moraturum']\n",
      "30 1696\n",
      "['praesigne', 'rami', 'nec', 'mei', 'ferunt', 'morum', 'nucemue', 'longam', 'quae', 'uocatur', 'Albana', 'amygdalumue', 'flore', 'purpureo', 'fulgens']\n",
      "15 1711\n",
      "['non', 'brassicarum', 'ferre', 'glorior', 'caules', 'betasue', 'quantas', 'hortus', 'educat', 'nullus', 'crescensue', 'semper', 'in', 'suum', 'caput', 'porrum']\n",
      "16 1727\n",
      "['nec', 'seminosas', 'ad', 'cucurbitas', 'quemquam', 'ad', 'ocimumue', 'cucumeresque', 'humi', 'fusos', 'uenire', 'credo', 'sessilesue', 'lactucas', 'acresque', 'cepas', 'aliumque', 'furatum', 'nec', 'ut', 'salaces', 'nocte', 'tollat', 'erucas', 'mentamque', 'olentem', 'cum', 'salubribus', 'rutis']\n",
      "29 1756\n",
      "['quae', 'cuncta', 'quamuis', 'nostro', 'habemus', 'in', 'saepto', 'non', 'pauciora', 'proximi', 'ferunt', 'horti']\n",
      "12 1768\n",
      "['quibus', 'relictis', 'in', 'mihi', 'laboratum', 'locum', 'uenitis', 'improbissimi', 'fures', 'nimirum', 'apertam', 'conuolatis', 'ad', 'poenam', 'et', 'uos', 'id', 'ipsum', 'quod', 'minamur', 'inuitat']\n",
      "21 1789\n",
      "['Heus', 'tu', 'non', 'bene', 'qui', 'manum', 'rapacem', 'mandato', 'mihi', 'contines', 'ab', 'horto', 'iam', 'primum', 'stator', 'hic', 'libidinosus', 'alternis', 'et', 'eundo', 'et', 'exeundo', 'porta', 'te', 'faciet', 'patentiorem']\n",
      "26 1815\n",
      "['accedent', 'duo', 'qui', 'latus', 'tuentur', 'pulchre', 'pensilibus', 'peculiati', 'qui', 'cum', 'te', 'male', 'foderint', 'iacentem', 'ad', 'partes', 'ueniet', 'salax', 'asellus', 'et', 'nil', 'deterius', 'mutuniatus']\n",
      "23 1838\n",
      "['quare', 'qui', 'sapiet', 'malus', 'cauebit', 'cum', 'tantum', 'sciat', 'esse', 'mentularum']\n",
      "10 1848\n",
      "['Contentus', 'modico', 'Bacchus', 'solet', 'esse', 'racemo', 'cum', 'capiant', 'alti', 'uix', 'cita', 'musta', 'lacus', 'magnaque', 'fecundis', 'cum', 'messibus', 'area', 'desit', 'in', 'Cereris', 'crines', 'una', 'corona', 'datur']\n",
      "25 1873\n",
      "['tu', 'quoque', 'diue', 'minor', 'maiorum', 'exempla', 'secutus', 'quamuis', 'pauca', 'damus', 'consule', 'poma', 'boni']\n",
      "13 1886\n",
      "['CD', 'si', 'scribas', 'temonemque', 'insuper', 'addas', 'qui', 'medium', 'uult', 'te', 'scindere', 'pictus', 'erit']\n",
      "13 1899\n",
      "['Credere', 'quis', 'possit']\n",
      "3 1902\n",
      "['falcem', 'quoque', 'turpe', 'fateri', 'de', 'digitis', 'fures', 'subripuere', 'meis']\n",
      "9 1911\n",
      "['nec', 'mouet', 'amissi', 'tam', 'me', 'iactura', 'pudorque', 'quam', 'praebent', 'iustos', 'altera', 'tela', 'metus', 'quae', 'si', 'perdidero', 'patria', 'mutabor', 'et', 'olim', 'ille', 'tuus', 'ciuis', 'Lampsace', 'Gallus', 'ero']\n",
      "26 1937\n",
      "['Derides', 'quoque', 'fur', 'et', 'impudicum', 'ostendis', 'digitum', 'mihi', 'minanti']\n",
      "9 1946\n",
      "['eheu', 'me', 'miserum', 'quod', 'ista', 'lignum', 'est', 'quae', 'me', 'terribilem', 'facit', 'uideri']\n",
      "12 1958\n",
      "['mandabo', 'domino', 'tamen', 'salaci', 'ut', 'pro', 'me', 'uelit', 'irrumare', 'fures']\n",
      "10 1968\n",
      "['Cornix', 'et', 'caries', 'uetusque', 'bustum', 'turba', 'putida', 'facta', 'saeculorum', 'quae', 'forsan', 'potuisset', 'esse', 'nutrix', 'Tithoni', 'Priamique', 'Nestorisque', 'illis', 'ni', 'pueris', 'anus', 'fuisset', 'ne', 'desit', 'sibi', 'me', 'rogat', 'fututor']\n",
      "28 1996\n",
      "['quid', 'si', 'nunc', 'roget', 'ut', 'puella', 'fiat']\n",
      "7 2003\n",
      "['si', 'nummos', 'tamen', 'haec', 'habet', 'puella', 'est']\n",
      "7 2010\n",
      "['Quicumque', 'nostram', 'fur', 'fefellerit', 'curam', 'effeminato', 'uerminet', 'procul', 'culo', 'quaeque', 'hic', 'proterua', 'carpserit', 'manu', 'poma', 'puella', 'nullum', 'reperiat', 'fututorem']\n",
      "19 2029\n",
      "['Praedictum', 'tibi', 'ne', 'negare', 'possis', 'si', 'fur', 'ueneris', 'inpudicus', 'exis']\n",
      "10 2039\n",
      "['Si', 'quot', 'habes', 'uersus', 'tot', 'haberes', 'poma', 'Priape', 'esses', 'antiquo', 'ditior', 'Alcinoo']\n",
      "12 2051\n",
      "['Quid', 'frustra', 'quereris', 'colone', 'cum', 'me', 'quod', 'quondam', 'bene', 'fructuosa', 'malus', 'autumnis', 'sterilis', 'duobus', 'adstem']\n",
      "15 2066\n",
      "['non', 'me', 'praegrauat', 'ut', 'putas', 'senectus', 'nec', 'sum', 'grandine', 'uerberata', 'dura', 'nec', 'gemmas', 'modo', 'germine', 'exeuntes', 'seri', 'frigoris', 'ustulauit', 'aura', 'nec', 'uenti', 'pluuiaeue', 'siccitasue', 'quod', 'de', 'se', 'quererer', 'malum', 'dederunt', 'non', 'sturnus', 'mihi', 'graculusue', 'raptor', 'aut', 'cornix', 'anus', 'aut', 'aquosus', 'anser', 'aut', 'coruus', 'nocuit', 'siticulosus', 'sed', 'quod', 'carmina', 'pessimi', 'poetae', 'ramis', 'sustineo', 'laboriosis']\n",
      "53 2119\n",
      "['Securi', 'dormite', 'canes', 'custodiet', 'hortum', 'cum', 'sibi', 'dilecta', 'Sirius', 'Erigone']\n",
      "10 2129\n",
      "['Parum', 'est', 'quod', 'hic', 'ut', 'fiximus', 'semel', 'sedem', 'agente', 'terra', 'per', 'caniculam', 'rimas', 'siticulosam', 'sustinemus', 'aestatem', 'parum', 'quod', 'imos', 'perfluunt', 'sinus', 'imbres', 'et', 'in', 'capillos', 'grandines', 'cadunt', 'nostros', 'rigetque', 'dura', 'barba', 'uincta', 'crystallo', 'parum', 'quod', 'acta', 'sub', 'laboribus', 'luce', 'parem', 'diebus', 'peruigil', 'traho', 'noctem']\n",
      "44 2173\n",
      "['huc', 'adde', 'quod', 'me', 'fuste', 'de', 'rudi', 'uilem', 'manus', 'sine', 'arte', 'rusticae', 'dolauerunt', 'interque', 'cunctos', 'ultimum', 'deos', 'numen', 'cucurbitarum', 'ligneus', 'uocor', 'custos']\n",
      "22 2195\n",
      "['accedit', 'istis', 'impudentiae', 'signum', 'libidinoso', 'tenta', 'pyramis', 'neruo']\n",
      "8 2203\n",
      "['ad', 'hoc', 'puella', 'paene', 'nomen', 'adieci', 'solet', 'uenire', 'cum', 'suo', 'fututore', 'quae', 'tot', 'figuras', 'quot', 'Philaenis', 'enarrat', 'Commenta', 'bis', 'pruriginosa', 'discedit']\n",
      "21 2224\n",
      "['Quidam', 'mollior', 'anseris', 'medulla', 'furatum', 'uenit', 'huc', 'amore', 'poenae', 'furetur', 'licet', 'usque', 'non', 'uidebo']\n",
      "14 2238\n",
      "['Hic', 'tibi', 'qui', 'rostro', 'crescentia', 'lilia', 'mersit', 'caeditur', 'e', 'tepida', 'uictima', 'porcus', 'hara', 'ne', 'tamen', 'exanimum', 'facias', 'pecus', 'omne', 'Priape', 'horti', 'sit', 'facias', 'ianua', 'clausa', 'tui']\n",
      "26 2264\n",
      "['Tu', 'quae', 'ne', 'uideas', 'notam', 'uirilem', 'hinc', 'auerteris', 'ut', 'decet', 'pudicam', 'nimirum', 'nisi', 'quod', 'times', 'uideri', 'intra', 'uiscera', 'habere', 'concupiscis']\n",
      "20 2284\n",
      "['Penelopes', 'primam', 'Didonis', 'prima', 'sequatur', 'et', 'primam', 'Cadmi', 'syllaba', 'prima', 'Remi', 'quodque', 'fit', 'ex', 'illis', 'tu', 'mi', 'deprensus', 'in', 'horto', 'fur', 'dabis', 'hac', 'poena', 'culpa', 'luenda', 'tua', 'est']\n",
      "28 2312\n",
      "['Rusticus', 'indocte', 'si', 'quid', 'dixisse', 'uidebor', 'da', 'ueniam', 'libros', 'non', 'lego', 'poma', 'lego']\n",
      "13 2325\n",
      "['sed', 'rudis', 'hic', 'dominum', 'totiens', 'audire', 'legentem', 'cogor', 'Homeriacas', 'edidicique', 'notas']\n",
      "11 2336\n",
      "['ille', 'uocat', 'quod', 'nos', 'psolen', 'Ψολόεντα', 'κεραυνόν', 'et', 'quod', 'nos', 'culum', 'κουλεόν', 'ille', 'uocat']\n",
      "14 2350\n",
      "['Μερδαλέον', 'certe', 'quasi', 'res', 'non', 'munda', 'uocatur', 'et', 'pediconum', 'mentula', 'merdalea', 'est']\n",
      "12 2362\n",
      "['Qui', 'nisi', 'Taenario', 'placuisset', 'Troica', 'cunno', 'mentula', 'quod', 'caneret', 'non', 'habuisset', 'opus']\n",
      "12 2374\n",
      "['mentula', 'Tantalidae', 'bene', 'si', 'non', 'mota', 'fuisset', 'nil', 'senior', 'Chryses', 'quod', 'quereretur', 'erat']\n",
      "13 2387\n",
      "['haec', 'eadem', 'socium', 'tenera', 'spoliauit', 'amica', 'quaeque', 'erat', 'Aeacidae', 'maluit', 'esse', 'suam']\n",
      "12 2399\n",
      "['ille', 'Pelethroniam', 'cecinit', 'miserabile', 'carmen', 'ad', 'citharam', 'cithara', 'tensior', 'ipse', 'sua']\n",
      "11 2410\n",
      "['nobilis', 'hinc', 'nata', 'nempe', 'incipit', 'Ilias', 'ira', 'principium', 'sacri', 'carminis', 'fuit']\n",
      "11 2421\n",
      "['altera', 'materia', 'est', 'error', 'fallentis', 'Ulixei', 'si', 'uerum', 'quaeras', 'hunc', 'quoque', 'mouit', 'amor']\n",
      "13 2434\n",
      "['hic', 'legitur', 'radix', 'de', 'qua', 'flos', 'aureus', 'exit', 'quam', 'cum', 'μῶλυ', 'uocat', 'mentula', 'μῶλυ', 'fuit']\n",
      "15 2449\n",
      "['hic', 'legimus', 'Circen', 'Atlantiademque', 'Calypson', 'grandia', 'Dulichii', 'uasa', 'petisse', 'uiri']\n",
      "10 2459\n",
      "['huius', 'et', 'Alcinoi', 'mirata', 'est', 'filia', 'membrum', 'frondenti', 'ramo', 'uix', 'potuisse', 'tegi']\n",
      "12 2471\n",
      "['ad', 'uetulam', 'tamen', 'ille', 'suam', 'properabat', 'et', 'omnis', 'mens', 'erat', 'in', 'cunno', 'Penelopea', 'tuo', 'quae', 'sic', 'casta', 'manes', 'ut', 'iam', 'conuiuia', 'uisas', 'utque', 'fututorum', 'sit', 'tua', 'plena', 'domus']\n",
      "28 2499\n",
      "['e', 'quibus', 'ut', 'scires', 'quicumque', 'ualentior', 'esset', 'haec', 'es', 'ad', 'arrectos', 'uerba', 'locuta', 'procos', 'nemo', 'meo', 'melius', 'neruum', 'tendebat', 'Ulixe', 'siue', 'illi', 'laterum', 'siue', 'erat', 'artis', 'opus']\n",
      "27 2526\n",
      "['qui', 'quoniam', 'periit', 'uos', 'nunc', 'intendite', 'quemquem', 'esse', 'uirum', 'sciero', 'uir', 'sit', 'ut', 'ille', 'meus']\n",
      "15 2541\n",
      "['hac', 'ego', 'Penelope', 'potui', 'tibi', 'lege', 'placere', 'illo', 'sed', 'nondum', 'tempore', 'natus', 'eram']\n",
      "13 2554\n",
      "['Cum', 'fici', 'tibi', 'suauitas', 'subibit', 'et', 'iam', 'porrigere', 'huc', 'manum', 'libebit', 'ad', 'me', 'respice', 'fur', 'et', 'aestimato', 'quot', 'pondo', 'est', 'tibi', 'mentulam', 'cacandum']\n",
      "23 2577\n",
      "['Illusit', 'mihi', 'pauper', 'inquilinus', 'cum', 'ferctum', 'dederat', 'molamque', 'tusam', 'quorum', 'partibus', 'additis', 'in', 'inguen', 'sacro', 'protinus', 'hinc', 'abit', 'peracto']\n",
      "19 2596\n",
      "['uicini', 'canis', 'huc', 'subinde', 'uenit', 'nidorem', 'puto', 'persecuta', 'fumi', 'quae', 'libamine', 'mentulae', 'comeso', 'tota', 'nocte', 'mihi', 'litat', 'rigando']\n",
      "18 2614\n",
      "['at', 'uos', 'amplius', 'hoc', 'loco', 'cauete', 'quicquam', 'ponere', 'ne', 'famelicarum', 'ad', 'me', 'turba', 'uelit', 'canum', 'uenire', 'ne', 'dum', 'me', 'colitis', 'meumque', 'numen', 'custodes', 'habeatis', 'irrumatos']\n",
      "25 2639\n",
      "['Si', 'commissa', 'meae', 'carpes', 'pomaria', 'curae', 'dulcia', 'quid', 'doleam', 'perdere', 'doctus', 'eris']\n",
      "12 2651\n",
      "['Tutelam', 'pomarii', 'diligens', 'Priape', 'facito', 'rubricato', 'furibus', 'minare', 'mutinio']\n",
      "9 2660\n",
      "['Quod', 'mouear', 'non', 'est', 'quia', 'si', 'furaberis', 'ipse', 'grandia', 'mala', 'tibi', 'brachia', 'macra', 'dabo']\n",
      "14 2674\n",
      "['Obliquis', 'quid', 'me', 'pathicae', 'spectatis', 'ocellis']\n",
      "6 2680\n",
      "['non', 'stat', 'in', 'inguinibus', 'mentula', 'tenta', 'meis']\n",
      "7 2687\n",
      "['quae', 'tamen', 'exanimis', 'nunc', 'est', 'et', 'inutile', 'lignum', 'utilis', 'haec', 'aram', 'si', 'dederitis', 'erit']\n",
      "14 2701\n",
      "['Per', 'medios', 'ibit', 'pueros', 'mediasque', 'puellas', 'mentula', 'barbatis', 'non', 'nisi', 'summa', 'petet']\n",
      "12 2713\n",
      "['Dodone', 'tibi', 'Iuppiter', 'sacrata', 'est', 'Iunoni', 'Samos', 'et', 'Mycena', 'dites', 'undae', 'Taenaros', 'aequorumque', 'regi', 'Pallas', 'Cecropias', 'tuetur', 'arces', 'Delphos', 'Pythius', 'orbis', 'umbilicum', 'Creten', 'Delia', 'Cynthiosque', 'colles', 'Faunus', 'Maenalon', 'Arcadumque', 'siluas', 'tutela', 'Rhodos', 'est', 'beata', 'Solis', 'Gades', 'Herculis', 'umidumque', 'Tibur', 'Cyllene', 'celeri', 'deo', 'niuosa', 'tardo', 'gratior', 'aestuosa', 'Lemnos', 'Hennaeae', 'Cererem', 'nurus', 'frequentant', 'raptam', 'Cyzicos', 'ostreosa', 'diuam', 'formosam', 'uenerem', 'Gnidos', 'Paphosque', 'mortales', 'tibi', 'Lampsacum', 'dicarunt']\n",
      "63 2776\n",
      "['Quod', 'sim', 'iam', 'senior', 'meumque', 'canis', 'Cum', 'barba', 'caput', 'albicet', 'capillis', 'Deprensos', 'ego', 'perforare', 'possum', 'Tithonum', 'Priamumque', 'Nestoremque']\n",
      "18 2794\n",
      "['Inmanem', 'stomachum', 'mihi', 'cietis', 'qui', 'densam', 'facitis', 'subinde', 'saepem', 'et', 'fures', 'prohibetis', 'huc', 'adire']\n",
      "14 2808\n",
      "['hoc', 'est', 'laedere', 'dum', 'iuuatis', 'hoc', 'est', 'non', 'admittere', 'ad', 'aucupem', 'uolucres']\n",
      "12 2820\n",
      "['obstructa', 'est', 'uia', 'nec', 'licet', 'iacenti', 'iactura', 'natis', 'expiare', 'culpam']\n",
      "10 2830\n",
      "['ergo', 'qui', 'prius', 'usque', 'et', 'usque', 'et', 'usque', 'furum', 'scindere', 'podices', 'solebam', 'per', 'noctes', 'aliquot', 'diesque', 'cesso']\n",
      "17 2847\n",
      "['poenas', 'do', 'quoque', 'quot', 'satis', 'superque', 'est', 'in', 'semenque', 'abeo', 'salaxque', 'quondam', 'nunc', 'uitam', 'perago', 'quis', 'hoc', 'putaret']\n",
      "18 2865\n",
      "['ut', 'clusus', 'citharoedus', 'abstinacem']\n",
      "4 2869\n",
      "['at', 'uos', 'ne', 'peream', 'situ', 'senili', 'quaeso', 'desinite', 'esse', 'diligentes', 'neue', 'inponite', 'fibulam', 'Priapo']\n",
      "14 2883\n"
     ]
    }
   ],
   "source": [
    "TOKENS = [\n",
    "    [x[\"form\"] for x in sentence]\n",
    "    for sentence in GOLD\n",
    "]\n",
    "nb = 0\n",
    "for sent in TOKENS:\n",
    "    print(sent)\n",
    "    nb += len(sent)\n",
    "    print(len(sent), nb)"
   ]
  },
  {
   "cell_type": "markdown",
   "metadata": {},
   "source": [
    "## Test"
   ]
  },
  {
   "cell_type": "code",
   "execution_count": 22,
   "metadata": {},
   "outputs": [
    {
     "name": "stderr",
     "output_type": "stream",
     "text": [
      "2it [00:04,  2.09s/it]\n"
     ]
    }
   ],
   "source": [
    "from pie.tagger import Tagger\n",
    "from pie.utils import chunks\n",
    "DEVICE = \"cpu\"\n",
    "BATCH_SIZE = 128\n",
    "\n",
    "\n",
    "OUTPUT = []\n",
    "MODEL_PATH = \"../../../latin-lasla-models/model.tar\"\n",
    "\n",
    "tagger = Tagger(device=\"cpu\", batch_size=100, lower=False, tokenize=False)\n",
    "tagger.add_model(MODEL_PATH, *TASKS)\n",
    "\n",
    "\n",
    "for chunk in tqdm(chunks([(sent, len(sent)) for sent in TOKENS], tagger.batch_size)):\n",
    "    tagged, tasks = tagger.tag(*zip(*chunk))#, use_beam=True)\n",
    "    OUTPUT.extend([\n",
    "        [\n",
    "            (token, dict(zip(tasks, result)))\n",
    "            for token, result in sentence\n",
    "        ]\n",
    "        for sentence in tagged\n",
    "    ])"
   ]
  },
  {
   "cell_type": "markdown",
   "metadata": {},
   "source": [
    "## Evaluation"
   ]
  },
  {
   "cell_type": "code",
   "execution_count": 23,
   "metadata": {},
   "outputs": [],
   "source": [
    "from collections import defaultdict, Counter\n",
    "RESULTS = []\n",
    "RAW_SCORES = {\n",
    "    task: ([], []) # Pred, Truth\n",
    "    for task in TASKS\n",
    "}\n",
    "RAW_SCORES_NOT_EMPTY = {\n",
    "    task: ([], []) # Pred, Truth\n",
    "    for task in TASKS\n",
    "}\n",
    "ERRORS = {\n",
    "    task: defaultdict(lambda: defaultdict(Counter))#{truth: {pred: {token: int}} # (token, pred, truth)\n",
    "    for task in tasks\n",
    "}\n",
    "for p_sent, t_sent in zip(OUTPUT, GOLD):\n",
    "    score_sentence = []\n",
    "    for (_, p_tags), (t_tags) in zip(p_sent, t_sent):\n",
    "        token = t_tags[\"form\"]\n",
    "        p_tags[\"lemma\"] = p_tags[\"lemma\"]#.lower()\n",
    "        score_sentence.append((\n",
    "            p_tags,\n",
    "            t_tags,\n",
    "            {task: p_tags[task] == t_tags[task] for task in TASKS}\n",
    "        ))\n",
    "        for task in tasks:\n",
    "            RAW_SCORES[task][0].append(p_tags[task])\n",
    "            RAW_SCORES[task][1].append(t_tags[task])\n",
    "            if t_tags[task] != \"_\":\n",
    "                RAW_SCORES_NOT_EMPTY[task][0].append(p_tags[task])\n",
    "                RAW_SCORES_NOT_EMPTY[task][1].append(t_tags[task])\n",
    "            if t_tags[task] != p_tags[task]:\n",
    "                ERRORS[task][t_tags[task]][p_tags[task]][token] += 1\n",
    "    RESULTS.append(score_sentence)"
   ]
  },
  {
   "cell_type": "code",
   "execution_count": 24,
   "metadata": {},
   "outputs": [
    {
     "name": "stdout",
     "output_type": "stream",
     "text": [
      "----------------  --------  ------------------\n",
      "Task              Accuracy  Accuracy on V != _\n",
      "lemma             0.940     0.940\n",
      "Deg               0.966     0.900\n",
      "Numb              0.944     0.941\n",
      "Person            0.990     0.961\n",
      "Mood_Tense_Voice  0.961     0.871\n",
      "Case              0.892     0.840\n",
      "Gend              0.916     0.780\n",
      "pos               0.947     0.947\n",
      "----------------  --------  ------------------\n"
     ]
    }
   ],
   "source": [
    "from sklearn.metrics import accuracy_score, precision_recall_fscore_support\n",
    "from tabulate import tabulate\n",
    "\n",
    "data = [[\"Task\", \"Accuracy\", \"Accuracy on V != _\"]]\n",
    "\n",
    "\n",
    "for task, (pred, truth) in RAW_SCORES.items():\n",
    "    (pred_limited, truth_limited) = RAW_SCORES_NOT_EMPTY[task]\n",
    "    data.append([\n",
    "        task,\n",
    "        \"{0:.3f}\".format(accuracy_score(truth, pred)),\n",
    "        \"{0:.3f}\".format(accuracy_score(pred_limited, truth_limited))\n",
    "    ])\n",
    "print(tabulate(data))"
   ]
  },
  {
   "cell_type": "markdown",
   "metadata": {},
   "source": [
    "```\n",
    "----------------  --------  ------------------\n",
    "Task              Accuracy  Accuracy on V != _\n",
    "lemma             0.92      0.92\n",
    "Deg               0.96      0.90\n",
    "Numb              0.94      0.94\n",
    "Person            0.99      0.97\n",
    "Mood_Tense_Voice  0.96      0.87\n",
    "Case              0.88      0.81\n",
    "Gend              0.92      0.81\n",
    "pos               0.93      0.93\n",
    "----------------  --------  ------------------\n",
    "```"
   ]
  },
  {
   "cell_type": "code",
   "execution_count": 25,
   "metadata": {},
   "outputs": [],
   "source": [
    "ERRORS[\"lemma\"]\n",
    "\n",
    "with open(\"1.4.X-Priapees-Lemma-Confusion.tsv\", \"w\") as f:\n",
    "    f.write(\"lemma\\tprediction\\ttoken\\tnumber\\n\")\n",
    "    for lemma in ERRORS[\"lemma\"]:\n",
    "        for pred in ERRORS[\"lemma\"][lemma]:\n",
    "            for token, count in ERRORS[\"lemma\"][lemma][pred].items():\n",
    "                f.write(f\"{lemma}\\t{pred}\\t{token}\\t{count}\\n\")"
   ]
  },
  {
   "cell_type": "markdown",
   "metadata": {},
   "source": [
    "## Visualisation sur le corpus"
   ]
  },
  {
   "cell_type": "code",
   "execution_count": 26,
   "metadata": {},
   "outputs": [],
   "source": [
    "from math import ceil\n",
    "def chunks(lst, n):\n",
    "    \"\"\"Yield successive n-sized chunks from lst.\"\"\"\n",
    "    for i in range(0, len(lst), n):\n",
    "        yield lst[i:i + n]\n",
    "\n",
    "# Compute the accuracy on splits\n",
    "        \n",
    "SPLITS_TASK = {\n",
    "    task: []\n",
    "    for task in RAW_SCORES\n",
    "}\n",
    "SPLITS_TASK[\"size\"] = []\n",
    "DIVIDE_BY = round(sum([len(x) for x in GOLD]) / 20) # 5%\n",
    "\n",
    "lengths = []\n",
    "support_done = False\n",
    "for task, (pred, truth) in RAW_SCORES.items():\n",
    "    ms_start = 0\n",
    "    for milestone in MILESTONES:\n",
    "        SPLITS_TASK[task].append(accuracy_score(truth[ms_start:milestone], pred[ms_start:milestone]))\n",
    "        length = milestone - ms_start + 1\n",
    "        if not support_done:\n",
    "            SPLITS_TASK[\"size\"].append(length)\n",
    "        ms_start = milestone\n",
    "    support_done = True\n",
    "        "
   ]
  },
  {
   "cell_type": "code",
   "execution_count": 27,
   "metadata": {},
   "outputs": [
    {
     "data": {
      "image/png": "[encoded data removed]",
      "text/plain": [
       "<matplotlib.figure.Figure at 0x7f622f9af908>"
      ]
     },
     "metadata": {
      "needs_background": "light"
     },
     "output_type": "display_data"
    }
   ],
   "source": [
    "from pandas import DataFrame\n",
    "import seaborn as sns\n",
    "import matplotlib.pyplot as plt\n",
    "%matplotlib inline\n",
    "\n",
    "DF_PRIAPEES = DataFrame(SPLITS_TASK, index=list(range(PRIA_START+1, PRIA_END+2)))\n",
    "DF_PRIAPEES[\"size\"] = DF_PRIAPEES[\"size\"] / sum(DF_PRIAPEES[\"size\"])\n",
    "\n",
    "plt.figure(figsize=(10,10))\n",
    "cmap = sns.cubehelix_palette(250, hue=0.05, rot=0, light=1, dark=0, as_cmap=True)\n",
    "ax = sns.heatmap(DF_PRIAPEES, annot=True, cmap=cmap)"
   ]
  },
  {
   "cell_type": "markdown",
   "metadata": {},
   "source": [
    "## Analyse des Priapées en dessous de X %"
   ]
  },
  {
   "cell_type": "code",
   "execution_count": 28,
   "metadata": {
    "scrolled": false
   },
   "outputs": [
    {
     "data": {
      "text/html": [
       "<h2>Priapée 3</h2>\n",
       "    <p>\n",
       "        <small>\n",
       "        <b>Accuracy:</b> 0.956 <br />\n",
       "        <b>Tokens:</b> 68<br />\n",
       "        <b>Errors: </b> 3<br />\n",
       "        <b>1 error =</b> -1.5 % drop in accuracy <br />\n",
       "        <span style='color:green;'>Ground Truth</span> - <span style='color:red;'>Prediction</span>\n",
       "        </small>\n",
       "    </p>\n",
       "    <p><p>Obscure poteram tibi dicere da mihi quod tu des licet assidue nil tamen inde perit da mihi quod cupies frustra dare forsitan olim cum tenet obsessas inuida barba genas <span style='color: red;'>quodque[<span style='color:green;'>quisque</span>,qui界que]</span> Ioui dederat qui raptus ab alite sacra miscet amatori pocula grata suo quod uirgo prima cupido dat nocte marito dum timet alterius uulnus inepta loci <span style='color: red;'>simplicius[<span style='color:green;'>simplex</span>,simpliciter]</span> multo est da pedicare <span style='color: red;'>Latine[<span style='color:green;'>latine</span>,Latinus]</span> dicere quid faciam crassa Minerua mea est</p></p>\n",
       "    "
      ],
      "text/plain": [
       "<IPython.core.display.HTML object>"
      ]
     },
     "metadata": {},
     "output_type": "display_data"
    },
    {
     "data": {
      "text/html": [
       "<h2>Priapée 4</h2>\n",
       "    <p>\n",
       "        <small>\n",
       "        <b>Accuracy:</b> 0.947 <br />\n",
       "        <b>Tokens:</b> 19<br />\n",
       "        <b>Errors: </b> 1<br />\n",
       "        <b>1 error =</b> -5.3 % drop in accuracy <br />\n",
       "        <span style='color:green;'>Ground Truth</span> - <span style='color:red;'>Prediction</span>\n",
       "        </small>\n",
       "    </p>\n",
       "    <p><p>Obscenas rigido deo tabellas <span style='color: red;'>ducens[<span style='color:green;'>dico</span>,duco]</span> ex Elephantidos libellis dat donum Lalage rogatque temptes si pictas opus edat ad figuras</p></p>\n",
       "    "
      ],
      "text/plain": [
       "<IPython.core.display.HTML object>"
      ]
     },
     "metadata": {},
     "output_type": "display_data"
    },
    {
     "data": {
      "text/html": [
       "<h2>Priapée 5</h2>\n",
       "    <p>\n",
       "        <small>\n",
       "        <b>Accuracy:</b> 0.885 <br />\n",
       "        <b>Tokens:</b> 26<br />\n",
       "        <b>Errors: </b> 3<br />\n",
       "        <b>1 error =</b> -3.8 % drop in accuracy <br />\n",
       "        <span style='color:green;'>Ground Truth</span> - <span style='color:red;'>Prediction</span>\n",
       "        </small>\n",
       "    </p>\n",
       "    <p><p><span style='color: red;'>Quam[<span style='color:green;'>qui</span>,quam]</span> puero legem fertur dixisse Priapus uersibus haec infra <span style='color: red;'>scripta[<span style='color:green;'>scriptum</span>,scribo]</span> duobus erit <span style='color: red;'>quod[<span style='color:green;'>qui</span>,quod]</span> meus hortus habet sumas impune licebit si dederis nobis quod tuus hortus habet</p></p>\n",
       "    "
      ],
      "text/plain": [
       "<IPython.core.display.HTML object>"
      ]
     },
     "metadata": {},
     "output_type": "display_data"
    },
    {
     "data": {
      "text/html": [
       "<h2>Priapée 6</h2>\n",
       "    <p>\n",
       "        <small>\n",
       "        <b>Accuracy:</b> 0.935 <br />\n",
       "        <b>Tokens:</b> 31<br />\n",
       "        <b>Errors: </b> 2<br />\n",
       "        <b>1 error =</b> -3.2 % drop in accuracy <br />\n",
       "        <span style='color:green;'>Ground Truth</span> - <span style='color:red;'>Prediction</span>\n",
       "        </small>\n",
       "    </p>\n",
       "    <p><p><span style='color: red;'>Qui[<span style='color:green;'>qui</span>,quis]</span> sum ligneus ut uides Priapus et falx lignea ligneusque penis prendam te tamen et tenebo prensum totamque hanc sine fraude <span style='color: red;'>quantacumque[<span style='color:green;'>quantuscumque界que</span>,quantuscumque]</span> est tormento citharaque tensiorem ad costam tibi septimam recondam</p></p>\n",
       "    "
      ],
      "text/plain": [
       "<IPython.core.display.HTML object>"
      ]
     },
     "metadata": {},
     "output_type": "display_data"
    },
    {
     "data": {
      "text/html": [
       "<h2>Priapée 7</h2>\n",
       "    <p>\n",
       "        <small>\n",
       "        <b>Accuracy:</b> 0.929 <br />\n",
       "        <b>Tokens:</b> 14<br />\n",
       "        <b>Errors: </b> 1<br />\n",
       "        <b>1 error =</b> -7.1 % drop in accuracy <br />\n",
       "        <span style='color:green;'>Ground Truth</span> - <span style='color:red;'>Prediction</span>\n",
       "        </small>\n",
       "    </p>\n",
       "    <p><p>Cum loquor una mihi peccatur littera nam te <span style='color: red;'>pedico[<span style='color:green;'>paedico</span>,pedicus]</span> semper blaesaque lingua mihi est</p></p>\n",
       "    "
      ],
      "text/plain": [
       "<IPython.core.display.HTML object>"
      ]
     },
     "metadata": {},
     "output_type": "display_data"
    },
    {
     "data": {
      "text/html": [
       "<h2>Priapée 8</h2>\n",
       "    <p>\n",
       "        <small>\n",
       "        <b>Accuracy:</b> 0.958 <br />\n",
       "        <b>Tokens:</b> 24<br />\n",
       "        <b>Errors: </b> 1<br />\n",
       "        <b>1 error =</b> -4.2 % drop in accuracy <br />\n",
       "        <span style='color:green;'>Ground Truth</span> - <span style='color:red;'>Prediction</span>\n",
       "        </small>\n",
       "    </p>\n",
       "    <p><p>Matronae procul hinc abite castae turpe est uos legere impudica uerba non assis faciunt euntque <span style='color: red;'>recta[<span style='color:green;'>recta</span>,rectum]</span> nimirum sapiunt uidentque magnam matronae quoque mentulam libenter</p></p>\n",
       "    "
      ],
      "text/plain": [
       "<IPython.core.display.HTML object>"
      ]
     },
     "metadata": {},
     "output_type": "display_data"
    },
    {
     "data": {
      "text/html": [
       "<h2>Priapée 9</h2>\n",
       "    <p>\n",
       "        <small>\n",
       "        <b>Accuracy:</b> 0.969 <br />\n",
       "        <b>Tokens:</b> 97<br />\n",
       "        <b>Errors: </b> 3<br />\n",
       "        <b>1 error =</b> -1.0 % drop in accuracy <br />\n",
       "        <span style='color:green;'>Ground Truth</span> - <span style='color:red;'>Prediction</span>\n",
       "        </small>\n",
       "    </p>\n",
       "    <p><p>Cur obscena mihi pars sit sine ueste requiris quaere tegat nullus cur sua tela deus fulmen habet mundi dominus tenet illud aperte nec datur aequoreo fuscina <span style='color: red;'>tecta[<span style='color:green;'>tectus</span>,tectum]</span> deo nec <span style='color: red;'>Mauors[<span style='color:green;'>Mauors</span>,Mars]</span> illum per quem ualet occulit ensem nec latet in tepido Palladis hasta sinu num pudet auratas Phoebum portare sagittas clamne solet pharetram ferre Diana suam num tegit Alcides nodosae robora clauae sub tunica uirgam num deus ales habet quis Bacchum gracili uestem praetendere thyrso quis te celata cum face uidit <span style='color: red;'>Amor[<span style='color:green;'>amor</span>,Amor]</span> nec mihi sit crimen quod mentula semper aperta est hoc mihi si telum desit inermis ero</p></p>\n",
       "    "
      ],
      "text/plain": [
       "<IPython.core.display.HTML object>"
      ]
     },
     "metadata": {},
     "output_type": "display_data"
    },
    {
     "data": {
      "text/html": [
       "<h2>Priapée 11</h2>\n",
       "    <p>\n",
       "        <small>\n",
       "        <b>Accuracy:</b> 0.917 <br />\n",
       "        <b>Tokens:</b> 24<br />\n",
       "        <b>Errors: </b> 2<br />\n",
       "        <b>1 error =</b> -4.2 % drop in accuracy <br />\n",
       "        <span style='color:green;'>Ground Truth</span> - <span style='color:red;'>Prediction</span>\n",
       "        </small>\n",
       "    </p>\n",
       "    <p><p>Ne prendare caue <span style='color: red;'>prenso[<span style='color:green;'>prehenso</span>,prehendo]</span> nec fuste nocebo saeua nec incurua uulnera falce dabo traiectus conto sic extendere <span style='color: red;'>pedali[<span style='color:green;'>pedalis</span>,pedalus]</span> ut culum rugam non habuisse putes</p></p>\n",
       "    "
      ],
      "text/plain": [
       "<IPython.core.display.HTML object>"
      ]
     },
     "metadata": {},
     "output_type": "display_data"
    },
    {
     "data": {
      "text/html": [
       "<h2>Priapée 12</h2>\n",
       "    <p>\n",
       "        <small>\n",
       "        <b>Accuracy:</b> 0.932 <br />\n",
       "        <b>Tokens:</b> 74<br />\n",
       "        <b>Errors: </b> 5<br />\n",
       "        <b>1 error =</b> -1.4 % drop in accuracy <br />\n",
       "        <span style='color:green;'>Ground Truth</span> - <span style='color:red;'>Prediction</span>\n",
       "        </small>\n",
       "    </p>\n",
       "    <p><p>Quaedam iunior Hectoris parente <span style='color: red;'>Cumaeae[<span style='color:green;'>Cumae</span>,Cumaeus]</span> soror ut puto Sibyllae aequalis tibi quam domum reuertens Theseus repperit in rogo iacentem infirmo solet huc gradu uenire rugosasque manus ad astra tollens ne desit sibi mentulam rogare hesterna quoque <span style='color: red;'>luce[<span style='color:green;'>nox</span>,lux]</span> dum precatur dentem de tribus excreauit <span style='color: red;'>unum[<span style='color:green;'>unum</span>,unus]</span> tolle inquam procul ac iube <span style='color: red;'>latere[<span style='color:green;'>lateo</span>,latus]</span> scissa sub tunica stolaque <span style='color: red;'>russa[<span style='color:green;'>russus</span>,russa]</span> ut semper solet et timere lucem qui tanto patet indecens hiatu barbato macer eminente naso ut credas Epicuron oscitari</p></p>\n",
       "    "
      ],
      "text/plain": [
       "<IPython.core.display.HTML object>"
      ]
     },
     "metadata": {},
     "output_type": "display_data"
    },
    {
     "data": {
      "text/html": [
       "<h2>Priapée 14</h2>\n",
       "    <p>\n",
       "        <small>\n",
       "        <b>Accuracy:</b> 0.927 <br />\n",
       "        <b>Tokens:</b> 55<br />\n",
       "        <b>Errors: </b> 4<br />\n",
       "        <b>1 error =</b> -1.8 % drop in accuracy <br />\n",
       "        <span style='color:green;'>Ground Truth</span> - <span style='color:red;'>Prediction</span>\n",
       "        </small>\n",
       "    </p>\n",
       "    <p><p>Huc huc quisquis es in dei salacis deuerti <span style='color: red;'>graue[<span style='color:green;'>graue</span>,grauis]</span> ne puta sacellum et si nocte fuit puella cum te hac re quod metuas adire non est istud caelitibus datur seueris nos uappae sumus et pusilla culti ruris numina nos pudore pulso stamus sub Ioue <span style='color: red;'>coleis[<span style='color:green;'>coleus</span>,colea]</span> <span style='color: red;'>apertis[<span style='color:green;'>apertus</span>,aperio]</span> ergo quilibet huc licebit intret nigra fornicis <span style='color: red;'>oblitus[<span style='color:green;'>oblino</span>,obliuiscor]</span> fauilla</p></p>\n",
       "    "
      ],
      "text/plain": [
       "<IPython.core.display.HTML object>"
      ]
     },
     "metadata": {},
     "output_type": "display_data"
    },
    {
     "data": {
      "text/html": [
       "<h2>Priapée 16</h2>\n",
       "    <p>\n",
       "        <small>\n",
       "        <b>Accuracy:</b> 0.957 <br />\n",
       "        <b>Tokens:</b> 46<br />\n",
       "        <b>Errors: </b> 2<br />\n",
       "        <b>1 error =</b> -2.2 % drop in accuracy <br />\n",
       "        <span style='color:green;'>Ground Truth</span> - <span style='color:red;'>Prediction</span>\n",
       "        </small>\n",
       "    </p>\n",
       "    <p><p>Qualibus Hippomenes rapuit Schoeneida pomis qualibus Hesperidum nobilis hortus erat qualia credibile est spatiantem rure paterno <span style='color: red;'>Nausicam[<span style='color:green;'>Nausicaa</span>,nauseca]</span> pleno saepe tulisse sinu quale fuit malum quod littera pinxit Aconti qua cupido lecta pacta puella uiro est Talia cuncta pius dominus florentis agelli imposuit mensae <span style='color: red;'>nude[<span style='color:green;'>nudus</span>,nudes]</span> Priape tuae</p></p>\n",
       "    "
      ],
      "text/plain": [
       "<IPython.core.display.HTML object>"
      ]
     },
     "metadata": {},
     "output_type": "display_data"
    },
    {
     "data": {
      "text/html": [
       "<h2>Priapée 17</h2>\n",
       "    <p>\n",
       "        <small>\n",
       "        <b>Accuracy:</b> 0.875 <br />\n",
       "        <b>Tokens:</b> 16<br />\n",
       "        <b>Errors: </b> 2<br />\n",
       "        <b>1 error =</b> -6.2 % drop in accuracy <br />\n",
       "        <span style='color:green;'>Ground Truth</span> - <span style='color:red;'>Prediction</span>\n",
       "        </small>\n",
       "    </p>\n",
       "    <p><p>Quid cum me tibi circitor <span style='color: red;'>moleste[<span style='color:green;'>molestus</span>,moleste]</span> ad me quid prohibes uenire furem accedat <span style='color: red;'>sine[<span style='color:green;'>sino</span>,sine]</span> laxior redibit</p></p>\n",
       "    "
      ],
      "text/plain": [
       "<IPython.core.display.HTML object>"
      ]
     },
     "metadata": {},
     "output_type": "display_data"
    },
    {
     "data": {
      "text/html": [
       "<h2>Priapée 18</h2>\n",
       "    <p>\n",
       "        <small>\n",
       "        <b>Accuracy:</b> 0.929 <br />\n",
       "        <b>Tokens:</b> 14<br />\n",
       "        <b>Errors: </b> 1<br />\n",
       "        <b>1 error =</b> -7.1 % drop in accuracy <br />\n",
       "        <span style='color:green;'>Ground Truth</span> - <span style='color:red;'>Prediction</span>\n",
       "        </small>\n",
       "    </p>\n",
       "    <p><p>Commoditas haec est in nostro maxima pene laxa <span style='color: red;'>quod[<span style='color:green;'>quod</span>,qui]</span> esse mihi femina nulla potest</p></p>\n",
       "    "
      ],
      "text/plain": [
       "<IPython.core.display.HTML object>"
      ]
     },
     "metadata": {},
     "output_type": "display_data"
    },
    {
     "data": {
      "text/html": [
       "<h2>Priapée 19</h2>\n",
       "    <p>\n",
       "        <small>\n",
       "        <b>Accuracy:</b> 0.966 <br />\n",
       "        <b>Tokens:</b> 29<br />\n",
       "        <b>Errors: </b> 1<br />\n",
       "        <b>1 error =</b> -3.4 % drop in accuracy <br />\n",
       "        <span style='color:green;'>Ground Truth</span> - <span style='color:red;'>Prediction</span>\n",
       "        </small>\n",
       "    </p>\n",
       "    <p><p>Hic quando Telethusa circulatrix quae clunem tunica tegente nulla Extis satius altiusque motat <span style='color: red;'>crisabit[<span style='color:green;'>crisso</span>,criso]</span> tibi fluctuante lumbo haec sic non modo te Priape possit priuignum quoque sed mouere Phaedrae</p></p>\n",
       "    "
      ],
      "text/plain": [
       "<IPython.core.display.HTML object>"
      ]
     },
     "metadata": {},
     "output_type": "display_data"
    },
    {
     "data": {
      "text/html": [
       "<h2>Priapée 20</h2>\n",
       "    <p>\n",
       "        <small>\n",
       "        <b>Accuracy:</b> 0.919 <br />\n",
       "        <b>Tokens:</b> 37<br />\n",
       "        <b>Errors: </b> 3<br />\n",
       "        <b>1 error =</b> -2.7 % drop in accuracy <br />\n",
       "        <span style='color:green;'>Ground Truth</span> - <span style='color:red;'>Prediction</span>\n",
       "        </small>\n",
       "    </p>\n",
       "    <p><p>Fulmina sub Ioue sunt Neptuni fuscina telum ense potens Mars est hasta Minerua tua est <span style='color: red;'>suttilibus[<span style='color:green;'>sutilis</span>,suttilis]</span> Liber committit <span style='color: red;'>praelia[<span style='color:green;'>proelium</span>,praelium]</span> thyrsis fertur Apollinea missa sagitta manu Herculis armata est inuicta dextera claua at me terribilem mentula <span style='color: red;'>tenta[<span style='color:green;'>tentus</span>,tendo]</span> facit</p></p>\n",
       "    "
      ],
      "text/plain": [
       "<IPython.core.display.HTML object>"
      ]
     },
     "metadata": {},
     "output_type": "display_data"
    },
    {
     "data": {
      "text/html": [
       "<h2>Priapée 21</h2>\n",
       "    <p>\n",
       "        <small>\n",
       "        <b>Accuracy:</b> 0.875 <br />\n",
       "        <b>Tokens:</b> 24<br />\n",
       "        <b>Errors: </b> 3<br />\n",
       "        <b>1 error =</b> -4.2 % drop in accuracy <br />\n",
       "        <span style='color:green;'>Ground Truth</span> - <span style='color:red;'>Prediction</span>\n",
       "        </small>\n",
       "    </p>\n",
       "    <p><p>Copia me perdit tu suffragare <span style='color: red;'>rogatus[<span style='color:green;'>rogatus</span>,rogo]</span> indicio nec me prode Priape tuo <span style='color: red;'>quaeque[<span style='color:green;'>quisque</span>,qui界que]</span> tibi posui tamquam uernacula poma de <span style='color: red;'>sacra[<span style='color:green;'>sacer</span>,sacrum]</span> nulli dixeris esse uia</p></p>\n",
       "    "
      ],
      "text/plain": [
       "<IPython.core.display.HTML object>"
      ]
     },
     "metadata": {},
     "output_type": "display_data"
    },
    {
     "data": {
      "text/html": [
       "<h2>Priapée 22</h2>\n",
       "    <p>\n",
       "        <small>\n",
       "        <b>Accuracy:</b> 0.857 <br />\n",
       "        <b>Tokens:</b> 14<br />\n",
       "        <b>Errors: </b> 2<br />\n",
       "        <b>1 error =</b> -7.1 % drop in accuracy <br />\n",
       "        <span style='color:green;'>Ground Truth</span> - <span style='color:red;'>Prediction</span>\n",
       "        </small>\n",
       "    </p>\n",
       "    <p><p>Femina si furtum faciet mihi <span style='color: red;'>uirue[<span style='color:green;'>uir界ue</span>,uirus界ue]</span> puerue haec cunnum caput hic praebeat ille <span style='color: red;'>nates[<span style='color:green;'>nates</span>,nato]</span></p></p>\n",
       "    "
      ],
      "text/plain": [
       "<IPython.core.display.HTML object>"
      ]
     },
     "metadata": {},
     "output_type": "display_data"
    },
    {
     "data": {
      "text/html": [
       "<h2>Priapée 23</h2>\n",
       "    <p>\n",
       "        <small>\n",
       "        <b>Accuracy:</b> 0.926 <br />\n",
       "        <b>Tokens:</b> 27<br />\n",
       "        <b>Errors: </b> 2<br />\n",
       "        <b>1 error =</b> -3.7 % drop in accuracy <br />\n",
       "        <span style='color:green;'>Ground Truth</span> - <span style='color:red;'>Prediction</span>\n",
       "        </small>\n",
       "    </p>\n",
       "    <p><p>Quicumque hic uiolam rosamue carpet furtiuumue olus aut inempta poma <span style='color: red;'>defectus[<span style='color:green;'>defectus</span>,deficio]</span> pueroque feminaque hac <span style='color: red;'>tentigine[<span style='color:green;'>tentigo界ne</span>,tentigo]</span> quam uidetis in me rumpatur precor usque mentulaque nequicquam sibi pulset umbilicum</p></p>\n",
       "    "
      ],
      "text/plain": [
       "<IPython.core.display.HTML object>"
      ]
     },
     "metadata": {},
     "output_type": "display_data"
    },
    {
     "data": {
      "text/html": [
       "<h2>Priapée 24</h2>\n",
       "    <p>\n",
       "        <small>\n",
       "        <b>Accuracy:</b> 0.917 <br />\n",
       "        <b>Tokens:</b> 24<br />\n",
       "        <b>Errors: </b> 2<br />\n",
       "        <b>1 error =</b> -4.2 % drop in accuracy <br />\n",
       "        <span style='color:green;'>Ground Truth</span> - <span style='color:red;'>Prediction</span>\n",
       "        </small>\n",
       "    </p>\n",
       "    <p><p>Hic me custodem fecundi uillicus horti <span style='color: red;'>mandati[<span style='color:green;'>mando</span>,mandatum]</span> curam iussit habere loci fur habeas poenam licet <span style='color: red;'>indignere[<span style='color:green;'>indigne</span>,indignor]</span> feramque propter olus dicas hoc ego propter olus</p></p>\n",
       "    "
      ],
      "text/plain": [
       "<IPython.core.display.HTML object>"
      ]
     },
     "metadata": {},
     "output_type": "display_data"
    },
    {
     "data": {
      "text/html": [
       "<h2>Priapée 25</h2>\n",
       "    <p>\n",
       "        <small>\n",
       "        <b>Accuracy:</b> 0.972 <br />\n",
       "        <b>Tokens:</b> 36<br />\n",
       "        <b>Errors: </b> 1<br />\n",
       "        <b>1 error =</b> -2.8 % drop in accuracy <br />\n",
       "        <span style='color:green;'>Ground Truth</span> - <span style='color:red;'>Prediction</span>\n",
       "        </small>\n",
       "    </p>\n",
       "    <p><p>Hoc sceptrum quod ab arbore est recisum nulla iam poterit uirere fronde sceptrum quod pathicae petunt puellae quod quidam cupiunt tenere reges cui dant oscula nobiles cinaedi intra uiscera furis ibit usque ad pubem capulumque <span style='color: red;'>coleorum[<span style='color:green;'>coleus</span>,coles]</span></p></p>\n",
       "    "
      ],
      "text/plain": [
       "<IPython.core.display.HTML object>"
      ]
     },
     "metadata": {},
     "output_type": "display_data"
    },
    {
     "data": {
      "text/html": [
       "<h2>Priapée 26</h2>\n",
       "    <p>\n",
       "        <small>\n",
       "        <b>Accuracy:</b> 0.926 <br />\n",
       "        <b>Tokens:</b> 54<br />\n",
       "        <b>Errors: </b> 4<br />\n",
       "        <b>1 error =</b> -1.9 % drop in accuracy <br />\n",
       "        <span style='color:green;'>Ground Truth</span> - <span style='color:red;'>Prediction</span>\n",
       "        </small>\n",
       "    </p>\n",
       "    <p><p>Porro nam quis erit modus Quirites aut praecidite seminale membrum <span style='color: red;'>quod[<span style='color:green;'>qui</span>,quod]</span> totis mihi noctibus fatigant <span style='color: red;'>uicinae[<span style='color:green;'>uicina</span>,uicinus]</span> sine fine <span style='color: red;'>prurientes[<span style='color:green;'>prurio</span>,pruriens]</span> uernis passeribus <span style='color: red;'>salaciores[<span style='color:green;'>salax</span>,salacior]</span> aut rumpar nec habebitis Priapum ipsi cernitis ecfututus ut sim confectusque macerque pallidusque qui quondam ruber et calens solebam fures caedere quamlibet ualentes defecit latus et periculosam cum tussi miser expuo saliuam</p></p>\n",
       "    "
      ],
      "text/plain": [
       "<IPython.core.display.HTML object>"
      ]
     },
     "metadata": {},
     "output_type": "display_data"
    },
    {
     "data": {
      "text/html": [
       "<h2>Priapée 27</h2>\n",
       "    <p>\n",
       "        <small>\n",
       "        <b>Accuracy:</b> 0.889 <br />\n",
       "        <b>Tokens:</b> 36<br />\n",
       "        <b>Errors: </b> 4<br />\n",
       "        <b>1 error =</b> -2.8 % drop in accuracy <br />\n",
       "        <span style='color:green;'>Ground Truth</span> - <span style='color:red;'>Prediction</span>\n",
       "        </small>\n",
       "    </p>\n",
       "    <p><p>Deliciae populi magno notissima circo <span style='color: red;'>Quintia[<span style='color:green;'>Quintia</span>,Quintius]</span> uibratas docta mouere <span style='color: red;'>nates[<span style='color:green;'>nates</span>,natis]</span> cymbala cum <span style='color: red;'>crotalis[<span style='color:green;'>crotalum</span>,crotalis]</span> <span style='color: red;'>pruriginis[<span style='color:green;'>prurigo</span>,pruriginus]</span> arma Priapo ponit et adducta tympana pulsa manu pro quibus ut semper placeat spectantibus orat tentaque ad exemplum sit sua turba dei</p></p>\n",
       "    "
      ],
      "text/plain": [
       "<IPython.core.display.HTML object>"
      ]
     },
     "metadata": {},
     "output_type": "display_data"
    },
    {
     "data": {
      "text/html": [
       "<h2>Priapée 28</h2>\n",
       "    <p>\n",
       "        <small>\n",
       "        <b>Accuracy:</b> 0.923 <br />\n",
       "        <b>Tokens:</b> 26<br />\n",
       "        <b>Errors: </b> 2<br />\n",
       "        <b>1 error =</b> -3.8 % drop in accuracy <br />\n",
       "        <span style='color:green;'>Ground Truth</span> - <span style='color:red;'>Prediction</span>\n",
       "        </small>\n",
       "    </p>\n",
       "    <p><p>Tu qui non bene cogitas et aegre carpendo tibi temperas ab horto <span style='color: red;'>pedicabere[<span style='color:green;'>paedico</span>,pedico]</span> fascino <span style='color: red;'>pedali[<span style='color:green;'>pedalis</span>,pedalus]</span> quod si tam grauis et molesta poena non profecerit altiora tangam</p></p>\n",
       "    "
      ],
      "text/plain": [
       "<IPython.core.display.HTML object>"
      ]
     },
     "metadata": {},
     "output_type": "display_data"
    },
    {
     "data": {
      "text/html": [
       "<h2>Priapée 29</h2>\n",
       "    <p>\n",
       "        <small>\n",
       "        <b>Accuracy:</b> 0.889 <br />\n",
       "        <b>Tokens:</b> 27<br />\n",
       "        <b>Errors: </b> 3<br />\n",
       "        <b>1 error =</b> -3.7 % drop in accuracy <br />\n",
       "        <span style='color:green;'>Ground Truth</span> - <span style='color:red;'>Prediction</span>\n",
       "        </small>\n",
       "    </p>\n",
       "    <p><p>Obscenis peream Priape si non uti me pudet <span style='color: red;'>inprobisque[<span style='color:green;'>improbus</span>,improbus界que]</span> <span style='color: red;'>inprobisque[<span style='color:green;'>que</span>,improbus界que]</span> uerbis sed cum tu posito deus pudore ostendas mihi coleos <span style='color: red;'>patentes[<span style='color:green;'>patens</span>,pateo]</span> cum cunno mihi mentula est uocanda</p></p>\n",
       "    "
      ],
      "text/plain": [
       "<IPython.core.display.HTML object>"
      ]
     },
     "metadata": {},
     "output_type": "display_data"
    },
    {
     "data": {
      "text/html": [
       "<h2>Priapée 30</h2>\n",
       "    <p>\n",
       "        <small>\n",
       "        <b>Accuracy:</b> 0.966 <br />\n",
       "        <b>Tokens:</b> 29<br />\n",
       "        <b>Errors: </b> 1<br />\n",
       "        <b>1 error =</b> -3.4 % drop in accuracy <br />\n",
       "        <span style='color:green;'>Ground Truth</span> - <span style='color:red;'>Prediction</span>\n",
       "        </small>\n",
       "    </p>\n",
       "    <p><p>Falce minax et parte <span style='color: red;'>tui[<span style='color:green;'>tu</span>,tuus]</span> maiore Priape ad fontem quaeso dic mihi qua sit iter uade per has uites quarum si carpseris uuam cur aliter sumas hospes habebis aquam</p></p>\n",
       "    "
      ],
      "text/plain": [
       "<IPython.core.display.HTML object>"
      ]
     },
     "metadata": {},
     "output_type": "display_data"
    },
    {
     "data": {
      "text/html": [
       "<h2>Priapée 31</h2>\n",
       "    <p>\n",
       "        <small>\n",
       "        <b>Accuracy:</b> 0.960 <br />\n",
       "        <b>Tokens:</b> 25<br />\n",
       "        <b>Errors: </b> 1<br />\n",
       "        <b>1 error =</b> -4.0 % drop in accuracy <br />\n",
       "        <span style='color:green;'>Ground Truth</span> - <span style='color:red;'>Prediction</span>\n",
       "        </small>\n",
       "    </p>\n",
       "    <p><p>Donec proterua nil mei manu carpes licebit ipsa sis pudicior Uesta sin haec mei te uentris arma laxabunt exire ut ipse de <span style='color: red;'>tuo[<span style='color:green;'>tuus</span>,tuum]</span> queas culo</p></p>\n",
       "    "
      ],
      "text/plain": [
       "<IPython.core.display.HTML object>"
      ]
     },
     "metadata": {},
     "output_type": "display_data"
    },
    {
     "data": {
      "text/html": [
       "<h2>Priapée 32</h2>\n",
       "    <p>\n",
       "        <small>\n",
       "        <b>Accuracy:</b> 0.923 <br />\n",
       "        <b>Tokens:</b> 65<br />\n",
       "        <b>Errors: </b> 5<br />\n",
       "        <b>1 error =</b> -1.5 % drop in accuracy <br />\n",
       "        <span style='color:green;'>Ground Truth</span> - <span style='color:red;'>Prediction</span>\n",
       "        </small>\n",
       "    </p>\n",
       "    <p><p>Uuis aridior puella <span style='color: red;'>passis[<span style='color:green;'>passus</span>,pando]</span> buxo pallidior nouaque cera collatas sibi quae suisque membris formicas facit altiles uideri cuius uiscera non <span style='color: red;'>aperta[<span style='color:green;'>apertus</span>,aperio]</span> Tuscus per pellem poterit uidere <span style='color: red;'>aruspex[<span style='color:green;'>haruspex</span>,aruspex]</span> quae suco caret estque pura pumex Nemo uiderit hanc ut <span style='color: red;'>expuentem[<span style='color:green;'>exspuo</span>,expuo]</span> quam pro sanguine puluerem scobemque in uenis medici putant habere ad me nocte solet uenire et affert pallorem maciemque larualem ductor ferreus <span style='color: red;'>insulariusque[<span style='color:green;'>insularius界que</span>,insularis界que]</span> lanternae uideor fricare cornu</p></p>\n",
       "    "
      ],
      "text/plain": [
       "<IPython.core.display.HTML object>"
      ]
     },
     "metadata": {},
     "output_type": "display_data"
    },
    {
     "data": {
      "text/html": [
       "<h2>Priapée 33</h2>\n",
       "    <p>\n",
       "        <small>\n",
       "        <b>Accuracy:</b> 0.923 <br />\n",
       "        <b>Tokens:</b> 39<br />\n",
       "        <b>Errors: </b> 3<br />\n",
       "        <b>1 error =</b> -2.6 % drop in accuracy <br />\n",
       "        <span style='color:green;'>Ground Truth</span> - <span style='color:red;'>Prediction</span>\n",
       "        </small>\n",
       "    </p>\n",
       "    <p><p>Naidas antiqui <span style='color: red;'>Dryadasque[<span style='color:green;'>Dryas界que</span>,Dryades界que]</span> habuere Priapi et <span style='color: red;'>quo[<span style='color:green;'>qui</span>,quo]</span> tenta dei uena subiret erat nunc adeo nihil est adeo mea plena libido est ut <span style='color: red;'>Nymphas[<span style='color:green;'>nympha</span>,Nympha]</span> omnis interiisse putem turpe quidem factu sed ne tentigine rumpar falce mihi posita fiet amica manus</p></p>\n",
       "    "
      ],
      "text/plain": [
       "<IPython.core.display.HTML object>"
      ]
     },
     "metadata": {},
     "output_type": "display_data"
    },
    {
     "data": {
      "text/html": [
       "<h2>Priapée 34</h2>\n",
       "    <p>\n",
       "        <small>\n",
       "        <b>Accuracy:</b> 0.920 <br />\n",
       "        <b>Tokens:</b> 25<br />\n",
       "        <b>Errors: </b> 2<br />\n",
       "        <b>1 error =</b> -4.0 % drop in accuracy <br />\n",
       "        <span style='color:green;'>Ground Truth</span> - <span style='color:red;'>Prediction</span>\n",
       "        </small>\n",
       "    </p>\n",
       "    <p><p>Cum <span style='color: red;'>sacrum[<span style='color:green;'>sacrum</span>,sacer]</span> fieret deo salaci conducta est pretio puella paruo <span style='color: red;'>communis[<span style='color:green;'>commune</span>,communis]</span> satis omnibus futura quae quot nocte uiros peregit una tot uerpas tibi dedicat salignas</p></p>\n",
       "    "
      ],
      "text/plain": [
       "<IPython.core.display.HTML object>"
      ]
     },
     "metadata": {},
     "output_type": "display_data"
    },
    {
     "data": {
      "text/html": [
       "<h2>Priapée 35</h2>\n",
       "    <p>\n",
       "        <small>\n",
       "        <b>Accuracy:</b> 0.917 <br />\n",
       "        <b>Tokens:</b> 24<br />\n",
       "        <b>Errors: </b> 2<br />\n",
       "        <b>1 error =</b> -4.2 % drop in accuracy <br />\n",
       "        <span style='color:green;'>Ground Truth</span> - <span style='color:red;'>Prediction</span>\n",
       "        </small>\n",
       "    </p>\n",
       "    <p><p><span style='color: red;'>Pedicabere[<span style='color:green;'>paedico</span>,pedico]</span> fur semel sed idem si praedatus eris bis irrumabo et si tertia furta molieris ut poenam patiare et hanc et illam <span style='color: red;'>pedicaberis[<span style='color:green;'>paedico</span>,pedico]</span> irrumaberisque</p></p>\n",
       "    "
      ],
      "text/plain": [
       "<IPython.core.display.HTML object>"
      ]
     },
     "metadata": {},
     "output_type": "display_data"
    },
    {
     "data": {
      "text/html": [
       "<h2>Priapée 36</h2>\n",
       "    <p>\n",
       "        <small>\n",
       "        <b>Accuracy:</b> 0.983 <br />\n",
       "        <b>Tokens:</b> 58<br />\n",
       "        <b>Errors: </b> 1<br />\n",
       "        <b>1 error =</b> -1.7 % drop in accuracy <br />\n",
       "        <span style='color:green;'>Ground Truth</span> - <span style='color:red;'>Prediction</span>\n",
       "        </small>\n",
       "    </p>\n",
       "    <p><p><span style='color: red;'>Notas[<span style='color:green;'>notus</span>,nota]</span> habemus quisque corporis formas Phoebus comosus Hercules lacertosus trahit figuram uirginis tener Bacchus Minerua rauo lumine est Uenus paeto Frontem caprinos Arcadas uides Faunos habet decentes nuntius deum plantas tutela Lemni dispares mouet gressus intonsa semper Aesculapio barba est nemo est feroci pectorosior Marte quod si quis inter hos locus mihi restat deus Priapo mentulatior non est</p></p>\n",
       "    "
      ],
      "text/plain": [
       "<IPython.core.display.HTML object>"
      ]
     },
     "metadata": {},
     "output_type": "display_data"
    },
    {
     "data": {
      "text/html": [
       "<h2>Priapée 37</h2>\n",
       "    <p>\n",
       "        <small>\n",
       "        <b>Accuracy:</b> 0.986 <br />\n",
       "        <b>Tokens:</b> 70<br />\n",
       "        <b>Errors: </b> 1<br />\n",
       "        <b>1 error =</b> -1.4 % drop in accuracy <br />\n",
       "        <span style='color:green;'>Ground Truth</span> - <span style='color:red;'>Prediction</span>\n",
       "        </small>\n",
       "    </p>\n",
       "    <p><p>Cur pictum memori sit in tabella membrum quaeritis unde procreamur cum penis mihi forte laesus esset chirurgique manum miser timerem dis me legitimis nimisque magnis ut Phoebo puta filioque Phoebi Curandam dare mentulam uerebar huic dixi fer opem Priape parti cuius tu pater ipse pars uideris qua salua sine sectione facta ponetur tibi <span style='color: red;'>picta[<span style='color:green;'>pictus</span>,pingo]</span> quam leuaris par uel consimilisque concolorque promisit fore mentulamque mouit pro nutu deus et rogata fecit</p></p>\n",
       "    "
      ],
      "text/plain": [
       "<IPython.core.display.HTML object>"
      ]
     },
     "metadata": {},
     "output_type": "display_data"
    },
    {
     "data": {
      "text/html": [
       "<h2>Priapée 38</h2>\n",
       "    <p>\n",
       "        <small>\n",
       "        <b>Accuracy:</b> 0.962 <br />\n",
       "        <b>Tokens:</b> 26<br />\n",
       "        <b>Errors: </b> 1<br />\n",
       "        <b>1 error =</b> -3.8 % drop in accuracy <br />\n",
       "        <span style='color:green;'>Ground Truth</span> - <span style='color:red;'>Prediction</span>\n",
       "        </small>\n",
       "    </p>\n",
       "    <p><p>Simpliciter tibi me quodcumque est dicere oportet natura est quoniam semper <span style='color: red;'>aperta[<span style='color:green;'>apertus</span>,aperio]</span> mihi pedicare uolo tu uis decerpere poma quod peto si dederis quod petis accipies</p></p>\n",
       "    "
      ],
      "text/plain": [
       "<IPython.core.display.HTML object>"
      ]
     },
     "metadata": {},
     "output_type": "display_data"
    },
    {
     "data": {
      "text/html": [
       "<h2>Priapée 39</h2>\n",
       "    <p>\n",
       "        <small>\n",
       "        <b>Accuracy:</b> 0.949 <br />\n",
       "        <b>Tokens:</b> 39<br />\n",
       "        <b>Errors: </b> 2<br />\n",
       "        <b>1 error =</b> -2.6 % drop in accuracy <br />\n",
       "        <span style='color:green;'>Ground Truth</span> - <span style='color:red;'>Prediction</span>\n",
       "        </small>\n",
       "    </p>\n",
       "    <p><p>Forma Mercurius potest placere forma conspiciendus est Apollo formosus quoque pingitur Lyaeus formosissimus omnium est <span style='color: red;'>Cupido[<span style='color:green;'>cupido</span>,Cupido]</span> me pulcra fateor carere forma uerum mentula luculenta nostra est hanc mauult sibi <span style='color: red;'>quam[<span style='color:green;'>quam</span>,qui]</span> deos priores si qua est non fatui puella cunni</p></p>\n",
       "    "
      ],
      "text/plain": [
       "<IPython.core.display.HTML object>"
      ]
     },
     "metadata": {},
     "output_type": "display_data"
    },
    {
     "data": {
      "text/html": [
       "<h2>Priapée 40</h2>\n",
       "    <p>\n",
       "        <small>\n",
       "        <b>Accuracy:</b> 0.880 <br />\n",
       "        <b>Tokens:</b> 25<br />\n",
       "        <b>Errors: </b> 3<br />\n",
       "        <b>1 error =</b> -4.0 % drop in accuracy <br />\n",
       "        <span style='color:green;'>Ground Truth</span> - <span style='color:red;'>Prediction</span>\n",
       "        </small>\n",
       "    </p>\n",
       "    <p><p><span style='color: red;'>Nota[<span style='color:green;'>nosco</span>,notus]</span> Suburanas inter <span style='color: red;'>Telethusa[<span style='color:green;'>Telethusa</span>,Telethus]</span> puellas quae puto de quaestu libera facta suo est cingit inaurata penem tibi <span style='color: red;'>sancte[<span style='color:green;'>sancte</span>,sanctus]</span> corona hunc pathicae summi numinis instar habent</p></p>\n",
       "    "
      ],
      "text/plain": [
       "<IPython.core.display.HTML object>"
      ]
     },
     "metadata": {},
     "output_type": "display_data"
    },
    {
     "data": {
      "text/html": [
       "<h2>Priapée 42</h2>\n",
       "    <p>\n",
       "        <small>\n",
       "        <b>Accuracy:</b> 0.960 <br />\n",
       "        <b>Tokens:</b> 25<br />\n",
       "        <b>Errors: </b> 1<br />\n",
       "        <b>1 error =</b> -4.0 % drop in accuracy <br />\n",
       "        <span style='color:green;'>Ground Truth</span> - <span style='color:red;'>Prediction</span>\n",
       "        </small>\n",
       "    </p>\n",
       "    <p><p>Laetus Aristagoras <span style='color: red;'>natis[<span style='color:green;'>nascor</span>,natus]</span> bene uilicus uuis de cera ficta dat tibi poma deus at tu sacrati contentus imagine pomi fac ueros fructus ille Priape ferat</p></p>\n",
       "    "
      ],
      "text/plain": [
       "<IPython.core.display.HTML object>"
      ]
     },
     "metadata": {},
     "output_type": "display_data"
    },
    {
     "data": {
      "text/html": [
       "<h2>Priapée 45</h2>\n",
       "    <p>\n",
       "        <small>\n",
       "        <b>Accuracy:</b> 0.944 <br />\n",
       "        <b>Tokens:</b> 36<br />\n",
       "        <b>Errors: </b> 2<br />\n",
       "        <b>1 error =</b> -2.8 % drop in accuracy <br />\n",
       "        <span style='color:green;'>Ground Truth</span> - <span style='color:red;'>Prediction</span>\n",
       "        </small>\n",
       "    </p>\n",
       "    <p><p>Cum quendam rigidus deus uideret <span style='color: red;'>feruenti[<span style='color:green;'>ferueo</span>,feruens]</span> caput ustulare ferro ut <span style='color: red;'>Maurae[<span style='color:green;'>Maurus</span>,Maura]</span> similis foret puellae heus inquit tibi dicimus cinaede uras te licet usque torqueasque num tandem prior es puella quaeso quam sunt mentula quos habet capilli</p></p>\n",
       "    "
      ],
      "text/plain": [
       "<IPython.core.display.HTML object>"
      ]
     },
     "metadata": {},
     "output_type": "display_data"
    },
    {
     "data": {
      "text/html": [
       "<h2>Priapée 46</h2>\n",
       "    <p>\n",
       "        <small>\n",
       "        <b>Accuracy:</b> 0.841 <br />\n",
       "        <b>Tokens:</b> 44<br />\n",
       "        <b>Errors: </b> 7<br />\n",
       "        <b>1 error =</b> -2.3 % drop in accuracy <br />\n",
       "        <span style='color:green;'>Ground Truth</span> - <span style='color:red;'>Prediction</span>\n",
       "        </small>\n",
       "    </p>\n",
       "    <p><p>O non candidior puella Mauro sed morbosior omnibus cinaedis Pygmaeo breuior gruem timenti ursis asperior pilosiorque <span style='color: red;'>Medis[<span style='color:green;'>Medus</span>,Medi]</span> laxior <span style='color: red;'>Indicisue[<span style='color:green;'>Indicus界ue</span>,index界ue]</span> bracis <span style='color: red;'>manes[<span style='color:green;'>mando?</span>,Manes]</span> <span style='color: red;'>hinc[<span style='color:green;'>hic</span>,hinc]</span> licet ut <span style='color: red;'>libenter[<span style='color:green;'>libet</span>,libenter]</span> <span style='color: red;'>ires[<span style='color:green;'>ineo</span>,eo]</span> nam quamuis uidear satis paratus erucarum opus est decem maniplis fossas inguinis ut teram dolemque cunni uermiculos <span style='color: red;'>scaturrientis[<span style='color:green;'>scaturio</span>,scaturrio]</span></p></p>\n",
       "    "
      ],
      "text/plain": [
       "<IPython.core.display.HTML object>"
      ]
     },
     "metadata": {},
     "output_type": "display_data"
    },
    {
     "data": {
      "text/html": [
       "<h2>Priapée 47</h2>\n",
       "    <p>\n",
       "        <small>\n",
       "        <b>Accuracy:</b> 0.966 <br />\n",
       "        <b>Tokens:</b> 29<br />\n",
       "        <b>Errors: </b> 1<br />\n",
       "        <b>1 error =</b> -3.4 % drop in accuracy <br />\n",
       "        <span style='color:green;'>Ground Truth</span> - <span style='color:red;'>Prediction</span>\n",
       "        </small>\n",
       "    </p>\n",
       "    <p><p>Quicumque uestrum qui uenitis ad cenam libare nullos sustinet mihi uersus illius uxor aut <span style='color: red;'>amica[<span style='color:green;'>amica</span>,amicus]</span> riualem lasciuiendo languidum precor reddat et ipse longa nocte dormiat solus libidinosis incitatus erucis</p></p>\n",
       "    "
      ],
      "text/plain": [
       "<IPython.core.display.HTML object>"
      ]
     },
     "metadata": {},
     "output_type": "display_data"
    },
    {
     "data": {
      "text/html": [
       "<h2>Priapée 48</h2>\n",
       "    <p>\n",
       "        <small>\n",
       "        <b>Accuracy:</b> 0.966 <br />\n",
       "        <b>Tokens:</b> 29<br />\n",
       "        <b>Errors: </b> 1<br />\n",
       "        <b>1 error =</b> -3.4 % drop in accuracy <br />\n",
       "        <span style='color:green;'>Ground Truth</span> - <span style='color:red;'>Prediction</span>\n",
       "        </small>\n",
       "    </p>\n",
       "    <p><p>Quod partem madidam mei uidetis per quam significor Priapus esse non ros est mihi crede nec pruina sed quod <span style='color: red;'>sponte[<span style='color:green;'>sponte</span>,spons]</span> sua solet remitti cum mens est pathicae memor puellae</p></p>\n",
       "    "
      ],
      "text/plain": [
       "<IPython.core.display.HTML object>"
      ]
     },
     "metadata": {},
     "output_type": "display_data"
    },
    {
     "data": {
      "text/html": [
       "<h2>Priapée 51</h2>\n",
       "    <p>\n",
       "        <small>\n",
       "        <b>Accuracy:</b> 0.899 <br />\n",
       "        <b>Tokens:</b> 149<br />\n",
       "        <b>Errors: </b> 15<br />\n",
       "        <b>1 error =</b> -0.7 % drop in accuracy <br />\n",
       "        <span style='color:green;'>Ground Truth</span> - <span style='color:red;'>Prediction</span>\n",
       "        </small>\n",
       "    </p>\n",
       "    <p><p>Quid hoc negoti est quaue suspicer causa <span style='color: red;'>uenire[<span style='color:green;'>uenio</span>,ueneo]</span> in hortum plurimos meum fures cum quisquis in nos incidit luat poenas et usque curuos excauetur ad lumbos non ficus hic est praeferenda uicinae uuaeque quales flaua legit <span style='color: red;'>Arete[<span style='color:green;'>Aretes</span>,ares]</span> non mala truncis adserenda Picenis pirumue tanto <span style='color: red;'>quod[<span style='color:green;'>quod</span>,qui]</span> periculo captes magisque cera luteum noua <span style='color: red;'>prunum[<span style='color:green;'>prunum</span>,prunus]</span> <span style='color: red;'>sorbumue[<span style='color:green;'>sorbus界ue</span>,sorbum界ue]</span> uentres lubricos moraturum <span style='color: red;'>praesigne[<span style='color:green;'>praesignis</span>,praesigno]</span> rami nec mei ferunt <span style='color: red;'>morum[<span style='color:green;'>morum</span>,mos]</span> nucemue longam quae uocatur Albana <span style='color: red;'>amygdalumue[<span style='color:green;'>amygdalum界ue</span>,amygdalus界ue]</span> flore purpureo fulgens non brassicarum ferre glorior caules betasue quantas hortus educat nullus crescensue semper in suum caput porrum nec seminosas ad <span style='color: red;'>cucurbitas[<span style='color:green;'>cucurbita</span>,cucurbitas]</span> quemquam ad ocimumue <span style='color: red;'>cucumeresque[<span style='color:green;'>cucumis界que</span>,cucumeo界que]</span> humi <span style='color: red;'>fusos[<span style='color:green;'>fundo</span>,fusus]</span> uenire credo sessilesue lactucas acresque <span style='color: red;'>cepas[<span style='color:green;'>cepa</span>,caepa]</span> aliumque furatum nec ut salaces <span style='color: red;'>nocte[<span style='color:green;'>nox</span>,nocte]</span> tollat erucas mentamque olentem cum salubribus <span style='color: red;'>rutis[<span style='color:green;'>ruta</span>,rutus]</span> quae cuncta quamuis nostro habemus in saepto non pauciora proximi ferunt horti quibus relictis in mihi laboratum locum uenitis improbissimi fures nimirum <span style='color: red;'>apertam[<span style='color:green;'>aperio</span>,apertus]</span> conuolatis ad poenam et uos id ipsum quod minamur inuitat</p></p>\n",
       "    "
      ],
      "text/plain": [
       "<IPython.core.display.HTML object>"
      ]
     },
     "metadata": {},
     "output_type": "display_data"
    },
    {
     "data": {
      "text/html": [
       "<h2>Priapée 52</h2>\n",
       "    <p>\n",
       "        <small>\n",
       "        <b>Accuracy:</b> 0.949 <br />\n",
       "        <b>Tokens:</b> 59<br />\n",
       "        <b>Errors: </b> 3<br />\n",
       "        <b>1 error =</b> -1.7 % drop in accuracy <br />\n",
       "        <span style='color:green;'>Ground Truth</span> - <span style='color:red;'>Prediction</span>\n",
       "        </small>\n",
       "    </p>\n",
       "    <p><p>Heus tu non bene qui manum rapacem mandato mihi contines ab horto iam primum stator hic libidinosus alternis et eundo et exeundo porta te faciet patentiorem accedent duo qui latus tuentur pulchre pensilibus <span style='color: red;'>peculiati[<span style='color:green;'>peculio</span>,peculiatus]</span> qui cum te male foderint iacentem ad partes ueniet salax asellus et nil <span style='color: red;'>deterius[<span style='color:green;'>deterius</span>,deterior]</span> <span style='color: red;'>mutuniatus[<span style='color:green;'>mutoniatus</span>,mutunio]</span> quare qui sapiet malus cauebit cum tantum sciat esse mentularum</p></p>\n",
       "    "
      ],
      "text/plain": [
       "<IPython.core.display.HTML object>"
      ]
     },
     "metadata": {},
     "output_type": "display_data"
    },
    {
     "data": {
      "text/html": [
       "<h2>Priapée 53</h2>\n",
       "    <p>\n",
       "        <small>\n",
       "        <b>Accuracy:</b> 0.921 <br />\n",
       "        <b>Tokens:</b> 38<br />\n",
       "        <b>Errors: </b> 3<br />\n",
       "        <b>1 error =</b> -2.6 % drop in accuracy <br />\n",
       "        <span style='color:green;'>Ground Truth</span> - <span style='color:red;'>Prediction</span>\n",
       "        </small>\n",
       "    </p>\n",
       "    <p><p><span style='color: red;'>Contentus[<span style='color:green;'>contendo</span>,contentus]</span> modico Bacchus solet esse racemo cum capiant alti uix <span style='color: red;'>cita[<span style='color:green;'>citus</span>,cieo]</span> musta lacus magnaque fecundis cum messibus area desit in Cereris crines una corona datur tu quoque diue minor maiorum exempla secutus quamuis pauca damus <span style='color: red;'>consule[<span style='color:green;'>consulo</span>,consul]</span> poma boni</p></p>\n",
       "    "
      ],
      "text/plain": [
       "<IPython.core.display.HTML object>"
      ]
     },
     "metadata": {},
     "output_type": "display_data"
    },
    {
     "data": {
      "text/html": [
       "<h2>Priapée 54</h2>\n",
       "    <p>\n",
       "        <small>\n",
       "        <b>Accuracy:</b> 0.769 <br />\n",
       "        <b>Tokens:</b> 13<br />\n",
       "        <b>Errors: </b> 3<br />\n",
       "        <b>1 error =</b> -7.7 % drop in accuracy <br />\n",
       "        <span style='color:green;'>Ground Truth</span> - <span style='color:red;'>Prediction</span>\n",
       "        </small>\n",
       "    </p>\n",
       "    <p><p><span style='color: red;'>CD[<span style='color:green;'>_</span>,no]</span> si scribas temonemque insuper addas qui <span style='color: red;'>medium[<span style='color:green;'>medium</span>,medius]</span> uult te scindere <span style='color: red;'>pictus[<span style='color:green;'>pictus</span>,pingo]</span> erit</p></p>\n",
       "    "
      ],
      "text/plain": [
       "<IPython.core.display.HTML object>"
      ]
     },
     "metadata": {},
     "output_type": "display_data"
    },
    {
     "data": {
      "text/html": [
       "<h2>Priapée 55</h2>\n",
       "    <p>\n",
       "        <small>\n",
       "        <b>Accuracy:</b> 0.974 <br />\n",
       "        <b>Tokens:</b> 38<br />\n",
       "        <b>Errors: </b> 1<br />\n",
       "        <b>1 error =</b> -2.6 % drop in accuracy <br />\n",
       "        <span style='color:green;'>Ground Truth</span> - <span style='color:red;'>Prediction</span>\n",
       "        </small>\n",
       "    </p>\n",
       "    <p><p>Credere quis possit falcem quoque <span style='color: red;'>turpe[<span style='color:green;'>turpe</span>,turpis]</span> fateri de digitis fures subripuere meis nec mouet amissi tam me iactura pudorque quam praebent iustos altera tela metus quae si perdidero patria mutabor et olim ille tuus ciuis Lampsace Gallus ero</p></p>\n",
       "    "
      ],
      "text/plain": [
       "<IPython.core.display.HTML object>"
      ]
     },
     "metadata": {},
     "output_type": "display_data"
    },
    {
     "data": {
      "text/html": [
       "<h2>Priapée 58</h2>\n",
       "    <p>\n",
       "        <small>\n",
       "        <b>Accuracy:</b> 0.895 <br />\n",
       "        <b>Tokens:</b> 19<br />\n",
       "        <b>Errors: </b> 2<br />\n",
       "        <b>1 error =</b> -5.3 % drop in accuracy <br />\n",
       "        <span style='color:green;'>Ground Truth</span> - <span style='color:red;'>Prediction</span>\n",
       "        </small>\n",
       "    </p>\n",
       "    <p><p>Quicumque nostram fur fefellerit curam <span style='color: red;'>effeminato[<span style='color:green;'>effemino</span>,effeminatus]</span> uerminet procul culo <span style='color: red;'>quaeque[<span style='color:green;'>quisque</span>,qui界que]</span> hic proterua carpserit manu poma puella nullum reperiat fututorem</p></p>\n",
       "    "
      ],
      "text/plain": [
       "<IPython.core.display.HTML object>"
      ]
     },
     "metadata": {},
     "output_type": "display_data"
    },
    {
     "data": {
      "text/html": [
       "<h2>Priapée 61</h2>\n",
       "    <p>\n",
       "        <small>\n",
       "        <b>Accuracy:</b> 0.956 <br />\n",
       "        <b>Tokens:</b> 68<br />\n",
       "        <b>Errors: </b> 3<br />\n",
       "        <b>1 error =</b> -1.5 % drop in accuracy <br />\n",
       "        <span style='color:green;'>Ground Truth</span> - <span style='color:red;'>Prediction</span>\n",
       "        </small>\n",
       "    </p>\n",
       "    <p><p>Quid frustra quereris colone cum me <span style='color: red;'>quod[<span style='color:green;'>quod</span>,qui]</span> quondam bene fructuosa malus <span style='color: red;'>autumnis[<span style='color:green;'>autumnus</span>,autumna]</span> sterilis duobus adstem non me praegrauat ut putas senectus nec sum grandine uerberata dura nec gemmas modo germine exeuntes seri frigoris ustulauit aura nec uenti pluuiaeue <span style='color: red;'>siccitasue[<span style='color:green;'>siccitas界ue</span>,siccita界ue]</span> quod de se quererer malum dederunt non sturnus mihi graculusue raptor aut cornix anus aut aquosus anser aut coruus nocuit siticulosus sed quod carmina pessimi poetae ramis sustineo laboriosis</p></p>\n",
       "    "
      ],
      "text/plain": [
       "<IPython.core.display.HTML object>"
      ]
     },
     "metadata": {},
     "output_type": "display_data"
    },
    {
     "data": {
      "text/html": [
       "<h2>Priapée 63</h2>\n",
       "    <p>\n",
       "        <small>\n",
       "        <b>Accuracy:</b> 0.979 <br />\n",
       "        <b>Tokens:</b> 95<br />\n",
       "        <b>Errors: </b> 2<br />\n",
       "        <b>1 error =</b> -1.1 % drop in accuracy <br />\n",
       "        <span style='color:green;'>Ground Truth</span> - <span style='color:red;'>Prediction</span>\n",
       "        </small>\n",
       "    </p>\n",
       "    <p><p>Parum est quod hic ut fiximus semel sedem agente terra per caniculam rimas siticulosam sustinemus aestatem parum quod imos perfluunt sinus imbres et in capillos grandines cadunt nostros rigetque dura barba uincta crystallo parum quod acta sub laboribus luce parem diebus peruigil traho noctem huc adde quod me fuste de rudi uilem manus sine arte rusticae dolauerunt interque cunctos ultimum deos numen cucurbitarum ligneus uocor custos accedit istis impudentiae signum libidinoso tenta pyramis neruo ad hoc puella paene nomen adieci solet <span style='color: red;'>uenire[<span style='color:green;'>uenio</span>,ueneo]</span> cum suo fututore quae tot figuras quot <span style='color: red;'>Philaenis[<span style='color:green;'>Philaenis</span>,Philaenae]</span> enarrat Commenta bis pruriginosa discedit</p></p>\n",
       "    "
      ],
      "text/plain": [
       "<IPython.core.display.HTML object>"
      ]
     },
     "metadata": {},
     "output_type": "display_data"
    },
    {
     "data": {
      "text/html": [
       "<h2>Priapée 64</h2>\n",
       "    <p>\n",
       "        <small>\n",
       "        <b>Accuracy:</b> 0.929 <br />\n",
       "        <b>Tokens:</b> 14<br />\n",
       "        <b>Errors: </b> 1<br />\n",
       "        <b>1 error =</b> -7.1 % drop in accuracy <br />\n",
       "        <span style='color:green;'>Ground Truth</span> - <span style='color:red;'>Prediction</span>\n",
       "        </small>\n",
       "    </p>\n",
       "    <p><p>Quidam mollior anseris medulla furatum uenit huc amore poenae <span style='color: red;'>furetur[<span style='color:green;'>furo</span>,furor]</span> licet usque non uidebo</p></p>\n",
       "    "
      ],
      "text/plain": [
       "<IPython.core.display.HTML object>"
      ]
     },
     "metadata": {},
     "output_type": "display_data"
    },
    {
     "data": {
      "text/html": [
       "<h2>Priapée 66</h2>\n",
       "    <p>\n",
       "        <small>\n",
       "        <b>Accuracy:</b> 0.950 <br />\n",
       "        <b>Tokens:</b> 20<br />\n",
       "        <b>Errors: </b> 1<br />\n",
       "        <b>1 error =</b> -5.0 % drop in accuracy <br />\n",
       "        <span style='color:green;'>Ground Truth</span> - <span style='color:red;'>Prediction</span>\n",
       "        </small>\n",
       "    </p>\n",
       "    <p><p>Tu quae ne uideas <span style='color: red;'>notam[<span style='color:green;'>nota</span>,notus]</span> uirilem hinc auerteris ut decet pudicam nimirum nisi quod times uideri intra uiscera habere concupiscis</p></p>\n",
       "    "
      ],
      "text/plain": [
       "<IPython.core.display.HTML object>"
      ]
     },
     "metadata": {},
     "output_type": "display_data"
    },
    {
     "data": {
      "text/html": [
       "<h2>Priapée 67</h2>\n",
       "    <p>\n",
       "        <small>\n",
       "        <b>Accuracy:</b> 0.964 <br />\n",
       "        <b>Tokens:</b> 28<br />\n",
       "        <b>Errors: </b> 1<br />\n",
       "        <b>1 error =</b> -3.6 % drop in accuracy <br />\n",
       "        <span style='color:green;'>Ground Truth</span> - <span style='color:red;'>Prediction</span>\n",
       "        </small>\n",
       "    </p>\n",
       "    <p><p>Penelopes primam Didonis prima sequatur et primam Cadmi syllaba prima Remi <span style='color: red;'>quodque[<span style='color:green;'>quisque</span>,qui界que]</span> fit ex illis tu mi deprensus in horto fur dabis hac poena culpa luenda tua est</p></p>\n",
       "    "
      ],
      "text/plain": [
       "<IPython.core.display.HTML object>"
      ]
     },
     "metadata": {},
     "output_type": "display_data"
    },
    {
     "data": {
      "text/html": [
       "<h2>Priapée 68</h2>\n",
       "    <p>\n",
       "        <small>\n",
       "        <b>Accuracy:</b> 0.926 <br />\n",
       "        <b>Tokens:</b> 242<br />\n",
       "        <b>Errors: </b> 18<br />\n",
       "        <b>1 error =</b> -0.4 % drop in accuracy <br />\n",
       "        <span style='color:green;'>Ground Truth</span> - <span style='color:red;'>Prediction</span>\n",
       "        </small>\n",
       "    </p>\n",
       "    <p><p>Rusticus <span style='color: red;'>indocte[<span style='color:green;'>indoctus</span>,indocte]</span> si quid dixisse uidebor da ueniam libros non lego poma lego sed rudis hic dominum totiens audire legentem cogor <span style='color: red;'>Homeriacas[<span style='color:green;'>Homericus</span>,Homeriacus]</span> edidicique notas ille uocat quod nos <span style='color: red;'>psolen[<span style='color:green;'>psole</span>,psoles]</span> <span style='color: red;'>Ψολόεντα[<span style='color:green;'>[Greek]</span>,ocimius]</span> <span style='color: red;'>κεραυνόν[<span style='color:green;'>[Greek]</span>,ocimilis]</span> et quod nos culum <span style='color: red;'>κουλεόν[<span style='color:green;'>[Greek]</span>,ociomus]</span> ille uocat <span style='color: red;'>Μερδαλέον[<span style='color:green;'>[Greek]</span>,nomo]</span> certe quasi res non munda uocatur et <span style='color: red;'>pediconum[<span style='color:green;'>paedico</span>,pediconus]</span> mentula <span style='color: red;'>merdalea[<span style='color:green;'>merdaleus</span>,merdalis]</span> est Qui nisi Taenario placuisset <span style='color: red;'>Troica[<span style='color:green;'>Troicus</span>,Troica]</span> cunno mentula <span style='color: red;'>quod[<span style='color:green;'>qui</span>,quod]</span> caneret non habuisset opus mentula Tantalidae bene si non mota fuisset nil senior Chryses quod quereretur erat haec eadem socium tenera spoliauit amica quaeque erat Aeacidae maluit esse suam ille Pelethroniam cecinit miserabile carmen ad citharam cithara tensior ipse sua nobilis hinc nata nempe incipit Ilias ira principium sacri carminis fuit altera materia est error fallentis Ulixei si uerum quaeras hunc quoque mouit amor hic legitur radix de qua flos aureus exit quam cum <span style='color: red;'>μῶλυ[<span style='color:green;'>[Greek]</span>,ocis]</span> uocat mentula <span style='color: red;'>μῶλυ[<span style='color:green;'>[Greek]</span>,ocis]</span> fuit hic legimus Circen <span style='color: red;'>Atlantiademque[<span style='color:green;'>Atlantides界que</span>,Atlantiades界que]</span> Calypson grandia Dulichii uasa petisse uiri huius et Alcinoi mirata est filia membrum frondenti ramo uix potuisse tegi ad uetulam tamen ille suam properabat et omnis mens erat in cunno <span style='color: red;'>Penelopea[<span style='color:green;'>Penelope</span>,Penelopeus]</span> tuo quae sic casta <span style='color: red;'>manes[<span style='color:green;'>maneo</span>,Manes]</span> ut iam conuiuia <span style='color: red;'>uisas[<span style='color:green;'>uiso</span>,uideo]</span> utque <span style='color: red;'>fututorum[<span style='color:green;'>futuo</span>,fututus]</span> sit tua plena domus e quibus ut scires quicumque ualentior esset haec es ad arrectos uerba locuta procos nemo meo melius neruum tendebat Ulixe siue illi laterum siue erat artis opus qui quoniam periit uos nunc intendite quemquem esse uirum sciero uir sit ut ille meus hac ego Penelope potui tibi lege placere illo sed nondum tempore natus eram</p></p>\n",
       "    "
      ],
      "text/plain": [
       "<IPython.core.display.HTML object>"
      ]
     },
     "metadata": {},
     "output_type": "display_data"
    },
    {
     "data": {
      "text/html": [
       "<h2>Priapée 70</h2>\n",
       "    <p>\n",
       "        <small>\n",
       "        <b>Accuracy:</b> 0.903 <br />\n",
       "        <b>Tokens:</b> 62<br />\n",
       "        <b>Errors: </b> 6<br />\n",
       "        <b>1 error =</b> -1.6 % drop in accuracy <br />\n",
       "        <span style='color:green;'>Ground Truth</span> - <span style='color:red;'>Prediction</span>\n",
       "        </small>\n",
       "    </p>\n",
       "    <p><p>Illusit mihi pauper inquilinus cum <span style='color: red;'>ferctum[<span style='color:green;'>fertum</span>,ferctum]</span> dederat molamque <span style='color: red;'>tusam[<span style='color:green;'>tundo</span>,tusa]</span> quorum partibus additis in inguen <span style='color: red;'>sacro[<span style='color:green;'>sacrum</span>,sacer]</span> protinus hinc abit peracto uicini canis huc subinde uenit nidorem puto persecuta fumi quae libamine mentulae comeso tota nocte mihi litat <span style='color: red;'>rigando[<span style='color:green;'>rigeo</span>,rigo]</span> at uos amplius hoc loco cauete quicquam ponere ne <span style='color: red;'>famelicarum[<span style='color:green;'>famelicus</span>,famelica]</span> ad me turba uelit canum <span style='color: red;'>uenire[<span style='color:green;'>uenio</span>,ueneo]</span> ne dum me colitis meumque numen custodes habeatis irrumatos</p></p>\n",
       "    "
      ],
      "text/plain": [
       "<IPython.core.display.HTML object>"
      ]
     },
     "metadata": {},
     "output_type": "display_data"
    },
    {
     "data": {
      "text/html": [
       "<h2>Priapée 71</h2>\n",
       "    <p>\n",
       "        <small>\n",
       "        <b>Accuracy:</b> 0.750 <br />\n",
       "        <b>Tokens:</b> 12<br />\n",
       "        <b>Errors: </b> 3<br />\n",
       "        <b>1 error =</b> -8.3 % drop in accuracy <br />\n",
       "        <span style='color:green;'>Ground Truth</span> - <span style='color:red;'>Prediction</span>\n",
       "        </small>\n",
       "    </p>\n",
       "    <p><p>Si commissa meae carpes <span style='color: red;'>pomaria[<span style='color:green;'>pomarius</span>,pomarium]</span> curae dulcia <span style='color: red;'>quid[<span style='color:green;'>qui</span>,quis]</span> doleam perdere <span style='color: red;'>doctus[<span style='color:green;'>doceo</span>,doctus]</span> eris</p></p>\n",
       "    "
      ],
      "text/plain": [
       "<IPython.core.display.HTML object>"
      ]
     },
     "metadata": {},
     "output_type": "display_data"
    },
    {
     "data": {
      "text/html": [
       "<h2>Priapée 72</h2>\n",
       "    <p>\n",
       "        <small>\n",
       "        <b>Accuracy:</b> 0.870 <br />\n",
       "        <b>Tokens:</b> 23<br />\n",
       "        <b>Errors: </b> 3<br />\n",
       "        <b>1 error =</b> -4.3 % drop in accuracy <br />\n",
       "        <span style='color:green;'>Ground Truth</span> - <span style='color:red;'>Prediction</span>\n",
       "        </small>\n",
       "    </p>\n",
       "    <p><p>Tutelam <span style='color: red;'>pomarii[<span style='color:green;'>pomarium</span>,pomarius]</span> diligens Priape facito <span style='color: red;'>rubricato[<span style='color:green;'>rubricatus</span>,rubrico]</span> furibus minare <span style='color: red;'>mutinio[<span style='color:green;'>Mutinius</span>,mutinium]</span> Quod mouear non est quia si furaberis ipse grandia mala tibi brachia macra dabo</p></p>\n",
       "    "
      ],
      "text/plain": [
       "<IPython.core.display.HTML object>"
      ]
     },
     "metadata": {},
     "output_type": "display_data"
    },
    {
     "data": {
      "text/html": [
       "<h2>Priapée 75</h2>\n",
       "    <p>\n",
       "        <small>\n",
       "        <b>Accuracy:</b> 0.840 <br />\n",
       "        <b>Tokens:</b> 81<br />\n",
       "        <b>Errors: </b> 13<br />\n",
       "        <b>1 error =</b> -1.2 % drop in accuracy <br />\n",
       "        <span style='color:green;'>Ground Truth</span> - <span style='color:red;'>Prediction</span>\n",
       "        </small>\n",
       "    </p>\n",
       "    <p><p><span style='color: red;'>Dodone[<span style='color:green;'>Dodonis</span>,Dodone]</span> tibi Iuppiter <span style='color: red;'>sacrata[<span style='color:green;'>sacro</span>,sacratus]</span> est Iunoni <span style='color: red;'>Samos[<span style='color:green;'>Samos</span>,Samus]</span> et Mycena <span style='color: red;'>dites[<span style='color:green;'>dis</span>,diues]</span> undae Taenaros <span style='color: red;'>aequorumque[<span style='color:green;'>aequus界que</span>,aequor界que]</span> regi Pallas Cecropias tuetur arces Delphos Pythius orbis umbilicum <span style='color: red;'>Creten[<span style='color:green;'>Cretes</span>,Creta]</span> Delia Cynthiosque colles Faunus Maenalon Arcadumque siluas tutela <span style='color: red;'>Rhodos[<span style='color:green;'>Rhodos</span>,Rhodus]</span> est <span style='color: red;'>beata[<span style='color:green;'>beo</span>,beatus]</span> <span style='color: red;'>Solis[<span style='color:green;'>sol</span>,Sol]</span> Gades Herculis umidumque Tibur Cyllene celeri deo niuosa tardo gratior aestuosa Lemnos Hennaeae Cererem nurus frequentant raptam Cyzicos ostreosa diuam formosam uenerem <span style='color: red;'>Gnidos[<span style='color:green;'>Cnidus</span>,Gnidus]</span> Paphosque mortales tibi Lampsacum dicarunt Quod sim iam <span style='color: red;'>senior[<span style='color:green;'>senior</span>,senex]</span> meumque <span style='color: red;'>canis[<span style='color:green;'>canus</span>,cano]</span> Cum barba caput <span style='color: red;'>albicet[<span style='color:green;'>albico</span>,albicio]</span> capillis Deprensos ego perforare possum Tithonum Priamumque Nestoremque</p></p>\n",
       "    "
      ],
      "text/plain": [
       "<IPython.core.display.HTML object>"
      ]
     },
     "metadata": {},
     "output_type": "display_data"
    },
    {
     "data": {
      "text/html": [
       "<h2>Priapée 76</h2>\n",
       "    <p>\n",
       "        <small>\n",
       "        <b>Accuracy:</b> 0.955 <br />\n",
       "        <b>Tokens:</b> 89<br />\n",
       "        <b>Errors: </b> 4<br />\n",
       "        <b>1 error =</b> -1.1 % drop in accuracy <br />\n",
       "        <span style='color:green;'>Ground Truth</span> - <span style='color:red;'>Prediction</span>\n",
       "        </small>\n",
       "    </p>\n",
       "    <p><p>Inmanem stomachum mihi cietis qui densam facitis subinde <span style='color: red;'>saepem[<span style='color:green;'>saepes</span>,saeper]</span> et fures prohibetis huc adire hoc est laedere dum iuuatis hoc est non admittere ad aucupem <span style='color: red;'>uolucres[<span style='color:green;'>uolucris</span>,uolucer]</span> obstructa est uia nec licet iacenti iactura natis expiare culpam ergo qui prius usque et usque et usque furum scindere <span style='color: red;'>podices[<span style='color:green;'>paudex</span>,podex]</span> solebam per noctes aliquot diesque cesso poenas do quoque quot satis superque est in semenque abeo salaxque quondam nunc uitam perago quis hoc putaret ut <span style='color: red;'>clusus[<span style='color:green;'>claudo?</span>,claudo]</span> citharoedus abstinacem at uos ne peream situ senili quaeso desinite esse diligentes neue inponite fibulam Priapo</p></p>\n",
       "    "
      ],
      "text/plain": [
       "<IPython.core.display.HTML object>"
      ]
     },
     "metadata": {},
     "output_type": "display_data"
    }
   ],
   "source": [
    "from IPython.core.display import display, HTML\n",
    "\n",
    "THRESHOLD = 0.99\n",
    "\n",
    "TO_CHECK = [\n",
    "    pria_id - PRIA_START - 1\n",
    "    for pria_id in (DF_PRIAPEES[\"lemma\"].loc[DF_PRIAPEES[\"lemma\"] < THRESHOLD]).index\n",
    "]\n",
    "TO_CHECK_ID = list((DF_PRIAPEES[\"lemma\"].loc[DF_PRIAPEES[\"lemma\"] < THRESHOLD]).index)\n",
    "    \n",
    "pred, truth = RAW_SCORES[\"lemma\"]\n",
    "flatten_tokens = [tok for sent in TOKENS for tok in sent]\n",
    "ms_start = 0\n",
    "\n",
    "for pria_id, (ms_start, ms_end) in enumerate(zip([0] + MILESTONES, MILESTONES)):\n",
    "    #if ms_end is not None:\n",
    "    #    ms_end += 1\n",
    "    if pria_id not in TO_CHECK:\n",
    "        continue\n",
    "    nice_id = TO_CHECK_ID.pop(0)\n",
    "    text = []\n",
    "    nb_tokens = ms_end - ms_start\n",
    "    size = 1 / nb_tokens\n",
    "    nb_errors = 0\n",
    "    for tok, t, p in zip(flatten_tokens[ms_start:ms_end], truth[ms_start:ms_end], pred[ms_start:ms_end]):\n",
    "        if t == p:\n",
    "            text.append(tok)\n",
    "        else:\n",
    "            text.append(f\"<span style='color: red;'>{tok}[<span style='color:green;'>{t}</span>,{p}]</span>\")\n",
    "            nb_errors += 1\n",
    "            \n",
    "    text = \"<p>\"+\" \".join(text).replace(\" -\", \"-\") + \"</p>\"\n",
    "    text = f\"\"\"<h2>Priapée {nice_id}</h2>\n",
    "    <p>\n",
    "        <small>\n",
    "        <b>Accuracy:</b> {accuracy_score(truth[ms_start:ms_end], pred[ms_start:ms_end]):.3f} <br />\n",
    "        <b>Tokens:</b> {ms_end - ms_start}<br />\n",
    "        <b>Errors: </b> {nb_errors}<br />\n",
    "        <b>1 error =</b> -{size*100:.1f} % drop in accuracy <br />\n",
    "        <span style='color:green;'>Ground Truth</span> - <span style='color:red;'>Prediction</span>\n",
    "        </small>\n",
    "    </p>\n",
    "    <p>{text}</p>\n",
    "    \"\"\"\n",
    "    display(HTML(text))\n",
    "    "
   ]
  }
 ],
 "metadata": {
  "kernelspec": {
   "display_name": "Python 3",
   "language": "python",
   "name": "python3"
  },
  "language_info": {
   "codemirror_mode": {
    "name": "ipython",
    "version": 3
   },
   "file_extension": ".py",
   "mimetype": "text/x-python",
   "name": "python",
   "nbconvert_exporter": "python",
   "pygments_lexer": "ipython3",
   "version": "3.6.7"
  },
  "toc": {
   "base_numbering": 1,
   "nav_menu": {},
   "number_sections": true,
   "sideBar": true,
   "skip_h1_title": false,
   "title_cell": "Table of Contents",
   "title_sidebar": "Contents",
   "toc_cell": false,
   "toc_position": {},
   "toc_section_display": true,
   "toc_window_display": false
  }
 },
 "nbformat": 4,
 "nbformat_minor": 2
}
