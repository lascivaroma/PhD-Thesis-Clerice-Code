{
 "cells": [
  {
   "cell_type": "code",
   "execution_count": 131,
   "metadata": {},
   "outputs": [],
   "source": [
    "from typing import List, Dict\n",
    "from tqdm import tqdm"
   ]
  },
  {
   "cell_type": "markdown",
   "metadata": {},
   "source": [
    "# Analyse sur le hors domaine Priapées"
   ]
  },
  {
   "cell_type": "markdown",
   "metadata": {},
   "source": [
    "## Objectifs\n",
    "\n",
    "Évaluer et visualiser les résultats sur la vulgate"
   ]
  },
  {
   "cell_type": "markdown",
   "metadata": {},
   "source": [
    "## Chargement du corpus GOLD"
   ]
  },
  {
   "cell_type": "code",
   "execution_count": 132,
   "metadata": {},
   "outputs": [],
   "source": [
    "import lxml.etree as ET\n",
    "\n",
    "GOLD: List[List[Dict[str, str]]] = [[]]\n",
    "    \n",
    "MILESTONES: List[int] = []\n",
    "    \n",
    "PRIA_START, PRIA_END = 46, 75\n",
    "NS = {\"t\":\"http://www.tei-c.org/ns/1.0\"}\n",
    "\n",
    "with open(\"../../../priapea-lemmat/priapea.xml\") as f:\n",
    "    xml = ET.parse(f)\n",
    "    for ab_num, ab in enumerate(xml.xpath(\n",
    "        \"//t:ab\", \n",
    "        namespaces=NS)):\n",
    "        \n",
    "        if ab_num < PRIA_START or ab_num > PRIA_END:\n",
    "            continue\n",
    "        \n",
    "        for tok in ab.xpath(\"./t:w\", namespaces=NS):\n",
    "            token = tok.text\n",
    "            lemma, pos, msd = (\n",
    "                tok.attrib[\"lemma\"],\n",
    "                tok.attrib[\"pos\"], \n",
    "                tok.attrib[\"msd\"]\n",
    "            )\n",
    "            if pos == \"PUNC\":\n",
    "                if token in \".!?\":\n",
    "                    GOLD.append([])\n",
    "                continue\n",
    "            GOLD[-1].append({\n",
    "                \"form\": token,\n",
    "                \"lemma\": lemma,\n",
    "                \"pos\": pos,\n",
    "                \"morph\": msd\n",
    "            })\n",
    "            \n",
    "        MILESTONES.append(sum(len([x for x in g if not x[\"form\"].startswith(\"-\")]) for g in GOLD if len(g)))\n",
    "    \n",
    "GOLD = [g for g in GOLD if len(g)]"
   ]
  },
  {
   "cell_type": "code",
   "execution_count": 133,
   "metadata": {},
   "outputs": [
    {
     "name": "stdout",
     "output_type": "stream",
     "text": [
      "[29, 58, 80, 114, 263, 322, 360, 373, 411, 442, 484, 503, 513, 525, 593, 603, 698, 712, 738, 758, 786, 1028, 1051, 1113, 1125, 1148, 1175, 1187, 1268, 1357]\n",
      "30\n"
     ]
    }
   ],
   "source": [
    "#Debug:\n",
    "print(MILESTONES)\n",
    "print(len(MILESTONES))"
   ]
  },
  {
   "cell_type": "markdown",
   "metadata": {},
   "source": [
    "## Reparse morphology for evaluation"
   ]
  },
  {
   "cell_type": "code",
   "execution_count": 134,
   "metadata": {},
   "outputs": [
    {
     "name": "stderr",
     "output_type": "stream",
     "text": [
      "100%|██████████| 78/78 [00:00<00:00, 14961.16it/s]\n"
     ]
    }
   ],
   "source": [
    "TEMP = []\n",
    "TASKS = \"lemma,Deg,Numb,Person,Mood_Tense_Voice,Case,Gend,pos\".split(\",\")\n",
    "for sentence in tqdm(GOLD):\n",
    "    temp_sentence = []\n",
    "    for token in sentence:\n",
    "        new_token = {task: \"_\" for task in TASKS}\n",
    "        new_token.update({\n",
    "            \"form\": token[\"form\"].lower().replace(\"v\", \"u\").replace(\"j\", \"i\"),\n",
    "            \"lemma\": token[\"lemma\"].lower(),\n",
    "            # No POS distinction\n",
    "            \"pos\": token[\"pos\"].replace(\"com\", \"\").replace(\"pro\", \"\")\n",
    "        })\n",
    "        # No disambiguation at the lemmatizer lever\n",
    "        if new_token[\"lemma\"][-1].isnumeric():\n",
    "            new_token[\"lemma\"] = new_token[\"lemma\"][:-1]\n",
    "            \n",
    "        # Treat morph as separate tasks\n",
    "        for morph in token[\"morph\"].split(\"|\"):\n",
    "            task, value = morph.split(\"=\")\n",
    "            new_token[task] = value\n",
    "        new_token[\"Mood_Tense_Voice\"] = \"|\".join([\n",
    "            new_token.get(task, \"_\")\n",
    "            for task in (\"Mood\", \"Tense\", \"Voice\")\n",
    "        ]).replace(\"_|_|_\", \"_\")\n",
    "        \n",
    "        if new_token[\"form\"].startswith(\"-\"):\n",
    "            temp_sentence[-1][\"form\"] += new_token[\"form\"][1:]\n",
    "            temp_sentence[-1][\"lemma\"] += \"界\" + new_token[\"lemma\"]\n",
    "            continue\n",
    "        temp_sentence.append(new_token)\n",
    "        \n",
    "    TEMP.append(temp_sentence)\n",
    "GOLD = TEMP"
   ]
  },
  {
   "cell_type": "markdown",
   "metadata": {},
   "source": [
    "## Obtention des données (formes uniquement)"
   ]
  },
  {
   "cell_type": "code",
   "execution_count": 135,
   "metadata": {},
   "outputs": [
    {
     "name": "stdout",
     "output_type": "stream",
     "text": [
      "['quicumque', 'uestrum', 'qui', 'uenitis', 'ad', 'cenam', 'libare', 'nullos', 'sustinet', 'mihi', 'uersus', 'illius', 'uxor', 'aut', 'amica', 'riualem', 'lasciuiendo', 'languidum', 'precor', 'reddat', 'et', 'ipse', 'longa', 'nocte', 'dormiat', 'solus', 'libidinosis', 'incitatus', 'erucis']\n",
      "29 29\n",
      "['quod', 'partem', 'madidam', 'mei', 'uidetis', 'per', 'quam', 'significor', 'priapus', 'esse', 'non', 'ros', 'est', 'mihi', 'crede', 'nec', 'pruina', 'sed', 'quod', 'sponte', 'sua', 'solet', 'remitti', 'cum', 'mens', 'est', 'pathicae', 'memor', 'puellae']\n",
      "29 58\n",
      "['tu', 'quicumque', 'uides', 'circa', 'tectoria', 'nostra', 'non', 'nimium', 'casti', 'carmina', 'plena', 'ioci', 'uersibus', 'obscenis', 'offendi', 'desine', 'non', 'est', 'mentula', 'subducti', 'nostra', 'supercilii']\n",
      "22 80\n",
      "['quaedam', 'si', 'placet', 'hoc', 'tibi', 'priape', 'fucosissima', 'me', 'puella', 'ludit', 'et', 'nec', 'dat', 'mihi', 'nec', 'negat', 'daturam', 'causas', 'inuenit', 'usque', 'differendi']\n",
      "21 101\n",
      "['quae', 'si', 'contigerit', 'fruenda', 'nobis', 'totam', 'comparibus', 'priape', 'nostris', 'cingemus', 'tibi', 'mentulam', 'coronis']\n",
      "13 114\n",
      "['quid', 'hoc', 'negoti', 'est', 'quaue', 'suspicer', 'causa', 'uenire', 'in', 'hortum', 'plurimos', 'meum', 'fures', 'cum', 'quisquis', 'in', 'nos', 'incidit', 'luat', 'poenas', 'et', 'usque', 'curuos', 'excauetur', 'ad', 'lumbos']\n",
      "26 140\n",
      "['non', 'ficus', 'hic', 'est', 'praeferenda', 'uicinae', 'uuaeque', 'quales', 'flaua', 'legit', 'arete', 'non', 'mala', 'truncis', 'adserenda', 'picenis', 'pirumue', 'tanto', 'quod', 'periculo', 'captes', 'magisque', 'cera', 'luteum', 'noua', 'prunum', 'sorbumue', 'uentres', 'lubricos', 'moraturum']\n",
      "30 170\n",
      "['praesigne', 'rami', 'nec', 'mei', 'ferunt', 'morum', 'nucemue', 'longam', 'quae', 'uocatur', 'albana', 'amygdalumue', 'flore', 'purpureo', 'fulgens']\n",
      "15 185\n",
      "['non', 'brassicarum', 'ferre', 'glorior', 'caules', 'betasue', 'quantas', 'hortus', 'educat', 'nullus', 'crescensue', 'semper', 'in', 'suum', 'caput', 'porrum']\n",
      "16 201\n",
      "['nec', 'seminosas', 'ad', 'cucurbitas', 'quemquam', 'ad', 'ocimumue', 'cucumeresque', 'humi', 'fusos', 'uenire', 'credo', 'sessilesue', 'lactucas', 'acresque', 'cepas', 'aliumque', 'furatum', 'nec', 'ut', 'salaces', 'nocte', 'tollat', 'erucas', 'mentamque', 'olentem', 'cum', 'salubribus', 'rutis']\n",
      "29 230\n",
      "['quae', 'cuncta', 'quamuis', 'nostro', 'habemus', 'in', 'saepto', 'non', 'pauciora', 'proximi', 'ferunt', 'horti']\n",
      "12 242\n",
      "['quibus', 'relictis', 'in', 'mihi', 'laboratum', 'locum', 'uenitis', 'improbissimi', 'fures', 'nimirum', 'apertam', 'conuolatis', 'ad', 'poenam', 'et', 'uos', 'id', 'ipsum', 'quod', 'minamur', 'inuitat']\n",
      "21 263\n",
      "['heus', 'tu', 'non', 'bene', 'qui', 'manum', 'rapacem', 'mandato', 'mihi', 'contines', 'ab', 'horto', 'iam', 'primum', 'stator', 'hic', 'libidinosus', 'alternis', 'et', 'eundo', 'et', 'exeundo', 'porta', 'te', 'faciet', 'patentiorem']\n",
      "26 289\n",
      "['accedent', 'duo', 'qui', 'latus', 'tuentur', 'pulchre', 'pensilibus', 'peculiati', 'qui', 'cum', 'te', 'male', 'foderint', 'iacentem', 'ad', 'partes', 'ueniet', 'salax', 'asellus', 'et', 'nil', 'deterius', 'mutuniatus']\n",
      "23 312\n",
      "['quare', 'qui', 'sapiet', 'malus', 'cauebit', 'cum', 'tantum', 'sciat', 'esse', 'mentularum']\n",
      "10 322\n",
      "['contentus', 'modico', 'bacchus', 'solet', 'esse', 'racemo', 'cum', 'capiant', 'alti', 'uix', 'cita', 'musta', 'lacus', 'magnaque', 'fecundis', 'cum', 'messibus', 'area', 'desit', 'in', 'cereris', 'crines', 'una', 'corona', 'datur']\n",
      "25 347\n",
      "['tu', 'quoque', 'diue', 'minor', 'maiorum', 'exempla', 'secutus', 'quamuis', 'pauca', 'damus', 'consule', 'poma', 'boni']\n",
      "13 360\n",
      "['cd', 'si', 'scribas', 'temonemque', 'insuper', 'addas', 'qui', 'medium', 'uult', 'te', 'scindere', 'pictus', 'erit']\n",
      "13 373\n",
      "['credere', 'quis', 'possit']\n",
      "3 376\n",
      "['falcem', 'quoque', 'turpe', 'fateri', 'de', 'digitis', 'fures', 'subripuere', 'meis']\n",
      "9 385\n",
      "['nec', 'mouet', 'amissi', 'tam', 'me', 'iactura', 'pudorque', 'quam', 'praebent', 'iustos', 'altera', 'tela', 'metus', 'quae', 'si', 'perdidero', 'patria', 'mutabor', 'et', 'olim', 'ille', 'tuus', 'ciuis', 'lampsace', 'gallus', 'ero']\n",
      "26 411\n",
      "['derides', 'quoque', 'fur', 'et', 'impudicum', 'ostendis', 'digitum', 'mihi', 'minanti']\n",
      "9 420\n",
      "['eheu', 'me', 'miserum', 'quod', 'ista', 'lignum', 'est', 'quae', 'me', 'terribilem', 'facit', 'uideri']\n",
      "12 432\n",
      "['mandabo', 'domino', 'tamen', 'salaci', 'ut', 'pro', 'me', 'uelit', 'irrumare', 'fures']\n",
      "10 442\n",
      "['cornix', 'et', 'caries', 'uetusque', 'bustum', 'turba', 'putida', 'facta', 'saeculorum', 'quae', 'forsan', 'potuisset', 'esse', 'nutrix', 'tithoni', 'priamique', 'nestorisque', 'illis', 'ni', 'pueris', 'anus', 'fuisset', 'ne', 'desit', 'sibi', 'me', 'rogat', 'fututor']\n",
      "28 470\n",
      "['quid', 'si', 'nunc', 'roget', 'ut', 'puella', 'fiat']\n",
      "7 477\n",
      "['si', 'nummos', 'tamen', 'haec', 'habet', 'puella', 'est']\n",
      "7 484\n",
      "['quicumque', 'nostram', 'fur', 'fefellerit', 'curam', 'effeminato', 'uerminet', 'procul', 'culo', 'quaeque', 'hic', 'proterua', 'carpserit', 'manu', 'poma', 'puella', 'nullum', 'reperiat', 'fututorem']\n",
      "19 503\n",
      "['praedictum', 'tibi', 'ne', 'negare', 'possis', 'si', 'fur', 'ueneris', 'inpudicus', 'exis']\n",
      "10 513\n",
      "['si', 'quot', 'habes', 'uersus', 'tot', 'haberes', 'poma', 'priape', 'esses', 'antiquo', 'ditior', 'alcinoo']\n",
      "12 525\n",
      "['quid', 'frustra', 'quereris', 'colone', 'cum', 'me', 'quod', 'quondam', 'bene', 'fructuosa', 'malus', 'autumnis', 'sterilis', 'duobus', 'adstem']\n",
      "15 540\n",
      "['non', 'me', 'praegrauat', 'ut', 'putas', 'senectus', 'nec', 'sum', 'grandine', 'uerberata', 'dura', 'nec', 'gemmas', 'modo', 'germine', 'exeuntes', 'seri', 'frigoris', 'ustulauit', 'aura', 'nec', 'uenti', 'pluuiaeue', 'siccitasue', 'quod', 'de', 'se', 'quererer', 'malum', 'dederunt', 'non', 'sturnus', 'mihi', 'graculusue', 'raptor', 'aut', 'cornix', 'anus', 'aut', 'aquosus', 'anser', 'aut', 'coruus', 'nocuit', 'siticulosus', 'sed', 'quod', 'carmina', 'pessimi', 'poetae', 'ramis', 'sustineo', 'laboriosis']\n",
      "53 593\n",
      "['securi', 'dormite', 'canes', 'custodiet', 'hortum', 'cum', 'sibi', 'dilecta', 'sirius', 'erigone']\n",
      "10 603\n",
      "['parum', 'est', 'quod', 'hic', 'ut', 'fiximus', 'semel', 'sedem', 'agente', 'terra', 'per', 'caniculam', 'rimas', 'siticulosam', 'sustinemus', 'aestatem', 'parum', 'quod', 'imos', 'perfluunt', 'sinus', 'imbres', 'et', 'in', 'capillos', 'grandines', 'cadunt', 'nostros', 'rigetque', 'dura', 'barba', 'uincta', 'crystallo', 'parum', 'quod', 'acta', 'sub', 'laboribus', 'luce', 'parem', 'diebus', 'peruigil', 'traho', 'noctem']\n",
      "44 647\n",
      "['huc', 'adde', 'quod', 'me', 'fuste', 'de', 'rudi', 'uilem', 'manus', 'sine', 'arte', 'rusticae', 'dolauerunt', 'interque', 'cunctos', 'ultimum', 'deos', 'numen', 'cucurbitarum', 'ligneus', 'uocor', 'custos']\n",
      "22 669\n",
      "['accedit', 'istis', 'impudentiae', 'signum', 'libidinoso', 'tenta', 'pyramis', 'neruo']\n",
      "8 677\n",
      "['ad', 'hoc', 'puella', 'paene', 'nomen', 'adieci', 'solet', 'uenire', 'cum', 'suo', 'fututore', 'quae', 'tot', 'figuras', 'quot', 'philaenis', 'enarrat', 'commenta', 'bis', 'pruriginosa', 'discedit']\n",
      "21 698\n",
      "['quidam', 'mollior', 'anseris', 'medulla', 'furatum', 'uenit', 'huc', 'amore', 'poenae', 'furetur', 'licet', 'usque', 'non', 'uidebo']\n",
      "14 712\n",
      "['hic', 'tibi', 'qui', 'rostro', 'crescentia', 'lilia', 'mersit', 'caeditur', 'e', 'tepida', 'uictima', 'porcus', 'hara', 'ne', 'tamen', 'exanimum', 'facias', 'pecus', 'omne', 'priape', 'horti', 'sit', 'facias', 'ianua', 'clausa', 'tui']\n",
      "26 738\n",
      "['tu', 'quae', 'ne', 'uideas', 'notam', 'uirilem', 'hinc', 'auerteris', 'ut', 'decet', 'pudicam', 'nimirum', 'nisi', 'quod', 'times', 'uideri', 'intra', 'uiscera', 'habere', 'concupiscis']\n",
      "20 758\n",
      "['penelopes', 'primam', 'didonis', 'prima', 'sequatur', 'et', 'primam', 'cadmi', 'syllaba', 'prima', 'remi', 'quodque', 'fit', 'ex', 'illis', 'tu', 'mi', 'deprensus', 'in', 'horto', 'fur', 'dabis', 'hac', 'poena', 'culpa', 'luenda', 'tua', 'est']\n",
      "28 786\n",
      "['rusticus', 'indocte', 'si', 'quid', 'dixisse', 'uidebor', 'da', 'ueniam', 'libros', 'non', 'lego', 'poma', 'lego']\n",
      "13 799\n",
      "['sed', 'rudis', 'hic', 'dominum', 'totiens', 'audire', 'legentem', 'cogor', 'homeriacas', 'edidicique', 'notas']\n",
      "11 810\n",
      "['ille', 'uocat', 'quod', 'nos', 'psolen', 'ψολόεντα', 'κεραυνόν', 'et', 'quod', 'nos', 'culum', 'κουλεόν', 'ille', 'uocat']\n",
      "14 824\n",
      "['μερδαλέον', 'certe', 'quasi', 'res', 'non', 'munda', 'uocatur', 'et', 'pediconum', 'mentula', 'merdalea', 'est']\n",
      "12 836\n",
      "['qui', 'nisi', 'taenario', 'placuisset', 'troica', 'cunno', 'mentula', 'quod', 'caneret', 'non', 'habuisset', 'opus']\n",
      "12 848\n",
      "['mentula', 'tantalidae', 'bene', 'si', 'non', 'mota', 'fuisset', 'nil', 'senior', 'chryses', 'quod', 'quereretur', 'erat']\n",
      "13 861\n",
      "['haec', 'eadem', 'socium', 'tenera', 'spoliauit', 'amica', 'quaeque', 'erat', 'aeacidae', 'maluit', 'esse', 'suam']\n",
      "12 873\n",
      "['ille', 'pelethroniam', 'cecinit', 'miserabile', 'carmen', 'ad', 'citharam', 'cithara', 'tensior', 'ipse', 'sua']\n",
      "11 884\n",
      "['nobilis', 'hinc', 'nata', 'nempe', 'incipit', 'ilias', 'ira', 'principium', 'sacri', 'carminis', 'fuit']\n",
      "11 895\n",
      "['altera', 'materia', 'est', 'error', 'fallentis', 'ulixei', 'si', 'uerum', 'quaeras', 'hunc', 'quoque', 'mouit', 'amor']\n",
      "13 908\n",
      "['hic', 'legitur', 'radix', 'de', 'qua', 'flos', 'aureus', 'exit', 'quam', 'cum', 'μῶλυ', 'uocat', 'mentula', 'μῶλυ', 'fuit']\n",
      "15 923\n",
      "['hic', 'legimus', 'circen', 'atlantiademque', 'calypson', 'grandia', 'dulichii', 'uasa', 'petisse', 'uiri']\n",
      "10 933\n",
      "['huius', 'et', 'alcinoi', 'mirata', 'est', 'filia', 'membrum', 'frondenti', 'ramo', 'uix', 'potuisse', 'tegi']\n",
      "12 945\n",
      "['ad', 'uetulam', 'tamen', 'ille', 'suam', 'properabat', 'et', 'omnis', 'mens', 'erat', 'in', 'cunno', 'penelopea', 'tuo', 'quae', 'sic', 'casta', 'manes', 'ut', 'iam', 'conuiuia', 'uisas', 'utque', 'fututorum', 'sit', 'tua', 'plena', 'domus']\n",
      "28 973\n",
      "['e', 'quibus', 'ut', 'scires', 'quicumque', 'ualentior', 'esset', 'haec', 'es', 'ad', 'arrectos', 'uerba', 'locuta', 'procos', 'nemo', 'meo', 'melius', 'neruum', 'tendebat', 'ulixe', 'siue', 'illi', 'laterum', 'siue', 'erat', 'artis', 'opus']\n",
      "27 1000\n",
      "['qui', 'quoniam', 'periit', 'uos', 'nunc', 'intendite', 'quemquem', 'esse', 'uirum', 'sciero', 'uir', 'sit', 'ut', 'ille', 'meus']\n",
      "15 1015\n",
      "['hac', 'ego', 'penelope', 'potui', 'tibi', 'lege', 'placere', 'illo', 'sed', 'nondum', 'tempore', 'natus', 'eram']\n",
      "13 1028\n",
      "['cum', 'fici', 'tibi', 'suauitas', 'subibit', 'et', 'iam', 'porrigere', 'huc', 'manum', 'libebit', 'ad', 'me', 'respice', 'fur', 'et', 'aestimato', 'quot', 'pondo', 'est', 'tibi', 'mentulam', 'cacandum']\n",
      "23 1051\n",
      "['illusit', 'mihi', 'pauper', 'inquilinus', 'cum', 'ferctum', 'dederat', 'molamque', 'tusam', 'quorum', 'partibus', 'additis', 'in', 'inguen', 'sacro', 'protinus', 'hinc', 'abit', 'peracto']\n",
      "19 1070\n",
      "['uicini', 'canis', 'huc', 'subinde', 'uenit', 'nidorem', 'puto', 'persecuta', 'fumi', 'quae', 'libamine', 'mentulae', 'comeso', 'tota', 'nocte', 'mihi', 'litat', 'rigando']\n",
      "18 1088\n",
      "['at', 'uos', 'amplius', 'hoc', 'loco', 'cauete', 'quicquam', 'ponere', 'ne', 'famelicarum', 'ad', 'me', 'turba', 'uelit', 'canum', 'uenire', 'ne', 'dum', 'me', 'colitis', 'meumque', 'numen', 'custodes', 'habeatis', 'irrumatos']\n",
      "25 1113\n",
      "['si', 'commissa', 'meae', 'carpes', 'pomaria', 'curae', 'dulcia', 'quid', 'doleam', 'perdere', 'doctus', 'eris']\n",
      "12 1125\n",
      "['tutelam', 'pomarii', 'diligens', 'priape', 'facito', 'rubricato', 'furibus', 'minare', 'mutinio']\n",
      "9 1134\n",
      "['quod', 'mouear', 'non', 'est', 'quia', 'si', 'furaberis', 'ipse', 'grandia', 'mala', 'tibi', 'brachia', 'macra', 'dabo']\n",
      "14 1148\n",
      "['obliquis', 'quid', 'me', 'pathicae', 'spectatis', 'ocellis']\n",
      "6 1154\n",
      "['non', 'stat', 'in', 'inguinibus', 'mentula', 'tenta', 'meis']\n",
      "7 1161\n",
      "['quae', 'tamen', 'exanimis', 'nunc', 'est', 'et', 'inutile', 'lignum', 'utilis', 'haec', 'aram', 'si', 'dederitis', 'erit']\n",
      "14 1175\n",
      "['per', 'medios', 'ibit', 'pueros', 'mediasque', 'puellas', 'mentula', 'barbatis', 'non', 'nisi', 'summa', 'petet']\n",
      "12 1187\n",
      "['dodone', 'tibi', 'iuppiter', 'sacrata', 'est', 'iunoni', 'samos', 'et', 'mycena', 'dites', 'undae', 'taenaros', 'aequorumque', 'regi', 'pallas', 'cecropias', 'tuetur', 'arces', 'delphos', 'pythius', 'orbis', 'umbilicum', 'creten', 'delia', 'cynthiosque', 'colles', 'faunus', 'maenalon', 'arcadumque', 'siluas', 'tutela', 'rhodos', 'est', 'beata', 'solis', 'gades', 'herculis', 'umidumque', 'tibur', 'cyllene', 'celeri', 'deo', 'niuosa', 'tardo', 'gratior', 'aestuosa', 'lemnos', 'hennaeae', 'cererem', 'nurus', 'frequentant', 'raptam', 'cyzicos', 'ostreosa', 'diuam', 'formosam', 'uenerem', 'gnidos', 'paphosque', 'mortales', 'tibi', 'lampsacum', 'dicarunt']\n",
      "63 1250\n",
      "['quod', 'sim', 'iam', 'senior', 'meumque', 'canis', 'cum', 'barba', 'caput', 'albicet', 'capillis', 'deprensos', 'ego', 'perforare', 'possum', 'tithonum', 'priamumque', 'nestoremque']\n",
      "18 1268\n",
      "['inmanem', 'stomachum', 'mihi', 'cietis', 'qui', 'densam', 'facitis', 'subinde', 'saepem', 'et', 'fures', 'prohibetis', 'huc', 'adire']\n",
      "14 1282\n",
      "['hoc', 'est', 'laedere', 'dum', 'iuuatis', 'hoc', 'est', 'non', 'admittere', 'ad', 'aucupem', 'uolucres']\n",
      "12 1294\n",
      "['obstructa', 'est', 'uia', 'nec', 'licet', 'iacenti', 'iactura', 'natis', 'expiare', 'culpam']\n",
      "10 1304\n",
      "['ergo', 'qui', 'prius', 'usque', 'et', 'usque', 'et', 'usque', 'furum', 'scindere', 'podices', 'solebam', 'per', 'noctes', 'aliquot', 'diesque', 'cesso']\n",
      "17 1321\n",
      "['poenas', 'do', 'quoque', 'quot', 'satis', 'superque', 'est', 'in', 'semenque', 'abeo', 'salaxque', 'quondam', 'nunc', 'uitam', 'perago', 'quis', 'hoc', 'putaret']\n",
      "18 1339\n",
      "['ut', 'clusus', 'citharoedus', 'abstinacem']\n",
      "4 1343\n",
      "['at', 'uos', 'ne', 'peream', 'situ', 'senili', 'quaeso', 'desinite', 'esse', 'diligentes', 'neue', 'inponite', 'fibulam', 'priapo']\n",
      "14 1357\n"
     ]
    }
   ],
   "source": [
    "TOKENS = [\n",
    "    [x[\"form\"] for x in sentence]\n",
    "    for sentence in GOLD\n",
    "]\n",
    "nb = 0\n",
    "for sent in TOKENS:\n",
    "    print(sent)\n",
    "    nb += len(sent)\n",
    "    print(len(sent), nb)"
   ]
  },
  {
   "cell_type": "markdown",
   "metadata": {},
   "source": [
    "## Test"
   ]
  },
  {
   "cell_type": "code",
   "execution_count": 136,
   "metadata": {},
   "outputs": [
    {
     "name": "stderr",
     "output_type": "stream",
     "text": [
      "2020-06-05 09:37:18,330 : Model ../../../latin-lasla-models/model.tar was serialized with a previous version of `pie`. This might result in issues. Model commit is 050815e, whereas current `pie` commit is 51d48f75.\n",
      "1it [00:01,  1.85s/it]\n"
     ]
    }
   ],
   "source": [
    "from pie.tagger import Tagger\n",
    "from pie.utils import chunks\n",
    "DEVICE = \"cpu\"\n",
    "BATCH_SIZE = 128\n",
    "\n",
    "\n",
    "OUTPUT = []\n",
    "MODEL_PATH = \"../../../latin-lasla-models/model.tar\"\n",
    "\n",
    "tagger = Tagger(device=\"cpu\", batch_size=100, lower=True, tokenize=False)\n",
    "tagger.add_model(MODEL_PATH, *TASKS)\n",
    "\n",
    "\n",
    "for chunk in tqdm(chunks([(sent, len(sent)) for sent in TOKENS], tagger.batch_size)):\n",
    "    tagged, tasks = tagger.tag(*zip(*chunk))\n",
    "    OUTPUT.extend([\n",
    "        [\n",
    "            (token, dict(zip(tasks, result)))\n",
    "            for token, result in sentence\n",
    "        ]\n",
    "        for sentence in tagged\n",
    "    ])"
   ]
  },
  {
   "cell_type": "markdown",
   "metadata": {},
   "source": [
    "## Evaluation"
   ]
  },
  {
   "cell_type": "code",
   "execution_count": 137,
   "metadata": {},
   "outputs": [],
   "source": [
    "from collections import defaultdict, Counter\n",
    "RESULTS = []\n",
    "RAW_SCORES = {\n",
    "    task: ([], []) # Pred, Truth\n",
    "    for task in TASKS\n",
    "}\n",
    "RAW_SCORES_NOT_EMPTY = {\n",
    "    task: ([], []) # Pred, Truth\n",
    "    for task in TASKS\n",
    "}\n",
    "ERRORS = {\n",
    "    task: defaultdict(lambda: defaultdict(Counter))#{truth: {pred: {token: int}} # (token, pred, truth)\n",
    "    for task in tasks\n",
    "}\n",
    "for p_sent, t_sent in zip(OUTPUT, GOLD):\n",
    "    score_sentence = []\n",
    "    for (_, p_tags), (t_tags) in zip(p_sent, t_sent):\n",
    "        token = t_tags[\"form\"]\n",
    "        p_tags[\"lemma\"] = p_tags[\"lemma\"].lower()\n",
    "        score_sentence.append((\n",
    "            p_tags,\n",
    "            t_tags,\n",
    "            {task: p_tags[task] == t_tags[task] for task in TASKS}\n",
    "        ))\n",
    "        for task in tasks:\n",
    "            RAW_SCORES[task][0].append(p_tags[task])\n",
    "            RAW_SCORES[task][1].append(t_tags[task])\n",
    "            if t_tags[task] != \"_\":\n",
    "                RAW_SCORES_NOT_EMPTY[task][0].append(p_tags[task])\n",
    "                RAW_SCORES_NOT_EMPTY[task][1].append(t_tags[task])\n",
    "            if t_tags[task] != p_tags[task]:\n",
    "                ERRORS[task][t_tags[task]][p_tags[task]][token] += 1\n",
    "    RESULTS.append(score_sentence)"
   ]
  },
  {
   "cell_type": "code",
   "execution_count": 138,
   "metadata": {},
   "outputs": [
    {
     "name": "stdout",
     "output_type": "stream",
     "text": [
      "----------------  --------  ------------------\n",
      "Task              Accuracy  Accuracy on V != _\n",
      "lemma             0.92      0.92\n",
      "Deg               0.96      0.91\n",
      "Numb              0.94      0.94\n",
      "Person            0.99      0.97\n",
      "Mood_Tense_Voice  0.96      0.88\n",
      "Case              0.88      0.81\n",
      "Gend              0.93      0.82\n",
      "pos               0.93      0.93\n",
      "----------------  --------  ------------------\n"
     ]
    }
   ],
   "source": [
    "from sklearn.metrics import accuracy_score, precision_recall_fscore_support\n",
    "from tabulate import tabulate\n",
    "\n",
    "data = [[\"Task\", \"Accuracy\", \"Accuracy on V != _\"]]\n",
    "\n",
    "\n",
    "for task, (pred, truth) in RAW_SCORES.items():\n",
    "    (pred_limited, truth_limited) = RAW_SCORES_NOT_EMPTY[task]\n",
    "    data.append([\n",
    "        task,\n",
    "        \"{0:.2f}\".format(accuracy_score(truth, pred)),\n",
    "        \"{0:.2f}\".format(accuracy_score(pred_limited, truth_limited))\n",
    "    ])\n",
    "print(tabulate(data))"
   ]
  },
  {
   "cell_type": "code",
   "execution_count": 139,
   "metadata": {},
   "outputs": [],
   "source": [
    "ERRORS[\"lemma\"]\n",
    "\n",
    "with open(\"1.4.X-Priapees-Lemma-Confusion.tsv\", \"w\") as f:\n",
    "    f.write(\"lemma\\tprediction\\ttoken\\tnumber\\n\")\n",
    "    for lemma in ERRORS[\"lemma\"]:\n",
    "        for pred in ERRORS[\"lemma\"][lemma]:\n",
    "            for token, count in ERRORS[\"lemma\"][lemma][pred].items():\n",
    "                f.write(f\"{lemma}\\t{pred}\\t{token}\\t{count}\\n\")"
   ]
  },
  {
   "cell_type": "markdown",
   "metadata": {},
   "source": [
    "## Visualisation sur le corpus"
   ]
  },
  {
   "cell_type": "code",
   "execution_count": 140,
   "metadata": {},
   "outputs": [],
   "source": [
    "from math import ceil\n",
    "def chunks(lst, n):\n",
    "    \"\"\"Yield successive n-sized chunks from lst.\"\"\"\n",
    "    for i in range(0, len(lst), n):\n",
    "        yield lst[i:i + n]\n",
    "\n",
    "# Compute the accuracy on splits\n",
    "        \n",
    "SPLITS_TASK = {\n",
    "    task: []\n",
    "    for task in RAW_SCORES\n",
    "}\n",
    "SPLITS_TASK[\"size\"] = []\n",
    "DIVIDE_BY = round(sum([len(x) for x in GOLD]) / 20) # 5%\n",
    "\n",
    "lengths = []\n",
    "support_done = False\n",
    "for task, (pred, truth) in RAW_SCORES.items():\n",
    "    ms_start = 0\n",
    "    for milestone in MILESTONES:\n",
    "        SPLITS_TASK[task].append(accuracy_score(truth[ms_start:milestone], pred[ms_start:milestone]))\n",
    "        length = milestone - ms_start + 1\n",
    "        if not support_done:\n",
    "            SPLITS_TASK[\"size\"].append(length)\n",
    "        ms_start = milestone\n",
    "    support_done = True\n",
    "        "
   ]
  },
  {
   "cell_type": "code",
   "execution_count": 141,
   "metadata": {},
   "outputs": [
    {
     "data": {
      "image/png": "[encoded data removed]",
      "text/plain": [
       "<matplotlib.figure.Figure at 0x7fa2deae2a90>"
      ]
     },
     "metadata": {
      "needs_background": "light"
     },
     "output_type": "display_data"
    }
   ],
   "source": [
    "from pandas import DataFrame\n",
    "import seaborn as sns\n",
    "import matplotlib.pyplot as plt\n",
    "%matplotlib inline\n",
    "\n",
    "DF_PRIAPEES = DataFrame(SPLITS_TASK, index=list(range(PRIA_START+1, PRIA_END+2)))\n",
    "DF_PRIAPEES[\"size\"] = DF_PRIAPEES[\"size\"] / sum(DF_PRIAPEES[\"size\"])\n",
    "\n",
    "plt.figure(figsize=(10,10))\n",
    "cmap = sns.cubehelix_palette(250, hue=0.05, rot=0, light=1, dark=0, as_cmap=True)\n",
    "ax = sns.heatmap(DF_PRIAPEES, annot=True, cmap=cmap)"
   ]
  },
  {
   "cell_type": "markdown",
   "metadata": {},
   "source": [
    "## Analyse des Priapées en dessous de X %"
   ]
  },
  {
   "cell_type": "code",
   "execution_count": 144,
   "metadata": {
    "scrolled": false
   },
   "outputs": [
    {
     "data": {
      "text/html": [
       "<h2>Priapée 51</h2>\n",
       "    <p>\n",
       "        <small>\n",
       "        <b>Accuracy:</b> 0.893 <br />\n",
       "        <b>Tokens:</b> 149<br />\n",
       "        <b>Errors: </b> 16<br />\n",
       "        <b>1 error =</b> -0.007 drop in accuracy <br />\n",
       "        <span style='color:green;'>Ground Truth</span> - <span style='color:red;'>Prediction</span>\n",
       "        </small>\n",
       "    </p>\n",
       "    <p><p>quid hoc negoti est quaue suspicer causa <span style='color: red;'>uenire[<span style='color:green;'>uenio</span>,ueneo]</span> in hortum plurimos meum fures cum quisquis in nos incidit luat poenas et usque curuos <span style='color: red;'>excauetur[<span style='color:green;'>excauo</span>,excaueto]</span> ad lumbos non ficus hic est praeferenda uicinae uuaeque quales flaua legit <span style='color: red;'>arete[<span style='color:green;'>aretes</span>,areo]</span> non mala truncis adserenda picenis pirumue <span style='color: red;'>tanto[<span style='color:green;'>tantus</span>,tanto]</span> quod periculo captes magisque cera luteum noua <span style='color: red;'>prunum[<span style='color:green;'>prunum</span>,prunus]</span> sorbumue uentres lubricos moraturum <span style='color: red;'>praesigne[<span style='color:green;'>praesignis</span>,praesigne]</span> rami nec mei ferunt <span style='color: red;'>morum[<span style='color:green;'>morum</span>,mos]</span> nucemue longam quae uocatur albana <span style='color: red;'>amygdalumue[<span style='color:green;'>amygdalum界ue</span>,amygdalus界ue]</span> flore purpureo fulgens non brassicarum ferre glorior caules <span style='color: red;'>betasue[<span style='color:green;'>beta界ue</span>,betas界ue]</span> quantas hortus educat nullus crescensue semper in suum caput porrum nec seminosas ad <span style='color: red;'>cucurbitas[<span style='color:green;'>cucurbita</span>,cucurbitas]</span> quemquam ad ocimumue <span style='color: red;'>cucumeresque[<span style='color:green;'>cucumis界que</span>,cucumeres界que]</span> humi <span style='color: red;'>fusos[<span style='color:green;'>fundo</span>,fusus]</span> uenire credo sessilesue <span style='color: red;'>lactucas[<span style='color:green;'>lactuca</span>,lactux]</span> acresque cepas aliumque furatum nec ut salaces <span style='color: red;'>nocte[<span style='color:green;'>nox</span>,nocte]</span> tollat erucas mentamque olentem cum salubribus <span style='color: red;'>rutis[<span style='color:green;'>ruta</span>,rutus]</span> quae cuncta quamuis nostro habemus in saepto non pauciora proximi ferunt horti quibus relictis in mihi laboratum locum uenitis improbissimi fures nimirum <span style='color: red;'>apertam[<span style='color:green;'>aperio</span>,apertus]</span> conuolatis ad poenam et uos id ipsum quod minamur inuitat</p></p>\n",
       "    "
      ],
      "text/plain": [
       "<IPython.core.display.HTML object>"
      ]
     },
     "metadata": {},
     "output_type": "display_data"
    },
    {
     "data": {
      "text/html": [
       "<h2>Priapée 54</h2>\n",
       "    <p>\n",
       "        <small>\n",
       "        <b>Accuracy:</b> 0.846 <br />\n",
       "        <b>Tokens:</b> 13<br />\n",
       "        <b>Errors: </b> 2<br />\n",
       "        <b>1 error =</b> -0.077 drop in accuracy <br />\n",
       "        <span style='color:green;'>Ground Truth</span> - <span style='color:red;'>Prediction</span>\n",
       "        </small>\n",
       "    </p>\n",
       "    <p><p><span style='color: red;'>cd[<span style='color:green;'>_</span>,cd]</span> si scribas temonemque insuper addas qui medium uult te scindere <span style='color: red;'>pictus[<span style='color:green;'>pictus</span>,pingo]</span> erit</p></p>\n",
       "    "
      ],
      "text/plain": [
       "<IPython.core.display.HTML object>"
      ]
     },
     "metadata": {},
     "output_type": "display_data"
    },
    {
     "data": {
      "text/html": [
       "<h2>Priapée 58</h2>\n",
       "    <p>\n",
       "        <small>\n",
       "        <b>Accuracy:</b> 0.895 <br />\n",
       "        <b>Tokens:</b> 19<br />\n",
       "        <b>Errors: </b> 2<br />\n",
       "        <b>1 error =</b> -0.053 drop in accuracy <br />\n",
       "        <span style='color:green;'>Ground Truth</span> - <span style='color:red;'>Prediction</span>\n",
       "        </small>\n",
       "    </p>\n",
       "    <p><p>quicumque nostram fur fefellerit curam <span style='color: red;'>effeminato[<span style='color:green;'>effemino</span>,effeminatus]</span> uerminet procul culo <span style='color: red;'>quaeque[<span style='color:green;'>quisque</span>,qui界que]</span> hic proterua carpserit manu poma puella nullum reperiat fututorem</p></p>\n",
       "    "
      ],
      "text/plain": [
       "<IPython.core.display.HTML object>"
      ]
     },
     "metadata": {},
     "output_type": "display_data"
    },
    {
     "data": {
      "text/html": [
       "<h2>Priapée 60</h2>\n",
       "    <p>\n",
       "        <small>\n",
       "        <b>Accuracy:</b> 0.833 <br />\n",
       "        <b>Tokens:</b> 12<br />\n",
       "        <b>Errors: </b> 2<br />\n",
       "        <b>1 error =</b> -0.083 drop in accuracy <br />\n",
       "        <span style='color:green;'>Ground Truth</span> - <span style='color:red;'>Prediction</span>\n",
       "        </small>\n",
       "    </p>\n",
       "    <p><p>si quot habes uersus tot haberes poma <span style='color: red;'>priape[<span style='color:green;'>priapus</span>,priape]</span> esses antiquo ditior <span style='color: red;'>alcinoo[<span style='color:green;'>alcinous</span>,alcinum]</span></p></p>\n",
       "    "
      ],
      "text/plain": [
       "<IPython.core.display.HTML object>"
      ]
     },
     "metadata": {},
     "output_type": "display_data"
    },
    {
     "data": {
      "text/html": [
       "<h2>Priapée 62</h2>\n",
       "    <p>\n",
       "        <small>\n",
       "        <b>Accuracy:</b> 0.900 <br />\n",
       "        <b>Tokens:</b> 10<br />\n",
       "        <b>Errors: </b> 1<br />\n",
       "        <b>1 error =</b> -0.100 drop in accuracy <br />\n",
       "        <span style='color:green;'>Ground Truth</span> - <span style='color:red;'>Prediction</span>\n",
       "        </small>\n",
       "    </p>\n",
       "    <p><p>securi dormite canes custodiet hortum cum sibi dilecta sirius <span style='color: red;'>erigone[<span style='color:green;'>erigone</span>,erigo]</span></p></p>\n",
       "    "
      ],
      "text/plain": [
       "<IPython.core.display.HTML object>"
      ]
     },
     "metadata": {},
     "output_type": "display_data"
    },
    {
     "data": {
      "text/html": [
       "<h2>Priapée 68</h2>\n",
       "    <p>\n",
       "        <small>\n",
       "        <b>Accuracy:</b> 0.897 <br />\n",
       "        <b>Tokens:</b> 242<br />\n",
       "        <b>Errors: </b> 25<br />\n",
       "        <b>1 error =</b> -0.004 drop in accuracy <br />\n",
       "        <span style='color:green;'>Ground Truth</span> - <span style='color:red;'>Prediction</span>\n",
       "        </small>\n",
       "    </p>\n",
       "    <p><p>rusticus indocte si quid dixisse uidebor da ueniam libros non lego poma lego sed rudis hic dominum totiens audire legentem cogor <span style='color: red;'>homeriacas[<span style='color:green;'>homericus</span>,homeriacus]</span> edidicique notas ille uocat <span style='color: red;'>quod[<span style='color:green;'>qui</span>,quod]</span> nos <span style='color: red;'>psolen[<span style='color:green;'>psole</span>,psolen]</span> <span style='color: red;'>ψολόεντα[<span style='color:green;'>[greek]</span>,subtio]</span> <span style='color: red;'>κεραυνόν[<span style='color:green;'>[greek]</span>,subtio]</span> et quod nos culum <span style='color: red;'>κουλεόν[<span style='color:green;'>[greek]</span>,subtio]</span> ille uocat <span style='color: red;'>μερδαλέον[<span style='color:green;'>[greek]</span>,superio]</span> certe quasi res non munda uocatur et <span style='color: red;'>pediconum[<span style='color:green;'>paedico</span>,pedico]</span> mentula <span style='color: red;'>merdalea[<span style='color:green;'>merdaleus</span>,merdalis]</span> est qui nisi taenario placuisset troica cunno mentula quod caneret non habuisset opus mentula <span style='color: red;'>tantalidae[<span style='color:green;'>tantalides</span>,tantalidus]</span> bene si non mota fuisset nil senior chryses quod quereretur erat haec eadem socium tenera spoliauit amica quaeque erat <span style='color: red;'>aeacidae[<span style='color:green;'>aeacides</span>,aeacida]</span> maluit esse suam ille <span style='color: red;'>pelethroniam[<span style='color:green;'>pelethronius</span>,pelethronia]</span> cecinit miserabile carmen ad citharam cithara tensior ipse sua nobilis hinc nata nempe incipit <span style='color: red;'>ilias[<span style='color:green;'>ilias</span>,ilia]</span> ira principium sacri carminis fuit altera materia est error fallentis <span style='color: red;'>ulixei[<span style='color:green;'>ulixes</span>,ulixeus]</span> si uerum quaeras hunc quoque mouit amor hic legitur radix de qua flos aureus exit quam cum <span style='color: red;'>μῶλυ[<span style='color:green;'>[greek]</span>,aes]</span> uocat mentula <span style='color: red;'>μῶλυ[<span style='color:green;'>[greek]</span>,aes]</span> fuit hic legimus circen <span style='color: red;'>atlantiademque[<span style='color:green;'>atlantides界que</span>,atlans界que]</span> <span style='color: red;'>calypson[<span style='color:green;'>calypso</span>,calypson]</span> grandia <span style='color: red;'>dulichii[<span style='color:green;'>dulichius</span>,dulichium]</span> uasa petisse uiri huius et <span style='color: red;'>alcinoi[<span style='color:green;'>alcinous</span>,alcino]</span> mirata est filia membrum frondenti ramo uix potuisse tegi ad uetulam tamen ille suam properabat et omnis mens erat in cunno <span style='color: red;'>penelopea[<span style='color:green;'>penelope</span>,penelopeus]</span> tuo quae sic casta manes ut iam conuiuia <span style='color: red;'>uisas[<span style='color:green;'>uiso</span>,uideo]</span> utque <span style='color: red;'>fututorum[<span style='color:green;'>futuo</span>,fututus]</span> sit tua plena domus e quibus ut scires quicumque ualentior esset haec es ad arrectos uerba locuta procos nemo meo melius neruum tendebat <span style='color: red;'>ulixe[<span style='color:green;'>ulixes</span>,ulixe]</span> siue illi laterum siue erat artis opus qui quoniam periit uos nunc intendite quemquem esse uirum sciero uir sit ut ille meus hac ego <span style='color: red;'>penelope[<span style='color:green;'>penelope</span>,penelops]</span> potui tibi lege placere illo sed nondum tempore natus eram</p></p>\n",
       "    "
      ],
      "text/plain": [
       "<IPython.core.display.HTML object>"
      ]
     },
     "metadata": {},
     "output_type": "display_data"
    },
    {
     "data": {
      "text/html": [
       "<h2>Priapée 71</h2>\n",
       "    <p>\n",
       "        <small>\n",
       "        <b>Accuracy:</b> 0.750 <br />\n",
       "        <b>Tokens:</b> 12<br />\n",
       "        <b>Errors: </b> 3<br />\n",
       "        <b>1 error =</b> -0.083 drop in accuracy <br />\n",
       "        <span style='color:green;'>Ground Truth</span> - <span style='color:red;'>Prediction</span>\n",
       "        </small>\n",
       "    </p>\n",
       "    <p><p>si commissa meae carpes <span style='color: red;'>pomaria[<span style='color:green;'>pomarius</span>,pomarium]</span> curae dulcia <span style='color: red;'>quid[<span style='color:green;'>qui</span>,quis]</span> doleam perdere <span style='color: red;'>doctus[<span style='color:green;'>doceo</span>,doctus]</span> eris</p></p>\n",
       "    "
      ],
      "text/plain": [
       "<IPython.core.display.HTML object>"
      ]
     },
     "metadata": {},
     "output_type": "display_data"
    },
    {
     "data": {
      "text/html": [
       "<h2>Priapée 72</h2>\n",
       "    <p>\n",
       "        <small>\n",
       "        <b>Accuracy:</b> 0.826 <br />\n",
       "        <b>Tokens:</b> 23<br />\n",
       "        <b>Errors: </b> 4<br />\n",
       "        <b>1 error =</b> -0.043 drop in accuracy <br />\n",
       "        <span style='color:green;'>Ground Truth</span> - <span style='color:red;'>Prediction</span>\n",
       "        </small>\n",
       "    </p>\n",
       "    <p><p>tutelam pomarii diligens <span style='color: red;'>priape[<span style='color:green;'>priapus</span>,priape]</span> facito <span style='color: red;'>rubricato[<span style='color:green;'>rubricatus</span>,rubrico]</span> furibus minare <span style='color: red;'>mutinio[<span style='color:green;'>mutinius</span>,mutinium]</span> <span style='color: red;'>quod[<span style='color:green;'>qui</span>,quod]</span> mouear non est quia si furaberis ipse grandia mala tibi brachia macra dabo</p></p>\n",
       "    "
      ],
      "text/plain": [
       "<IPython.core.display.HTML object>"
      ]
     },
     "metadata": {},
     "output_type": "display_data"
    },
    {
     "data": {
      "text/html": [
       "<h2>Priapée 75</h2>\n",
       "    <p>\n",
       "        <small>\n",
       "        <b>Accuracy:</b> 0.765 <br />\n",
       "        <b>Tokens:</b> 81<br />\n",
       "        <b>Errors: </b> 19<br />\n",
       "        <b>1 error =</b> -0.012 drop in accuracy <br />\n",
       "        <span style='color:green;'>Ground Truth</span> - <span style='color:red;'>Prediction</span>\n",
       "        </small>\n",
       "    </p>\n",
       "    <p><p><span style='color: red;'>dodone[<span style='color:green;'>dodonis</span>,dodo界ne]</span> tibi iuppiter <span style='color: red;'>sacrata[<span style='color:green;'>sacro</span>,sacratus]</span> est iunoni <span style='color: red;'>samos[<span style='color:green;'>samos</span>,samus]</span> et mycena <span style='color: red;'>dites[<span style='color:green;'>dis</span>,diues]</span> undae taenaros aequorumque regi pallas cecropias tuetur arces <span style='color: red;'>delphos[<span style='color:green;'>delphi</span>,delphus]</span> pythius orbis umbilicum <span style='color: red;'>creten[<span style='color:green;'>cretes</span>,creto]</span> <span style='color: red;'>delia[<span style='color:green;'>delia</span>,delium]</span> cynthiosque colles faunus maenalon <span style='color: red;'>arcadumque[<span style='color:green;'>arcades界que</span>,arcadus界que]</span> siluas tutela <span style='color: red;'>rhodos[<span style='color:green;'>rhodos</span>,rhodus]</span> est <span style='color: red;'>beata[<span style='color:green;'>beo</span>,beatus]</span> <span style='color: red;'>solis[<span style='color:green;'>sol</span>,solus]</span> gades <span style='color: red;'>herculis[<span style='color:green;'>hercules</span>,herculus]</span> umidumque <span style='color: red;'>tibur[<span style='color:green;'>tibur</span>,tubur]</span> <span style='color: red;'>cyllene[<span style='color:green;'>cyllene</span>,cyllenus]</span> celeri deo niuosa tardo gratior aestuosa lemnos <span style='color: red;'>hennaeae[<span style='color:green;'>hennaeus</span>,hennaea]</span> cererem nurus frequentant raptam cyzicos ostreosa diuam formosam uenerem <span style='color: red;'>gnidos[<span style='color:green;'>cnidus</span>,gnidus]</span> paphosque mortales tibi lampsacum dicarunt quod sim iam <span style='color: red;'>senior[<span style='color:green;'>senior</span>,senex]</span> meumque <span style='color: red;'>canis[<span style='color:green;'>canus</span>,canis]</span> cum barba caput albicet capillis deprensos ego perforare possum <span style='color: red;'>tithonum[<span style='color:green;'>tithonus</span>,tithon]</span> priamumque nestoremque</p></p>\n",
       "    "
      ],
      "text/plain": [
       "<IPython.core.display.HTML object>"
      ]
     },
     "metadata": {},
     "output_type": "display_data"
    }
   ],
   "source": [
    "from IPython.core.display import display, HTML\n",
    "\n",
    "THRESHOLD = 0.91\n",
    "\n",
    "TO_CHECK = [\n",
    "    pria_id - PRIA_START - 1\n",
    "    for pria_id in (DF_PRIAPEES[\"lemma\"].loc[DF_PRIAPEES[\"lemma\"] < THRESHOLD]).index\n",
    "]\n",
    "TO_CHECK_ID = list((DF_PRIAPEES[\"lemma\"].loc[DF_PRIAPEES[\"lemma\"] < THRESHOLD]).index)\n",
    "    \n",
    "pred, truth = RAW_SCORES[\"lemma\"]\n",
    "flatten_tokens = [tok for sent in TOKENS for tok in sent]\n",
    "ms_start = 0\n",
    "\n",
    "for pria_id, (ms_start, ms_end) in enumerate(zip([0] + MILESTONES, MILESTONES)):\n",
    "    #if ms_end is not None:\n",
    "    #    ms_end += 1\n",
    "    if pria_id not in TO_CHECK:\n",
    "        continue\n",
    "    nice_id = TO_CHECK_ID.pop(0)\n",
    "    text = []\n",
    "    nb_tokens = ms_end - ms_start\n",
    "    size = 1 / nb_tokens\n",
    "    nb_errors = 0\n",
    "    for tok, t, p in zip(flatten_tokens[ms_start:ms_end], truth[ms_start:ms_end], pred[ms_start:ms_end]):\n",
    "        if t == p:\n",
    "            text.append(tok)\n",
    "        else:\n",
    "            text.append(f\"<span style='color: red;'>{tok}[<span style='color:green;'>{t}</span>,{p}]</span>\")\n",
    "            nb_errors += 1\n",
    "            \n",
    "    text = \"<p>\"+\" \".join(text).replace(\" -\", \"-\") + \"</p>\"\n",
    "    text = f\"\"\"<h2>Priapée {nice_id}</h2>\n",
    "    <p>\n",
    "        <small>\n",
    "        <b>Accuracy:</b> {accuracy_score(truth[ms_start:ms_end], pred[ms_start:ms_end]):.3f} <br />\n",
    "        <b>Tokens:</b> {ms_end - ms_start}<br />\n",
    "        <b>Errors: </b> {nb_errors}<br />\n",
    "        <b>1 error =</b> -{size:.3f} drop in accuracy <br />\n",
    "        <span style='color:green;'>Ground Truth</span> - <span style='color:red;'>Prediction</span>\n",
    "        </small>\n",
    "    </p>\n",
    "    <p>{text}</p>\n",
    "    \"\"\"\n",
    "    display(HTML(text))\n",
    "    "
   ]
  }
 ],
 "metadata": {
  "kernelspec": {
   "display_name": "Python 3",
   "language": "python",
   "name": "python3"
  },
  "language_info": {
   "codemirror_mode": {
    "name": "ipython",
    "version": 3
   },
   "file_extension": ".py",
   "mimetype": "text/x-python",
   "name": "python",
   "nbconvert_exporter": "python",
   "pygments_lexer": "ipython3",
   "version": "3.6.7"
  }
 },
 "nbformat": 4,
 "nbformat_minor": 2
}
