{
 "cells": [
  {
   "cell_type": "code",
   "execution_count": 10,
   "metadata": {},
   "outputs": [],
   "source": [
    "from typing import List, Dict\n",
    "from tqdm import tqdm\n",
    "from pandas import DataFrame"
   ]
  },
  {
   "cell_type": "markdown",
   "metadata": {},
   "source": [
    "# Analyse sur le hors domaine Vulgate"
   ]
  },
  {
   "cell_type": "markdown",
   "metadata": {},
   "source": [
    "## Objectifs\n",
    "\n",
    "Évaluer et visualiser les résultats sur la vulgate"
   ]
  },
  {
   "cell_type": "markdown",
   "metadata": {},
   "source": [
    "## Chargement du corpus GOLD"
   ]
  },
  {
   "cell_type": "code",
   "execution_count": 2,
   "metadata": {},
   "outputs": [],
   "source": [
    "GOLD: List[List[Dict[str, str]]] = [[]]\n",
    "with open(\"../../../proiel-to-lasla/nt-manual.aligned.tsv\") as f:\n",
    "    for line_no, line in enumerate(f):\n",
    "        line = line.strip().split(\"\\t\")\n",
    "        if line_no == 0:\n",
    "            headers = line\n",
    "        elif len(line) <= 1:\n",
    "            GOLD.append([])\n",
    "        else:\n",
    "            line = dict(zip(headers, line))\n",
    "            if line[\"encl\"] == \"#Enclitic\":\n",
    "                if not len(GOLD[-1]):\n",
    "                    GOLD.pop(-1)\n",
    "                GOLD[-1][-1][\"form\"] = GOLD[-1][-1][\"form\"] + line[\"form\"]\n",
    "                GOLD[-1][-1][\"lemma\"] = GOLD[-1][-1][\"lemma\"] + \"界\" + line[\"lemma\"]\n",
    "                continue\n",
    "            \n",
    "            GOLD[-1].append(line)\n",
    "\n",
    "GOLD = [g for g in GOLD if len(g)]"
   ]
  },
  {
   "cell_type": "markdown",
   "metadata": {},
   "source": [
    "## Reparse morphology for evaluation"
   ]
  },
  {
   "cell_type": "code",
   "execution_count": 3,
   "metadata": {},
   "outputs": [
    {
     "name": "stderr",
     "output_type": "stream",
     "text": [
      "100%|██████████| 11850/11850 [00:00<00:00, 34980.77it/s]\n"
     ]
    }
   ],
   "source": [
    "TEMP = []\n",
    "TASKS = \"lemma,Deg,Numb,Person,Mood_Tense_Voice,Case,Gend,pos\".split(\",\")\n",
    "for sentence in tqdm(GOLD):\n",
    "    temp_sentence = []\n",
    "    for token in sentence:\n",
    "        new_token = {task: \"_\" for task in TASKS}\n",
    "        new_token.update({\n",
    "            \"form\": token[\"form\"],\n",
    "            \"lemma\": token[\"lemma\"],#.lower(),\n",
    "            # No POS distinction\n",
    "            \"pos\": token[\"POS\"],#.replace(\"com\", \"\").replace(\"pro\", \"\")\n",
    "        })\n",
    "        # No disambiguation at the lemmatizer lever\n",
    "        if new_token[\"lemma\"][-1].isnumeric():\n",
    "            new_token[\"lemma\"] = new_token[\"lemma\"][:-1]\n",
    "            \n",
    "        # Treat morph as separate tasks\n",
    "        for morph in token[\"morph\"].split(\"|\"):\n",
    "            task, value = morph.split(\"=\")\n",
    "            new_token[task] = value\n",
    "        temp_sentence.append(new_token)\n",
    "        new_token[\"Mood_Tense_Voice\"] = \"|\".join([\n",
    "            new_token.get(task, \"_\")\n",
    "            for task in (\"Mood\", \"Tense\", \"Voice\")\n",
    "        ]).replace(\"_|_|_\", \"_\")\n",
    "    TEMP.append(temp_sentence)\n",
    "GOLD = TEMP"
   ]
  },
  {
   "cell_type": "markdown",
   "metadata": {},
   "source": [
    "## Obtention des données (formes uniquement)"
   ]
  },
  {
   "cell_type": "code",
   "execution_count": 5,
   "metadata": {},
   "outputs": [],
   "source": [
    "TOKENS = [\n",
    "    [x[\"form\"] for x in sentence]\n",
    "    for sentence in GOLD\n",
    "]"
   ]
  },
  {
   "cell_type": "markdown",
   "metadata": {},
   "source": [
    "## Test"
   ]
  },
  {
   "cell_type": "code",
   "execution_count": 15,
   "metadata": {},
   "outputs": [
    {
     "name": "stderr",
     "output_type": "stream",
     "text": [
      "119it [01:40,  1.18it/s]\n"
     ]
    }
   ],
   "source": [
    "from pie.tagger import Tagger\n",
    "from pie.utils import chunks\n",
    "DEVICE = \"cpu\"\n",
    "BATCH_SIZE = 128\n",
    "\n",
    "\n",
    "OUTPUT = []\n",
    "MODEL_PATH = \"../../../latin-lasla-models/model.tar\"\n",
    "MODEL_PATH = \"../../../pie/models/FinalModelVulgate-lemma-2020_10_14-18_09_35.tar\"\n",
    "\n",
    "tagger = Tagger(device=\"cpu\", batch_size=100, lower=False, tokenize=False)\n",
    "tagger.add_model(MODEL_PATH, *TASKS)\n",
    "\n",
    "\n",
    "for chunk in tqdm(chunks([(sent, len(sent)) for sent in TOKENS], tagger.batch_size)):\n",
    "    tagged, tasks = tagger.tag(*zip(*chunk))\n",
    "    OUTPUT.extend([\n",
    "        [\n",
    "            (token, dict(zip(tasks, result)))\n",
    "            for token, result in sentence\n",
    "        ]\n",
    "        for sentence in tagged\n",
    "    ])"
   ]
  },
  {
   "cell_type": "markdown",
   "metadata": {},
   "source": [
    "## Evaluation"
   ]
  },
  {
   "cell_type": "code",
   "execution_count": 16,
   "metadata": {},
   "outputs": [],
   "source": [
    "from collections import defaultdict, Counter\n",
    "RESULTS = []\n",
    "RAW_SCORES = {\n",
    "    task: ([], []) # Pred, Truth\n",
    "    for task in TASKS\n",
    "}\n",
    "RAW_SCORES_NOT_EMPTY = {\n",
    "    task: ([], []) # Pred, Truth\n",
    "    for task in TASKS\n",
    "}\n",
    "ERRORS = {\n",
    "    task: defaultdict(lambda: defaultdict(Counter))#{truth: {pred: {token: int}} # (token, pred, truth)\n",
    "    for task in tasks\n",
    "}\n",
    "for p_sent, t_sent in zip(OUTPUT, GOLD):\n",
    "    score_sentence = []\n",
    "    for (_, p_tags), (t_tags) in zip(p_sent, t_sent):\n",
    "        token = t_tags[\"form\"]\n",
    "        p_tags[\"lemma\"] = p_tags[\"lemma\"]#.lower()\n",
    "        score_sentence.append((\n",
    "            p_tags,\n",
    "            t_tags,\n",
    "            {task: p_tags[task] == t_tags[task] for task in TASKS}\n",
    "        ))\n",
    "        for task in tasks:\n",
    "            RAW_SCORES[task][0].append(p_tags[task])\n",
    "            RAW_SCORES[task][1].append(t_tags[task])\n",
    "            if t_tags[task] != \"_\":\n",
    "                RAW_SCORES_NOT_EMPTY[task][0].append(p_tags[task])\n",
    "                RAW_SCORES_NOT_EMPTY[task][1].append(t_tags[task])\n",
    "            if t_tags[task] != p_tags[task]:\n",
    "                ERRORS[task][t_tags[task]][p_tags[task]][token] += 1\n",
    "    RESULTS.append(score_sentence)"
   ]
  },
  {
   "cell_type": "code",
   "execution_count": 17,
   "metadata": {},
   "outputs": [
    {
     "name": "stdout",
     "output_type": "stream",
     "text": [
      "----------------  --------  ------------------\n",
      "Task              Accuracy  Accuracy on V != _\n",
      "lemma             0.99      0.99\n",
      "Deg               0.99      0.89\n",
      "Numb              0.99      0.99\n",
      "Person            1.00      1.00\n",
      "Mood_Tense_Voice  0.99      0.97\n",
      "Case              0.97      0.95\n",
      "Gend              0.97      0.87\n",
      "pos               0.98      0.98\n",
      "----------------  --------  ------------------\n"
     ]
    }
   ],
   "source": [
    "from sklearn.metrics import accuracy_score, precision_recall_fscore_support\n",
    "from tabulate import tabulate\n",
    "\n",
    "data = [[\"Task\", \"Accuracy\", \"Accuracy on V != _\"]]\n",
    "\n",
    "\n",
    "for task, (pred, truth) in RAW_SCORES.items():\n",
    "    (pred_limited, truth_limited) = RAW_SCORES_NOT_EMPTY[task]\n",
    "    data.append([\n",
    "        task,\n",
    "        \"{0:.2f}\".format(accuracy_score(truth, pred)),\n",
    "        \"{0:.2f}\".format(accuracy_score(pred_limited, truth_limited))\n",
    "    ])\n",
    "print(tabulate(data))"
   ]
  },
  {
   "cell_type": "code",
   "execution_count": 18,
   "metadata": {},
   "outputs": [
    {
     "name": "stderr",
     "output_type": "stream",
     "text": [
      "/home/thibault/dev/these/these_env/lib/python3.6/site-packages/ipykernel_launcher.py:13: UserWarning: Boolean Series key will be reindexed to match DataFrame index.\n",
      "  del sys.path[0]\n"
     ]
    },
    {
     "data": {
      "text/html": [
       "<div>\n",
       "<style scoped>\n",
       "    .dataframe tbody tr th:only-of-type {\n",
       "        vertical-align: middle;\n",
       "    }\n",
       "\n",
       "    .dataframe tbody tr th {\n",
       "        vertical-align: top;\n",
       "    }\n",
       "\n",
       "    .dataframe thead th {\n",
       "        text-align: right;\n",
       "    }\n",
       "</style>\n",
       "<table border=\"1\" class=\"dataframe\">\n",
       "  <thead>\n",
       "    <tr style=\"text-align: right;\">\n",
       "      <th></th>\n",
       "      <th>lemma</th>\n",
       "      <th>pred</th>\n",
       "      <th>token</th>\n",
       "      <th>count</th>\n",
       "    </tr>\n",
       "  </thead>\n",
       "  <tbody>\n",
       "    <tr>\n",
       "      <th>19</th>\n",
       "      <td>ne3界que</td>\n",
       "      <td>neque</td>\n",
       "      <td>neque</td>\n",
       "      <td>217</td>\n",
       "    </tr>\n",
       "    <tr>\n",
       "      <th>20</th>\n",
       "      <td>ne3界que</td>\n",
       "      <td>nec</td>\n",
       "      <td>nec</td>\n",
       "      <td>46</td>\n",
       "    </tr>\n",
       "    <tr>\n",
       "      <th>14</th>\n",
       "      <td>qui</td>\n",
       "      <td>quod</td>\n",
       "      <td>quod</td>\n",
       "      <td>31</td>\n",
       "    </tr>\n",
       "    <tr>\n",
       "      <th>118</th>\n",
       "      <td>si2界ue</td>\n",
       "      <td>si界ue</td>\n",
       "      <td>siue</td>\n",
       "      <td>22</td>\n",
       "    </tr>\n",
       "    <tr>\n",
       "      <th>7</th>\n",
       "      <td>quis</td>\n",
       "      <td>qui</td>\n",
       "      <td>quae</td>\n",
       "      <td>16</td>\n",
       "    </tr>\n",
       "  </tbody>\n",
       "</table>\n",
       "</div>"
      ],
      "text/plain": [
       "       lemma   pred  token  count\n",
       "19   ne3界que  neque  neque    217\n",
       "20   ne3界que    nec    nec     46\n",
       "14       qui   quod   quod     31\n",
       "118   si2界ue  si界ue   siue     22\n",
       "7       quis    qui   quae     16"
      ]
     },
     "execution_count": 18,
     "metadata": {},
     "output_type": "execute_result"
    }
   ],
   "source": [
    "ERRORS[\"lemma\"]\n",
    "\n",
    "confusion_matrix = []\n",
    "with open(\"1.4.X-Vulgate-Lemma-Confusion.tsv\", \"w\") as f:\n",
    "    f.write(\"lemma\\tprediction\\ttoken\\tnumber\\n\")\n",
    "    for lemma in ERRORS[\"lemma\"]:\n",
    "        for pred in ERRORS[\"lemma\"][lemma]:\n",
    "            for token, count in ERRORS[\"lemma\"][lemma][pred].items():\n",
    "                f.write(f\"{lemma}\\t{pred}\\t{token}\\t{count}\\n\")\n",
    "                confusion_matrix.append({\"lemma\": lemma, \"pred\": pred, \"token\": token, \"count\": count})\n",
    "                \n",
    "confusion_matrix = DataFrame(confusion_matrix)\n",
    "confusion_matrix.sort_values(by=\"count\", ascending=False)[confusion_matrix[\"count\"] > 15]"
   ]
  },
  {
   "cell_type": "markdown",
   "metadata": {},
   "source": [
    "## Visualisation sur le corpus"
   ]
  },
  {
   "cell_type": "code",
   "execution_count": 19,
   "metadata": {},
   "outputs": [],
   "source": [
    "from math import ceil\n",
    "def chunks(lst, n):\n",
    "    \"\"\"Yield successive n-sized chunks from lst.\"\"\"\n",
    "    for i in range(0, len(lst), n):\n",
    "        yield lst[i:i + n]\n",
    "\n",
    "# Compute the accuracy on splits\n",
    "        \n",
    "SPLITS_TASK = {\n",
    "    task: []\n",
    "    for task in RAW_SCORES\n",
    "}\n",
    "DIVIDE_BY = round(sum([len(x) for x in GOLD]) / 20) # 5%\n",
    "\n",
    "for task, (pred, truth) in RAW_SCORES.items():\n",
    "    for chunk_pred, chunk_truth in zip(chunks(pred, n=DIVIDE_BY), chunks(truth, n=DIVIDE_BY)):\n",
    "        SPLITS_TASK[task].append(accuracy_score(chunk_truth, chunk_pred))\n",
    "        "
   ]
  },
  {
   "cell_type": "code",
   "execution_count": 20,
   "metadata": {},
   "outputs": [
    {
     "data": {
      "text/plain": [
       "<matplotlib.axes._subplots.AxesSubplot at 0x7f3e638c2080>"
      ]
     },
     "execution_count": 20,
     "metadata": {},
     "output_type": "execute_result"
    },
    {
     "data": {
      "image/png": "[encoded data removed]",
      "text/plain": [
       "<matplotlib.figure.Figure at 0x7f3f29bd5668>"
      ]
     },
     "metadata": {
      "needs_background": "light"
     },
     "output_type": "display_data"
    }
   ],
   "source": [
    "from pandas import DataFrame\n",
    "import seaborn as sns\n",
    "%matplotlib inline\n",
    "\n",
    "x = DataFrame(SPLITS_TASK)\n",
    "\n",
    "cmap = sns.cubehelix_palette(250, hue=0.05, rot=0, light=1, dark=0, as_cmap=True)\n",
    "sns.heatmap(x, annot=True, cmap=cmap)"
   ]
  },
  {
   "cell_type": "markdown",
   "metadata": {},
   "source": [
    "## Erreurs sur les noms propres bibliques"
   ]
  },
  {
   "cell_type": "code",
   "execution_count": 21,
   "metadata": {},
   "outputs": [
    {
     "name": "stdout",
     "output_type": "stream",
     "text": [
      "-----------------------------  --------  -------  -------------------------\n",
      "Task                           Accuracy  Support  Impact on global accuracy\n",
      "Lemma (Biblical Proper Nouns)  0.98      110      -0.000\n",
      "Lemma created for the Vulgate  1.00      3367     -0.000\n",
      "-----------------------------  --------  -------  -------------------------\n"
     ]
    }
   ],
   "source": [
    "BIBLICAL_PROPER_NOUNS = []\n",
    "with open(\"../../../proiel-to-lasla/ProielToLasla.tsv\") as f:\n",
    "    for line_no, line in enumerate(f):\n",
    "        line = line.strip().split(\"\\t\")\n",
    "        if line_no == 0:\n",
    "            headers = line\n",
    "        else:\n",
    "            line = dict(zip(headers, line))\n",
    "            BIBLICAL_PROPER_NOUNS.append(line[\"Lemma in Forcellini\"].lower())\n",
    "\n",
    "NEW_LEMMA = []\n",
    "with open(\"../../../proiel-to-lasla/ProielToLaslaNouns.tsv\") as f:\n",
    "    for line_no, line in enumerate(f):\n",
    "        line = line.strip().split(\"\\t\")\n",
    "        if line_no == 0:\n",
    "            headers = line\n",
    "        else:\n",
    "            line = dict(zip(headers, line))\n",
    "            lemma = line[\"LASLA\"].lower()\n",
    "            if lemma:\n",
    "                if lemma[-1].isnumeric():\n",
    "                    lemma = lemma[:-1]\n",
    "                NEW_LEMMA.append(lemma)    \n",
    "\n",
    "data = [[\"Task\", \"Accuracy\", \"Support\", \"Impact on global accuracy\"]]\n",
    "props_only = list(\n",
    "    zip(*[\n",
    "        (t, p) for p, t in zip(*RAW_SCORES[\"lemma\"]) if t in BIBLICAL_PROPER_NOUNS\n",
    "    ])\n",
    ")\n",
    "new_lemma_only = list(\n",
    "    zip(*[\n",
    "        (t, p) for p, t in zip(*RAW_SCORES[\"lemma\"]) if t in NEW_LEMMA\n",
    "    ])\n",
    ")\n",
    "data.append([\n",
    "    \"Lemma (Biblical Proper Nouns)\",\n",
    "    \"{0:.2f}\".format(accuracy_score(*props_only)),\n",
    "    \"{0}\".format(len(props_only[0])),\n",
    "    \"-{0:.3f}\".format((1-accuracy_score(*props_only))*len(props_only[0])/len(RAW_SCORES[\"lemma\"][0]))\n",
    "])\n",
    "data.append([\n",
    "    \"Lemma created for the Vulgate\",\n",
    "    \"{0:.2f}\".format(accuracy_score(*new_lemma_only)),\n",
    "    \"{0}\".format(len(new_lemma_only[0])),\n",
    "    \"-{0:.3f}\".format(\n",
    "        (1-accuracy_score(*new_lemma_only))*len(new_lemma_only[0]) / \\\n",
    "        len(RAW_SCORES[\"lemma\"][0]))\n",
    "])\n",
    "print(tabulate(data))"
   ]
  }
 ],
 "metadata": {
  "kernelspec": {
   "display_name": "Python 3",
   "language": "python",
   "name": "python3"
  },
  "language_info": {
   "codemirror_mode": {
    "name": "ipython",
    "version": 3
   },
   "file_extension": ".py",
   "mimetype": "text/x-python",
   "name": "python",
   "nbconvert_exporter": "python",
   "pygments_lexer": "ipython3",
   "version": "3.6.7"
  },
  "toc": {
   "base_numbering": 1,
   "nav_menu": {},
   "number_sections": true,
   "sideBar": true,
   "skip_h1_title": false,
   "title_cell": "Table of Contents",
   "title_sidebar": "Contents",
   "toc_cell": false,
   "toc_position": {},
   "toc_section_display": true,
   "toc_window_display": false
  }
 },
 "nbformat": 4,
 "nbformat_minor": 2
}
