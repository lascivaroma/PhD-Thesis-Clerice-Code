{
 "cells": [
  {
   "cell_type": "code",
   "execution_count": 25,
   "metadata": {},
   "outputs": [
    {
     "name": "stdout",
     "output_type": "stream",
     "text": [
      "dict_keys(['amb_tokens', 'preds', 'trues', 'tokens'])\n",
      "externos False externus externi True\n",
      "externos False externus externi True\n",
      "externo True externus externus False\n",
      "externis False externus externi True\n",
      "externa True externum externum True\n",
      "externis False externus externi True\n",
      "externos True externus externus True\n",
      "externata False externo exsterno False\n",
      "externis True externus externus True\n",
      "externo True externus externus False\n",
      "externa True externus externus True\n",
      "externo True externus externus False\n",
      "externam True externus externus False\n",
      "externos True externus externus True\n",
      "externa False externus externum True\n",
      "externis True externus externus True\n",
      "externa True externum externum True\n"
     ]
    }
   ],
   "source": [
    "import json\n",
    "\n",
    "with open(\"./results/1.4.5.c/confusion_matrix.json\") as f:\n",
    "    data = json.load(f)\n",
    "\n",
    "cnt = 0 \n",
    "total = 0\n",
    "unk = 0\n",
    "print(data[\"tasks\"][\"lemma\"].keys())\n",
    "for tok, pred, true in zip(data[\"tasks\"][\"lemma\"][\"tokens\"],data[\"tasks\"][\"lemma\"][\"preds\"],data[\"tasks\"][\"lemma\"][\"trues\"]):\n",
    "    total += 1\n",
    "    \n",
    "    if tok.lower().startswith(\"extern\"):\n",
    "        amb = tok in data[\"tasks\"][\"lemma\"][\"amb_tokens\"]\n",
    "        print(tok, pred==true, pred, true, amb)\n",
    "        cnt += 1\n",
    "        unk += int(amb)\n",
    "\n",
    "# Erreurs attendues\n",
    "# modo -> modo / modus\n",
    "# expedita -> expeditus / expedio\n",
    "# sufficiens -> sufficio / sufficiens\n",
    "# furens -> furens / furo\n",
    "# caryotas -> cariotae / caryota\n",
    "# externos -> externus / externi\n",
    "# Thapsitanis -> thapsitani / tapsitani\n",
    "# Pompeiis pompeius pompeii False \n",
    "    # - 2 occurences de Pompeii comme lemme dans le test, \n",
    "    # - 4 dans l'entraînement, contrairement à Pompée)\n",
    "# aliena alienum alienus True\n",
    "# Bactrianorum -> bactriani / bactrianus False\n",
    "# Xenippa xenippas xenippa False\n",
    "\n",
    "# Complètement folles:\n",
    "# salamandra -> salamardum / salamandra\n",
    "# coangustati conausto coangusto False"
   ]
  },
  {
   "cell_type": "code",
   "execution_count": 22,
   "metadata": {},
   "outputs": [
    {
     "name": "stdout",
     "output_type": "stream",
     "text": [
      "0.024328199435733777\n",
      "0.017436751306600065\n"
     ]
    }
   ],
   "source": [
    "print(cnt / total)\n",
    "print(unk / total)"
   ]
  }
 ],
 "metadata": {
  "kernelspec": {
   "display_name": "Python 3",
   "language": "python",
   "name": "python3"
  },
  "language_info": {
   "codemirror_mode": {
    "name": "ipython",
    "version": 3
   },
   "file_extension": ".py",
   "mimetype": "text/x-python",
   "name": "python",
   "nbconvert_exporter": "python",
   "pygments_lexer": "ipython3",
   "version": "3.6.7"
  }
 },
 "nbformat": 4,
 "nbformat_minor": 2
}
