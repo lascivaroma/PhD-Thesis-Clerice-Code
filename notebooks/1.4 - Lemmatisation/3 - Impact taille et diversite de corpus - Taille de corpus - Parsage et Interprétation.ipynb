{
 "cells": [
  {
   "cell_type": "markdown",
   "metadata": {},
   "source": [
    "# Interprétation des résultats sur des entraînements parcellaires\n",
    "\n",
    "**Avant**:\n",
    "1. Réduction du corpus en % du corpus total, 0.001, 0.005, etc.\n",
    "2. Entraînement sur deux modèles (couches RNN différentes)\n",
    "3. Test de chacun des entraînements sur le corpus de test le plus gros (80% du vrai corpus)\n",
    "\n",
    "**Ici**:\n",
    "\n",
    "1. Parser le log\n",
    "2. Transformer en dataframe\n",
    "3. Analyser\n",
    "\n",
    "## Parsage"
   ]
  },
  {
   "cell_type": "code",
   "execution_count": 14,
   "metadata": {},
   "outputs": [
    {
     "data": {
      "text/plain": [
       "[{'RNN': 2, '% Corpus': 0.005, 'lemma': 0.0433, 'pos': 0.6921, 'Gend': 0.8311},\n",
       " {'RNN': 2, '% Corpus': 0.01, 'lemma': 0.0, 'pos': 0.2829, 'Gend': 0.7535},\n",
       " {'RNN': 1, '% Corpus': 0.01, 'lemma': 0.7408, 'pos': 0.7907, 'Gend': 0.8508},\n",
       " {'RNN': 2, '% Corpus': 0.05, 'lemma': 0.8796, 'pos': 0.9002, 'Gend': 0.9124},\n",
       " {'RNN': 1, '% Corpus': 0.05, 'lemma': 0.8895, 'pos': 0.8868, 'Gend': 0.9025},\n",
       " {'RNN': 2, '% Corpus': 0.075, 'lemma': 0.9209, 'pos': 0.9206, 'Gend': 0.9302},\n",
       " {'RNN': 1, '% Corpus': 0.075, 'lemma': 0.8994, 'pos': 0.9015, 'Gend': 0.9141},\n",
       " {'RNN': 2, '% Corpus': 0.1, 'lemma': 0.9363, 'pos': 0.9288, 'Gend': 0.9332},\n",
       " {'RNN': 1, '% Corpus': 0.1, 'lemma': 0.9165, 'pos': 0.9169, 'Gend': 0.9246},\n",
       " {'RNN': 2, '% Corpus': 0.2, 'lemma': 0.9492, 'pos': 0.9474, 'Gend': 0.9484},\n",
       " {'RNN': 1, '% Corpus': 0.2, 'lemma': 0.9399, 'pos': 0.9385, 'Gend': 0.9432},\n",
       " {'RNN': 2, '% Corpus': 0.4, 'lemma': 0.9679, 'pos': 0.9609, 'Gend': 0.9609},\n",
       " {'RNN': 1, '% Corpus': 0.4, 'lemma': 0.954, 'pos': 0.9528, 'Gend': 0.9547},\n",
       " {'RNN': 2, '% Corpus': 0.6, 'lemma': 0.9702, 'pos': 0.9637, 'Gend': 0.9645},\n",
       " {'RNN': 1, '% Corpus': 0.6, 'lemma': 0.9583, 'pos': 0.9595, 'Gend': 0.9617},\n",
       " {'RNN': 2, '% Corpus': 0.8, 'lemma': 0.9748, 'pos': 0.966, 'Gend': 0.9697},\n",
       " {'RNN': 1, '% Corpus': 0.8, 'lemma': 0.9623, 'pos': 0.9615, 'Gend': 0.9652}]"
      ]
     },
     "execution_count": 14,
     "metadata": {},
     "output_type": "execute_result"
    }
   ],
   "source": [
    "import regex\n",
    "\n",
    "def parse_task(line):\n",
    "    for m in regex.findall(\"::: Evaluation report for task: (\\w+)\", line.strip()):\n",
    "        return m\n",
    "    \n",
    "def parse_model(line):\n",
    "    percent = float(regex.findall(\"(\\d,\\d+)\", line)[0].replace(\",\", \".\"))\n",
    "    layer = 1 if \"simpler\" in line else 2\n",
    "    return (percent, layer)\n",
    "\n",
    "def parse_accuracy(line):\n",
    "    return float(line[len(\"  accuracy: \"):].strip())\n",
    "\n",
    "models = []\n",
    "with open(\"percent.log\") as f:\n",
    "    current_task, current_model = None, None\n",
    "    for line in f:\n",
    "        if line.startswith(\"::: Evaluation report for task: \"):\n",
    "            current_task = parse_task(line)\n",
    "        elif line.startswith(\"archived-models/\"):\n",
    "            size, layer = parse_model(line)\n",
    "            models.append({\"RNN\": layer, \"% Corpus\": size})\n",
    "        elif current_task and line.startswith(\"  accuracy: \"):\n",
    "            models[-1][current_task] = parse_accuracy(line)\n",
    "            current_task = None\n",
    "\n",
    "models = sorted(models, key=lambda x: x[\"% Corpus\"])\n",
    "models"
   ]
  },
  {
   "cell_type": "markdown",
   "metadata": {},
   "source": [
    "## Dataframe et dump csv"
   ]
  },
  {
   "cell_type": "code",
   "execution_count": 15,
   "metadata": {},
   "outputs": [
    {
     "name": "stdout",
     "output_type": "stream",
     "text": [
      "\\begin{tabular}{lrrrrrrrr}\n",
      "\\toprule\n",
      "{} &  RNN &  \\% Corpus &   lemma &  Δ(lemma) &     pos &  Δ(pos) &    Gend &  Δ(Gend) \\\\\n",
      "\\midrule\n",
      "0 &    1 &     0.010 &  0.7408 &    0.0000 &  0.7907 &  0.0000 &  0.8508 &   0.0000 \\\\\n",
      "1 &    1 &     0.050 &  0.8895 &    0.1487 &  0.8868 &  0.0961 &  0.9025 &   0.0517 \\\\\n",
      "2 &    2 &     0.075 &  0.9209 &    0.0314 &  0.9206 &  0.0338 &  0.9302 &   0.0277 \\\\\n",
      "3 &    2 &     0.100 &  0.9363 &    0.0154 &  0.9288 &  0.0082 &  0.9332 &   0.0030 \\\\\n",
      "4 &    2 &     0.200 &  0.9492 &    0.0129 &  0.9474 &  0.0186 &  0.9484 &   0.0152 \\\\\n",
      "5 &    2 &     0.400 &  0.9679 &    0.0187 &  0.9609 &  0.0135 &  0.9609 &   0.0125 \\\\\n",
      "6 &    2 &     0.600 &  0.9702 &    0.0023 &  0.9637 &  0.0028 &  0.9645 &   0.0036 \\\\\n",
      "7 &    2 &     0.800 &  0.9748 &    0.0046 &  0.9660 &  0.0023 &  0.9697 &   0.0052 \\\\\n",
      "\\bottomrule\n",
      "\\end{tabular}\n",
      "\n",
      "   RNN  % Corpus   lemma  Δ(lemma)     pos  Δ(pos)    Gend  Δ(Gend)\n",
      "0    1     0.010  0.7408    0.0000  0.7907  0.0000  0.8508   0.0000\n",
      "1    1     0.050  0.8895    0.1487  0.8868  0.0961  0.9025   0.0517\n",
      "2    2     0.075  0.9209    0.0314  0.9206  0.0338  0.9302   0.0277\n",
      "3    2     0.100  0.9363    0.0154  0.9288  0.0082  0.9332   0.0030\n",
      "4    2     0.200  0.9492    0.0129  0.9474  0.0186  0.9484   0.0152\n",
      "5    2     0.400  0.9679    0.0187  0.9609  0.0135  0.9609   0.0125\n",
      "6    2     0.600  0.9702    0.0023  0.9637  0.0028  0.9645   0.0036\n",
      "7    2     0.800  0.9748    0.0046  0.9660  0.0023  0.9697   0.0052\n"
     ]
    }
   ],
   "source": [
    "import pandas as pd\n",
    "import pandasql as ps\n",
    "\n",
    "DF = pd.DataFrame(models)\n",
    "DF = ps.sqldf(\"\"\"SELECT \n",
    "                RNN, `% Corpus`, lemma, pos, gend\n",
    "            FROM \n",
    "                DF as orig\n",
    "            WHERE (\n",
    "                RNN = 1 AND lemma > (\n",
    "                    SELECT\n",
    "                        lemma \n",
    "                    FROM \n",
    "                        DF as comp\n",
    "                    WHERE \n",
    "                        comp.RNN = 2 AND comp.`% Corpus` = orig.`% Corpus`\n",
    "                    LIMIT 1\n",
    "                )\n",
    "            ) OR (\n",
    "                RNN = 2 AND lemma > (\n",
    "                    SELECT\n",
    "                        lemma \n",
    "                    FROM \n",
    "                        DF as comp\n",
    "                    WHERE \n",
    "                        comp.RNN = 1 AND comp.`% Corpus` = orig.`% Corpus`\n",
    "                    LIMIT 1\n",
    "                )\n",
    "            )\n",
    "            ORDER BY orig.`% Corpus`\n",
    "            \"\"\")\n",
    "\n",
    "gain = {\n",
    "    \"Δ(lemma)\": [],\n",
    "    \"Δ(pos)\": [],\n",
    "    \"Δ(Gend)\": []\n",
    "}\n",
    "last = {\n",
    "    task: None\n",
    "    for task in (\"lemma\", \"pos\", \"Gend\")\n",
    "}\n",
    "for row in DF.index:\n",
    "    cur = DF.loc[row]\n",
    "    for task in (\"lemma\", \"pos\", \"Gend\"):\n",
    "        if last[task]:\n",
    "            gain[f\"Δ({task})\"].append(cur[task] - last[task])\n",
    "        else:\n",
    "            gain[f\"Δ({task})\"].append(0)\n",
    "        last[task] = cur[task]\n",
    "        \n",
    "for idx, (task, insert) in enumerate(gain.items()):\n",
    "    DF.insert(3 + idx*2, task, insert, True) \n",
    "print(DF.to_latex()) \n",
    "print(str(DF))"
   ]
  },
  {
   "cell_type": "markdown",
   "metadata": {},
   "source": [
    "## Export des résultats de parsage"
   ]
  },
  {
   "cell_type": "code",
   "execution_count": 16,
   "metadata": {},
   "outputs": [],
   "source": [
    "import csv\n",
    "\n",
    "DF.to_csv(\"out-percent.csv\")"
   ]
  },
  {
   "cell_type": "markdown",
   "metadata": {},
   "source": [
    "## Parsage sur Vulgate"
   ]
  },
  {
   "cell_type": "code",
   "execution_count": 17,
   "metadata": {},
   "outputs": [
    {
     "name": "stdout",
     "output_type": "stream",
     "text": [
      "   RNN  % Corpus   lemma  Δ(lemma)  θ lemma  Δ(θ lemma)     pos  Δ(pos)  \\\n",
      "0    1     0.010  0.7408    0.0000   0.7246      0.0000  0.7907  0.0000   \n",
      "1    1     0.050  0.8895    0.1487   0.8575      0.1329  0.8868  0.0961   \n",
      "2    2     0.075  0.9209    0.0314   0.8554     -0.0021  0.9206  0.0338   \n",
      "3    2     0.100  0.9363    0.0154   0.8943      0.0389  0.9288  0.0082   \n",
      "4    2     0.200  0.9492    0.0129   0.8818     -0.0125  0.9474  0.0186   \n",
      "5    2     0.400  0.9679    0.0187   0.9225      0.0407  0.9609  0.0135   \n",
      "6    2     0.600  0.9702    0.0023   0.9240      0.0015  0.9637  0.0028   \n",
      "7    2     0.800  0.9748    0.0046   0.9104     -0.0136  0.9660  0.0023   \n",
      "\n",
      "     Gend  Δ(Gend)  \n",
      "0  0.8508   0.0000  \n",
      "1  0.9025   0.0517  \n",
      "2  0.9302   0.0277  \n",
      "3  0.9332   0.0030  \n",
      "4  0.9484   0.0152  \n",
      "5  0.9609   0.0125  \n",
      "6  0.9645   0.0036  \n",
      "7  0.9697   0.0052  \n"
     ]
    },
    {
     "name": "stderr",
     "output_type": "stream",
     "text": [
      "/home/thibault/dev/these/these_env/lib/python3.6/site-packages/ipykernel_launcher.py:42: UserWarning: Boolean Series key will be reindexed to match DataFrame index.\n"
     ]
    }
   ],
   "source": [
    "import regex\n",
    "\n",
    "def parse_task(line):\n",
    "    for m in regex.findall(\"::: Evaluation report for task: (\\w+)\", line.strip()):\n",
    "        return m\n",
    "    \n",
    "def parse_model(line):\n",
    "    percent = float(regex.findall(\"(\\d,\\d+)\", line)[0].replace(\",\", \".\"))\n",
    "    layer = 1 if \"simpler\" in line else 2\n",
    "    return (percent, layer)\n",
    "\n",
    "def parse_accuracy(line):\n",
    "    return float(line[len(\"  accuracy: \"):].strip())\n",
    "\n",
    "results_latin_tardif = []\n",
    "with open(\"percent-full-test.log\") as f:\n",
    "    current_task, current_model = None, None\n",
    "    for line in f:\n",
    "        if line.startswith(\"::: Evaluation report for task: \"):\n",
    "            current_task = parse_task(line)\n",
    "        elif line.startswith(\"archived-models/\"):\n",
    "            size, layer = parse_model(line)\n",
    "            results_latin_tardif.append({\"RNN\": layer, \"% Corpus\": size})\n",
    "        elif current_task and line.startswith(\"  accuracy: \"):\n",
    "            results_latin_tardif[-1][current_task] = parse_accuracy(line)\n",
    "            current_task = None\n",
    "\n",
    "results_latin_tardif = sorted(results_latin_tardif, key=lambda x: x[\"% Corpus\"])\n",
    "# print(results_latin_tardif)\n",
    "nb_rows, _ = DF.shape\n",
    "perf = [.0 for _ in range(nb_rows)]\n",
    "\n",
    "perf = {\n",
    "    \"θ lemma\": [.0 for _ in range(nb_rows)],\n",
    "    \"θ pos\": [.0 for _ in range(nb_rows)],\n",
    "    \"θ Gend\": [.0 for _ in range(nb_rows)],\n",
    "    \"Δ(θ lemma)\": [.0 for _ in range(nb_rows)],\n",
    "    \"Δ(θ pos)\": [.0 for _ in range(nb_rows)],\n",
    "    \"Δ(θ Gend)\": [.0 for _ in range(nb_rows)]\n",
    "}\n",
    "for model in results_latin_tardif:\n",
    "    data = DF[DF[\"RNN\"] == model[\"RNN\"]][DF[\"% Corpus\"] == model[\"% Corpus\"]]\n",
    "    if len(data):\n",
    "        row_index = data.index.tolist()[0]\n",
    "        for task in (\"pos\", \"lemma\", \"Gend\"):\n",
    "            perf[f\"θ {task}\"][row_index] = model[task]\n",
    "            if row_index != 0:\n",
    "                perf[f\"Δ(θ {task})\"][row_index] = model[task] - perf[f\"θ {task}\"][row_index-1]\n",
    "            \n",
    "for idx, task in enumerate((\"lemma\", )):#, \"pos\", \"Gend\")):\n",
    "    insert = perf[f\"θ {task}\"]\n",
    "    DF.insert(4 + idx*3 + idx, f\"θ {task}\", insert, True) \n",
    "    insert = perf[f\"Δ(θ {task})\"]\n",
    "    DF.insert(4 + idx*3 + idx + 1, f\"Δ(θ {task})\", insert, True) \n",
    "print(str(DF))"
   ]
  },
  {
   "cell_type": "code",
   "execution_count": 24,
   "metadata": {},
   "outputs": [
    {
     "name": "stdout",
     "output_type": "stream",
     "text": [
      "\\begin{tabular}{rrrrrrrrrr}\n",
      "\\toprule\n",
      " RNN &  \\% Corpus &  Lemme &  $\\Delta$(Lemme) &  $\\theta$ Lemme &  $\\Delta$($\\theta$ Lemme) &   POS &  $\\Delta$(POS) &  Genre &  $\\Delta$(Genre) \\\\\n",
      "\\midrule\n",
      "   1 &     0.010 &  0.741 &     0.000 &    0.725 &       0.000 & 0.791 &   0.000 & 0.851 &    0.000 \\\\\n",
      "   1 &     0.050 &  0.889 &     0.149 &    0.858 &       0.133 & 0.887 &   0.096 & 0.902 &    0.052 \\\\\n",
      "   2 &     0.075 &  0.921 &     0.031 &    0.855 &      -0.002 & 0.921 &   0.034 & 0.930 &    0.028 \\\\\n",
      "   2 &     0.100 &  0.936 &     0.015 &    0.894 &       0.039 & 0.929 &   0.008 & 0.933 &    0.003 \\\\\n",
      "   2 &     0.200 &  0.949 &     0.013 &    0.882 &      -0.012 & 0.947 &   0.019 & 0.948 &    0.015 \\\\\n",
      "   2 &     0.400 &  0.968 &     0.019 &    0.922 &       0.041 & 0.961 &   0.013 & 0.961 &    0.012 \\\\\n",
      "   2 &     0.600 &  0.970 &     0.002 &    0.924 &       0.002 & 0.964 &   0.003 & 0.965 &    0.004 \\\\\n",
      "   2 &     0.800 &  0.975 &     0.005 &    0.910 &      -0.014 & 0.966 &   0.002 & 0.970 &    0.005 \\\\\n",
      "\\bottomrule\n",
      "\\end{tabular}\n",
      "\n"
     ]
    }
   ],
   "source": [
    "print(\n",
    "    DF.to_latex(index=False, float_format=\"{:0.3f}\".format)\\\n",
    "        .replace(\"Δ\", \"$\\\\Delta$\")\\\n",
    "        .replace(\"θ\", \"$\\\\theta$\")\\\n",
    "        .replace(\"lemma\", \"Lemme\")\\\n",
    "        .replace(\"pos\", \"POS\")\\\n",
    "        .replace(\"Gend\", \"Genre\")\n",
    ")"
   ]
  },
  {
   "cell_type": "code",
   "execution_count": null,
   "metadata": {},
   "outputs": [],
   "source": []
  }
 ],
 "metadata": {
  "kernelspec": {
   "display_name": "Python 3",
   "language": "python",
   "name": "python3"
  },
  "language_info": {
   "codemirror_mode": {
    "name": "ipython",
    "version": 3
   },
   "file_extension": ".py",
   "mimetype": "text/x-python",
   "name": "python",
   "nbconvert_exporter": "python",
   "pygments_lexer": "ipython3",
   "version": "3.8.5"
  },
  "toc": {
   "base_numbering": 1,
   "nav_menu": {},
   "number_sections": true,
   "sideBar": true,
   "skip_h1_title": false,
   "title_cell": "Table of Contents",
   "title_sidebar": "Contents",
   "toc_cell": false,
   "toc_position": {},
   "toc_section_display": true,
   "toc_window_display": false
  }
 },
 "nbformat": 4,
 "nbformat_minor": 2
}
