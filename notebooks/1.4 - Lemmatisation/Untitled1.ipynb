{
 "cells": [
  {
   "cell_type": "code",
   "execution_count": 13,
   "metadata": {},
   "outputs": [
    {
     "data": {
      "text/plain": [
       "array([[ 84.29764122, 268.28336437, 774.41899441],\n",
       "       [ 80.03414029, 254.71446307, 735.25139665],\n",
       "       [ 76.6682185 , 244.00217256, 704.32960894]])"
      ]
     },
     "execution_count": 13,
     "metadata": {},
     "output_type": "execute_result"
    }
   ],
   "source": [
    "import numpy as np\n",
    "from scipy.stats.contingency import margins\n",
    "from functools import reduce\n",
    "\n",
    "observed = np.array([\n",
    "    [99, 274, 754], [97, 253, 720], [45, 240,740]\n",
    "])\n",
    "\n",
    "observed = np.asarray(observed, dtype=np.float64)\n",
    "#print(observed)\n",
    "# Create a list of the marginal sums.\n",
    "margsums = margins(observed)\n",
    "#print(margsums)\n",
    "# Create the array of expected frequencies.  The shapes of the\n",
    "# marginal sums returned by apply_over_axes() are just what we\n",
    "# need for broadcasting in the following product.\n",
    "d = observed.ndim\n",
    "#print(d)\n",
    "#print(reduce(np.multiply, margsums))\n",
    "#print(observed.sum() ** (d-1))\n",
    "expected = reduce(np.multiply, margsums) / observed.sum() ** (d - 1)\n",
    "#print(expected)\n",
    "expected\n"
   ]
  }
 ],
 "metadata": {
  "kernelspec": {
   "display_name": "Python 3",
   "language": "python",
   "name": "python3"
  },
  "language_info": {
   "codemirror_mode": {
    "name": "ipython",
    "version": 3
   },
   "file_extension": ".py",
   "mimetype": "text/x-python",
   "name": "python",
   "nbconvert_exporter": "python",
   "pygments_lexer": "ipython3",
   "version": "3.6.7"
  },
  "toc": {
   "base_numbering": 1,
   "nav_menu": {},
   "number_sections": true,
   "sideBar": true,
   "skip_h1_title": false,
   "title_cell": "Table of Contents",
   "title_sidebar": "Contents",
   "toc_cell": false,
   "toc_position": {},
   "toc_section_display": true,
   "toc_window_display": false
  }
 },
 "nbformat": 4,
 "nbformat_minor": 2
}
