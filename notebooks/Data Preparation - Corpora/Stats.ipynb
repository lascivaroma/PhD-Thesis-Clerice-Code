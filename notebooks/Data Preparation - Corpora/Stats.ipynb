{
 "cells": [
  {
   "cell_type": "code",
   "execution_count": 2,
   "metadata": {},
   "outputs": [
    {
     "name": "stdout",
     "output_type": "stream",
     "text": [
      "15285916\n",
      "Counter({'NOMcom': 3287558,\n",
      "         'VER': 2868564,\n",
      "         'PUNC': 2380826,\n",
      "         'ADJqua': 1066978,\n",
      "         'CONcoo': 885373,\n",
      "         'PRE': 818447,\n",
      "         'ADV': 759401,\n",
      "         'PROdem': 552865,\n",
      "         'CONsub': 433698,\n",
      "         'PROrel': 385376,\n",
      "         '_': 373358,\n",
      "         'PROind': 280727,\n",
      "         'ADVneg': 203611,\n",
      "         'PROper': 179817,\n",
      "         'CON': 140947,\n",
      "         'ADVrel': 108249,\n",
      "         'ADJcar': 97325,\n",
      "         'PROpos': 94930,\n",
      "         'PROref': 60506,\n",
      "         'NOMpro': 59216,\n",
      "         'PROint': 57834,\n",
      "         'PROpos.ref': 57036,\n",
      "         'ADVint': 51677,\n",
      "         'ADJord': 30815,\n",
      "         'INJ': 15932,\n",
      "         'ADJadv.ord': 13971,\n",
      "         'ADJdis': 9540,\n",
      "         'ADJadv.mul': 5591,\n",
      "         'ADVint.neg': 2597,\n",
      "         'ADJmul': 2477,\n",
      "         'UNK': 505,\n",
      "         '': 166,\n",
      "         'NOM': 3})\n"
     ]
    }
   ],
   "source": [
    "import glob\n",
    "import collections\n",
    "\n",
    "lines = 0\n",
    "pos = collections.Counter()\n",
    "for file in glob.glob(\"lemmatized/tsv/*.txt\"):\n",
    "    with open(file) as f:\n",
    "        POS = []\n",
    "        for line in f:\n",
    "            lines += 1\n",
    "            if not line.startswith(\"token\\t\"):\n",
    "                POS.append(line.split(\"\\t\")[2])\n",
    "        lines -= 1\n",
    "        pos.update(collections.Counter(POS))\n",
    "        \n",
    "print(lines)\n",
    "from pprint import pprint\n",
    "pprint(pos)"
   ]
  }
 ],
 "metadata": {
  "kernelspec": {
   "display_name": "Python 3",
   "language": "python",
   "name": "python3"
  },
  "language_info": {
   "codemirror_mode": {
    "name": "ipython",
    "version": 3
   },
   "file_extension": ".py",
   "mimetype": "text/x-python",
   "name": "python",
   "nbconvert_exporter": "python",
   "pygments_lexer": "ipython3",
   "version": "3.6.7"
  },
  "toc": {
   "base_numbering": 1,
   "nav_menu": {},
   "number_sections": true,
   "sideBar": true,
   "skip_h1_title": false,
   "title_cell": "Table of Contents",
   "title_sidebar": "Contents",
   "toc_cell": false,
   "toc_position": {},
   "toc_section_display": true,
   "toc_window_display": false
  }
 },
 "nbformat": 4,
 "nbformat_minor": 2
}
