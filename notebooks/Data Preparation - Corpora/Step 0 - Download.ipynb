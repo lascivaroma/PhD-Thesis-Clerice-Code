{
 "cells": [
  {
   "cell_type": "markdown",
   "metadata": {},
   "source": [
    "# Main functions"
   ]
  },
  {
   "cell_type": "code",
   "execution_count": 19,
   "metadata": {},
   "outputs": [],
   "source": [
    "import requests\n",
    "import zipfile\n",
    "import csv\n",
    "import os\n",
    "import shutil\n",
    "from io import BytesIO\n",
    "import glob\n",
    "\n",
    "TASK_SEPARATOR = \"    \"\n",
    "SUBTASK_SEPARATOR = TASK_SEPARATOR * 2\n",
    "from MyCapytain.resolvers.cts.local import CtsCapitainsLocalResolver\n",
    "\n",
    "\n",
    "repositories = list(glob.glob(\"../../data/raw/corpora/**/*\", recursive=False))\n",
    "\n",
    "\n",
    "def download_corpus(tgt, corpus_name, corpus_version):\n",
    "    \"\"\" Download a corpus\n",
    "\n",
    "    :param tgt: Directory where to download\n",
    "    :param corpus_name: Corpus Name\n",
    "    :param corpus_version: Corpus version\n",
    "    :return: Status\n",
    "    :rtype: bool\n",
    "    \"\"\"\n",
    "    target_dir = tgt+\"/\"+corpus_name.replace(\"/\", \"_\")\n",
    "    if os.path.isdir(target_dir):\n",
    "        shutil.rmtree(target_dir)\n",
    "    print(TASK_SEPARATOR+\"Starting download\")\n",
    "    webfile = requests.get(\"https://github.com/{name}/archive/{version}.zip\".format(\n",
    "        name=corpus_name, version=corpus_version\n",
    "    ))\n",
    "    print(TASK_SEPARATOR+\"Starting Unzipping\")\n",
    "    with zipfile.ZipFile(BytesIO(webfile.content)) as z:\n",
    "        z.extractall(target_dir)\n",
    "    print(TASK_SEPARATOR+\"Done\")\n",
    "    return True, target_dir\n",
    "\n",
    "\n",
    "def download_corpora(src=\"data/raw/corpora.csv\", tgt=\"data/raw/corpora/\", force=False, is_capitains=True):\n",
    "    with open(src) as src_file:\n",
    "        corpora = [corpus for corpus in csv.DictReader(src_file, delimiter=\";\")]\n",
    "        new_corpora = []\n",
    "        for corpus in corpora:\n",
    "            if corpus[\"Current\"] == corpus[\"Version\"] and force is not True:\n",
    "                print(\"{} stays on version {}\".format(corpus[\"Name\"], corpus[\"Current\"]))\n",
    "            else:\n",
    "                print(\"{}'s version is {}. Downloading {}\".format(corpus[\"Name\"], corpus[\"Current\"], corpus[\"Version\"]))\n",
    "                status, path = download_corpus(tgt, corpus[\"Name\"], corpus[\"Version\"])\n",
    "                if status is True:\n",
    "                    corpus[\"Current\"] = corpus[\"Version\"]\n",
    "                    print(TASK_SEPARATOR+\"Cleaning up the corpus\")\n",
    "                    if is_capitains:\n",
    "                        clean_up_corpora(path)\n",
    "            new_corpora.append({k: v for k, v in corpus.items()})\n",
    "\n",
    "    # Update the corpus\n",
    "    with open(src, \"w\") as src_file:\n",
    "        writer = csv.DictWriter(src_file, delimiter=\";\", fieldnames=[\"Name\", \"Version\", \"Current\"])\n",
    "        writer.writeheader()\n",
    "        writer.writerows(new_corpora)\n",
    "\n",
    "\n",
    "def clean_up_corpora(src):\n",
    "    resolver = CtsCapitainsLocalResolver(glob.glob(src+\"/**\"))\n",
    "    translations = [x.path for x in resolver.getMetadata().readableDescendants if x.lang != \"lat\"]\n",
    "    for trans in translations:\n",
    "        try:\n",
    "            os.remove(trans)\n",
    "        except Exception as E:\n",
    "            print(E)\n",
    "    print(SUBTASK_SEPARATOR+\"Removed {} text(s) not in Latin\".format(len(translations)))\n",
    "    print(SUBTASK_SEPARATOR+\"Kept {} text(s) in Latin\".format(\n",
    "        len([x for x in resolver.getMetadata().readableDescendants if x.lang == \"lat\"]))\n",
    "    )\n"
   ]
  },
  {
   "cell_type": "markdown",
   "metadata": {},
   "source": [
    "# Read the versions"
   ]
  },
  {
   "cell_type": "code",
   "execution_count": 20,
   "metadata": {},
   "outputs": [],
   "source": [
    "repos = {\n",
    "    \n",
    "}\n",
    "with open(\"../../data/raw/corpora.csv\") as f:\n",
    "    for lineno, line in enumerate(f):\n",
    "        line = line.strip().split(\";\")\n",
    "        if lineno == 0:\n",
    "            headers = line\n",
    "        else:\n",
    "            line = dict(zip(headers, line))\n",
    "            repos[line[\"Name\"]] = line[\"Version\"]"
   ]
  },
  {
   "cell_type": "markdown",
   "metadata": {},
   "source": [
    "# Check latest version"
   ]
  },
  {
   "cell_type": "code",
   "execution_count": 21,
   "metadata": {},
   "outputs": [],
   "source": [
    "import requests\n",
    "\n",
    "need_update = {\n",
    "    \n",
    "}\n",
    "for repo in repos:\n",
    "    req = requests.get(f\"https://api.github.com/repos/{repo}/releases/latest\")\n",
    "    data = req.json()\n",
    "    latest = data[\"tag_name\"]\n",
    "    when = data[\"created_at\"]\n",
    "    if latest != repos[repo]:\n",
    "        print(f\"{repo} is {latest}, current version on disk {repos[repo]}. Published on {when}\")\n",
    "        need_update[repo] = latest"
   ]
  },
  {
   "cell_type": "markdown",
   "metadata": {},
   "source": [
    "# Update required versions"
   ]
  },
  {
   "cell_type": "code",
   "execution_count": 22,
   "metadata": {},
   "outputs": [
    {
     "name": "stdout",
     "output_type": "stream",
     "text": [
      "Name;Version;Current\n",
      "PerseusDL/canonical-latinLit;0.0.557;0.0.508\n",
      "OpenGreekAndLatin/csel-dev;1.0.67;1.0.63\n",
      "lascivaroma/priapeia;1.1.18;1.1.12\n",
      "lascivaroma/additional-texts;1.0.111;1.0.98\n",
      "ponteineptique/digiliblt;0.0.32;0.0.32\n",
      "\n"
     ]
    }
   ],
   "source": [
    "repos = []\n",
    "with open(\"../../data/raw/corpora.csv\") as f:\n",
    "    for lineno, line in enumerate(f):\n",
    "        line = line.strip().split(\";\")\n",
    "        if lineno == 0:\n",
    "            headers = line\n",
    "        else:\n",
    "            line = dict(zip(headers, line))\n",
    "            repos.append(line)\n",
    "            \n",
    "with open(\"../../data/raw/corpora.csv\", \"w\") as f:\n",
    "    f.write(\";\".join(headers)+\"\\n\")\n",
    "    for repo in repos:\n",
    "        if repo[\"Name\"] in need_update:\n",
    "            repo[\"Version\"] = need_update[repo[\"Name\"]]\n",
    "        f.write(\n",
    "            \";\".join(\n",
    "                [repo[key] for key in headers]\n",
    "            ) + \"\\n\"\n",
    "        )\n",
    "\n",
    "\n",
    "with open(\"../../data/raw/corpora.csv\") as f:\n",
    "    print(f.read())"
   ]
  },
  {
   "cell_type": "markdown",
   "metadata": {},
   "source": [
    "# Download and clean"
   ]
  },
  {
   "cell_type": "code",
   "execution_count": 23,
   "metadata": {},
   "outputs": [
    {
     "name": "stdout",
     "output_type": "stream",
     "text": [
      "PerseusDL/canonical-latinLit's version is 0.0.508. Downloading 0.0.557\n",
      "    Starting download\n",
      "    Starting Unzipping\n"
     ]
    },
    {
     "name": "stderr",
     "output_type": "stream",
     "text": [
      "../../data/raw/corpora//PerseusDL_canonical-latinLit/canonical-latinLit-0.0.557/data/phi0448/phi002/phi0448.phi002.perseus-eng2.xml is not present\n"
     ]
    },
    {
     "name": "stdout",
     "output_type": "stream",
     "text": [
      "    Done\n",
      "    Cleaning up the corpus\n"
     ]
    },
    {
     "name": "stderr",
     "output_type": "stream",
     "text": [
      "../../data/raw/corpora//PerseusDL_canonical-latinLit/canonical-latinLit-0.0.557/data/phi0474/phi051/phi0474.phi051.perseus-eng1.xml is not present\n",
      "../../data/raw/corpora//PerseusDL_canonical-latinLit/canonical-latinLit-0.0.557/data/phi0474/phi056/phi0474.phi056.perseus-eng1.xml is not present\n",
      "../../data/raw/corpora//PerseusDL_canonical-latinLit/canonical-latinLit-0.0.557/data/phi0474/phi059/phi0474.phi059.perseus-eng1.xml is not present\n",
      "../../data/raw/corpora//PerseusDL_canonical-latinLit/canonical-latinLit-0.0.557/data/phi0474/phi053/phi0474.phi053.perseus-eng1.xml is not present\n",
      "../../data/raw/corpora//PerseusDL_canonical-latinLit/canonical-latinLit-0.0.557/data/phi0474/phi055/phi0474.phi055.perseus-eng1.xml is not present\n",
      "../../data/raw/corpora//PerseusDL_canonical-latinLit/canonical-latinLit-0.0.557/data/phi0474/phi035/phi0474.phi035.perseus-lat1.xml is not present\n",
      "../../data/raw/corpora//PerseusDL_canonical-latinLit/canonical-latinLit-0.0.557/data/phi0474/phi058/phi0474.phi058.perseus-eng1.xml is not present\n",
      "../../data/raw/corpora//PerseusDL_canonical-latinLit/canonical-latinLit-0.0.557/data/phi0474/phi057/phi0474.phi057.perseus-eng1.xml is not present\n",
      "../../data/raw/corpora//PerseusDL_canonical-latinLit/canonical-latinLit-0.0.557/data/stoa0089/stoa013/stoa0089.stoa013.perseus-eng1.xml is not present\n",
      "../../data/raw/corpora//PerseusDL_canonical-latinLit/canonical-latinLit-0.0.557/data/stoa0089/stoa004/stoa0089.stoa004.perseus-eng1.xml is not present\n",
      "../../data/raw/corpora//PerseusDL_canonical-latinLit/canonical-latinLit-0.0.557/data/stoa0089/stoa005/stoa0089.stoa005.perseus-eng1.xml is not present\n",
      "../../data/raw/corpora//PerseusDL_canonical-latinLit/canonical-latinLit-0.0.557/data/stoa0089/stoa012/stoa0089.stoa012.perseus-eng1.xml is not present\n",
      "../../data/raw/corpora//PerseusDL_canonical-latinLit/canonical-latinLit-0.0.557/data/stoa0089/stoa007/stoa0089.stoa007.perseus-eng1.xml is not present\n",
      "../../data/raw/corpora//PerseusDL_canonical-latinLit/canonical-latinLit-0.0.557/data/stoa0089/stoa003/stoa0089.stoa003.perseus-eng1.xml is not present\n",
      "../../data/raw/corpora//PerseusDL_canonical-latinLit/canonical-latinLit-0.0.557/data/stoa0089/stoa009/stoa0089.stoa009.perseus-eng1.xml is not present\n",
      "../../data/raw/corpora//PerseusDL_canonical-latinLit/canonical-latinLit-0.0.557/data/stoa0089/stoa008/stoa0089.stoa008.perseus-eng1.xml is not present\n",
      "../../data/raw/corpora//PerseusDL_canonical-latinLit/canonical-latinLit-0.0.557/data/stoa0089/stoa014/stoa0089.stoa014.perseus-eng1.xml is not present\n",
      "../../data/raw/corpora//PerseusDL_canonical-latinLit/canonical-latinLit-0.0.557/data/stoa0089/stoa002/stoa0089.stoa002.perseus-eng1.xml is not present\n",
      "../../data/raw/corpora//PerseusDL_canonical-latinLit/canonical-latinLit-0.0.557/data/stoa0089/stoa006/stoa0089.stoa006.perseus-eng1.xml is not present\n",
      "../../data/raw/corpora//PerseusDL_canonical-latinLit/canonical-latinLit-0.0.557/data/stoa0089/stoa001/stoa0089.stoa001.perseus-eng1.xml is not present\n",
      "../../data/raw/corpora//PerseusDL_canonical-latinLit/canonical-latinLit-0.0.557/data/stoa0089/stoa011/stoa0089.stoa011.perseus-eng1.xml is not present\n",
      "../../data/raw/corpora//PerseusDL_canonical-latinLit/canonical-latinLit-0.0.557/data/stoa0089/stoa010/stoa0089.stoa010.perseus-eng1.xml is not present\n",
      "../../data/raw/corpora//PerseusDL_canonical-latinLit/canonical-latinLit-0.0.557/data/phi1351/phi004/phi1351.phi004.perseus-eng1.xml is not present\n",
      "../../data/raw/corpora//PerseusDL_canonical-latinLit/canonical-latinLit-0.0.557/data/phi1351/phi001/phi1351.phi001.perseus-eng2.xml is not present\n",
      "../../data/raw/corpora//PerseusDL_canonical-latinLit/canonical-latinLit-0.0.557/data/phi1351/phi001/phi1351.phi001.perseus-eng1.xml is not present\n",
      "../../data/raw/corpora//PerseusDL_canonical-latinLit/canonical-latinLit-0.0.557/data/phi1351/phi002/phi1351.phi002.perseus-eng1.xml is not present\n"
     ]
    },
    {
     "name": "stdout",
     "output_type": "stream",
     "text": [
      "[Errno 2] No such file or directory: '../../data/raw/corpora//PerseusDL_canonical-latinLit/canonical-latinLit-0.0.557/data/phi0448/phi002/phi0448.phi002.perseus-eng2.xml'\n",
      "[Errno 2] No such file or directory: '../../data/raw/corpora//PerseusDL_canonical-latinLit/canonical-latinLit-0.0.557/data/phi0474/phi051/phi0474.phi051.perseus-eng1.xml'\n",
      "[Errno 2] No such file or directory: '../../data/raw/corpora//PerseusDL_canonical-latinLit/canonical-latinLit-0.0.557/data/phi0474/phi056/phi0474.phi056.perseus-eng1.xml'\n",
      "[Errno 2] No such file or directory: '../../data/raw/corpora//PerseusDL_canonical-latinLit/canonical-latinLit-0.0.557/data/phi0474/phi059/phi0474.phi059.perseus-eng1.xml'\n",
      "[Errno 2] No such file or directory: '../../data/raw/corpora//PerseusDL_canonical-latinLit/canonical-latinLit-0.0.557/data/phi0474/phi053/phi0474.phi053.perseus-eng1.xml'\n",
      "[Errno 2] No such file or directory: '../../data/raw/corpora//PerseusDL_canonical-latinLit/canonical-latinLit-0.0.557/data/phi0474/phi055/phi0474.phi055.perseus-eng1.xml'\n",
      "[Errno 2] No such file or directory: '../../data/raw/corpora//PerseusDL_canonical-latinLit/canonical-latinLit-0.0.557/data/phi0474/phi058/phi0474.phi058.perseus-eng1.xml'\n",
      "[Errno 2] No such file or directory: '../../data/raw/corpora//PerseusDL_canonical-latinLit/canonical-latinLit-0.0.557/data/phi0474/phi057/phi0474.phi057.perseus-eng1.xml'\n",
      "[Errno 2] No such file or directory: '../../data/raw/corpora//PerseusDL_canonical-latinLit/canonical-latinLit-0.0.557/data/stoa0089/stoa013/stoa0089.stoa013.perseus-eng1.xml'\n",
      "[Errno 2] No such file or directory: '../../data/raw/corpora//PerseusDL_canonical-latinLit/canonical-latinLit-0.0.557/data/stoa0089/stoa004/stoa0089.stoa004.perseus-eng1.xml'\n",
      "[Errno 2] No such file or directory: '../../data/raw/corpora//PerseusDL_canonical-latinLit/canonical-latinLit-0.0.557/data/stoa0089/stoa005/stoa0089.stoa005.perseus-eng1.xml'\n",
      "[Errno 2] No such file or directory: '../../data/raw/corpora//PerseusDL_canonical-latinLit/canonical-latinLit-0.0.557/data/stoa0089/stoa012/stoa0089.stoa012.perseus-eng1.xml'\n",
      "[Errno 2] No such file or directory: '../../data/raw/corpora//PerseusDL_canonical-latinLit/canonical-latinLit-0.0.557/data/stoa0089/stoa007/stoa0089.stoa007.perseus-eng1.xml'\n",
      "[Errno 2] No such file or directory: '../../data/raw/corpora//PerseusDL_canonical-latinLit/canonical-latinLit-0.0.557/data/stoa0089/stoa003/stoa0089.stoa003.perseus-eng1.xml'\n",
      "[Errno 2] No such file or directory: '../../data/raw/corpora//PerseusDL_canonical-latinLit/canonical-latinLit-0.0.557/data/stoa0089/stoa009/stoa0089.stoa009.perseus-eng1.xml'\n",
      "[Errno 2] No such file or directory: '../../data/raw/corpora//PerseusDL_canonical-latinLit/canonical-latinLit-0.0.557/data/stoa0089/stoa008/stoa0089.stoa008.perseus-eng1.xml'\n",
      "[Errno 2] No such file or directory: '../../data/raw/corpora//PerseusDL_canonical-latinLit/canonical-latinLit-0.0.557/data/stoa0089/stoa014/stoa0089.stoa014.perseus-eng1.xml'\n",
      "[Errno 2] No such file or directory: '../../data/raw/corpora//PerseusDL_canonical-latinLit/canonical-latinLit-0.0.557/data/stoa0089/stoa002/stoa0089.stoa002.perseus-eng1.xml'\n",
      "[Errno 2] No such file or directory: '../../data/raw/corpora//PerseusDL_canonical-latinLit/canonical-latinLit-0.0.557/data/stoa0089/stoa006/stoa0089.stoa006.perseus-eng1.xml'\n",
      "[Errno 2] No such file or directory: '../../data/raw/corpora//PerseusDL_canonical-latinLit/canonical-latinLit-0.0.557/data/stoa0089/stoa001/stoa0089.stoa001.perseus-eng1.xml'\n",
      "[Errno 2] No such file or directory: '../../data/raw/corpora//PerseusDL_canonical-latinLit/canonical-latinLit-0.0.557/data/stoa0089/stoa011/stoa0089.stoa011.perseus-eng1.xml'\n",
      "[Errno 2] No such file or directory: '../../data/raw/corpora//PerseusDL_canonical-latinLit/canonical-latinLit-0.0.557/data/stoa0089/stoa010/stoa0089.stoa010.perseus-eng1.xml'\n",
      "[Errno 2] No such file or directory: '../../data/raw/corpora//PerseusDL_canonical-latinLit/canonical-latinLit-0.0.557/data/phi1351/phi004/phi1351.phi004.perseus-eng1.xml'\n",
      "[Errno 2] No such file or directory: '../../data/raw/corpora//PerseusDL_canonical-latinLit/canonical-latinLit-0.0.557/data/phi1351/phi001/phi1351.phi001.perseus-eng2.xml'\n",
      "[Errno 2] No such file or directory: '../../data/raw/corpora//PerseusDL_canonical-latinLit/canonical-latinLit-0.0.557/data/phi1351/phi001/phi1351.phi001.perseus-eng1.xml'\n",
      "[Errno 2] No such file or directory: '../../data/raw/corpora//PerseusDL_canonical-latinLit/canonical-latinLit-0.0.557/data/phi1351/phi002/phi1351.phi002.perseus-eng1.xml'\n",
      "        Removed 113 text(s) not in Latin\n",
      "        Kept 317 text(s) in Latin\n",
      "OpenGreekAndLatin/csel-dev's version is 1.0.63. Downloading 1.0.67\n",
      "    Starting download\n",
      "    Starting Unzipping\n",
      "    Done\n",
      "    Cleaning up the corpus\n",
      "        Removed 0 text(s) not in Latin\n",
      "        Kept 278 text(s) in Latin\n",
      "lascivaroma/priapeia's version is 1.1.12. Downloading 1.1.18\n",
      "    Starting download\n",
      "    Starting Unzipping\n",
      "    Done\n",
      "    Cleaning up the corpus\n",
      "        Removed 2 text(s) not in Latin\n",
      "        Kept 1 text(s) in Latin\n",
      "lascivaroma/additional-texts's version is 1.0.98. Downloading 1.0.111\n",
      "    Starting download\n"
     ]
    },
    {
     "name": "stderr",
     "output_type": "stream",
     "text": [
      "../../data/raw/corpora//lascivaroma_additional-texts/additional-texts-1.0.111/data/phi1351/phi005/phi1351.phi005.perseus-eng1.xml is not present\n"
     ]
    },
    {
     "name": "stdout",
     "output_type": "stream",
     "text": [
      "    Starting Unzipping\n",
      "    Done\n",
      "    Cleaning up the corpus\n",
      "[Errno 2] No such file or directory: '../../data/raw/corpora//lascivaroma_additional-texts/additional-texts-1.0.111/data/phi1351/phi005/phi1351.phi005.perseus-eng1.xml'\n",
      "        Removed 1 text(s) not in Latin\n",
      "        Kept 23 text(s) in Latin\n",
      "ponteineptique/digiliblt stays on version 0.0.32\n"
     ]
    }
   ],
   "source": [
    "download_corpora(\n",
    "    src=\"../../data/raw/corpora.csv\",\n",
    "    tgt=\"../../data/raw/corpora/\",\n",
    "    force=False,\n",
    "    is_capitains=True\n",
    ")"
   ]
  }
 ],
 "metadata": {
  "kernelspec": {
   "display_name": "Python 3",
   "language": "python",
   "name": "python3"
  },
  "language_info": {
   "codemirror_mode": {
    "name": "ipython",
    "version": 3
   },
   "file_extension": ".py",
   "mimetype": "text/x-python",
   "name": "python",
   "nbconvert_exporter": "python",
   "pygments_lexer": "ipython3",
   "version": "3.6.7"
  },
  "toc": {
   "base_numbering": 1,
   "nav_menu": {},
   "number_sections": true,
   "sideBar": true,
   "skip_h1_title": false,
   "title_cell": "Table of Contents",
   "title_sidebar": "Contents",
   "toc_cell": false,
   "toc_position": {},
   "toc_section_display": true,
   "toc_window_display": false
  }
 },
 "nbformat": 4,
 "nbformat_minor": 2
}
