{
 "cells": [
  {
   "cell_type": "markdown",
   "metadata": {},
   "source": [
    "# Generation du corpus en texte brut\n",
    "\n",
    "## Constantes"
   ]
  },
  {
   "cell_type": "code",
   "execution_count": 12,
   "metadata": {},
   "outputs": [],
   "source": [
    "CHECKSUM_PATH = \"./checksum-xmls.csv\"\n",
    "CORPORA_PATH = \"../../data/raw/corpora/**/*\"\n",
    "WRITE_TEXT = True # Set to True for really applying XSL\n",
    "FORCE_REGENERATE = True  # Mostly useful if the XSL changes\n",
    "FORCE_GENERATE_CSV_FROM_SCRATCH = True # Force writing from scratch the CHECKSUM\n",
    "\n",
    "import tqdm"
   ]
  },
  {
   "cell_type": "markdown",
   "metadata": {},
   "source": [
    "## Lecture des dépôts"
   ]
  },
  {
   "cell_type": "code",
   "execution_count": 2,
   "metadata": {
    "scrolled": true
   },
   "outputs": [
    {
     "name": "stderr",
     "output_type": "stream",
     "text": [
      "../../data/raw/corpora/lascivaroma_additional-texts/lascivaroma_additional-texts/data/phi1351/phi005/phi1351.phi005.perseus-eng1.xml is not present\n",
      "../../data/raw/corpora/lascivaroma_priapeia/lascivaroma_priapeia/data/phi1103/phi001/phi1103.phi001.lascivaroma-eng1.xml is not present\n",
      "../../data/raw/corpora/lascivaroma_priapeia/lascivaroma_priapeia/data/phi1103/phi001/phi1103.phi001.lascivaroma-eng2.xml is not present\n",
      "../../data/raw/corpora/PerseusDL_canonical-latinLit/PerseusDL_canonical-latinLit/data/phi0472/phi001/phi0472.phi001.perseus-eng3.xml is not present\n",
      "../../data/raw/corpora/PerseusDL_canonical-latinLit/PerseusDL_canonical-latinLit/data/phi0472/phi001/phi0472.phi001.perseus-eng4.xml is not present\n",
      "../../data/raw/corpora/PerseusDL_canonical-latinLit/PerseusDL_canonical-latinLit/data/phi0448/phi001/phi0448.phi001.perseus-eng2.xml is not present\n",
      "../../data/raw/corpora/PerseusDL_canonical-latinLit/PerseusDL_canonical-latinLit/data/phi0448/phi002/phi0448.phi002.perseus-eng2.xml is not present\n",
      "../../data/raw/corpora/PerseusDL_canonical-latinLit/PerseusDL_canonical-latinLit/data/phi0893/phi004/phi0893.phi004.perseus-eng2.xml is not present\n",
      "../../data/raw/corpora/PerseusDL_canonical-latinLit/PerseusDL_canonical-latinLit/data/phi0893/phi006/phi0893.phi006.perseus-eng2.xml is not present\n",
      "../../data/raw/corpora/PerseusDL_canonical-latinLit/PerseusDL_canonical-latinLit/data/phi0893/phi001/phi0893.phi001.perseus-eng2.xml is not present\n",
      "../../data/raw/corpora/PerseusDL_canonical-latinLit/PerseusDL_canonical-latinLit/data/phi0474/phi004/phi0474.phi004.perseus-eng2.xml is not present\n",
      "../../data/raw/corpora/PerseusDL_canonical-latinLit/PerseusDL_canonical-latinLit/data/phi0474/phi019/phi0474.phi019.perseus-eng2.xml is not present\n",
      "../../data/raw/corpora/PerseusDL_canonical-latinLit/PerseusDL_canonical-latinLit/data/phi0474/phi018/phi0474.phi018.perseus-eng2.xml is not present\n",
      "../../data/raw/corpora/PerseusDL_canonical-latinLit/PerseusDL_canonical-latinLit/data/phi0474/phi005/phi0474.phi005.perseus-eng2.xml is not present\n",
      "../../data/raw/corpora/PerseusDL_canonical-latinLit/PerseusDL_canonical-latinLit/data/phi0474/phi051/phi0474.phi051.perseus-eng1.xml is not present\n",
      "../../data/raw/corpora/PerseusDL_canonical-latinLit/PerseusDL_canonical-latinLit/data/phi0474/phi008/phi0474.phi008.perseus-eng2.xml is not present\n",
      "../../data/raw/corpora/PerseusDL_canonical-latinLit/PerseusDL_canonical-latinLit/data/phi0474/phi007/phi0474.phi007.perseus-eng2.xml is not present\n",
      "../../data/raw/corpora/PerseusDL_canonical-latinLit/PerseusDL_canonical-latinLit/data/phi0474/phi006/phi0474.phi006.perseus-eng2.xml is not present\n",
      "../../data/raw/corpora/PerseusDL_canonical-latinLit/PerseusDL_canonical-latinLit/data/phi0474/phi052/phi0474.phi052.perseus-eng2.xml is not present\n",
      "../../data/raw/corpora/PerseusDL_canonical-latinLit/PerseusDL_canonical-latinLit/data/phi0474/phi056/phi0474.phi056.perseus-eng1.xml is not present\n",
      "../../data/raw/corpora/PerseusDL_canonical-latinLit/PerseusDL_canonical-latinLit/data/phi0474/phi013/phi0474.phi013.perseus-eng2.xml is not present\n",
      "../../data/raw/corpora/PerseusDL_canonical-latinLit/PerseusDL_canonical-latinLit/data/phi0474/phi015/phi0474.phi015.perseus-eng2.xml is not present\n",
      "../../data/raw/corpora/PerseusDL_canonical-latinLit/PerseusDL_canonical-latinLit/data/phi0474/phi016/phi0474.phi016.perseus-eng2.xml is not present\n",
      "../../data/raw/corpora/PerseusDL_canonical-latinLit/PerseusDL_canonical-latinLit/data/phi0474/phi001/phi0474.phi001.perseus-eng2.xml is not present\n",
      "../../data/raw/corpora/PerseusDL_canonical-latinLit/PerseusDL_canonical-latinLit/data/phi0474/phi012/phi0474.phi012.perseus-eng3.xml is not present\n",
      "../../data/raw/corpora/PerseusDL_canonical-latinLit/PerseusDL_canonical-latinLit/data/phi0474/phi002/phi0474.phi002.perseus-eng2.xml is not present\n",
      "../../data/raw/corpora/PerseusDL_canonical-latinLit/PerseusDL_canonical-latinLit/data/phi0474/phi059/phi0474.phi059.perseus-eng1.xml is not present\n",
      "../../data/raw/corpora/PerseusDL_canonical-latinLit/PerseusDL_canonical-latinLit/data/phi0474/phi053/phi0474.phi053.perseus-eng1.xml is not present\n",
      "../../data/raw/corpora/PerseusDL_canonical-latinLit/PerseusDL_canonical-latinLit/data/phi0474/phi055/phi0474.phi055.perseus-eng1.xml is not present\n",
      "../../data/raw/corpora/PerseusDL_canonical-latinLit/PerseusDL_canonical-latinLit/data/phi0474/phi014/phi0474.phi014.perseus-eng2.xml is not present\n",
      "../../data/raw/corpora/PerseusDL_canonical-latinLit/PerseusDL_canonical-latinLit/data/phi0474/phi010/phi0474.phi010.perseus-eng2.xml is not present\n",
      "../../data/raw/corpora/PerseusDL_canonical-latinLit/PerseusDL_canonical-latinLit/data/phi0474/phi035/phi0474.phi035.perseus-lat1.xml is not present\n",
      "../../data/raw/corpora/PerseusDL_canonical-latinLit/PerseusDL_canonical-latinLit/data/phi0474/phi035/phi0474.phi035.perseus-eng1.xml is not present\n",
      "../../data/raw/corpora/PerseusDL_canonical-latinLit/PerseusDL_canonical-latinLit/data/phi0474/phi058/phi0474.phi058.perseus-eng1.xml is not present\n",
      "../../data/raw/corpora/PerseusDL_canonical-latinLit/PerseusDL_canonical-latinLit/data/phi0474/phi003/phi0474.phi003.perseus-eng2.xml is not present\n",
      "../../data/raw/corpora/PerseusDL_canonical-latinLit/PerseusDL_canonical-latinLit/data/phi0474/phi017/phi0474.phi017.perseus-eng2.xml is not present\n",
      "../../data/raw/corpora/PerseusDL_canonical-latinLit/PerseusDL_canonical-latinLit/data/phi0474/phi009/phi0474.phi009.perseus-eng2.xml is not present\n",
      "../../data/raw/corpora/PerseusDL_canonical-latinLit/PerseusDL_canonical-latinLit/data/phi0474/phi011/phi0474.phi011.perseus-eng2.xml is not present\n",
      "../../data/raw/corpora/PerseusDL_canonical-latinLit/PerseusDL_canonical-latinLit/data/phi0474/phi057/phi0474.phi057.perseus-eng1.xml is not present\n",
      "../../data/raw/corpora/PerseusDL_canonical-latinLit/PerseusDL_canonical-latinLit/data/phi0836/phi002/phi0836.phi002.perseus-eng2.xml is not present\n",
      "../../data/raw/corpora/PerseusDL_canonical-latinLit/PerseusDL_canonical-latinLit/data/phi0631/phi001/phi0631.phi001.perseus-eng2.xml is not present\n",
      "../../data/raw/corpora/PerseusDL_canonical-latinLit/PerseusDL_canonical-latinLit/data/phi0631/phi002/phi0631.phi002.perseus-eng2.xml is not present\n",
      "../../data/raw/corpora/PerseusDL_canonical-latinLit/PerseusDL_canonical-latinLit/data/phi1348/abo014/phi1348.abo014.perseus-eng2.xml is not present\n",
      "../../data/raw/corpora/PerseusDL_canonical-latinLit/PerseusDL_canonical-latinLit/data/phi1348/abo015/phi1348.abo015.perseus-eng2.xml is not present\n",
      "../../data/raw/corpora/PerseusDL_canonical-latinLit/PerseusDL_canonical-latinLit/data/phi1348/abo016/phi1348.abo016.perseus-eng2.xml is not present\n",
      "../../data/raw/corpora/PerseusDL_canonical-latinLit/PerseusDL_canonical-latinLit/data/phi1348/abo020/phi1348.abo020.perseus-eng2.xml is not present\n",
      "../../data/raw/corpora/PerseusDL_canonical-latinLit/PerseusDL_canonical-latinLit/data/phi1348/abo018/phi1348.abo018.perseus-eng2.xml is not present\n",
      "../../data/raw/corpora/PerseusDL_canonical-latinLit/PerseusDL_canonical-latinLit/data/phi1348/abo012/phi1348.abo012.perseus-eng2.xml is not present\n",
      "../../data/raw/corpora/PerseusDL_canonical-latinLit/PerseusDL_canonical-latinLit/data/phi1348/abo022/phi1348.abo022.perseus-eng2.xml is not present\n",
      "../../data/raw/corpora/PerseusDL_canonical-latinLit/PerseusDL_canonical-latinLit/data/phi1348/abo011/phi1348.abo011.perseus-eng2.xml is not present\n",
      "../../data/raw/corpora/PerseusDL_canonical-latinLit/PerseusDL_canonical-latinLit/data/phi1348/abo021/phi1348.abo021.perseus-eng2.xml is not present\n",
      "../../data/raw/corpora/PerseusDL_canonical-latinLit/PerseusDL_canonical-latinLit/data/phi1348/abo019/phi1348.abo019.perseus-eng2.xml is not present\n",
      "../../data/raw/corpora/PerseusDL_canonical-latinLit/PerseusDL_canonical-latinLit/data/phi1348/abo017/phi1348.abo017.perseus-eng2.xml is not present\n",
      "../../data/raw/corpora/PerseusDL_canonical-latinLit/PerseusDL_canonical-latinLit/data/phi1348/abo013/phi1348.abo013.perseus-eng2.xml is not present\n",
      "../../data/raw/corpora/PerseusDL_canonical-latinLit/PerseusDL_canonical-latinLit/data/phi1254/phi001/phi1254.phi001.perseus-eng1.xml is not present\n",
      "../../data/raw/corpora/PerseusDL_canonical-latinLit/PerseusDL_canonical-latinLit/data/phi0690/phi001/phi0690.phi001.perseus-eng2.xml is not present\n"
     ]
    },
    {
     "name": "stderr",
     "output_type": "stream",
     "text": [
      "../../data/raw/corpora/PerseusDL_canonical-latinLit/PerseusDL_canonical-latinLit/data/phi0690/phi002/phi0690.phi002.perseus-eng2.xml is not present\n",
      "../../data/raw/corpora/PerseusDL_canonical-latinLit/PerseusDL_canonical-latinLit/data/phi0690/phi003/phi0690.phi003.perseus-eng2.xml is not present\n",
      "../../data/raw/corpora/PerseusDL_canonical-latinLit/PerseusDL_canonical-latinLit/data/phi1017/phi011/phi1017.phi011.perseus-eng2.xml is not present\n",
      "../../data/raw/corpora/PerseusDL_canonical-latinLit/PerseusDL_canonical-latinLit/data/phi0660/phi003/phi0660.phi003.perseus-eng2.xml is not present\n",
      "../../data/raw/corpora/PerseusDL_canonical-latinLit/PerseusDL_canonical-latinLit/data/phi1002/phi001/phi1002.phi001.perseus-eng2.xml is not present\n",
      "../../data/raw/corpora/PerseusDL_canonical-latinLit/PerseusDL_canonical-latinLit/data/phi0914/phi001/phi0914.phi001.perseus-eng3.xml is not present\n",
      "../../data/raw/corpora/PerseusDL_canonical-latinLit/PerseusDL_canonical-latinLit/data/phi0917/phi001/phi0917.phi001.perseus-eng2.xml is not present\n",
      "../../data/raw/corpora/PerseusDL_canonical-latinLit/PerseusDL_canonical-latinLit/data/phi0119/phi004/phi0119.phi004.perseus-eng2.xml is not present\n",
      "../../data/raw/corpora/PerseusDL_canonical-latinLit/PerseusDL_canonical-latinLit/data/phi0119/phi019/phi0119.phi019.perseus-eng2.xml is not present\n",
      "../../data/raw/corpora/PerseusDL_canonical-latinLit/PerseusDL_canonical-latinLit/data/phi0119/phi018/phi0119.phi018.perseus-eng2.xml is not present\n",
      "../../data/raw/corpora/PerseusDL_canonical-latinLit/PerseusDL_canonical-latinLit/data/phi0119/phi005/phi0119.phi005.perseus-eng2.xml is not present\n",
      "../../data/raw/corpora/PerseusDL_canonical-latinLit/PerseusDL_canonical-latinLit/data/phi0119/phi008/phi0119.phi008.perseus-eng2.xml is not present\n",
      "../../data/raw/corpora/PerseusDL_canonical-latinLit/PerseusDL_canonical-latinLit/data/phi0119/phi007/phi0119.phi007.perseus-eng2.xml is not present\n",
      "../../data/raw/corpora/PerseusDL_canonical-latinLit/PerseusDL_canonical-latinLit/data/phi0119/phi020/phi0119.phi020.perseus-eng2.xml is not present\n",
      "../../data/raw/corpora/PerseusDL_canonical-latinLit/PerseusDL_canonical-latinLit/data/phi0119/phi006/phi0119.phi006.perseus-eng2.xml is not present\n",
      "../../data/raw/corpora/PerseusDL_canonical-latinLit/PerseusDL_canonical-latinLit/data/phi0119/phi013/phi0119.phi013.perseus-eng2.xml is not present\n",
      "../../data/raw/corpora/PerseusDL_canonical-latinLit/PerseusDL_canonical-latinLit/data/phi0119/phi015/phi0119.phi015.perseus-eng2.xml is not present\n",
      "../../data/raw/corpora/PerseusDL_canonical-latinLit/PerseusDL_canonical-latinLit/data/phi0119/phi016/phi0119.phi016.perseus-eng2.xml is not present\n",
      "../../data/raw/corpora/PerseusDL_canonical-latinLit/PerseusDL_canonical-latinLit/data/phi0119/phi001/phi0119.phi001.perseus-eng2.xml is not present\n",
      "../../data/raw/corpora/PerseusDL_canonical-latinLit/PerseusDL_canonical-latinLit/data/phi0119/phi012/phi0119.phi012.perseus-eng2.xml is not present\n",
      "../../data/raw/corpora/PerseusDL_canonical-latinLit/PerseusDL_canonical-latinLit/data/phi0119/phi002/phi0119.phi002.perseus-eng2.xml is not present\n",
      "../../data/raw/corpora/PerseusDL_canonical-latinLit/PerseusDL_canonical-latinLit/data/phi0119/phi014/phi0119.phi014.perseus-eng2.xml is not present\n",
      "../../data/raw/corpora/PerseusDL_canonical-latinLit/PerseusDL_canonical-latinLit/data/phi0119/phi010/phi0119.phi010.perseus-eng2.xml is not present\n",
      "../../data/raw/corpora/PerseusDL_canonical-latinLit/PerseusDL_canonical-latinLit/data/phi0119/phi003/phi0119.phi003.perseus-eng2.xml is not present\n",
      "../../data/raw/corpora/PerseusDL_canonical-latinLit/PerseusDL_canonical-latinLit/data/phi0119/phi017/phi0119.phi017.perseus-eng2.xml is not present\n",
      "../../data/raw/corpora/PerseusDL_canonical-latinLit/PerseusDL_canonical-latinLit/data/phi0119/phi009/phi0119.phi009.perseus-eng2.xml is not present\n",
      "../../data/raw/corpora/PerseusDL_canonical-latinLit/PerseusDL_canonical-latinLit/data/phi0119/phi011/phi0119.phi011.perseus-eng2.xml is not present\n",
      "../../data/raw/corpora/PerseusDL_canonical-latinLit/PerseusDL_canonical-latinLit/data/phi0134/phi004/phi0134.phi004.perseus-eng2.xml is not present\n",
      "../../data/raw/corpora/PerseusDL_canonical-latinLit/PerseusDL_canonical-latinLit/data/phi0134/phi005/phi0134.phi005.perseus-eng2.xml is not present\n",
      "../../data/raw/corpora/PerseusDL_canonical-latinLit/PerseusDL_canonical-latinLit/data/phi0134/phi006/phi0134.phi006.perseus-eng2.xml is not present\n",
      "../../data/raw/corpora/PerseusDL_canonical-latinLit/PerseusDL_canonical-latinLit/data/phi0134/phi001/phi0134.phi001.perseus-eng2.xml is not present\n",
      "../../data/raw/corpora/PerseusDL_canonical-latinLit/PerseusDL_canonical-latinLit/data/phi0134/phi002/phi0134.phi002.perseus-eng2.xml is not present\n",
      "../../data/raw/corpora/PerseusDL_canonical-latinLit/PerseusDL_canonical-latinLit/data/phi0134/phi003/phi0134.phi003.perseus-eng2.xml is not present\n",
      "../../data/raw/corpora/PerseusDL_canonical-latinLit/PerseusDL_canonical-latinLit/data/phi0959/phi004/phi0959.phi004.perseus-eng2.xml is not present\n",
      "../../data/raw/corpora/PerseusDL_canonical-latinLit/PerseusDL_canonical-latinLit/data/phi0959/phi005/phi0959.phi005.perseus-eng2.xml is not present\n",
      "../../data/raw/corpora/PerseusDL_canonical-latinLit/PerseusDL_canonical-latinLit/data/phi0959/phi006/phi0959.phi006.perseus-eng3.xml is not present\n",
      "../../data/raw/corpora/PerseusDL_canonical-latinLit/PerseusDL_canonical-latinLit/data/phi0959/phi006/phi0959.phi006.perseus-eng4.xml is not present\n",
      "../../data/raw/corpora/PerseusDL_canonical-latinLit/PerseusDL_canonical-latinLit/data/phi0959/phi001/phi0959.phi001.perseus-eng2.xml is not present\n",
      "../../data/raw/corpora/PerseusDL_canonical-latinLit/PerseusDL_canonical-latinLit/data/phi0959/phi002/phi0959.phi002.perseus-eng2.xml is not present\n",
      "../../data/raw/corpora/PerseusDL_canonical-latinLit/PerseusDL_canonical-latinLit/data/phi0959/phi003/phi0959.phi003.perseus-eng2.xml is not present\n",
      "../../data/raw/corpora/PerseusDL_canonical-latinLit/PerseusDL_canonical-latinLit/data/stoa0023/stoa001/stoa0023.stoa001.perseus-eng2.xml is not present\n",
      "../../data/raw/corpora/PerseusDL_canonical-latinLit/PerseusDL_canonical-latinLit/data/stoa0089/stoa013/stoa0089.stoa013.perseus-eng1.xml is not present\n",
      "../../data/raw/corpora/PerseusDL_canonical-latinLit/PerseusDL_canonical-latinLit/data/stoa0089/stoa004/stoa0089.stoa004.perseus-eng1.xml is not present\n",
      "../../data/raw/corpora/PerseusDL_canonical-latinLit/PerseusDL_canonical-latinLit/data/stoa0089/stoa005/stoa0089.stoa005.perseus-eng1.xml is not present\n",
      "../../data/raw/corpora/PerseusDL_canonical-latinLit/PerseusDL_canonical-latinLit/data/stoa0089/stoa012/stoa0089.stoa012.perseus-eng1.xml is not present\n",
      "../../data/raw/corpora/PerseusDL_canonical-latinLit/PerseusDL_canonical-latinLit/data/stoa0089/stoa007/stoa0089.stoa007.perseus-eng1.xml is not present\n",
      "../../data/raw/corpora/PerseusDL_canonical-latinLit/PerseusDL_canonical-latinLit/data/stoa0089/stoa003/stoa0089.stoa003.perseus-eng1.xml is not present\n",
      "../../data/raw/corpora/PerseusDL_canonical-latinLit/PerseusDL_canonical-latinLit/data/stoa0089/stoa009/stoa0089.stoa009.perseus-eng1.xml is not present\n",
      "../../data/raw/corpora/PerseusDL_canonical-latinLit/PerseusDL_canonical-latinLit/data/stoa0089/stoa008/stoa0089.stoa008.perseus-eng1.xml is not present\n",
      "../../data/raw/corpora/PerseusDL_canonical-latinLit/PerseusDL_canonical-latinLit/data/stoa0089/stoa014/stoa0089.stoa014.perseus-eng1.xml is not present\n",
      "../../data/raw/corpora/PerseusDL_canonical-latinLit/PerseusDL_canonical-latinLit/data/stoa0089/stoa002/stoa0089.stoa002.perseus-eng1.xml is not present\n",
      "../../data/raw/corpora/PerseusDL_canonical-latinLit/PerseusDL_canonical-latinLit/data/stoa0089/stoa006/stoa0089.stoa006.perseus-eng1.xml is not present\n",
      "../../data/raw/corpora/PerseusDL_canonical-latinLit/PerseusDL_canonical-latinLit/data/stoa0089/stoa001/stoa0089.stoa001.perseus-eng1.xml is not present\n",
      "../../data/raw/corpora/PerseusDL_canonical-latinLit/PerseusDL_canonical-latinLit/data/stoa0089/stoa011/stoa0089.stoa011.perseus-eng1.xml is not present\n",
      "../../data/raw/corpora/PerseusDL_canonical-latinLit/PerseusDL_canonical-latinLit/data/stoa0089/stoa010/stoa0089.stoa010.perseus-eng1.xml is not present\n"
     ]
    },
    {
     "name": "stderr",
     "output_type": "stream",
     "text": [
      "../../data/raw/corpora/PerseusDL_canonical-latinLit/PerseusDL_canonical-latinLit/data/phi1056/phi001/phi1056.phi001.perseus-eng1.xml is not present\n",
      "../../data/raw/corpora/PerseusDL_canonical-latinLit/PerseusDL_canonical-latinLit/data/phi1351/phi004/phi1351.phi004.perseus-eng1.xml is not present\n",
      "../../data/raw/corpora/PerseusDL_canonical-latinLit/PerseusDL_canonical-latinLit/data/phi1351/phi001/phi1351.phi001.perseus-eng2.xml is not present\n",
      "../../data/raw/corpora/PerseusDL_canonical-latinLit/PerseusDL_canonical-latinLit/data/phi1351/phi001/phi1351.phi001.perseus-eng1.xml is not present\n",
      "../../data/raw/corpora/PerseusDL_canonical-latinLit/PerseusDL_canonical-latinLit/data/phi1351/phi002/phi1351.phi002.perseus-eng1.xml is not present\n",
      "../../data/raw/corpora/PerseusDL_canonical-latinLit/PerseusDL_canonical-latinLit/data/phi0550/phi001/phi0550.phi001.perseus-eng1.xml is not present\n"
     ]
    }
   ],
   "source": [
    "import glob\n",
    "from MyCapytain.resolvers.cts.local import CtsCapitainsLocalResolver\n",
    "\n",
    "\n",
    "repositories = list(glob.glob(CORPORA_PATH, recursive=False))\n",
    "resolver = CtsCapitainsLocalResolver(repositories)"
   ]
  },
  {
   "cell_type": "markdown",
   "metadata": {},
   "source": [
    "## Créations des dossiers"
   ]
  },
  {
   "cell_type": "code",
   "execution_count": 3,
   "metadata": {},
   "outputs": [],
   "source": [
    "import os\n",
    "\n",
    "os.makedirs(\"./lemmatized/plain-text/\", exist_ok=True)"
   ]
  },
  {
   "cell_type": "markdown",
   "metadata": {},
   "source": [
    "## Ouverture de l'XSL"
   ]
  },
  {
   "cell_type": "code",
   "execution_count": 4,
   "metadata": {},
   "outputs": [],
   "source": [
    "import lxml.etree as ET\n",
    "\n",
    "with open(\"../../helpers/reader/passage.transform.xsl\") as tr:\n",
    "    xml = ET.parse(tr)\n",
    "    xsl = ET.XSLT(xml)"
   ]
  },
  {
   "cell_type": "markdown",
   "metadata": {},
   "source": [
    "## Vérification des changements de sources\n",
    "\n",
    "Currently needs to install following version: \n",
    "```shell\n",
    "pip install --upgrade https://github.com/PonteIneptique/pie/archive/update-pie/1.6.0.zip#egg=nlp_pie \n",
    "pip install --upgrade https://github.com/hipster-philology/nlp-pie-taggers/archive/feature/hashlist.zip#egg=pie_extended\n",
    "```\n",
    "\n",
    "### Calcul des hashes"
   ]
  },
  {
   "cell_type": "code",
   "execution_count": 5,
   "metadata": {},
   "outputs": [
    {
     "name": "stderr",
     "output_type": "stream",
     "text": [
      "100%|██████████| 769/769 [00:00<00:00, 2564.52it/s]"
     ]
    },
    {
     "name": "stdout",
     "output_type": "stream",
     "text": [
      "object of type 'NoneType' has no len() urn:cts:latinLit:phi0474.phi035.perseus-lat1\n"
     ]
    },
    {
     "name": "stderr",
     "output_type": "stream",
     "text": [
      "\n"
     ]
    }
   ],
   "source": [
    "from pie_extended.utils.hashcheck import md5sum\n",
    "\n",
    "xml_current_hashes = {\n",
    "    \n",
    "}\n",
    "\n",
    "for text in tqdm.tqdm(resolver.texts):\n",
    "    if text.lang == \"lat\":\n",
    "        try:\n",
    "            depth = len(text.citation)\n",
    "            xml_current_hashes[os.path.abspath(text.path)] = md5sum(text.path)\n",
    "        except Exception as E:\n",
    "            print(E, text.id)"
   ]
  },
  {
   "cell_type": "markdown",
   "metadata": {},
   "source": [
    "### Ouverture des checksums de source enregistrées"
   ]
  },
  {
   "cell_type": "code",
   "execution_count": 6,
   "metadata": {},
   "outputs": [
    {
     "name": "stdout",
     "output_type": "stream",
     "text": [
      "0 former source file\n",
      "652 new source file detected\n",
      "0 changed source files detected\n"
     ]
    }
   ],
   "source": [
    "from pie_extended.utils.hashcheck import check_checksum_from_file, read_checksum_csv\n",
    "\n",
    "former_checksums = read_checksum_csv(CHECKSUM_PATH)\n",
    "former_sources = [infos.source for infos in former_checksums.values() if infos.source]\n",
    "_, changed_sources = check_checksum_from_file(CHECKSUM_PATH)\n",
    "\n",
    "new_sources = [\n",
    "    source\n",
    "    for source in xml_current_hashes\n",
    "    if source not in former_sources\n",
    "]\n",
    "\n",
    "print(f\"{len(former_sources)} former source file\")\n",
    "print(f\"{len(new_sources)} new source file detected\")\n",
    "print(f\"{len(changed_sources)} changed source files detected\")"
   ]
  },
  {
   "cell_type": "markdown",
   "metadata": {},
   "source": [
    "### Choix entre re-XSLisé tout ou seulement les éléments demandés"
   ]
  },
  {
   "cell_type": "code",
   "execution_count": 7,
   "metadata": {},
   "outputs": [],
   "source": [
    "texts_to_generate = []\n",
    "\n",
    "if FORCE_REGENERATE:\n",
    "    texts_to_generate = list(xml_current_hashes.keys())\n",
    "else:\n",
    "    texts_to_generate = new_sources + changed_sources"
   ]
  },
  {
   "cell_type": "markdown",
   "metadata": {},
   "source": [
    "## Conversion des XML en plein texte"
   ]
  },
  {
   "cell_type": "code",
   "execution_count": 8,
   "metadata": {},
   "outputs": [
    {
     "name": "stderr",
     "output_type": "stream",
     "text": [
      "100%|██████████| 769/769 [00:04<00:00, 188.97it/s]"
     ]
    },
    {
     "name": "stdout",
     "output_type": "stream",
     "text": [
      "652 regenerated files\n"
     ]
    },
    {
     "name": "stderr",
     "output_type": "stream",
     "text": [
      "\n"
     ]
    }
   ],
   "source": [
    "import tqdm\n",
    "\n",
    "sources_to_out = {\n",
    "    \n",
    "}\n",
    "\n",
    "for text in tqdm.tqdm(resolver.texts):\n",
    "    # If it's a Latin text and it's marked as a text to regenerate\n",
    "    if text.lang == \"lat\" and os.path.abspath(text.path) in texts_to_generate:\n",
    "        try:\n",
    "            depth = len(text.citation)\n",
    "            type_citation = [cite.name for cite in text.citation][-1]\n",
    "            interactive_text = resolver.getTextualNode(textId=text.id)\n",
    "            out_path = \"./lemmatized/plain-text/{}.txt\".format(text.id)\n",
    "            \n",
    "            sources_to_out[os.path.abspath(text.path)] = os.path.abspath(out_path)\n",
    "            if WRITE_TEXT:\n",
    "                with open(out_path, \"w\") as out:\n",
    "                    for ref in resolver.getReffs(textId=text.id, level=depth):\n",
    "                        if \"index\" not in str(ref):\n",
    "                            psg = interactive_text.getTextualNode(subreference=ref)\n",
    "                            out.write(\"[REF:{typ}.{cit}] {tex}\\n\".format(typ=type_citation, cit=ref, tex=str(xsl(psg.xml)))) \n",
    "        except Exception as E:\n",
    "            print(text, E)\n",
    "            \n",
    "print(f\"{len(sources_to_out)} regenerated files\")"
   ]
  },
  {
   "cell_type": "markdown",
   "metadata": {},
   "source": [
    "## Compte des mots"
   ]
  },
  {
   "cell_type": "code",
   "execution_count": 9,
   "metadata": {},
   "outputs": [
    {
     "name": "stdout",
     "output_type": "stream",
     "text": [
      "12797120\n"
     ]
    }
   ],
   "source": [
    "cnt = 0\n",
    "for text in glob.glob(\"lemmatized/plain-text/*.txt\"):\n",
    "    if \"-pie\" not in text:\n",
    "        with open(text) as f:\n",
    "            cnt += len(f.read().split())\n",
    "print(cnt)"
   ]
  },
  {
   "cell_type": "markdown",
   "metadata": {},
   "source": [
    "## Génération ou mise à jour du fichier sources -> hash"
   ]
  },
  {
   "cell_type": "code",
   "execution_count": 11,
   "metadata": {},
   "outputs": [],
   "source": [
    "import csv\n",
    "if os.path.isfile(CHECKSUM_PATH) and FORCE_GENERATE_CSV_FROM_SCRATCH != True:\n",
    "    rows = [\n",
    "        [\"input\",\"checksum\",\"source\",\"source_checksum\"]\n",
    "    ]\n",
    "    for text_file, checksuminfo in former_checksums.items():\n",
    "        if checksuminfo.source in sources_to_out:\n",
    "            rows.append([\n",
    "                text_file,\n",
    "                checksuminfo.checksum,\n",
    "                checksuminfo.source,\n",
    "                md5sum(checksuminfo.source)\n",
    "            ])\n",
    "            del sources_to_out[checksuminfo.source]\n",
    "            # Update the checksum of the source BUT NOT THE TEXTFILE\n",
    "        else:\n",
    "            rows.append([\n",
    "                text_file,\n",
    "                checksuminfo.checksum,\n",
    "                checksuminfo.source,\n",
    "                checksuminfo.source_checksum\n",
    "            ])# Write the current line as is.\n",
    "    # And finally, we write new ones with new sources\n",
    "    for source_file, output_file in sources_to_out.items():\n",
    "        rows.append([\n",
    "            output_file,\n",
    "            \"never_lemmatized\",\n",
    "            source_file,\n",
    "            md5sum(source_file)\n",
    "        ])\n",
    "else:\n",
    "    rows = [\n",
    "        [\"input\",\"checksum\",\"source\",\"source_checksum\"]\n",
    "    ] + [\n",
    "        [\n",
    "            plaintext,\n",
    "            md5sum(plaintext),\n",
    "            source,\n",
    "            md5sum(source)\n",
    "        ]\n",
    "        for source, plaintext in sources_to_out.items()\n",
    "    ]\n",
    "    \n",
    "with open(CHECKSUM_PATH, \"w\") as f:\n",
    "    writer = csv.writer(f)\n",
    "    writer.writerows(rows)"
   ]
  },
  {
   "cell_type": "code",
   "execution_count": null,
   "metadata": {},
   "outputs": [],
   "source": [
    "!zip lemmatized/plain-text.zip lemmatized/plain-text -r"
   ]
  }
 ],
 "metadata": {
  "kernelspec": {
   "display_name": "Python 3",
   "language": "python",
   "name": "python3"
  },
  "language_info": {
   "codemirror_mode": {
    "name": "ipython",
    "version": 3
   },
   "file_extension": ".py",
   "mimetype": "text/x-python",
   "name": "python",
   "nbconvert_exporter": "python",
   "pygments_lexer": "ipython3",
   "version": "3.6.7"
  },
  "toc": {
   "base_numbering": 1,
   "nav_menu": {},
   "number_sections": true,
   "sideBar": true,
   "skip_h1_title": false,
   "title_cell": "Table of Contents",
   "title_sidebar": "Contents",
   "toc_cell": false,
   "toc_position": {},
   "toc_section_display": true,
   "toc_window_display": true
  }
 },
 "nbformat": 4,
 "nbformat_minor": 2
}
