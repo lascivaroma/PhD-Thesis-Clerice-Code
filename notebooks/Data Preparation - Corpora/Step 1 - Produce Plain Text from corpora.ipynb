{
 "cells": [
  {
   "cell_type": "code",
   "execution_count": 5,
   "metadata": {
    "scrolled": false
   },
   "outputs": [
    {
     "name": "stderr",
     "output_type": "stream",
     "text": [
      "../../data/raw/corpora/lascivaroma_additional-texts/additional-texts-1.0.111/data/phi1351/phi005/phi1351.phi005.perseus-eng1.xml is not present\n",
      "../../data/raw/corpora/lascivaroma_priapeia/priapeia-1.1.18/data/phi1103/phi001/phi1103.phi001.lascivaroma-eng1.xml is not present\n",
      "../../data/raw/corpora/lascivaroma_priapeia/priapeia-1.1.18/data/phi1103/phi001/phi1103.phi001.lascivaroma-eng2.xml is not present\n",
      "../../data/raw/corpora/PerseusDL_canonical-latinLit/canonical-latinLit-0.0.557/data/phi0472/phi001/phi0472.phi001.perseus-eng3.xml is not present\n",
      "../../data/raw/corpora/PerseusDL_canonical-latinLit/canonical-latinLit-0.0.557/data/phi0472/phi001/phi0472.phi001.perseus-eng4.xml is not present\n",
      "../../data/raw/corpora/PerseusDL_canonical-latinLit/canonical-latinLit-0.0.557/data/phi0448/phi001/phi0448.phi001.perseus-eng2.xml is not present\n",
      "../../data/raw/corpora/PerseusDL_canonical-latinLit/canonical-latinLit-0.0.557/data/phi0448/phi002/phi0448.phi002.perseus-eng2.xml is not present\n",
      "../../data/raw/corpora/PerseusDL_canonical-latinLit/canonical-latinLit-0.0.557/data/phi0893/phi004/phi0893.phi004.perseus-eng2.xml is not present\n",
      "../../data/raw/corpora/PerseusDL_canonical-latinLit/canonical-latinLit-0.0.557/data/phi0893/phi006/phi0893.phi006.perseus-eng2.xml is not present\n",
      "../../data/raw/corpora/PerseusDL_canonical-latinLit/canonical-latinLit-0.0.557/data/phi0893/phi001/phi0893.phi001.perseus-eng2.xml is not present\n",
      "../../data/raw/corpora/PerseusDL_canonical-latinLit/canonical-latinLit-0.0.557/data/phi0474/phi004/phi0474.phi004.perseus-eng2.xml is not present\n",
      "../../data/raw/corpora/PerseusDL_canonical-latinLit/canonical-latinLit-0.0.557/data/phi0474/phi019/phi0474.phi019.perseus-eng2.xml is not present\n",
      "../../data/raw/corpora/PerseusDL_canonical-latinLit/canonical-latinLit-0.0.557/data/phi0474/phi018/phi0474.phi018.perseus-eng2.xml is not present\n",
      "../../data/raw/corpora/PerseusDL_canonical-latinLit/canonical-latinLit-0.0.557/data/phi0474/phi005/phi0474.phi005.perseus-eng2.xml is not present\n",
      "../../data/raw/corpora/PerseusDL_canonical-latinLit/canonical-latinLit-0.0.557/data/phi0474/phi051/phi0474.phi051.perseus-eng1.xml is not present\n",
      "../../data/raw/corpora/PerseusDL_canonical-latinLit/canonical-latinLit-0.0.557/data/phi0474/phi008/phi0474.phi008.perseus-eng2.xml is not present\n",
      "../../data/raw/corpora/PerseusDL_canonical-latinLit/canonical-latinLit-0.0.557/data/phi0474/phi007/phi0474.phi007.perseus-eng2.xml is not present\n",
      "../../data/raw/corpora/PerseusDL_canonical-latinLit/canonical-latinLit-0.0.557/data/phi0474/phi006/phi0474.phi006.perseus-eng2.xml is not present\n",
      "../../data/raw/corpora/PerseusDL_canonical-latinLit/canonical-latinLit-0.0.557/data/phi0474/phi052/phi0474.phi052.perseus-eng2.xml is not present\n",
      "../../data/raw/corpora/PerseusDL_canonical-latinLit/canonical-latinLit-0.0.557/data/phi0474/phi056/phi0474.phi056.perseus-eng1.xml is not present\n",
      "../../data/raw/corpora/PerseusDL_canonical-latinLit/canonical-latinLit-0.0.557/data/phi0474/phi013/phi0474.phi013.perseus-eng2.xml is not present\n",
      "../../data/raw/corpora/PerseusDL_canonical-latinLit/canonical-latinLit-0.0.557/data/phi0474/phi015/phi0474.phi015.perseus-eng2.xml is not present\n",
      "../../data/raw/corpora/PerseusDL_canonical-latinLit/canonical-latinLit-0.0.557/data/phi0474/phi016/phi0474.phi016.perseus-eng2.xml is not present\n",
      "../../data/raw/corpora/PerseusDL_canonical-latinLit/canonical-latinLit-0.0.557/data/phi0474/phi001/phi0474.phi001.perseus-eng2.xml is not present\n",
      "../../data/raw/corpora/PerseusDL_canonical-latinLit/canonical-latinLit-0.0.557/data/phi0474/phi012/phi0474.phi012.perseus-eng3.xml is not present\n",
      "../../data/raw/corpora/PerseusDL_canonical-latinLit/canonical-latinLit-0.0.557/data/phi0474/phi002/phi0474.phi002.perseus-eng2.xml is not present\n",
      "../../data/raw/corpora/PerseusDL_canonical-latinLit/canonical-latinLit-0.0.557/data/phi0474/phi059/phi0474.phi059.perseus-eng1.xml is not present\n",
      "../../data/raw/corpora/PerseusDL_canonical-latinLit/canonical-latinLit-0.0.557/data/phi0474/phi053/phi0474.phi053.perseus-eng1.xml is not present\n",
      "../../data/raw/corpora/PerseusDL_canonical-latinLit/canonical-latinLit-0.0.557/data/phi0474/phi055/phi0474.phi055.perseus-eng1.xml is not present\n",
      "../../data/raw/corpora/PerseusDL_canonical-latinLit/canonical-latinLit-0.0.557/data/phi0474/phi014/phi0474.phi014.perseus-eng2.xml is not present\n",
      "../../data/raw/corpora/PerseusDL_canonical-latinLit/canonical-latinLit-0.0.557/data/phi0474/phi010/phi0474.phi010.perseus-eng2.xml is not present\n",
      "../../data/raw/corpora/PerseusDL_canonical-latinLit/canonical-latinLit-0.0.557/data/phi0474/phi035/phi0474.phi035.perseus-lat1.xml is not present\n",
      "../../data/raw/corpora/PerseusDL_canonical-latinLit/canonical-latinLit-0.0.557/data/phi0474/phi035/phi0474.phi035.perseus-eng1.xml is not present\n",
      "../../data/raw/corpora/PerseusDL_canonical-latinLit/canonical-latinLit-0.0.557/data/phi0474/phi058/phi0474.phi058.perseus-eng1.xml is not present\n",
      "../../data/raw/corpora/PerseusDL_canonical-latinLit/canonical-latinLit-0.0.557/data/phi0474/phi003/phi0474.phi003.perseus-eng2.xml is not present\n",
      "../../data/raw/corpora/PerseusDL_canonical-latinLit/canonical-latinLit-0.0.557/data/phi0474/phi017/phi0474.phi017.perseus-eng2.xml is not present\n",
      "../../data/raw/corpora/PerseusDL_canonical-latinLit/canonical-latinLit-0.0.557/data/phi0474/phi009/phi0474.phi009.perseus-eng2.xml is not present\n",
      "../../data/raw/corpora/PerseusDL_canonical-latinLit/canonical-latinLit-0.0.557/data/phi0474/phi011/phi0474.phi011.perseus-eng2.xml is not present\n",
      "../../data/raw/corpora/PerseusDL_canonical-latinLit/canonical-latinLit-0.0.557/data/phi0474/phi057/phi0474.phi057.perseus-eng1.xml is not present\n",
      "../../data/raw/corpora/PerseusDL_canonical-latinLit/canonical-latinLit-0.0.557/data/phi0836/phi002/phi0836.phi002.perseus-eng2.xml is not present\n",
      "../../data/raw/corpora/PerseusDL_canonical-latinLit/canonical-latinLit-0.0.557/data/phi0631/phi001/phi0631.phi001.perseus-eng2.xml is not present\n",
      "../../data/raw/corpora/PerseusDL_canonical-latinLit/canonical-latinLit-0.0.557/data/phi0631/phi002/phi0631.phi002.perseus-eng2.xml is not present\n",
      "../../data/raw/corpora/PerseusDL_canonical-latinLit/canonical-latinLit-0.0.557/data/phi1348/abo014/phi1348.abo014.perseus-eng2.xml is not present\n",
      "../../data/raw/corpora/PerseusDL_canonical-latinLit/canonical-latinLit-0.0.557/data/phi1348/abo015/phi1348.abo015.perseus-eng2.xml is not present\n",
      "../../data/raw/corpora/PerseusDL_canonical-latinLit/canonical-latinLit-0.0.557/data/phi1348/abo016/phi1348.abo016.perseus-eng2.xml is not present\n",
      "../../data/raw/corpora/PerseusDL_canonical-latinLit/canonical-latinLit-0.0.557/data/phi1348/abo020/phi1348.abo020.perseus-eng2.xml is not present\n",
      "../../data/raw/corpora/PerseusDL_canonical-latinLit/canonical-latinLit-0.0.557/data/phi1348/abo018/phi1348.abo018.perseus-eng2.xml is not present\n",
      "../../data/raw/corpora/PerseusDL_canonical-latinLit/canonical-latinLit-0.0.557/data/phi1348/abo012/phi1348.abo012.perseus-eng2.xml is not present\n",
      "../../data/raw/corpora/PerseusDL_canonical-latinLit/canonical-latinLit-0.0.557/data/phi1348/abo022/phi1348.abo022.perseus-eng2.xml is not present\n",
      "../../data/raw/corpora/PerseusDL_canonical-latinLit/canonical-latinLit-0.0.557/data/phi1348/abo011/phi1348.abo011.perseus-eng2.xml is not present\n",
      "../../data/raw/corpora/PerseusDL_canonical-latinLit/canonical-latinLit-0.0.557/data/phi1348/abo021/phi1348.abo021.perseus-eng2.xml is not present\n",
      "../../data/raw/corpora/PerseusDL_canonical-latinLit/canonical-latinLit-0.0.557/data/phi1348/abo019/phi1348.abo019.perseus-eng2.xml is not present\n",
      "../../data/raw/corpora/PerseusDL_canonical-latinLit/canonical-latinLit-0.0.557/data/phi1348/abo017/phi1348.abo017.perseus-eng2.xml is not present\n",
      "../../data/raw/corpora/PerseusDL_canonical-latinLit/canonical-latinLit-0.0.557/data/phi1348/abo013/phi1348.abo013.perseus-eng2.xml is not present\n",
      "../../data/raw/corpora/PerseusDL_canonical-latinLit/canonical-latinLit-0.0.557/data/phi1254/phi001/phi1254.phi001.perseus-eng1.xml is not present\n",
      "../../data/raw/corpora/PerseusDL_canonical-latinLit/canonical-latinLit-0.0.557/data/phi0690/phi001/phi0690.phi001.perseus-eng2.xml is not present\n",
      "../../data/raw/corpora/PerseusDL_canonical-latinLit/canonical-latinLit-0.0.557/data/phi0690/phi002/phi0690.phi002.perseus-eng2.xml is not present\n"
     ]
    },
    {
     "name": "stderr",
     "output_type": "stream",
     "text": [
      "../../data/raw/corpora/PerseusDL_canonical-latinLit/canonical-latinLit-0.0.557/data/phi0690/phi003/phi0690.phi003.perseus-eng2.xml is not present\n",
      "../../data/raw/corpora/PerseusDL_canonical-latinLit/canonical-latinLit-0.0.557/data/phi1017/phi011/phi1017.phi011.perseus-eng2.xml is not present\n",
      "../../data/raw/corpora/PerseusDL_canonical-latinLit/canonical-latinLit-0.0.557/data/phi0660/phi003/phi0660.phi003.perseus-eng2.xml is not present\n",
      "../../data/raw/corpora/PerseusDL_canonical-latinLit/canonical-latinLit-0.0.557/data/phi1002/phi001/phi1002.phi001.perseus-eng2.xml is not present\n",
      "../../data/raw/corpora/PerseusDL_canonical-latinLit/canonical-latinLit-0.0.557/data/phi0914/phi001/phi0914.phi001.perseus-eng3.xml is not present\n",
      "../../data/raw/corpora/PerseusDL_canonical-latinLit/canonical-latinLit-0.0.557/data/phi0917/phi001/phi0917.phi001.perseus-eng2.xml is not present\n",
      "../../data/raw/corpora/PerseusDL_canonical-latinLit/canonical-latinLit-0.0.557/data/phi0119/phi004/phi0119.phi004.perseus-eng2.xml is not present\n",
      "../../data/raw/corpora/PerseusDL_canonical-latinLit/canonical-latinLit-0.0.557/data/phi0119/phi019/phi0119.phi019.perseus-eng2.xml is not present\n",
      "../../data/raw/corpora/PerseusDL_canonical-latinLit/canonical-latinLit-0.0.557/data/phi0119/phi018/phi0119.phi018.perseus-eng2.xml is not present\n",
      "../../data/raw/corpora/PerseusDL_canonical-latinLit/canonical-latinLit-0.0.557/data/phi0119/phi005/phi0119.phi005.perseus-eng2.xml is not present\n",
      "../../data/raw/corpora/PerseusDL_canonical-latinLit/canonical-latinLit-0.0.557/data/phi0119/phi008/phi0119.phi008.perseus-eng2.xml is not present\n",
      "../../data/raw/corpora/PerseusDL_canonical-latinLit/canonical-latinLit-0.0.557/data/phi0119/phi007/phi0119.phi007.perseus-eng2.xml is not present\n",
      "../../data/raw/corpora/PerseusDL_canonical-latinLit/canonical-latinLit-0.0.557/data/phi0119/phi020/phi0119.phi020.perseus-eng2.xml is not present\n",
      "../../data/raw/corpora/PerseusDL_canonical-latinLit/canonical-latinLit-0.0.557/data/phi0119/phi006/phi0119.phi006.perseus-eng2.xml is not present\n",
      "../../data/raw/corpora/PerseusDL_canonical-latinLit/canonical-latinLit-0.0.557/data/phi0119/phi013/phi0119.phi013.perseus-eng2.xml is not present\n",
      "../../data/raw/corpora/PerseusDL_canonical-latinLit/canonical-latinLit-0.0.557/data/phi0119/phi015/phi0119.phi015.perseus-eng2.xml is not present\n",
      "../../data/raw/corpora/PerseusDL_canonical-latinLit/canonical-latinLit-0.0.557/data/phi0119/phi016/phi0119.phi016.perseus-eng2.xml is not present\n",
      "../../data/raw/corpora/PerseusDL_canonical-latinLit/canonical-latinLit-0.0.557/data/phi0119/phi001/phi0119.phi001.perseus-eng2.xml is not present\n",
      "../../data/raw/corpora/PerseusDL_canonical-latinLit/canonical-latinLit-0.0.557/data/phi0119/phi012/phi0119.phi012.perseus-eng2.xml is not present\n",
      "../../data/raw/corpora/PerseusDL_canonical-latinLit/canonical-latinLit-0.0.557/data/phi0119/phi002/phi0119.phi002.perseus-eng2.xml is not present\n",
      "../../data/raw/corpora/PerseusDL_canonical-latinLit/canonical-latinLit-0.0.557/data/phi0119/phi014/phi0119.phi014.perseus-eng2.xml is not present\n",
      "../../data/raw/corpora/PerseusDL_canonical-latinLit/canonical-latinLit-0.0.557/data/phi0119/phi010/phi0119.phi010.perseus-eng2.xml is not present\n",
      "../../data/raw/corpora/PerseusDL_canonical-latinLit/canonical-latinLit-0.0.557/data/phi0119/phi003/phi0119.phi003.perseus-eng2.xml is not present\n",
      "../../data/raw/corpora/PerseusDL_canonical-latinLit/canonical-latinLit-0.0.557/data/phi0119/phi017/phi0119.phi017.perseus-eng2.xml is not present\n",
      "../../data/raw/corpora/PerseusDL_canonical-latinLit/canonical-latinLit-0.0.557/data/phi0119/phi009/phi0119.phi009.perseus-eng2.xml is not present\n",
      "../../data/raw/corpora/PerseusDL_canonical-latinLit/canonical-latinLit-0.0.557/data/phi0119/phi011/phi0119.phi011.perseus-eng2.xml is not present\n",
      "../../data/raw/corpora/PerseusDL_canonical-latinLit/canonical-latinLit-0.0.557/data/phi0134/phi004/phi0134.phi004.perseus-eng2.xml is not present\n",
      "../../data/raw/corpora/PerseusDL_canonical-latinLit/canonical-latinLit-0.0.557/data/phi0134/phi005/phi0134.phi005.perseus-eng2.xml is not present\n",
      "../../data/raw/corpora/PerseusDL_canonical-latinLit/canonical-latinLit-0.0.557/data/phi0134/phi006/phi0134.phi006.perseus-eng2.xml is not present\n",
      "../../data/raw/corpora/PerseusDL_canonical-latinLit/canonical-latinLit-0.0.557/data/phi0134/phi001/phi0134.phi001.perseus-eng2.xml is not present\n",
      "../../data/raw/corpora/PerseusDL_canonical-latinLit/canonical-latinLit-0.0.557/data/phi0134/phi002/phi0134.phi002.perseus-eng2.xml is not present\n",
      "../../data/raw/corpora/PerseusDL_canonical-latinLit/canonical-latinLit-0.0.557/data/phi0134/phi003/phi0134.phi003.perseus-eng2.xml is not present\n",
      "../../data/raw/corpora/PerseusDL_canonical-latinLit/canonical-latinLit-0.0.557/data/phi0959/phi004/phi0959.phi004.perseus-eng2.xml is not present\n",
      "../../data/raw/corpora/PerseusDL_canonical-latinLit/canonical-latinLit-0.0.557/data/phi0959/phi005/phi0959.phi005.perseus-eng2.xml is not present\n",
      "../../data/raw/corpora/PerseusDL_canonical-latinLit/canonical-latinLit-0.0.557/data/phi0959/phi006/phi0959.phi006.perseus-eng3.xml is not present\n",
      "../../data/raw/corpora/PerseusDL_canonical-latinLit/canonical-latinLit-0.0.557/data/phi0959/phi006/phi0959.phi006.perseus-eng4.xml is not present\n",
      "../../data/raw/corpora/PerseusDL_canonical-latinLit/canonical-latinLit-0.0.557/data/phi0959/phi001/phi0959.phi001.perseus-eng2.xml is not present\n",
      "../../data/raw/corpora/PerseusDL_canonical-latinLit/canonical-latinLit-0.0.557/data/phi0959/phi002/phi0959.phi002.perseus-eng2.xml is not present\n",
      "../../data/raw/corpora/PerseusDL_canonical-latinLit/canonical-latinLit-0.0.557/data/phi0959/phi003/phi0959.phi003.perseus-eng2.xml is not present\n",
      "../../data/raw/corpora/PerseusDL_canonical-latinLit/canonical-latinLit-0.0.557/data/stoa0023/stoa001/stoa0023.stoa001.perseus-eng2.xml is not present\n",
      "../../data/raw/corpora/PerseusDL_canonical-latinLit/canonical-latinLit-0.0.557/data/stoa0089/stoa013/stoa0089.stoa013.perseus-eng1.xml is not present\n",
      "../../data/raw/corpora/PerseusDL_canonical-latinLit/canonical-latinLit-0.0.557/data/stoa0089/stoa004/stoa0089.stoa004.perseus-eng1.xml is not present\n",
      "../../data/raw/corpora/PerseusDL_canonical-latinLit/canonical-latinLit-0.0.557/data/stoa0089/stoa005/stoa0089.stoa005.perseus-eng1.xml is not present\n",
      "../../data/raw/corpora/PerseusDL_canonical-latinLit/canonical-latinLit-0.0.557/data/stoa0089/stoa012/stoa0089.stoa012.perseus-eng1.xml is not present\n",
      "../../data/raw/corpora/PerseusDL_canonical-latinLit/canonical-latinLit-0.0.557/data/stoa0089/stoa007/stoa0089.stoa007.perseus-eng1.xml is not present\n",
      "../../data/raw/corpora/PerseusDL_canonical-latinLit/canonical-latinLit-0.0.557/data/stoa0089/stoa003/stoa0089.stoa003.perseus-eng1.xml is not present\n",
      "../../data/raw/corpora/PerseusDL_canonical-latinLit/canonical-latinLit-0.0.557/data/stoa0089/stoa009/stoa0089.stoa009.perseus-eng1.xml is not present\n",
      "../../data/raw/corpora/PerseusDL_canonical-latinLit/canonical-latinLit-0.0.557/data/stoa0089/stoa008/stoa0089.stoa008.perseus-eng1.xml is not present\n",
      "../../data/raw/corpora/PerseusDL_canonical-latinLit/canonical-latinLit-0.0.557/data/stoa0089/stoa014/stoa0089.stoa014.perseus-eng1.xml is not present\n",
      "../../data/raw/corpora/PerseusDL_canonical-latinLit/canonical-latinLit-0.0.557/data/stoa0089/stoa002/stoa0089.stoa002.perseus-eng1.xml is not present\n",
      "../../data/raw/corpora/PerseusDL_canonical-latinLit/canonical-latinLit-0.0.557/data/stoa0089/stoa006/stoa0089.stoa006.perseus-eng1.xml is not present\n",
      "../../data/raw/corpora/PerseusDL_canonical-latinLit/canonical-latinLit-0.0.557/data/stoa0089/stoa001/stoa0089.stoa001.perseus-eng1.xml is not present\n",
      "../../data/raw/corpora/PerseusDL_canonical-latinLit/canonical-latinLit-0.0.557/data/stoa0089/stoa011/stoa0089.stoa011.perseus-eng1.xml is not present\n",
      "../../data/raw/corpora/PerseusDL_canonical-latinLit/canonical-latinLit-0.0.557/data/stoa0089/stoa010/stoa0089.stoa010.perseus-eng1.xml is not present\n",
      "../../data/raw/corpora/PerseusDL_canonical-latinLit/canonical-latinLit-0.0.557/data/phi1056/phi001/phi1056.phi001.perseus-eng1.xml is not present\n",
      "../../data/raw/corpora/PerseusDL_canonical-latinLit/canonical-latinLit-0.0.557/data/phi1351/phi004/phi1351.phi004.perseus-eng1.xml is not present\n"
     ]
    },
    {
     "name": "stderr",
     "output_type": "stream",
     "text": [
      "../../data/raw/corpora/PerseusDL_canonical-latinLit/canonical-latinLit-0.0.557/data/phi1351/phi001/phi1351.phi001.perseus-eng2.xml is not present\n",
      "../../data/raw/corpora/PerseusDL_canonical-latinLit/canonical-latinLit-0.0.557/data/phi1351/phi001/phi1351.phi001.perseus-eng1.xml is not present\n",
      "../../data/raw/corpora/PerseusDL_canonical-latinLit/canonical-latinLit-0.0.557/data/phi1351/phi002/phi1351.phi002.perseus-eng1.xml is not present\n",
      "../../data/raw/corpora/PerseusDL_canonical-latinLit/canonical-latinLit-0.0.557/data/phi0550/phi001/phi0550.phi001.perseus-eng1.xml is not present\n"
     ]
    }
   ],
   "source": [
    "import glob\n",
    "from MyCapytain.resolvers.cts.local import CtsCapitainsLocalResolver\n",
    "\n",
    "!mkdir -p lemmatized/plain-text\n",
    "\n",
    "repositories = list(glob.glob(\"../../data/raw/corpora/**/*\", recursive=False))\n",
    "resolver = CtsCapitainsLocalResolver(repositories)"
   ]
  },
  {
   "cell_type": "code",
   "execution_count": 6,
   "metadata": {},
   "outputs": [],
   "source": [
    "import os\n",
    "\n",
    "os.makedirs(\"./lemmatized/\", exist_ok=True)"
   ]
  },
  {
   "cell_type": "code",
   "execution_count": 7,
   "metadata": {},
   "outputs": [],
   "source": [
    "import lxml.etree as ET\n",
    "\n",
    "with open(\"../../helpers/reader/passage.transform.xsl\") as tr:\n",
    "    xml = ET.parse(tr)\n",
    "    xsl = ET.XSLT(xml)"
   ]
  },
  {
   "cell_type": "code",
   "execution_count": 8,
   "metadata": {},
   "outputs": [
    {
     "name": "stderr",
     "output_type": "stream",
     "text": [
      " 62%|██████▏   | 476/763 [02:49<01:42,  2.80it/s]"
     ]
    },
    {
     "name": "stdout",
     "output_type": "stream",
     "text": [
      "XmlCtsEditionMetadata(urn:cts:latinLit:phi0474.phi035.perseus-lat1) object of type 'NoneType' has no len()\n"
     ]
    },
    {
     "name": "stderr",
     "output_type": "stream",
     "text": [
      "100%|██████████| 763/763 [07:32<00:00,  1.69it/s]\n"
     ]
    }
   ],
   "source": [
    "import tqdm\n",
    "for text in tqdm.tqdm(resolver.texts):\n",
    "    if text.lang == \"lat\":\n",
    "        try:\n",
    "            depth = len(text.citation)\n",
    "            type_citation = [cite.name for cite in text.citation][-1]\n",
    "            interactive_text = resolver.getTextualNode(textId=text.id)\n",
    "            with open(\"./lemmatized/plain-text/{}.txt\".format(text.id), \"w\") as out:\n",
    "                for ref in resolver.getReffs(textId=text.id, level=depth):\n",
    "                    if \"index\" not in str(ref):\n",
    "                        psg = interactive_text.getTextualNode(subreference=ref)\n",
    "                        out.write(\"[REF:{typ}.{cit}] {tex}\\n\".format(typ=type_citation, cit=ref, tex=str(xsl(psg.xml))))\n",
    "        except Exception as E:\n",
    "            print(text, E)"
   ]
  },
  {
   "cell_type": "code",
   "execution_count": 10,
   "metadata": {},
   "outputs": [
    {
     "name": "stdout",
     "output_type": "stream",
     "text": [
      "12727747\n"
     ]
    }
   ],
   "source": [
    "cnt = 0\n",
    "for text in glob.glob(\"lemmatized/plain-text/*.txt\"):\n",
    "    if \"-pie\" not in text:\n",
    "        with open(text) as f:\n",
    "            cnt += len(f.read().split())\n",
    "print(cnt)"
   ]
  },
  {
   "cell_type": "code",
   "execution_count": 1,
   "metadata": {},
   "outputs": [],
   "source": [
    "!mv lemmatized/*.txt lemmatized/plain-text/"
   ]
  }
 ],
 "metadata": {
  "kernelspec": {
   "display_name": "Python 3",
   "language": "python",
   "name": "python3"
  },
  "language_info": {
   "codemirror_mode": {
    "name": "ipython",
    "version": 3
   },
   "file_extension": ".py",
   "mimetype": "text/x-python",
   "name": "python",
   "nbconvert_exporter": "python",
   "pygments_lexer": "ipython3",
   "version": "3.6.7"
  },
  "toc": {
   "base_numbering": 1,
   "nav_menu": {},
   "number_sections": true,
   "sideBar": true,
   "skip_h1_title": false,
   "title_cell": "Table of Contents",
   "title_sidebar": "Contents",
   "toc_cell": false,
   "toc_position": {},
   "toc_section_display": true,
   "toc_window_display": false
  }
 },
 "nbformat": 4,
 "nbformat_minor": 2
}
