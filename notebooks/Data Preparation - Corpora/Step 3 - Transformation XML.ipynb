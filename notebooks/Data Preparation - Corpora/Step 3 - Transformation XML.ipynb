{
 "cells": [
  {
   "cell_type": "markdown",
   "metadata": {},
   "source": [
    "# Constantes"
   ]
  },
  {
   "cell_type": "code",
   "execution_count": 1,
   "metadata": {},
   "outputs": [],
   "source": [
    "CHECKSUM_PATH = \"./checksum-xmls.csv\"\n",
    "XSL = \"../../helpers/reader/passage.transform.xsl\""
   ]
  },
  {
   "cell_type": "markdown",
   "metadata": {},
   "source": [
    "# Récupération des éléments du corpus"
   ]
  },
  {
   "cell_type": "code",
   "execution_count": 2,
   "metadata": {},
   "outputs": [
    {
     "name": "stderr",
     "output_type": "stream",
     "text": [
      "../../data/raw/corpora/lascivaroma_additional-texts/lascivaroma_additional-texts/data/phi1351/phi005/phi1351.phi005.perseus-eng1.xml is not present\n",
      "../../data/raw/corpora/lascivaroma_priapeia/lascivaroma_priapeia/data/phi1103/phi001/phi1103.phi001.lascivaroma-eng1.xml is not present\n",
      "../../data/raw/corpora/lascivaroma_priapeia/lascivaroma_priapeia/data/phi1103/phi001/phi1103.phi001.lascivaroma-eng2.xml is not present\n",
      "../../data/raw/corpora/PerseusDL_canonical-latinLit/PerseusDL_canonical-latinLit/data/phi0472/phi001/phi0472.phi001.perseus-eng3.xml is not present\n",
      "../../data/raw/corpora/PerseusDL_canonical-latinLit/PerseusDL_canonical-latinLit/data/phi0472/phi001/phi0472.phi001.perseus-eng4.xml is not present\n",
      "../../data/raw/corpora/PerseusDL_canonical-latinLit/PerseusDL_canonical-latinLit/data/phi0448/phi001/phi0448.phi001.perseus-eng2.xml is not present\n",
      "../../data/raw/corpora/PerseusDL_canonical-latinLit/PerseusDL_canonical-latinLit/data/phi0448/phi002/phi0448.phi002.perseus-eng2.xml is not present\n",
      "../../data/raw/corpora/PerseusDL_canonical-latinLit/PerseusDL_canonical-latinLit/data/phi0893/phi004/phi0893.phi004.perseus-eng2.xml is not present\n",
      "../../data/raw/corpora/PerseusDL_canonical-latinLit/PerseusDL_canonical-latinLit/data/phi0893/phi006/phi0893.phi006.perseus-eng2.xml is not present\n",
      "../../data/raw/corpora/PerseusDL_canonical-latinLit/PerseusDL_canonical-latinLit/data/phi0893/phi001/phi0893.phi001.perseus-eng2.xml is not present\n",
      "../../data/raw/corpora/PerseusDL_canonical-latinLit/PerseusDL_canonical-latinLit/data/phi0474/phi004/phi0474.phi004.perseus-eng2.xml is not present\n",
      "../../data/raw/corpora/PerseusDL_canonical-latinLit/PerseusDL_canonical-latinLit/data/phi0474/phi019/phi0474.phi019.perseus-eng2.xml is not present\n",
      "../../data/raw/corpora/PerseusDL_canonical-latinLit/PerseusDL_canonical-latinLit/data/phi0474/phi018/phi0474.phi018.perseus-eng2.xml is not present\n",
      "../../data/raw/corpora/PerseusDL_canonical-latinLit/PerseusDL_canonical-latinLit/data/phi0474/phi005/phi0474.phi005.perseus-eng2.xml is not present\n",
      "../../data/raw/corpora/PerseusDL_canonical-latinLit/PerseusDL_canonical-latinLit/data/phi0474/phi051/phi0474.phi051.perseus-eng1.xml is not present\n",
      "../../data/raw/corpora/PerseusDL_canonical-latinLit/PerseusDL_canonical-latinLit/data/phi0474/phi008/phi0474.phi008.perseus-eng2.xml is not present\n",
      "../../data/raw/corpora/PerseusDL_canonical-latinLit/PerseusDL_canonical-latinLit/data/phi0474/phi007/phi0474.phi007.perseus-eng2.xml is not present\n",
      "../../data/raw/corpora/PerseusDL_canonical-latinLit/PerseusDL_canonical-latinLit/data/phi0474/phi006/phi0474.phi006.perseus-eng2.xml is not present\n",
      "../../data/raw/corpora/PerseusDL_canonical-latinLit/PerseusDL_canonical-latinLit/data/phi0474/phi052/phi0474.phi052.perseus-eng2.xml is not present\n",
      "../../data/raw/corpora/PerseusDL_canonical-latinLit/PerseusDL_canonical-latinLit/data/phi0474/phi056/phi0474.phi056.perseus-eng1.xml is not present\n",
      "../../data/raw/corpora/PerseusDL_canonical-latinLit/PerseusDL_canonical-latinLit/data/phi0474/phi013/phi0474.phi013.perseus-eng2.xml is not present\n",
      "../../data/raw/corpora/PerseusDL_canonical-latinLit/PerseusDL_canonical-latinLit/data/phi0474/phi015/phi0474.phi015.perseus-eng2.xml is not present\n",
      "../../data/raw/corpora/PerseusDL_canonical-latinLit/PerseusDL_canonical-latinLit/data/phi0474/phi016/phi0474.phi016.perseus-eng2.xml is not present\n",
      "../../data/raw/corpora/PerseusDL_canonical-latinLit/PerseusDL_canonical-latinLit/data/phi0474/phi001/phi0474.phi001.perseus-eng2.xml is not present\n",
      "../../data/raw/corpora/PerseusDL_canonical-latinLit/PerseusDL_canonical-latinLit/data/phi0474/phi012/phi0474.phi012.perseus-eng3.xml is not present\n",
      "../../data/raw/corpora/PerseusDL_canonical-latinLit/PerseusDL_canonical-latinLit/data/phi0474/phi002/phi0474.phi002.perseus-eng2.xml is not present\n",
      "../../data/raw/corpora/PerseusDL_canonical-latinLit/PerseusDL_canonical-latinLit/data/phi0474/phi059/phi0474.phi059.perseus-eng1.xml is not present\n",
      "../../data/raw/corpora/PerseusDL_canonical-latinLit/PerseusDL_canonical-latinLit/data/phi0474/phi053/phi0474.phi053.perseus-eng1.xml is not present\n",
      "../../data/raw/corpora/PerseusDL_canonical-latinLit/PerseusDL_canonical-latinLit/data/phi0474/phi055/phi0474.phi055.perseus-eng1.xml is not present\n",
      "../../data/raw/corpora/PerseusDL_canonical-latinLit/PerseusDL_canonical-latinLit/data/phi0474/phi014/phi0474.phi014.perseus-eng2.xml is not present\n",
      "../../data/raw/corpora/PerseusDL_canonical-latinLit/PerseusDL_canonical-latinLit/data/phi0474/phi010/phi0474.phi010.perseus-eng2.xml is not present\n",
      "../../data/raw/corpora/PerseusDL_canonical-latinLit/PerseusDL_canonical-latinLit/data/phi0474/phi035/phi0474.phi035.perseus-eng1.xml is not present\n",
      "../../data/raw/corpora/PerseusDL_canonical-latinLit/PerseusDL_canonical-latinLit/data/phi0474/phi058/phi0474.phi058.perseus-eng1.xml is not present\n",
      "../../data/raw/corpora/PerseusDL_canonical-latinLit/PerseusDL_canonical-latinLit/data/phi0474/phi003/phi0474.phi003.perseus-eng2.xml is not present\n",
      "../../data/raw/corpora/PerseusDL_canonical-latinLit/PerseusDL_canonical-latinLit/data/phi0474/phi017/phi0474.phi017.perseus-eng2.xml is not present\n",
      "../../data/raw/corpora/PerseusDL_canonical-latinLit/PerseusDL_canonical-latinLit/data/phi0474/phi009/phi0474.phi009.perseus-eng2.xml is not present\n",
      "../../data/raw/corpora/PerseusDL_canonical-latinLit/PerseusDL_canonical-latinLit/data/phi0474/phi011/phi0474.phi011.perseus-eng2.xml is not present\n",
      "../../data/raw/corpora/PerseusDL_canonical-latinLit/PerseusDL_canonical-latinLit/data/phi0474/phi057/phi0474.phi057.perseus-eng1.xml is not present\n",
      "../../data/raw/corpora/PerseusDL_canonical-latinLit/PerseusDL_canonical-latinLit/data/phi0836/phi002/phi0836.phi002.perseus-eng2.xml is not present\n",
      "../../data/raw/corpora/PerseusDL_canonical-latinLit/PerseusDL_canonical-latinLit/data/phi0631/phi001/phi0631.phi001.perseus-eng2.xml is not present\n",
      "../../data/raw/corpora/PerseusDL_canonical-latinLit/PerseusDL_canonical-latinLit/data/phi0631/phi002/phi0631.phi002.perseus-eng2.xml is not present\n",
      "../../data/raw/corpora/PerseusDL_canonical-latinLit/PerseusDL_canonical-latinLit/data/phi1348/abo014/phi1348.abo014.perseus-eng2.xml is not present\n",
      "../../data/raw/corpora/PerseusDL_canonical-latinLit/PerseusDL_canonical-latinLit/data/phi1348/abo015/phi1348.abo015.perseus-eng2.xml is not present\n",
      "../../data/raw/corpora/PerseusDL_canonical-latinLit/PerseusDL_canonical-latinLit/data/phi1348/abo016/phi1348.abo016.perseus-eng2.xml is not present\n",
      "../../data/raw/corpora/PerseusDL_canonical-latinLit/PerseusDL_canonical-latinLit/data/phi1348/abo020/phi1348.abo020.perseus-eng2.xml is not present\n",
      "../../data/raw/corpora/PerseusDL_canonical-latinLit/PerseusDL_canonical-latinLit/data/phi1348/abo018/phi1348.abo018.perseus-eng2.xml is not present\n",
      "../../data/raw/corpora/PerseusDL_canonical-latinLit/PerseusDL_canonical-latinLit/data/phi1348/abo012/phi1348.abo012.perseus-eng2.xml is not present\n",
      "../../data/raw/corpora/PerseusDL_canonical-latinLit/PerseusDL_canonical-latinLit/data/phi1348/abo022/phi1348.abo022.perseus-eng2.xml is not present\n",
      "../../data/raw/corpora/PerseusDL_canonical-latinLit/PerseusDL_canonical-latinLit/data/phi1348/abo011/phi1348.abo011.perseus-eng2.xml is not present\n",
      "../../data/raw/corpora/PerseusDL_canonical-latinLit/PerseusDL_canonical-latinLit/data/phi1348/abo021/phi1348.abo021.perseus-eng2.xml is not present\n",
      "../../data/raw/corpora/PerseusDL_canonical-latinLit/PerseusDL_canonical-latinLit/data/phi1348/abo019/phi1348.abo019.perseus-eng2.xml is not present\n",
      "../../data/raw/corpora/PerseusDL_canonical-latinLit/PerseusDL_canonical-latinLit/data/phi1348/abo017/phi1348.abo017.perseus-eng2.xml is not present\n",
      "../../data/raw/corpora/PerseusDL_canonical-latinLit/PerseusDL_canonical-latinLit/data/phi1348/abo013/phi1348.abo013.perseus-eng2.xml is not present\n",
      "../../data/raw/corpora/PerseusDL_canonical-latinLit/PerseusDL_canonical-latinLit/data/phi1254/phi001/phi1254.phi001.perseus-eng1.xml is not present\n",
      "../../data/raw/corpora/PerseusDL_canonical-latinLit/PerseusDL_canonical-latinLit/data/phi0690/phi001/phi0690.phi001.perseus-eng2.xml is not present\n",
      "../../data/raw/corpora/PerseusDL_canonical-latinLit/PerseusDL_canonical-latinLit/data/phi0690/phi002/phi0690.phi002.perseus-eng2.xml is not present\n"
     ]
    },
    {
     "name": "stderr",
     "output_type": "stream",
     "text": [
      "../../data/raw/corpora/PerseusDL_canonical-latinLit/PerseusDL_canonical-latinLit/data/phi0690/phi003/phi0690.phi003.perseus-eng2.xml is not present\n",
      "../../data/raw/corpora/PerseusDL_canonical-latinLit/PerseusDL_canonical-latinLit/data/phi1017/phi011/phi1017.phi011.perseus-eng2.xml is not present\n",
      "../../data/raw/corpora/PerseusDL_canonical-latinLit/PerseusDL_canonical-latinLit/data/phi0660/phi003/phi0660.phi003.perseus-eng2.xml is not present\n",
      "../../data/raw/corpora/PerseusDL_canonical-latinLit/PerseusDL_canonical-latinLit/data/phi1002/phi001/phi1002.phi001.perseus-eng2.xml is not present\n",
      "../../data/raw/corpora/PerseusDL_canonical-latinLit/PerseusDL_canonical-latinLit/data/phi0914/phi001/phi0914.phi001.perseus-eng3.xml is not present\n",
      "../../data/raw/corpora/PerseusDL_canonical-latinLit/PerseusDL_canonical-latinLit/data/phi0917/phi001/phi0917.phi001.perseus-eng2.xml is not present\n",
      "../../data/raw/corpora/PerseusDL_canonical-latinLit/PerseusDL_canonical-latinLit/data/phi0119/phi004/phi0119.phi004.perseus-eng2.xml is not present\n",
      "../../data/raw/corpora/PerseusDL_canonical-latinLit/PerseusDL_canonical-latinLit/data/phi0119/phi019/phi0119.phi019.perseus-eng2.xml is not present\n",
      "../../data/raw/corpora/PerseusDL_canonical-latinLit/PerseusDL_canonical-latinLit/data/phi0119/phi018/phi0119.phi018.perseus-eng2.xml is not present\n",
      "../../data/raw/corpora/PerseusDL_canonical-latinLit/PerseusDL_canonical-latinLit/data/phi0119/phi005/phi0119.phi005.perseus-eng2.xml is not present\n",
      "../../data/raw/corpora/PerseusDL_canonical-latinLit/PerseusDL_canonical-latinLit/data/phi0119/phi008/phi0119.phi008.perseus-eng2.xml is not present\n",
      "../../data/raw/corpora/PerseusDL_canonical-latinLit/PerseusDL_canonical-latinLit/data/phi0119/phi007/phi0119.phi007.perseus-eng2.xml is not present\n",
      "../../data/raw/corpora/PerseusDL_canonical-latinLit/PerseusDL_canonical-latinLit/data/phi0119/phi020/phi0119.phi020.perseus-eng2.xml is not present\n",
      "../../data/raw/corpora/PerseusDL_canonical-latinLit/PerseusDL_canonical-latinLit/data/phi0119/phi006/phi0119.phi006.perseus-eng2.xml is not present\n",
      "../../data/raw/corpora/PerseusDL_canonical-latinLit/PerseusDL_canonical-latinLit/data/phi0119/phi013/phi0119.phi013.perseus-eng2.xml is not present\n",
      "../../data/raw/corpora/PerseusDL_canonical-latinLit/PerseusDL_canonical-latinLit/data/phi0119/phi015/phi0119.phi015.perseus-eng2.xml is not present\n",
      "../../data/raw/corpora/PerseusDL_canonical-latinLit/PerseusDL_canonical-latinLit/data/phi0119/phi016/phi0119.phi016.perseus-eng2.xml is not present\n",
      "../../data/raw/corpora/PerseusDL_canonical-latinLit/PerseusDL_canonical-latinLit/data/phi0119/phi001/phi0119.phi001.perseus-eng2.xml is not present\n",
      "../../data/raw/corpora/PerseusDL_canonical-latinLit/PerseusDL_canonical-latinLit/data/phi0119/phi012/phi0119.phi012.perseus-eng2.xml is not present\n",
      "../../data/raw/corpora/PerseusDL_canonical-latinLit/PerseusDL_canonical-latinLit/data/phi0119/phi002/phi0119.phi002.perseus-eng2.xml is not present\n",
      "../../data/raw/corpora/PerseusDL_canonical-latinLit/PerseusDL_canonical-latinLit/data/phi0119/phi014/phi0119.phi014.perseus-eng2.xml is not present\n",
      "../../data/raw/corpora/PerseusDL_canonical-latinLit/PerseusDL_canonical-latinLit/data/phi0119/phi010/phi0119.phi010.perseus-eng2.xml is not present\n",
      "../../data/raw/corpora/PerseusDL_canonical-latinLit/PerseusDL_canonical-latinLit/data/phi0119/phi003/phi0119.phi003.perseus-eng2.xml is not present\n",
      "../../data/raw/corpora/PerseusDL_canonical-latinLit/PerseusDL_canonical-latinLit/data/phi0119/phi017/phi0119.phi017.perseus-eng2.xml is not present\n",
      "../../data/raw/corpora/PerseusDL_canonical-latinLit/PerseusDL_canonical-latinLit/data/phi0119/phi009/phi0119.phi009.perseus-eng2.xml is not present\n",
      "../../data/raw/corpora/PerseusDL_canonical-latinLit/PerseusDL_canonical-latinLit/data/phi0119/phi011/phi0119.phi011.perseus-eng2.xml is not present\n",
      "../../data/raw/corpora/PerseusDL_canonical-latinLit/PerseusDL_canonical-latinLit/data/phi0134/phi004/phi0134.phi004.perseus-eng2.xml is not present\n",
      "../../data/raw/corpora/PerseusDL_canonical-latinLit/PerseusDL_canonical-latinLit/data/phi0134/phi005/phi0134.phi005.perseus-eng2.xml is not present\n",
      "../../data/raw/corpora/PerseusDL_canonical-latinLit/PerseusDL_canonical-latinLit/data/phi0134/phi006/phi0134.phi006.perseus-eng2.xml is not present\n",
      "../../data/raw/corpora/PerseusDL_canonical-latinLit/PerseusDL_canonical-latinLit/data/phi0134/phi001/phi0134.phi001.perseus-eng2.xml is not present\n",
      "../../data/raw/corpora/PerseusDL_canonical-latinLit/PerseusDL_canonical-latinLit/data/phi0134/phi002/phi0134.phi002.perseus-eng2.xml is not present\n",
      "../../data/raw/corpora/PerseusDL_canonical-latinLit/PerseusDL_canonical-latinLit/data/phi0134/phi003/phi0134.phi003.perseus-eng2.xml is not present\n",
      "../../data/raw/corpora/PerseusDL_canonical-latinLit/PerseusDL_canonical-latinLit/data/phi0959/phi004/phi0959.phi004.perseus-eng2.xml is not present\n",
      "../../data/raw/corpora/PerseusDL_canonical-latinLit/PerseusDL_canonical-latinLit/data/phi0959/phi005/phi0959.phi005.perseus-eng2.xml is not present\n",
      "../../data/raw/corpora/PerseusDL_canonical-latinLit/PerseusDL_canonical-latinLit/data/phi0959/phi006/phi0959.phi006.perseus-eng3.xml is not present\n",
      "../../data/raw/corpora/PerseusDL_canonical-latinLit/PerseusDL_canonical-latinLit/data/phi0959/phi006/phi0959.phi006.perseus-eng4.xml is not present\n",
      "../../data/raw/corpora/PerseusDL_canonical-latinLit/PerseusDL_canonical-latinLit/data/phi0959/phi001/phi0959.phi001.perseus-eng2.xml is not present\n",
      "../../data/raw/corpora/PerseusDL_canonical-latinLit/PerseusDL_canonical-latinLit/data/phi0959/phi002/phi0959.phi002.perseus-eng2.xml is not present\n",
      "../../data/raw/corpora/PerseusDL_canonical-latinLit/PerseusDL_canonical-latinLit/data/phi0959/phi003/phi0959.phi003.perseus-eng2.xml is not present\n",
      "../../data/raw/corpora/PerseusDL_canonical-latinLit/PerseusDL_canonical-latinLit/data/stoa0023/stoa001/stoa0023.stoa001.perseus-eng2.xml is not present\n",
      "../../data/raw/corpora/PerseusDL_canonical-latinLit/PerseusDL_canonical-latinLit/data/stoa0089/stoa013/stoa0089.stoa013.perseus-eng1.xml is not present\n",
      "../../data/raw/corpora/PerseusDL_canonical-latinLit/PerseusDL_canonical-latinLit/data/stoa0089/stoa004/stoa0089.stoa004.perseus-eng1.xml is not present\n",
      "../../data/raw/corpora/PerseusDL_canonical-latinLit/PerseusDL_canonical-latinLit/data/stoa0089/stoa005/stoa0089.stoa005.perseus-eng1.xml is not present\n",
      "../../data/raw/corpora/PerseusDL_canonical-latinLit/PerseusDL_canonical-latinLit/data/stoa0089/stoa012/stoa0089.stoa012.perseus-eng1.xml is not present\n",
      "../../data/raw/corpora/PerseusDL_canonical-latinLit/PerseusDL_canonical-latinLit/data/stoa0089/stoa007/stoa0089.stoa007.perseus-eng1.xml is not present\n",
      "../../data/raw/corpora/PerseusDL_canonical-latinLit/PerseusDL_canonical-latinLit/data/stoa0089/stoa003/stoa0089.stoa003.perseus-eng1.xml is not present\n",
      "../../data/raw/corpora/PerseusDL_canonical-latinLit/PerseusDL_canonical-latinLit/data/stoa0089/stoa009/stoa0089.stoa009.perseus-eng1.xml is not present\n",
      "../../data/raw/corpora/PerseusDL_canonical-latinLit/PerseusDL_canonical-latinLit/data/stoa0089/stoa008/stoa0089.stoa008.perseus-eng1.xml is not present\n",
      "../../data/raw/corpora/PerseusDL_canonical-latinLit/PerseusDL_canonical-latinLit/data/stoa0089/stoa014/stoa0089.stoa014.perseus-eng1.xml is not present\n",
      "../../data/raw/corpora/PerseusDL_canonical-latinLit/PerseusDL_canonical-latinLit/data/stoa0089/stoa002/stoa0089.stoa002.perseus-eng1.xml is not present\n",
      "../../data/raw/corpora/PerseusDL_canonical-latinLit/PerseusDL_canonical-latinLit/data/stoa0089/stoa006/stoa0089.stoa006.perseus-eng1.xml is not present\n",
      "../../data/raw/corpora/PerseusDL_canonical-latinLit/PerseusDL_canonical-latinLit/data/stoa0089/stoa001/stoa0089.stoa001.perseus-eng1.xml is not present\n",
      "../../data/raw/corpora/PerseusDL_canonical-latinLit/PerseusDL_canonical-latinLit/data/stoa0089/stoa011/stoa0089.stoa011.perseus-eng1.xml is not present\n",
      "../../data/raw/corpora/PerseusDL_canonical-latinLit/PerseusDL_canonical-latinLit/data/stoa0089/stoa010/stoa0089.stoa010.perseus-eng1.xml is not present\n",
      "../../data/raw/corpora/PerseusDL_canonical-latinLit/PerseusDL_canonical-latinLit/data/phi1056/phi001/phi1056.phi001.perseus-eng1.xml is not present\n"
     ]
    },
    {
     "name": "stderr",
     "output_type": "stream",
     "text": [
      "../../data/raw/corpora/PerseusDL_canonical-latinLit/PerseusDL_canonical-latinLit/data/phi1351/phi004/phi1351.phi004.perseus-eng1.xml is not present\n",
      "../../data/raw/corpora/PerseusDL_canonical-latinLit/PerseusDL_canonical-latinLit/data/phi1351/phi001/phi1351.phi001.perseus-eng2.xml is not present\n",
      "../../data/raw/corpora/PerseusDL_canonical-latinLit/PerseusDL_canonical-latinLit/data/phi1351/phi001/phi1351.phi001.perseus-eng1.xml is not present\n",
      "../../data/raw/corpora/PerseusDL_canonical-latinLit/PerseusDL_canonical-latinLit/data/phi1351/phi002/phi1351.phi002.perseus-eng1.xml is not present\n",
      "../../data/raw/corpora/PerseusDL_canonical-latinLit/PerseusDL_canonical-latinLit/data/phi0550/phi001/phi0550.phi001.perseus-eng1.xml is not present\n"
     ]
    }
   ],
   "source": [
    "import glob\n",
    "from MyCapytain.resolvers.cts.local import CtsCapitainsLocalResolver\n",
    "\n",
    "repositories = list(glob.glob(\"../../data/raw/corpora/**/*\", recursive=False))\n",
    "resolver = CtsCapitainsLocalResolver(repositories)"
   ]
  },
  {
   "cell_type": "markdown",
   "metadata": {},
   "source": [
    "# Génération des fichiers XML\n",
    "\n",
    "## Nettoyage"
   ]
  },
  {
   "cell_type": "code",
   "execution_count": 3,
   "metadata": {},
   "outputs": [
    {
     "name": "stdout",
     "output_type": "stream",
     "text": [
      "rm: cannot remove './lemmatized/*.xml': No such file or directory\r\n"
     ]
    }
   ],
   "source": [
    "!rm ./lemmatized/xml/*.xml\n",
    "!rm ./lemmatized/*.xml"
   ]
  },
  {
   "cell_type": "markdown",
   "metadata": {},
   "source": [
    "## Récupération des données dépôts"
   ]
  },
  {
   "cell_type": "code",
   "execution_count": 4,
   "metadata": {},
   "outputs": [],
   "source": [
    "REPOS = {\n",
    "    \n",
    "}\n",
    "with open(\"../../data/raw/corpora.csv\") as f:\n",
    "    for lineno, line in enumerate(f):\n",
    "        line = line.strip().split(\";\")\n",
    "        if lineno == 0:\n",
    "            headers = line\n",
    "        else:\n",
    "            line = dict(zip(headers, line))\n",
    "            REPOS[line[\"Name\"]] = line[\"Version\"]"
   ]
  },
  {
   "cell_type": "code",
   "execution_count": 5,
   "metadata": {},
   "outputs": [],
   "source": [
    "## Chargement des checksums\n",
    "from hash_compute import md5sum, check_checksum_from_file, read_checksum_csv\n",
    "import os.path\n",
    "\n",
    "former_checksums = read_checksum_csv(CHECKSUM_PATH)\n",
    "xsl_checksum = md5sum(XSL)\n",
    "\n",
    "repositories_map = {\n",
    "    \"OpenGreekAndLatin_Latin\": \"OpenGreekAndLatin/Latin\",\n",
    "    \"OpenGreekAndLatin_csel-dev\": \"OpenGreekAndLatin/csel-dev\",\n",
    "    \"lascivaroma_additional-texts\": \"lascivaroma/additional-texts\",\n",
    "    \"lascivaroma_priapeia\": \"lascivaroma/priapeia\",\n",
    "    \"PerseusDL_canonical-latinLit\": \"PerseusDL/canonical-latinLit\",\n",
    "    \"lascivaroma_digiliblt\": \"lascivaroma/digiliblt\",\n",
    "    \"ponteineptique_digiliblt\": \"ponteineptique/digiliblt\"\n",
    "}\n",
    "file_to_urn = {\n",
    "    plaintext.split(\"/\")[-1][:-4]: {\n",
    "        \"plaintext_checksum\": info.checksum,\n",
    "        \"source_checksum\": info.source_checksum,\n",
    "        \"repo\": repositories_map[\n",
    "            info.source.replace(\"/home/thibault/dev/these/data/raw/corpora/\", \"\").split(\"/\")[0]\n",
    "        ],\n",
    "        \"version\": REPOS[\n",
    "            repositories_map[\n",
    "                info.source.replace(\"/home/thibault/dev/these/data/raw/corpora/\", \"\").split(\"/\")[0]\n",
    "            ].replace(\"ponteineptique/digiliblt\", \"lascivaroma/digiliblt\")\n",
    "        ],\n",
    "        \n",
    "    }\n",
    "    for plaintext, info in former_checksums.items()\n",
    "    if os.path.exists(plaintext)\n",
    "}"
   ]
  },
  {
   "cell_type": "markdown",
   "metadata": {},
   "source": [
    "## Génération"
   ]
  },
  {
   "cell_type": "code",
   "execution_count": 6,
   "metadata": {
    "scrolled": true
   },
   "outputs": [
    {
     "name": "stderr",
     "output_type": "stream",
     "text": [
      "\r",
      "  0%|          | 0/16 [00:00<?, ?it/s]"
     ]
    },
    {
     "name": "stdout",
     "output_type": "stream",
     "text": [
      "16 file to XML\n"
     ]
    },
    {
     "name": "stderr",
     "output_type": "stream",
     "text": [
      "100%|██████████| 16/16 [00:06<00:00,  2.55it/s]\n"
     ]
    }
   ],
   "source": [
    "import regex as re\n",
    "import os.path\n",
    "import glob\n",
    "import tqdm\n",
    "import lxml.etree as etree\n",
    "\n",
    "\n",
    "\n",
    "TEI = \"\"\"<TEI xmlns=\"http://www.tei-c.org/ns/1.0\">\n",
    "    <teiHeader n=\"{tid}\">\n",
    "    \n",
    "        <fileDesc>\n",
    "            <titleStmt>\n",
    "                <title>{title}</title>\n",
    "                <author>{author}</author>\n",
    "            </titleStmt>\n",
    "            <publicationStmt>\n",
    "                <publisher>\n",
    "                    <persName>Thibault Clérice</persName>\n",
    "                </publisher>\n",
    "            </publicationStmt>\n",
    "            <sourceDesc>\n",
    "                <bibl>\n",
    "                    <idno>{tid}</idno>\n",
    "                    <link target=\"{uri}\"/>\n",
    "                    <dim source=\"xml\" type=\"md5-checksum\">{checksum_source}</dim>\n",
    "                    <dim source=\"plaintext-transformation\" type=\"md5-checksum\">{checksum_text}</dim>\n",
    "                    <dim source=\"xsl\" type=\"md5-checksum\">{checksum_xsl}</dim>\n",
    "                </bibl>\n",
    "            </sourceDesc>\n",
    "        </fileDesc>\n",
    "    </teiHeader>\n",
    "    <text n=\"{tid}\">\n",
    "        <body>\n",
    "            \n",
    "        </body>\n",
    "    </text>\n",
    "</TEI>\n",
    "\"\"\"\n",
    "reference = re.compile(r\"(\\[REF:[A-Za-z0-9\\.]+\\])\")\n",
    "\n",
    "FORCE_XML = False\n",
    "if FORCE_XML:\n",
    "    tsvs = glob.glob(\"./lemmatized/tsv/*-pie.txt\")\n",
    "else:\n",
    "    with open(\"new_xml.txt\") as f:\n",
    "        tsvs = [x for x in f.read().split() if x]\n",
    "\n",
    "print(f\"{len(tsvs)} file to XML\")\n",
    "\n",
    "for file in tqdm.tqdm(tsvs):\n",
    "    with open(file) as read:\n",
    "        xml = file.replace(\"-pie.txt\", \".xml\")\n",
    "        if xml == file:\n",
    "            print(xml, file)\n",
    "            break\n",
    "        text_id = os.path.basename(file)[:-len(\"-pie.txt\")]\n",
    "        if text_id not in file_to_urn:\n",
    "            print(f\"Ignoring {text_id}\")\n",
    "            continue\n",
    "        metadata = resolver.getMetadata(text_id)\n",
    "        title = metadata.parent.get_label()\n",
    "        author = metadata.parent.parent.get_label()\n",
    "        version_info = file_to_urn[text_id]\n",
    "        \n",
    "        root = etree.fromstring(TEI.format(\n",
    "                tid=text_id,\n",
    "                title=title,\n",
    "                author=author,\n",
    "                checksum_source=version_info[\"source_checksum\"],\n",
    "                checksum_text=version_info[\"plaintext_checksum\"],\n",
    "                checksum_xsl=xsl_checksum,\n",
    "                uri=\"https://github.com/{name}/archive/{version}.zip\".format(\n",
    "                    name=version_info[\"repo\"], version=version_info[\"version\"]\n",
    "                )\n",
    "            ))\n",
    "        \n",
    "        body = root.xpath(\"//t:body\", namespaces={\"t\": \"http://www.tei-c.org/ns/1.0\"})[0]\n",
    "        #with open(xml, \"w\") as write:\n",
    "        last_seg = None\n",
    "        for lineno, line in enumerate(read):\n",
    "            line = line.strip().split(\"\\t\")\n",
    "            if lineno == 0:\n",
    "                headers = line\n",
    "                continue\n",
    "            line = dict(zip(headers, line))\n",
    "\n",
    "\n",
    "            # Deal with Segments\n",
    "            if line[\"token\"].startswith(\"[REF:\"):\n",
    "                section, *sid = line[\"token\"][len(\"[REF:\"):-1].split(\".\")\n",
    "                sid = \".\".join(sid)\n",
    "                last_seg = etree.Element(\"{http://www.tei-c.org/ns/1.0}ab\", type=section, n=f\"{text_id}:{sid}\")\n",
    "                last_seg.tail = \"\\n            \"\n",
    "                last_seg.text = \"\\n                \"\n",
    "                body.append(last_seg)\n",
    "                w_id = 1\n",
    "                continue\n",
    "            elif line[\"token\"] in {\"<\", \">\", \"&\"}:\n",
    "                continue\n",
    "            elif last_seg is None:\n",
    "                section = \"auto-fill-type\"\n",
    "                sid = \"auto-fill-sid\"\n",
    "                last_seg = etree.Element(\"{http://www.tei-c.org/ns/1.0}ab\", type=section, n=f\"{text_id}:unregistered\")\n",
    "                last_seg.tail = \"\\n            \"\n",
    "                last_seg.text = \"\\n                \"\n",
    "                body.append(last_seg)\n",
    "                w_id = 1\n",
    "                \n",
    "            new_word = etree.Element(\n",
    "                \"{http://www.tei-c.org/ns/1.0}w\",\n",
    "                rend=section,\n",
    "                n=sid,\n",
    "                pos=line[\"pos\"],\n",
    "                msd=line[\"morph\"],\n",
    "                lemma=line[\"lemma\"],\n",
    "            )\n",
    "            new_word.text = line[\"token\"]\n",
    "            new_word.tail = \"\\n                \"\n",
    "            last_seg.append(new_word)\n",
    "            w_id += 1\n",
    "\n",
    "        with open(xml, \"w\") as f:\n",
    "            f.write(etree.tostring(root, encoding=str, pretty_print=True))\n",
    "            \n",
    "            "
   ]
  },
  {
   "cell_type": "markdown",
   "metadata": {},
   "source": [
    "## Déplacement des nouveaux fichiers."
   ]
  },
  {
   "cell_type": "code",
   "execution_count": 7,
   "metadata": {},
   "outputs": [],
   "source": [
    "!mkdir -p lemmatized/xml\n",
    "!mv lemmatized/tsv/*.xml lemmatized/xml/"
   ]
  },
  {
   "cell_type": "markdown",
   "metadata": {},
   "source": [
    "# Zip pour partage des données"
   ]
  },
  {
   "cell_type": "code",
   "execution_count": 8,
   "metadata": {},
   "outputs": [],
   "source": [
    "#!tar -zcvf data.tar lemmatized/xml/*.xml"
   ]
  },
  {
   "cell_type": "code",
   "execution_count": 9,
   "metadata": {},
   "outputs": [],
   "source": [
    "!cp lemmatized/xml/* /home/thibault/dev/latin-lemmatized-texts/lemmatized/xml/"
   ]
  },
  {
   "cell_type": "code",
   "execution_count": 10,
   "metadata": {},
   "outputs": [
    {
     "name": "stdout",
     "output_type": "stream",
     "text": [
      "Sending build context to Docker daemon  4.517GB\n",
      "Step 1/14 : FROM tomcat:latest\n",
      " ---> f796d3d2c195\n",
      "Step 2/14 : MAINTAINER Thibault Clérice <thibault.clerice@chartes.psl.eu>\n",
      " ---> Using cache\n",
      " ---> c3060f2949ee\n",
      "Step 3/14 : ENV AS_VERSION 2.1.0\n",
      " ---> Using cache\n",
      " ---> 8db6b86464cd\n",
      "Step 4/14 : ENV BL_VERSION 2.1.0\n",
      " ---> Using cache\n",
      " ---> 180e55cdedf4\n",
      "Step 5/14 : ENV BLACKLAB_CONFIG_DIR /etc/blacklab\n",
      " ---> Using cache\n",
      " ---> 3b1a21457342\n",
      "Step 6/14 : WORKDIR /jars/blacklab\n",
      " ---> Using cache\n",
      " ---> f7bb86af9500\n",
      "Step 7/14 : ADD blacklab /etc/blacklab\n",
      " ---> Using cache\n",
      " ---> 2b6d1e2095ec\n",
      "Step 8/14 : ADD blacklab-server-${BL_VERSION}.war ${CATALINA_HOME}/webapps/blacklab-server.war\n",
      " ---> Using cache\n",
      " ---> 73b718249532\n",
      "Step 9/14 : ADD corpus-frontend-${AS_VERSION}.war ${CATALINA_HOME}/webapps/corpus-frontend.war\n",
      " ---> Using cache\n",
      " ---> d1f629fc9b59\n",
      "Step 10/14 : RUN ls /etc/blacklab\n",
      " ---> Using cache\n",
      " ---> d429dab4e5a9\n",
      "Step 11/14 : RUN mkdir -p /data/blacklab/indexes && mkdir -p /jars/blacklab && mkdir -p /data/corpora/latin-texts\n",
      " ---> Using cache\n",
      " ---> 3a9652d37bcd\n",
      "Step 12/14 : RUN unzip ${CATALINA_HOME}/webapps/blacklab-server.war -d /jars/blacklab && \tmv /jars/blacklab/WEB-INF/lib /jars/blacklab &&\tmv lib/blacklab-${BL_VERSION}.jar ./blacklab.jar\n",
      " ---> Using cache\n",
      " ---> 6df0d6aeaebc\n",
      "Step 13/14 : COPY lemmatized/xml /data/corpora/latin-texts\n",
      " ---> b7733a422e75\n",
      "Step 14/14 : RUN for corpus in /data/corpora/*; \tdo if [ -d \"$corpus\" ]; then \t\tjava -cp \"blacklab.jar\" nl.inl.blacklab.tools.IndexTool create /data/blacklab/indexes/$(basename $corpus) $corpus tei-msd;\t\tfi; \tdone\n",
      " ---> Running in 816868cb1452\n",
      "\u001b[91mERROR StatusLogger No Log4j 2 configuration file found. Using default configuration (logging only errors to the console), or user programmatically provided configurations. Set system property 'log4j2.debug' to show Log4j 2 internal initialization logging. See https://logging.apache.org/log4j/2.x/manual/configuration.html for instructions on how to configure Log4j 2\n",
      "\u001b[0mCreating new index in /data/blacklab/indexes/latin-texts/ from /data/corpora/latin-texts/ (using format tei-msd)\n",
      "75 docs (82 MB, 702.1k tokens); avg. 70.0k tok/s (8.2 MB/s); currently 70.0k tok/s (8.2 MB/s); 10 sec elapsed\n",
      "129 docs (173 MB, 1.5M tokens); avg. 75.7k tok/s (8.7 MB/s); currently 73.4k tok/s (8.5 MB/s); 20 sec elapsed\n",
      "164 docs (281 MB, 2.5M tokens); avg. 79.3k tok/s (8.9 MB/s); currently 77.1k tok/s (8.7 MB/s); 31 sec elapsed\n",
      "216 docs (385 MB, 3.5M tokens); avg. 81.2k tok/s (9.1 MB/s); currently 80.0k tok/s (9.0 MB/s); 42 sec elapsed\n",
      "232 docs (501 MB, 4.5M tokens); avg. 79.0k tok/s (8.9 MB/s); currently 77.6k tok/s (8.8 MB/s); 56 sec elapsed\n",
      "233 docs (503 MB, 4.5M tokens); avg. 65.8k tok/s (7.4 MB/s); currently 54.7k tok/s (6.2 MB/s); 1 min elapsed\n",
      "244 docs (610 MB, 5.4M tokens); avg. 61.6k tok/s (6.9 MB/s); currently 52.5k tok/s (5.9 MB/s); 1 min elapsed\n",
      "271 docs (715 MB, 6.3M tokens); avg. 63.7k tok/s (7.2 MB/s); currently 60.9k tok/s (6.9 MB/s); 1 min elapsed\n",
      "291 docs (796 MB, 7.1M tokens); avg. 64.3k tok/s (7.3 MB/s); currently 63.7k tok/s (7.3 MB/s); 1 min elapsed\n",
      "350 docs (904 MB, 8.0M tokens); avg. 65.9k tok/s (7.4 MB/s); currently 68.5k tok/s (7.7 MB/s); 2 min elapsed\n",
      "378 docs (971 MB, 8.6M tokens); avg. 64.9k tok/s (7.3 MB/s); currently 64.0k tok/s (7.2 MB/s); 2 min elapsed\n",
      "388 docs (1.1 GB, 9.4M tokens); avg. 65.6k tok/s (7.4 MB/s); currently 67.3k tok/s (7.5 MB/s); 2 min elapsed\n",
      "396 docs (1.1 GB, 10.2M tokens); avg. 66.3k tok/s (7.4 MB/s); currently 70.1k tok/s (7.8 MB/s); 2 min elapsed\n",
      "416 docs (1.2 GB, 10.9M tokens); avg. 66.8k tok/s (7.5 MB/s); currently 71.3k tok/s (7.8 MB/s); 2 min elapsed\n",
      "452 docs (1.3 GB, 11.7M tokens); avg. 67.4k tok/s (7.5 MB/s); currently 73.1k tok/s (8.0 MB/s); 2 min elapsed\n",
      "497 docs (1.4 GB, 12.5M tokens); avg. 67.9k tok/s (7.6 MB/s); currently 74.4k tok/s (8.2 MB/s); 3 min elapsed\n",
      "549 docs (1.5 GB, 13.3M tokens); avg. 68.5k tok/s (7.6 MB/s); currently 75.7k tok/s (8.3 MB/s); 3 min elapsed\n",
      "592 docs (1.6 GB, 13.9M tokens); avg. 68.0k tok/s (7.6 MB/s); currently 70.6k tok/s (7.8 MB/s); 3 min elapsed\n",
      "628 docs (1.6 GB, 14.8M tokens); avg. 68.7k tok/s (7.6 MB/s); currently 73.9k tok/s (8.1 MB/s); 3 min elapsed\n",
      "639 docs (1.7 GB, 15.4M tokens); avg. 68.2k tok/s (7.6 MB/s); currently 69.4k tok/s (7.6 MB/s); 3 min elapsed\n",
      "647 docs (1.8 GB, 16.0M tokens); avg. 68.1k tok/s (7.6 MB/s); currently 68.2k tok/s (7.5 MB/s); 3 min elapsed\n",
      "647 docs (1.9 GB, 17.4M tokens); avg. 70.1k tok/s (7.8 MB/s); currently 80.1k tok/s (8.9 MB/s); 4 min elapsed\n",
      "649 docs (1.9 GB, 17.4M tokens); avg. 63.3k tok/s (7.0 MB/s); currently 56.4k tok/s (6.2 MB/s); 4 min elapsed\n",
      "666 docs (2.0 GB, 18.0M tokens); avg. 63.2k tok/s (7.0 MB/s); currently 57.3k tok/s (6.3 MB/s); 4 min elapsed\n",
      "694 docs (2.1 GB, 18.8M tokens); avg. 63.4k tok/s (7.0 MB/s); currently 61.0k tok/s (6.7 MB/s); 4 min elapsed\n",
      "747 docs (2.2 GB, 19.5M tokens); avg. 63.7k tok/s (7.1 MB/s); currently 64.5k tok/s (7.2 MB/s); 5 min elapsed\n",
      "767 docs (2.2 GB, 20.2M tokens); avg. 63.8k tok/s (7.1 MB/s); currently 65.2k tok/s (7.2 MB/s); 5 min elapsed\n",
      "835 docs (2.3 GB, 21.1M tokens); avg. 64.6k tok/s (7.2 MB/s); currently 72.4k tok/s (8.0 MB/s); 5 min elapsed\n",
      "841 docs (2.4 GB, 21.2M tokens); avg. 64.4k tok/s (7.2 MB/s); currently 62.4k tok/s (6.9 MB/s); 5 min elapsed\n",
      "Done. Elapsed time: 5 minutes, 29 seconds\n",
      "Removing intermediate container 816868cb1452\n",
      " ---> cc3f08c146e7\n",
      "Successfully built cc3f08c146e7\n",
      "Successfully tagged dockerlab:latest\n"
     ]
    }
   ],
   "source": [
    "!cd /home/thibault/dev/latin-lemmatized-texts/ && docker build -t dockerlab . && cd ~/dev/these/"
   ]
  }
 ],
 "metadata": {
  "kernelspec": {
   "display_name": "Python 3",
   "language": "python",
   "name": "python3"
  },
  "language_info": {
   "codemirror_mode": {
    "name": "ipython",
    "version": 3
   },
   "file_extension": ".py",
   "mimetype": "text/x-python",
   "name": "python",
   "nbconvert_exporter": "python",
   "pygments_lexer": "ipython3",
   "version": "3.8.5"
  },
  "toc": {
   "base_numbering": 1,
   "nav_menu": {},
   "number_sections": true,
   "sideBar": true,
   "skip_h1_title": false,
   "title_cell": "Table of Contents",
   "title_sidebar": "Contents",
   "toc_cell": false,
   "toc_position": {},
   "toc_section_display": true,
   "toc_window_display": false
  }
 },
 "nbformat": 4,
 "nbformat_minor": 2
}
