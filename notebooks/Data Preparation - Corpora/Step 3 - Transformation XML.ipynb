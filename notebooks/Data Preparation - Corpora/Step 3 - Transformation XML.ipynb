{
 "cells": [
  {
   "cell_type": "markdown",
   "metadata": {},
   "source": [
    "# Constantes"
   ]
  },
  {
   "cell_type": "code",
   "execution_count": 1,
   "metadata": {},
   "outputs": [],
   "source": [
    "CHECKSUM_PATH = \"./checksum-xmls.csv\"\n",
    "XSL = \"../../helpers/reader/passage.transform.xsl\""
   ]
  },
  {
   "cell_type": "markdown",
   "metadata": {},
   "source": [
    "# Récupération des éléments du corpus"
   ]
  },
  {
   "cell_type": "code",
   "execution_count": 2,
   "metadata": {},
   "outputs": [
    {
     "name": "stderr",
     "output_type": "stream",
     "text": [
      "../../data/raw/corpora/lascivaroma_additional-texts/lascivaroma_additional-texts/data/phi1351/phi005/phi1351.phi005.perseus-eng1.xml is not present\n",
      "../../data/raw/corpora/lascivaroma_priapeia/lascivaroma_priapeia/data/phi1103/phi001/phi1103.phi001.lascivaroma-eng1.xml is not present\n",
      "../../data/raw/corpora/lascivaroma_priapeia/lascivaroma_priapeia/data/phi1103/phi001/phi1103.phi001.lascivaroma-eng2.xml is not present\n",
      "../../data/raw/corpora/PerseusDL_canonical-latinLit/PerseusDL_canonical-latinLit/data/phi0472/phi001/phi0472.phi001.perseus-eng3.xml is not present\n",
      "../../data/raw/corpora/PerseusDL_canonical-latinLit/PerseusDL_canonical-latinLit/data/phi0472/phi001/phi0472.phi001.perseus-eng4.xml is not present\n",
      "../../data/raw/corpora/PerseusDL_canonical-latinLit/PerseusDL_canonical-latinLit/data/phi0448/phi001/phi0448.phi001.perseus-eng2.xml is not present\n",
      "../../data/raw/corpora/PerseusDL_canonical-latinLit/PerseusDL_canonical-latinLit/data/phi0448/phi002/phi0448.phi002.perseus-eng2.xml is not present\n",
      "../../data/raw/corpora/PerseusDL_canonical-latinLit/PerseusDL_canonical-latinLit/data/phi0893/phi004/phi0893.phi004.perseus-eng2.xml is not present\n",
      "../../data/raw/corpora/PerseusDL_canonical-latinLit/PerseusDL_canonical-latinLit/data/phi0893/phi006/phi0893.phi006.perseus-eng2.xml is not present\n",
      "../../data/raw/corpora/PerseusDL_canonical-latinLit/PerseusDL_canonical-latinLit/data/phi0893/phi001/phi0893.phi001.perseus-eng2.xml is not present\n",
      "../../data/raw/corpora/PerseusDL_canonical-latinLit/PerseusDL_canonical-latinLit/data/phi0474/phi004/phi0474.phi004.perseus-eng2.xml is not present\n",
      "../../data/raw/corpora/PerseusDL_canonical-latinLit/PerseusDL_canonical-latinLit/data/phi0474/phi019/phi0474.phi019.perseus-eng2.xml is not present\n",
      "../../data/raw/corpora/PerseusDL_canonical-latinLit/PerseusDL_canonical-latinLit/data/phi0474/phi018/phi0474.phi018.perseus-eng2.xml is not present\n",
      "../../data/raw/corpora/PerseusDL_canonical-latinLit/PerseusDL_canonical-latinLit/data/phi0474/phi005/phi0474.phi005.perseus-eng2.xml is not present\n",
      "../../data/raw/corpora/PerseusDL_canonical-latinLit/PerseusDL_canonical-latinLit/data/phi0474/phi051/phi0474.phi051.perseus-eng1.xml is not present\n",
      "../../data/raw/corpora/PerseusDL_canonical-latinLit/PerseusDL_canonical-latinLit/data/phi0474/phi008/phi0474.phi008.perseus-eng2.xml is not present\n",
      "../../data/raw/corpora/PerseusDL_canonical-latinLit/PerseusDL_canonical-latinLit/data/phi0474/phi007/phi0474.phi007.perseus-eng2.xml is not present\n",
      "../../data/raw/corpora/PerseusDL_canonical-latinLit/PerseusDL_canonical-latinLit/data/phi0474/phi006/phi0474.phi006.perseus-eng2.xml is not present\n",
      "../../data/raw/corpora/PerseusDL_canonical-latinLit/PerseusDL_canonical-latinLit/data/phi0474/phi052/phi0474.phi052.perseus-eng2.xml is not present\n",
      "../../data/raw/corpora/PerseusDL_canonical-latinLit/PerseusDL_canonical-latinLit/data/phi0474/phi056/phi0474.phi056.perseus-eng1.xml is not present\n",
      "../../data/raw/corpora/PerseusDL_canonical-latinLit/PerseusDL_canonical-latinLit/data/phi0474/phi013/phi0474.phi013.perseus-eng2.xml is not present\n",
      "../../data/raw/corpora/PerseusDL_canonical-latinLit/PerseusDL_canonical-latinLit/data/phi0474/phi015/phi0474.phi015.perseus-eng2.xml is not present\n",
      "../../data/raw/corpora/PerseusDL_canonical-latinLit/PerseusDL_canonical-latinLit/data/phi0474/phi016/phi0474.phi016.perseus-eng2.xml is not present\n",
      "../../data/raw/corpora/PerseusDL_canonical-latinLit/PerseusDL_canonical-latinLit/data/phi0474/phi001/phi0474.phi001.perseus-eng2.xml is not present\n",
      "../../data/raw/corpora/PerseusDL_canonical-latinLit/PerseusDL_canonical-latinLit/data/phi0474/phi012/phi0474.phi012.perseus-eng3.xml is not present\n",
      "../../data/raw/corpora/PerseusDL_canonical-latinLit/PerseusDL_canonical-latinLit/data/phi0474/phi002/phi0474.phi002.perseus-eng2.xml is not present\n",
      "../../data/raw/corpora/PerseusDL_canonical-latinLit/PerseusDL_canonical-latinLit/data/phi0474/phi059/phi0474.phi059.perseus-eng1.xml is not present\n",
      "../../data/raw/corpora/PerseusDL_canonical-latinLit/PerseusDL_canonical-latinLit/data/phi0474/phi053/phi0474.phi053.perseus-eng1.xml is not present\n",
      "../../data/raw/corpora/PerseusDL_canonical-latinLit/PerseusDL_canonical-latinLit/data/phi0474/phi055/phi0474.phi055.perseus-eng1.xml is not present\n",
      "../../data/raw/corpora/PerseusDL_canonical-latinLit/PerseusDL_canonical-latinLit/data/phi0474/phi014/phi0474.phi014.perseus-eng2.xml is not present\n",
      "../../data/raw/corpora/PerseusDL_canonical-latinLit/PerseusDL_canonical-latinLit/data/phi0474/phi010/phi0474.phi010.perseus-eng2.xml is not present\n",
      "../../data/raw/corpora/PerseusDL_canonical-latinLit/PerseusDL_canonical-latinLit/data/phi0474/phi035/phi0474.phi035.perseus-eng1.xml is not present\n",
      "../../data/raw/corpora/PerseusDL_canonical-latinLit/PerseusDL_canonical-latinLit/data/phi0474/phi058/phi0474.phi058.perseus-eng1.xml is not present\n",
      "../../data/raw/corpora/PerseusDL_canonical-latinLit/PerseusDL_canonical-latinLit/data/phi0474/phi003/phi0474.phi003.perseus-eng2.xml is not present\n",
      "../../data/raw/corpora/PerseusDL_canonical-latinLit/PerseusDL_canonical-latinLit/data/phi0474/phi017/phi0474.phi017.perseus-eng2.xml is not present\n",
      "../../data/raw/corpora/PerseusDL_canonical-latinLit/PerseusDL_canonical-latinLit/data/phi0474/phi009/phi0474.phi009.perseus-eng2.xml is not present\n",
      "../../data/raw/corpora/PerseusDL_canonical-latinLit/PerseusDL_canonical-latinLit/data/phi0474/phi011/phi0474.phi011.perseus-eng2.xml is not present\n",
      "../../data/raw/corpora/PerseusDL_canonical-latinLit/PerseusDL_canonical-latinLit/data/phi0474/phi057/phi0474.phi057.perseus-eng1.xml is not present\n",
      "../../data/raw/corpora/PerseusDL_canonical-latinLit/PerseusDL_canonical-latinLit/data/phi0836/phi002/phi0836.phi002.perseus-eng2.xml is not present\n",
      "../../data/raw/corpora/PerseusDL_canonical-latinLit/PerseusDL_canonical-latinLit/data/phi0631/phi001/phi0631.phi001.perseus-eng2.xml is not present\n",
      "../../data/raw/corpora/PerseusDL_canonical-latinLit/PerseusDL_canonical-latinLit/data/phi0631/phi002/phi0631.phi002.perseus-eng2.xml is not present\n",
      "../../data/raw/corpora/PerseusDL_canonical-latinLit/PerseusDL_canonical-latinLit/data/phi1348/abo014/phi1348.abo014.perseus-eng2.xml is not present\n",
      "../../data/raw/corpora/PerseusDL_canonical-latinLit/PerseusDL_canonical-latinLit/data/phi1348/abo015/phi1348.abo015.perseus-eng2.xml is not present\n",
      "../../data/raw/corpora/PerseusDL_canonical-latinLit/PerseusDL_canonical-latinLit/data/phi1348/abo016/phi1348.abo016.perseus-eng2.xml is not present\n",
      "../../data/raw/corpora/PerseusDL_canonical-latinLit/PerseusDL_canonical-latinLit/data/phi1348/abo020/phi1348.abo020.perseus-eng2.xml is not present\n",
      "../../data/raw/corpora/PerseusDL_canonical-latinLit/PerseusDL_canonical-latinLit/data/phi1348/abo018/phi1348.abo018.perseus-eng2.xml is not present\n",
      "../../data/raw/corpora/PerseusDL_canonical-latinLit/PerseusDL_canonical-latinLit/data/phi1348/abo012/phi1348.abo012.perseus-eng2.xml is not present\n",
      "../../data/raw/corpora/PerseusDL_canonical-latinLit/PerseusDL_canonical-latinLit/data/phi1348/abo022/phi1348.abo022.perseus-eng2.xml is not present\n",
      "../../data/raw/corpora/PerseusDL_canonical-latinLit/PerseusDL_canonical-latinLit/data/phi1348/abo011/phi1348.abo011.perseus-eng2.xml is not present\n",
      "../../data/raw/corpora/PerseusDL_canonical-latinLit/PerseusDL_canonical-latinLit/data/phi1348/abo021/phi1348.abo021.perseus-eng2.xml is not present\n",
      "../../data/raw/corpora/PerseusDL_canonical-latinLit/PerseusDL_canonical-latinLit/data/phi1348/abo019/phi1348.abo019.perseus-eng2.xml is not present\n",
      "../../data/raw/corpora/PerseusDL_canonical-latinLit/PerseusDL_canonical-latinLit/data/phi1348/abo017/phi1348.abo017.perseus-eng2.xml is not present\n",
      "../../data/raw/corpora/PerseusDL_canonical-latinLit/PerseusDL_canonical-latinLit/data/phi1348/abo013/phi1348.abo013.perseus-eng2.xml is not present\n",
      "../../data/raw/corpora/PerseusDL_canonical-latinLit/PerseusDL_canonical-latinLit/data/phi1254/phi001/phi1254.phi001.perseus-eng1.xml is not present\n",
      "../../data/raw/corpora/PerseusDL_canonical-latinLit/PerseusDL_canonical-latinLit/data/phi0690/phi001/phi0690.phi001.perseus-eng2.xml is not present\n",
      "../../data/raw/corpora/PerseusDL_canonical-latinLit/PerseusDL_canonical-latinLit/data/phi0690/phi002/phi0690.phi002.perseus-eng2.xml is not present\n"
     ]
    },
    {
     "name": "stderr",
     "output_type": "stream",
     "text": [
      "../../data/raw/corpora/PerseusDL_canonical-latinLit/PerseusDL_canonical-latinLit/data/phi0690/phi003/phi0690.phi003.perseus-eng2.xml is not present\n",
      "../../data/raw/corpora/PerseusDL_canonical-latinLit/PerseusDL_canonical-latinLit/data/phi1017/phi011/phi1017.phi011.perseus-eng2.xml is not present\n",
      "../../data/raw/corpora/PerseusDL_canonical-latinLit/PerseusDL_canonical-latinLit/data/phi0660/phi003/phi0660.phi003.perseus-eng2.xml is not present\n",
      "../../data/raw/corpora/PerseusDL_canonical-latinLit/PerseusDL_canonical-latinLit/data/phi1002/phi001/phi1002.phi001.perseus-eng2.xml is not present\n",
      "../../data/raw/corpora/PerseusDL_canonical-latinLit/PerseusDL_canonical-latinLit/data/phi0914/phi001/phi0914.phi001.perseus-eng3.xml is not present\n",
      "../../data/raw/corpora/PerseusDL_canonical-latinLit/PerseusDL_canonical-latinLit/data/phi0917/phi001/phi0917.phi001.perseus-eng2.xml is not present\n",
      "../../data/raw/corpora/PerseusDL_canonical-latinLit/PerseusDL_canonical-latinLit/data/phi0119/phi004/phi0119.phi004.perseus-eng2.xml is not present\n",
      "../../data/raw/corpora/PerseusDL_canonical-latinLit/PerseusDL_canonical-latinLit/data/phi0119/phi019/phi0119.phi019.perseus-eng2.xml is not present\n",
      "../../data/raw/corpora/PerseusDL_canonical-latinLit/PerseusDL_canonical-latinLit/data/phi0119/phi018/phi0119.phi018.perseus-eng2.xml is not present\n",
      "../../data/raw/corpora/PerseusDL_canonical-latinLit/PerseusDL_canonical-latinLit/data/phi0119/phi005/phi0119.phi005.perseus-eng2.xml is not present\n",
      "../../data/raw/corpora/PerseusDL_canonical-latinLit/PerseusDL_canonical-latinLit/data/phi0119/phi008/phi0119.phi008.perseus-eng2.xml is not present\n",
      "../../data/raw/corpora/PerseusDL_canonical-latinLit/PerseusDL_canonical-latinLit/data/phi0119/phi007/phi0119.phi007.perseus-eng2.xml is not present\n",
      "../../data/raw/corpora/PerseusDL_canonical-latinLit/PerseusDL_canonical-latinLit/data/phi0119/phi020/phi0119.phi020.perseus-eng2.xml is not present\n",
      "../../data/raw/corpora/PerseusDL_canonical-latinLit/PerseusDL_canonical-latinLit/data/phi0119/phi006/phi0119.phi006.perseus-eng2.xml is not present\n",
      "../../data/raw/corpora/PerseusDL_canonical-latinLit/PerseusDL_canonical-latinLit/data/phi0119/phi013/phi0119.phi013.perseus-eng2.xml is not present\n",
      "../../data/raw/corpora/PerseusDL_canonical-latinLit/PerseusDL_canonical-latinLit/data/phi0119/phi015/phi0119.phi015.perseus-eng2.xml is not present\n",
      "../../data/raw/corpora/PerseusDL_canonical-latinLit/PerseusDL_canonical-latinLit/data/phi0119/phi016/phi0119.phi016.perseus-eng2.xml is not present\n",
      "../../data/raw/corpora/PerseusDL_canonical-latinLit/PerseusDL_canonical-latinLit/data/phi0119/phi001/phi0119.phi001.perseus-eng2.xml is not present\n",
      "../../data/raw/corpora/PerseusDL_canonical-latinLit/PerseusDL_canonical-latinLit/data/phi0119/phi012/phi0119.phi012.perseus-eng2.xml is not present\n",
      "../../data/raw/corpora/PerseusDL_canonical-latinLit/PerseusDL_canonical-latinLit/data/phi0119/phi002/phi0119.phi002.perseus-eng2.xml is not present\n",
      "../../data/raw/corpora/PerseusDL_canonical-latinLit/PerseusDL_canonical-latinLit/data/phi0119/phi014/phi0119.phi014.perseus-eng2.xml is not present\n",
      "../../data/raw/corpora/PerseusDL_canonical-latinLit/PerseusDL_canonical-latinLit/data/phi0119/phi010/phi0119.phi010.perseus-eng2.xml is not present\n",
      "../../data/raw/corpora/PerseusDL_canonical-latinLit/PerseusDL_canonical-latinLit/data/phi0119/phi003/phi0119.phi003.perseus-eng2.xml is not present\n",
      "../../data/raw/corpora/PerseusDL_canonical-latinLit/PerseusDL_canonical-latinLit/data/phi0119/phi017/phi0119.phi017.perseus-eng2.xml is not present\n",
      "../../data/raw/corpora/PerseusDL_canonical-latinLit/PerseusDL_canonical-latinLit/data/phi0119/phi009/phi0119.phi009.perseus-eng2.xml is not present\n",
      "../../data/raw/corpora/PerseusDL_canonical-latinLit/PerseusDL_canonical-latinLit/data/phi0119/phi011/phi0119.phi011.perseus-eng2.xml is not present\n",
      "../../data/raw/corpora/PerseusDL_canonical-latinLit/PerseusDL_canonical-latinLit/data/phi0134/phi004/phi0134.phi004.perseus-eng2.xml is not present\n",
      "../../data/raw/corpora/PerseusDL_canonical-latinLit/PerseusDL_canonical-latinLit/data/phi0134/phi005/phi0134.phi005.perseus-eng2.xml is not present\n",
      "../../data/raw/corpora/PerseusDL_canonical-latinLit/PerseusDL_canonical-latinLit/data/phi0134/phi006/phi0134.phi006.perseus-eng2.xml is not present\n",
      "../../data/raw/corpora/PerseusDL_canonical-latinLit/PerseusDL_canonical-latinLit/data/phi0134/phi001/phi0134.phi001.perseus-eng2.xml is not present\n",
      "../../data/raw/corpora/PerseusDL_canonical-latinLit/PerseusDL_canonical-latinLit/data/phi0134/phi002/phi0134.phi002.perseus-eng2.xml is not present\n",
      "../../data/raw/corpora/PerseusDL_canonical-latinLit/PerseusDL_canonical-latinLit/data/phi0134/phi003/phi0134.phi003.perseus-eng2.xml is not present\n",
      "../../data/raw/corpora/PerseusDL_canonical-latinLit/PerseusDL_canonical-latinLit/data/phi0959/phi004/phi0959.phi004.perseus-eng2.xml is not present\n",
      "../../data/raw/corpora/PerseusDL_canonical-latinLit/PerseusDL_canonical-latinLit/data/phi0959/phi005/phi0959.phi005.perseus-eng2.xml is not present\n",
      "../../data/raw/corpora/PerseusDL_canonical-latinLit/PerseusDL_canonical-latinLit/data/phi0959/phi006/phi0959.phi006.perseus-eng3.xml is not present\n",
      "../../data/raw/corpora/PerseusDL_canonical-latinLit/PerseusDL_canonical-latinLit/data/phi0959/phi006/phi0959.phi006.perseus-eng4.xml is not present\n",
      "../../data/raw/corpora/PerseusDL_canonical-latinLit/PerseusDL_canonical-latinLit/data/phi0959/phi001/phi0959.phi001.perseus-eng2.xml is not present\n",
      "../../data/raw/corpora/PerseusDL_canonical-latinLit/PerseusDL_canonical-latinLit/data/phi0959/phi002/phi0959.phi002.perseus-eng2.xml is not present\n",
      "../../data/raw/corpora/PerseusDL_canonical-latinLit/PerseusDL_canonical-latinLit/data/phi0959/phi003/phi0959.phi003.perseus-eng2.xml is not present\n",
      "../../data/raw/corpora/PerseusDL_canonical-latinLit/PerseusDL_canonical-latinLit/data/stoa0023/stoa001/stoa0023.stoa001.perseus-eng2.xml is not present\n",
      "../../data/raw/corpora/PerseusDL_canonical-latinLit/PerseusDL_canonical-latinLit/data/stoa0089/stoa013/stoa0089.stoa013.perseus-eng1.xml is not present\n",
      "../../data/raw/corpora/PerseusDL_canonical-latinLit/PerseusDL_canonical-latinLit/data/stoa0089/stoa004/stoa0089.stoa004.perseus-eng1.xml is not present\n",
      "../../data/raw/corpora/PerseusDL_canonical-latinLit/PerseusDL_canonical-latinLit/data/stoa0089/stoa005/stoa0089.stoa005.perseus-eng1.xml is not present\n",
      "../../data/raw/corpora/PerseusDL_canonical-latinLit/PerseusDL_canonical-latinLit/data/stoa0089/stoa012/stoa0089.stoa012.perseus-eng1.xml is not present\n",
      "../../data/raw/corpora/PerseusDL_canonical-latinLit/PerseusDL_canonical-latinLit/data/stoa0089/stoa007/stoa0089.stoa007.perseus-eng1.xml is not present\n",
      "../../data/raw/corpora/PerseusDL_canonical-latinLit/PerseusDL_canonical-latinLit/data/stoa0089/stoa003/stoa0089.stoa003.perseus-eng1.xml is not present\n",
      "../../data/raw/corpora/PerseusDL_canonical-latinLit/PerseusDL_canonical-latinLit/data/stoa0089/stoa009/stoa0089.stoa009.perseus-eng1.xml is not present\n",
      "../../data/raw/corpora/PerseusDL_canonical-latinLit/PerseusDL_canonical-latinLit/data/stoa0089/stoa008/stoa0089.stoa008.perseus-eng1.xml is not present\n",
      "../../data/raw/corpora/PerseusDL_canonical-latinLit/PerseusDL_canonical-latinLit/data/stoa0089/stoa014/stoa0089.stoa014.perseus-eng1.xml is not present\n",
      "../../data/raw/corpora/PerseusDL_canonical-latinLit/PerseusDL_canonical-latinLit/data/stoa0089/stoa002/stoa0089.stoa002.perseus-eng1.xml is not present\n",
      "../../data/raw/corpora/PerseusDL_canonical-latinLit/PerseusDL_canonical-latinLit/data/stoa0089/stoa006/stoa0089.stoa006.perseus-eng1.xml is not present\n",
      "../../data/raw/corpora/PerseusDL_canonical-latinLit/PerseusDL_canonical-latinLit/data/stoa0089/stoa001/stoa0089.stoa001.perseus-eng1.xml is not present\n",
      "../../data/raw/corpora/PerseusDL_canonical-latinLit/PerseusDL_canonical-latinLit/data/stoa0089/stoa011/stoa0089.stoa011.perseus-eng1.xml is not present\n",
      "../../data/raw/corpora/PerseusDL_canonical-latinLit/PerseusDL_canonical-latinLit/data/stoa0089/stoa010/stoa0089.stoa010.perseus-eng1.xml is not present\n",
      "../../data/raw/corpora/PerseusDL_canonical-latinLit/PerseusDL_canonical-latinLit/data/phi1056/phi001/phi1056.phi001.perseus-eng1.xml is not present\n"
     ]
    },
    {
     "name": "stderr",
     "output_type": "stream",
     "text": [
      "../../data/raw/corpora/PerseusDL_canonical-latinLit/PerseusDL_canonical-latinLit/data/phi1351/phi004/phi1351.phi004.perseus-eng1.xml is not present\n",
      "../../data/raw/corpora/PerseusDL_canonical-latinLit/PerseusDL_canonical-latinLit/data/phi1351/phi001/phi1351.phi001.perseus-eng2.xml is not present\n",
      "../../data/raw/corpora/PerseusDL_canonical-latinLit/PerseusDL_canonical-latinLit/data/phi1351/phi001/phi1351.phi001.perseus-eng1.xml is not present\n",
      "../../data/raw/corpora/PerseusDL_canonical-latinLit/PerseusDL_canonical-latinLit/data/phi1351/phi002/phi1351.phi002.perseus-eng1.xml is not present\n",
      "../../data/raw/corpora/PerseusDL_canonical-latinLit/PerseusDL_canonical-latinLit/data/phi0550/phi001/phi0550.phi001.perseus-eng1.xml is not present\n"
     ]
    }
   ],
   "source": [
    "import glob\n",
    "from MyCapytain.resolvers.cts.local import CtsCapitainsLocalResolver\n",
    "\n",
    "repositories = list(glob.glob(\"../../data/raw/corpora/**/*\", recursive=False))\n",
    "resolver = CtsCapitainsLocalResolver(repositories)"
   ]
  },
  {
   "cell_type": "markdown",
   "metadata": {},
   "source": [
    "# Génération des fichiers XML\n",
    "\n",
    "## Nettoyage"
   ]
  },
  {
   "cell_type": "code",
   "execution_count": 3,
   "metadata": {},
   "outputs": [
    {
     "name": "stdout",
     "output_type": "stream",
     "text": [
      "rm: cannot remove './lemmatized/*.xml': No such file or directory\r\n"
     ]
    }
   ],
   "source": [
    "!rm ./lemmatized/xml/*.xml\n",
    "!rm ./lemmatized/*.xml"
   ]
  },
  {
   "cell_type": "markdown",
   "metadata": {},
   "source": [
    "## Récupération des données dépôts"
   ]
  },
  {
   "cell_type": "code",
   "execution_count": 4,
   "metadata": {},
   "outputs": [],
   "source": [
    "REPOS = {\n",
    "    \n",
    "}\n",
    "with open(\"../../data/raw/corpora.csv\") as f:\n",
    "    for lineno, line in enumerate(f):\n",
    "        line = line.strip().split(\";\")\n",
    "        if lineno == 0:\n",
    "            headers = line\n",
    "        else:\n",
    "            line = dict(zip(headers, line))\n",
    "            REPOS[line[\"Name\"]] = line[\"Version\"]"
   ]
  },
  {
   "cell_type": "code",
   "execution_count": 5,
   "metadata": {},
   "outputs": [],
   "source": [
    "## Chargement des checksums\n",
    "from hash_compute import md5sum, check_checksum_from_file, read_checksum_csv\n",
    "import os.path\n",
    "\n",
    "former_checksums = read_checksum_csv(CHECKSUM_PATH)\n",
    "xsl_checksum = md5sum(XSL)\n",
    "\n",
    "repositories_map = {\n",
    "    \"OpenGreekAndLatin_Latin\": \"OpenGreekAndLatin/Latin\",\n",
    "    \"OpenGreekAndLatin_csel-dev\": \"OpenGreekAndLatin/csel-dev\",\n",
    "    \"lascivaroma_additional-texts\": \"lascivaroma/additional-texts\",\n",
    "    \"lascivaroma_priapeia\": \"lascivaroma/priapeia\",\n",
    "    \"PerseusDL_canonical-latinLit\": \"PerseusDL/canonical-latinLit\",\n",
    "    \"ponteineptique_digiliblt\": \"ponteineptique/digiliblt\"\n",
    "}\n",
    "file_to_urn = {\n",
    "    plaintext.split(\"/\")[-1][:-4]: {\n",
    "        \"plaintext_checksum\": info.checksum,\n",
    "        \"source_checksum\": info.source_checksum,\n",
    "        \"repo\": repositories_map[\n",
    "            info.source.replace(\"/home/thibault/dev/these/data/raw/corpora/\", \"\").split(\"/\")[0]\n",
    "        ],\n",
    "        \"version\": REPOS[\n",
    "            repositories_map[\n",
    "                info.source.replace(\"/home/thibault/dev/these/data/raw/corpora/\", \"\").split(\"/\")[0]\n",
    "            ]\n",
    "        ],\n",
    "        \n",
    "    }\n",
    "    for plaintext, info in former_checksums.items()\n",
    "    if os.path.exists(plaintext)\n",
    "}"
   ]
  },
  {
   "cell_type": "markdown",
   "metadata": {},
   "source": [
    "## Génération"
   ]
  },
  {
   "cell_type": "code",
   "execution_count": 6,
   "metadata": {
    "scrolled": true
   },
   "outputs": [
    {
     "name": "stderr",
     "output_type": "stream",
     "text": [
      "\r",
      "  0%|          | 0/3 [00:00<?, ?it/s]"
     ]
    },
    {
     "name": "stdout",
     "output_type": "stream",
     "text": [
      "3 file to XML\n"
     ]
    },
    {
     "name": "stderr",
     "output_type": "stream",
     "text": [
      "100%|██████████| 3/3 [00:04<00:00,  1.44s/it]\n"
     ]
    }
   ],
   "source": [
    "import regex as re\n",
    "import os.path\n",
    "import glob\n",
    "import tqdm\n",
    "import lxml.etree as etree\n",
    "\n",
    "\n",
    "\n",
    "TEI = \"\"\"<TEI xmlns=\"http://www.tei-c.org/ns/1.0\">\n",
    "    <teiHeader n=\"{tid}\">\n",
    "    \n",
    "        <fileDesc>\n",
    "            <titleStmt>\n",
    "                <title>{title}</title>\n",
    "                <author>{author}</author>\n",
    "            </titleStmt>\n",
    "            <publicationStmt>\n",
    "                <publisher>\n",
    "                    <persName>Thibault Clérice</persName>\n",
    "                </publisher>\n",
    "            </publicationStmt>\n",
    "            <sourceDesc>\n",
    "                <bibl>\n",
    "                    <idno>{tid}</idno>\n",
    "                    <link target=\"{uri}\"/>\n",
    "                    <dim source=\"xml\" type=\"md5-checksum\">{checksum_source}</dim>\n",
    "                    <dim source=\"plaintext-transformation\" type=\"md5-checksum\">{checksum_text}</dim>\n",
    "                    <dim source=\"xsl\" type=\"md5-checksum\">{checksum_xsl}</dim>\n",
    "                </bibl>\n",
    "            </sourceDesc>\n",
    "        </fileDesc>\n",
    "    </teiHeader>\n",
    "    <text n=\"{tid}\">\n",
    "        <body>\n",
    "            \n",
    "        </body>\n",
    "    </text>\n",
    "</TEI>\n",
    "\"\"\"\n",
    "reference = re.compile(r\"(\\[REF:[A-Za-z0-9\\.]+\\])\")\n",
    "\n",
    "FORCE_XML = False\n",
    "if FORCE_XML:\n",
    "    tsvs = glob.glob(\"./lemmatized/tsv/*-pie.txt\")\n",
    "else:\n",
    "    with open(\"new_xml.txt\") as f:\n",
    "        tsvs = [x for x in f.read().split() if x]\n",
    "\n",
    "print(f\"{len(tsvs)} file to XML\")\n",
    "\n",
    "for file in tqdm.tqdm(tsvs):\n",
    "    with open(file) as read:\n",
    "        xml = file.replace(\"-pie.txt\", \".xml\")\n",
    "        if xml == file:\n",
    "            print(xml, file)\n",
    "            break\n",
    "        text_id = os.path.basename(file)[:-len(\"-pie.txt\")]\n",
    "        if text_id not in file_to_urn:\n",
    "            print(f\"Ignoring {text_id}\")\n",
    "            continue\n",
    "        metadata = resolver.getMetadata(text_id)\n",
    "        title = metadata.parent.get_label()\n",
    "        author = metadata.parent.parent.get_label()\n",
    "        version_info = file_to_urn[text_id]\n",
    "        \n",
    "        root = etree.fromstring(TEI.format(\n",
    "                tid=text_id,\n",
    "                title=title,\n",
    "                author=author,\n",
    "                checksum_source=version_info[\"source_checksum\"],\n",
    "                checksum_text=version_info[\"plaintext_checksum\"],\n",
    "                checksum_xsl=xsl_checksum,\n",
    "                uri=\"https://github.com/{name}/archive/{version}.zip\".format(\n",
    "                    name=version_info[\"repo\"], version=version_info[\"version\"]\n",
    "                )\n",
    "            ))\n",
    "        \n",
    "        body = root.xpath(\"//t:body\", namespaces={\"t\": \"http://www.tei-c.org/ns/1.0\"})[0]\n",
    "        #with open(xml, \"w\") as write:\n",
    "        last_seg = None\n",
    "        for lineno, line in enumerate(read):\n",
    "            line = line.strip().split(\"\\t\")\n",
    "            if lineno == 0:\n",
    "                headers = line\n",
    "                continue\n",
    "            line = dict(zip(headers, line))\n",
    "\n",
    "\n",
    "            # Deal with Segments\n",
    "            if line[\"token\"].startswith(\"[REF:\"):\n",
    "                section, *sid = line[\"token\"][len(\"[REF:\"):-1].split(\".\")\n",
    "                sid = \".\".join(sid)\n",
    "                last_seg = etree.Element(\"{http://www.tei-c.org/ns/1.0}ab\", type=section, n=f\"{text_id}:{sid}\")\n",
    "                last_seg.tail = \"\\n            \"\n",
    "                last_seg.text = \"\\n                \"\n",
    "                body.append(last_seg)\n",
    "                w_id = 1\n",
    "                continue\n",
    "            elif line[\"token\"] in {\"<\", \">\", \"&\"}:\n",
    "                continue\n",
    "            elif last_seg is None:\n",
    "                section = \"auto-fill-type\"\n",
    "                sid = \"auto-fill-sid\"\n",
    "                last_seg = etree.Element(\"{http://www.tei-c.org/ns/1.0}ab\", type=section, n=f\"{text_id}:unregistered\")\n",
    "                last_seg.tail = \"\\n            \"\n",
    "                last_seg.text = \"\\n                \"\n",
    "                body.append(last_seg)\n",
    "                w_id = 1\n",
    "                \n",
    "            new_word = etree.Element(\n",
    "                \"{http://www.tei-c.org/ns/1.0}w\",\n",
    "                rend=section,\n",
    "                n=sid,\n",
    "                pos=line[\"pos\"],\n",
    "                msd=line[\"morph\"],\n",
    "                lemma=line[\"lemma\"],\n",
    "            )\n",
    "            new_word.text = line[\"token\"]\n",
    "            new_word.tail = \"\\n                \"\n",
    "            last_seg.append(new_word)\n",
    "            w_id += 1\n",
    "\n",
    "        with open(xml, \"w\") as f:\n",
    "            f.write(etree.tostring(root, encoding=str, pretty_print=True))\n",
    "            \n",
    "            "
   ]
  },
  {
   "cell_type": "markdown",
   "metadata": {},
   "source": [
    "## Déplacement des nouveaux fichiers."
   ]
  },
  {
   "cell_type": "code",
   "execution_count": 7,
   "metadata": {},
   "outputs": [],
   "source": [
    "!mkdir -p lemmatized/xml\n",
    "!mv lemmatized/tsv/*.xml lemmatized/xml/"
   ]
  },
  {
   "cell_type": "markdown",
   "metadata": {},
   "source": [
    "# Zip pour partage des données"
   ]
  },
  {
   "cell_type": "code",
   "execution_count": 8,
   "metadata": {},
   "outputs": [
    {
     "name": "stdout",
     "output_type": "stream",
     "text": [
      "  adding: lemmatized/xml/urn:cts:latinLit:phi2349.phi005.perseus-lat1.xml (deflated 92%)\n",
      "  adding: lemmatized/xml/urn:cts:latinLit:phi2349.phi006.perseus-lat1.xml (deflated 92%)\n",
      "  adding: lemmatized/xml/urn:cts:latinLit:phi2349.phi007.perseus-lat1.xml (deflated 92%)\n"
     ]
    }
   ],
   "source": [
    "!zip data lemmatized/xml/*.xml"
   ]
  },
  {
   "cell_type": "code",
   "execution_count": 9,
   "metadata": {},
   "outputs": [
    {
     "name": "stdout",
     "output_type": "stream",
     "text": [
      "Sending build context to Docker daemon  2.009GB\n",
      "Step 1/14 : FROM tomcat:latest\n",
      " ---> f796d3d2c195\n",
      "Step 2/14 : MAINTAINER Thibault Clérice <thibault.clerice@chartes.psl.eu>\n",
      " ---> Using cache\n",
      " ---> c3060f2949ee\n",
      "Step 3/14 : ENV AS_VERSION 2.1.0\n",
      " ---> Using cache\n",
      " ---> 8db6b86464cd\n",
      "Step 4/14 : ENV BL_VERSION 2.1.0\n",
      " ---> Using cache\n",
      " ---> 180e55cdedf4\n",
      "Step 5/14 : ENV BLACKLAB_CONFIG_DIR /etc/blacklab\n",
      " ---> Using cache\n",
      " ---> 3b1a21457342\n",
      "Step 6/14 : WORKDIR /jars/blacklab\n",
      " ---> Using cache\n",
      " ---> f7bb86af9500\n",
      "Step 7/14 : ADD blacklab /etc/blacklab\n",
      " ---> Using cache\n",
      " ---> 963a7aaff990\n",
      "Step 8/14 : ADD blacklab-server-${BL_VERSION}.war ${CATALINA_HOME}/webapps/blacklab-server.war\n",
      " ---> Using cache\n",
      " ---> a1b9d69b11da\n",
      "Step 9/14 : ADD corpus-frontend-${AS_VERSION}.war ${CATALINA_HOME}/webapps/corpus-frontend.war\n",
      " ---> Using cache\n",
      " ---> c70a9003d64d\n",
      "Step 10/14 : RUN ls /etc/blacklab\n",
      " ---> Using cache\n",
      " ---> 0ff2eb99751d\n",
      "Step 11/14 : RUN mkdir -p /data/blacklab/indexes && mkdir -p /jars/blacklab\n",
      " ---> Using cache\n",
      " ---> ec6a666499d1\n",
      "Step 12/14 : RUN unzip ${CATALINA_HOME}/webapps/blacklab-server.war -d /jars/blacklab && \tmv /jars/blacklab/WEB-INF/lib /jars/blacklab &&\tmv lib/blacklab-${BL_VERSION}.jar ./blacklab.jar\n",
      " ---> Using cache\n",
      " ---> cd3b9b1af6da\n",
      "Step 13/14 : ADD corpora /data/corpora\n",
      " ---> 6e4691e234bc\n",
      "Step 14/14 : RUN for corpus in /data/corpora/*; \tdo if [ -d \"$corpus\" ]; then \t\tjava -cp \"blacklab.jar\" nl.inl.blacklab.tools.IndexTool create /data/blacklab/indexes/$(basename $corpus)-index $corpus tei-msd;\t\tfi; \tdone\n",
      " ---> Running in 536b82617822\n",
      "\u001b[91mERROR StatusLogger No Log4j 2 configuration file found. Using default configuration (logging only errors to the console), or user programmatically provided configurations. Set system property 'log4j2.debug' to show Log4j 2 internal initialization logging. See https://logging.apache.org/log4j/2.x/manual/configuration.html for instructions on how to configure Log4j 2\n",
      "\u001b[0mCreating new index in /data/blacklab/indexes/latin-corpus-index/ from /data/corpora/latin-corpus/ (using format tei-msd)\n",
      "70 docs (77 MB, 662.2k tokens); avg. 65.5k tok/s (7.6 MB/s); currently 65.5k tok/s (7.6 MB/s); 10 sec elapsed\n",
      "132 docs (169 MB, 1.5M tokens); avg. 74.1k tok/s (8.4 MB/s); currently 70.7k tok/s (8.1 MB/s); 20 sec elapsed\n",
      "154 docs (267 MB, 2.4M tokens); avg. 78.4k tok/s (8.8 MB/s); currently 75.5k tok/s (8.5 MB/s); 30 sec elapsed\n",
      "204 docs (369 MB, 3.3M tokens); avg. 81.1k tok/s (9.1 MB/s); currently 79.6k tok/s (8.9 MB/s); 40 sec elapsed\n",
      "220 docs (485 MB, 4.3M tokens); avg. 80.3k tok/s (9.0 MB/s); currently 79.1k tok/s (8.9 MB/s); 53 sec elapsed\n",
      "221 docs (487 MB, 4.3M tokens); avg. 66.6k tok/s (7.5 MB/s); currently 55.8k tok/s (6.3 MB/s); 1 min elapsed\n",
      "232 docs (594 MB, 5.3M tokens); avg. 68.8k tok/s (7.7 MB/s); currently 63.3k tok/s (7.2 MB/s); 1 min elapsed\n",
      "250 docs (628 MB, 5.6M tokens); avg. 64.3k tok/s (7.2 MB/s); currently 53.3k tok/s (6.0 MB/s); 1 min elapsed\n",
      "266 docs (723 MB, 6.4M tokens); avg. 65.1k tok/s (7.3 MB/s); currently 58.6k tok/s (6.7 MB/s); 1 min elapsed\n",
      "324 docs (803 MB, 7.1M tokens); avg. 65.6k tok/s (7.4 MB/s); currently 62.2k tok/s (7.0 MB/s); 1 min elapsed\n",
      "334 docs (864 MB, 7.7M tokens); avg. 64.7k tok/s (7.3 MB/s); currently 60.2k tok/s (6.7 MB/s); 1 min elapsed\n",
      "349 docs (953 MB, 8.5M tokens); avg. 65.3k tok/s (7.3 MB/s); currently 63.3k tok/s (7.1 MB/s); 2 min elapsed\n",
      "357 docs (1.0 GB, 9.3M tokens); avg. 66.3k tok/s (7.4 MB/s); currently 68.2k tok/s (7.6 MB/s); 2 min elapsed\n",
      "374 docs (1.1 GB, 10.0M tokens); avg. 66.4k tok/s (7.4 MB/s); currently 67.8k tok/s (7.5 MB/s); 2 min elapsed\n",
      "410 docs (1.2 GB, 10.7M tokens); avg. 66.9k tok/s (7.5 MB/s); currently 69.7k tok/s (7.6 MB/s); 2 min elapsed\n",
      "452 docs (1.3 GB, 11.6M tokens); avg. 67.7k tok/s (7.5 MB/s); currently 72.8k tok/s (8.0 MB/s); 2 min elapsed\n",
      "500 docs (1.4 GB, 12.3M tokens); avg. 68.1k tok/s (7.6 MB/s); currently 73.3k tok/s (8.1 MB/s); 3 min elapsed\n",
      "549 docs (1.5 GB, 13.0M tokens); avg. 68.0k tok/s (7.6 MB/s); currently 71.3k tok/s (7.9 MB/s); 3 min elapsed\n",
      "569 docs (1.5 GB, 13.9M tokens); avg. 68.7k tok/s (7.6 MB/s); currently 74.3k tok/s (8.2 MB/s); 3 min elapsed\n",
      "586 docs (1.6 GB, 14.6M tokens); avg. 68.5k tok/s (7.6 MB/s); currently 71.3k tok/s (7.9 MB/s); 3 min elapsed\n",
      "620 docs (1.7 GB, 15.4M tokens); avg. 68.8k tok/s (7.7 MB/s); currently 72.8k tok/s (8.1 MB/s); 3 min elapsed\n",
      "684 docs (1.8 GB, 16.2M tokens); avg. 69.5k tok/s (7.8 MB/s); currently 76.4k tok/s (8.5 MB/s); 3 min elapsed\n",
      "746 docs (1.9 GB, 16.9M tokens); avg. 69.9k tok/s (7.8 MB/s); currently 77.5k tok/s (8.5 MB/s); 4 min elapsed\n",
      "Done. Elapsed time: 4 minutes, 1 second\n",
      "Removing intermediate container 536b82617822\n",
      " ---> 1bf4a442fc55\n",
      "Successfully built 1bf4a442fc55\n",
      "Successfully tagged dockerlab:latest\n"
     ]
    }
   ],
   "source": [
    "!cp lemmatized/xml/* /home/thibault/dev/latin-lemmatized-texts/lemmatized/xml/\n",
    "!cp lemmatized/xml/* /home/thibault/dev/blacklab-docker/corpora/latin-corpus/\n",
    "!cd /home/thibault/dev/blacklab-docker/ && docker build -t dockerlab . && cd ~/dev/these/"
   ]
  }
 ],
 "metadata": {
  "kernelspec": {
   "display_name": "Python 3",
   "language": "python",
   "name": "python3"
  },
  "language_info": {
   "codemirror_mode": {
    "name": "ipython",
    "version": 3
   },
   "file_extension": ".py",
   "mimetype": "text/x-python",
   "name": "python",
   "nbconvert_exporter": "python",
   "pygments_lexer": "ipython3",
   "version": "3.8.5"
  },
  "toc": {
   "base_numbering": 1,
   "nav_menu": {},
   "number_sections": true,
   "sideBar": true,
   "skip_h1_title": false,
   "title_cell": "Table of Contents",
   "title_sidebar": "Contents",
   "toc_cell": false,
   "toc_position": {},
   "toc_section_display": true,
   "toc_window_display": false
  }
 },
 "nbformat": 4,
 "nbformat_minor": 2
}
