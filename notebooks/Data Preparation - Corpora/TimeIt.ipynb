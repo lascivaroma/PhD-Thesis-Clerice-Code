{
 "cells": [
  {
   "cell_type": "code",
   "execution_count": 111,
   "id": "quiet-leeds",
   "metadata": {},
   "outputs": [],
   "source": [
    "CORPORA_PATH = \"../../data/raw/corpora/**/*\"\n"
   ]
  },
  {
   "cell_type": "code",
   "execution_count": 112,
   "id": "little-spain",
   "metadata": {},
   "outputs": [],
   "source": [
    "import lxml.etree as ET\n",
    "def get_xslt(citation_scheme):\n",
    "    additional_xsl = \"\"\n",
    "    for level in range(len(citation_scheme)):\n",
    "        xpath = f\"{citation_scheme[level].scope}{citation_scheme[level].xpath}\".replace(\"='?'\", \"\").replace(\"=\\\"?\\\"\", \"\").replace('\"', \"'\")\n",
    "        name = citation_scheme[level].name or \"unknown\"\n",
    "        if level == 0:\n",
    "            additional_xsl += \"\\n\" + f\"\"\"\n",
    "        <xsl:template match=\"{xpath}\">\n",
    "            <xsl:text>¬</xsl:text>\n",
    "            <xsl:text>{name}]][[</xsl:text><xsl:value-of select=\"@n\"/>\n",
    "            <xsl:apply-templates select=\"node()\">\n",
    "                <xsl:with-param name=\"previous\"><xsl:value-of select=\"@n\"/></xsl:with-param>\n",
    "            </xsl:apply-templates>\n",
    "        </xsl:template>\"\"\"\n",
    "        else:\n",
    "            additional_xsl += \"\\n\" + f\"\"\"\n",
    "        <xsl:template match=\"{xpath}\">\n",
    "            <xsl:param name=\"previous\" />\n",
    "            <xsl:text>¬</xsl:text>\n",
    "            <xsl:text>{name}]][[</xsl:text><xsl:value-of select=\"$previous\" /><xsl:text>.</xsl:text><xsl:value-of select=\"@n\"/>\n",
    "            <xsl:apply-templates select=\"node()\">\n",
    "                <xsl:with-param name=\"previous\"><xsl:value-of select=\"$previous\" /><xsl:text>.</xsl:text><xsl:value-of select=\"@n\"/></xsl:with-param>\n",
    "            </xsl:apply-templates>\n",
    "        </xsl:template>\"\"\"\n",
    "    return ET.XSLT(ET.fromstring(\"\"\"<xsl:stylesheet xmlns:xsl=\"http://www.w3.org/1999/XSL/Transform\"\n",
    "        xmlns:xs=\"http://www.w3.org/2001/XMLSchema\"\n",
    "        exclude-result-prefixes=\"xs\" xmlns:tei=\"http://www.tei-c.org/ns/1.0\"\n",
    "        version=\"1.0\">\n",
    "        <xsl:output method=\"text\" encoding=\"UTF-8\"/>\n",
    "        <xsl:template match=\"node()\">\n",
    "            <xsl:param name=\"previous\" />\n",
    "            <xsl:apply-templates select=\"node()\"><xsl:with-param name=\"previous\" select=\"$previous\" /></xsl:apply-templates>\n",
    "        </xsl:template>\n",
    "        <xsl:template match=\"text()\" />\n",
    "        {previous}\n",
    "\n",
    "    </xsl:stylesheet>\"\"\".format(previous=additional_xsl)))"
   ]
  },
  {
   "cell_type": "code",
   "execution_count": 113,
   "id": "indirect-fields",
   "metadata": {},
   "outputs": [
    {
     "name": "stderr",
     "output_type": "stream",
     "text": [
      "../../data/raw/corpora/lascivaroma_additional-texts/lascivaroma_additional-texts/data/phi1351/phi005/phi1351.phi005.perseus-eng1.xml is not present\n",
      "../../data/raw/corpora/lascivaroma_priapeia/lascivaroma_priapeia/data/phi1103/phi001/phi1103.phi001.lascivaroma-eng1.xml is not present\n",
      "../../data/raw/corpora/lascivaroma_priapeia/lascivaroma_priapeia/data/phi1103/phi001/phi1103.phi001.lascivaroma-eng2.xml is not present\n",
      "../../data/raw/corpora/PerseusDL_canonical-latinLit/PerseusDL_canonical-latinLit/data/phi0472/phi001/phi0472.phi001.perseus-eng3.xml is not present\n",
      "../../data/raw/corpora/PerseusDL_canonical-latinLit/PerseusDL_canonical-latinLit/data/phi0472/phi001/phi0472.phi001.perseus-eng4.xml is not present\n",
      "../../data/raw/corpora/PerseusDL_canonical-latinLit/PerseusDL_canonical-latinLit/data/phi0448/phi001/phi0448.phi001.perseus-eng2.xml is not present\n",
      "../../data/raw/corpora/PerseusDL_canonical-latinLit/PerseusDL_canonical-latinLit/data/phi0448/phi002/phi0448.phi002.perseus-eng2.xml is not present\n",
      "../../data/raw/corpora/PerseusDL_canonical-latinLit/PerseusDL_canonical-latinLit/data/phi0893/phi004/phi0893.phi004.perseus-eng2.xml is not present\n",
      "../../data/raw/corpora/PerseusDL_canonical-latinLit/PerseusDL_canonical-latinLit/data/phi0893/phi006/phi0893.phi006.perseus-eng2.xml is not present\n",
      "../../data/raw/corpora/PerseusDL_canonical-latinLit/PerseusDL_canonical-latinLit/data/phi0893/phi001/phi0893.phi001.perseus-eng2.xml is not present\n",
      "../../data/raw/corpora/PerseusDL_canonical-latinLit/PerseusDL_canonical-latinLit/data/phi0474/phi004/phi0474.phi004.perseus-eng2.xml is not present\n",
      "../../data/raw/corpora/PerseusDL_canonical-latinLit/PerseusDL_canonical-latinLit/data/phi0474/phi019/phi0474.phi019.perseus-eng2.xml is not present\n",
      "../../data/raw/corpora/PerseusDL_canonical-latinLit/PerseusDL_canonical-latinLit/data/phi0474/phi018/phi0474.phi018.perseus-eng2.xml is not present\n",
      "../../data/raw/corpora/PerseusDL_canonical-latinLit/PerseusDL_canonical-latinLit/data/phi0474/phi005/phi0474.phi005.perseus-eng2.xml is not present\n",
      "../../data/raw/corpora/PerseusDL_canonical-latinLit/PerseusDL_canonical-latinLit/data/phi0474/phi051/phi0474.phi051.perseus-eng1.xml is not present\n",
      "../../data/raw/corpora/PerseusDL_canonical-latinLit/PerseusDL_canonical-latinLit/data/phi0474/phi008/phi0474.phi008.perseus-eng2.xml is not present\n",
      "../../data/raw/corpora/PerseusDL_canonical-latinLit/PerseusDL_canonical-latinLit/data/phi0474/phi007/phi0474.phi007.perseus-eng2.xml is not present\n",
      "../../data/raw/corpora/PerseusDL_canonical-latinLit/PerseusDL_canonical-latinLit/data/phi0474/phi006/phi0474.phi006.perseus-eng2.xml is not present\n",
      "../../data/raw/corpora/PerseusDL_canonical-latinLit/PerseusDL_canonical-latinLit/data/phi0474/phi052/phi0474.phi052.perseus-eng2.xml is not present\n",
      "../../data/raw/corpora/PerseusDL_canonical-latinLit/PerseusDL_canonical-latinLit/data/phi0474/phi056/phi0474.phi056.perseus-eng1.xml is not present\n",
      "../../data/raw/corpora/PerseusDL_canonical-latinLit/PerseusDL_canonical-latinLit/data/phi0474/phi013/phi0474.phi013.perseus-eng2.xml is not present\n",
      "../../data/raw/corpora/PerseusDL_canonical-latinLit/PerseusDL_canonical-latinLit/data/phi0474/phi015/phi0474.phi015.perseus-eng2.xml is not present\n",
      "../../data/raw/corpora/PerseusDL_canonical-latinLit/PerseusDL_canonical-latinLit/data/phi0474/phi016/phi0474.phi016.perseus-eng2.xml is not present\n",
      "../../data/raw/corpora/PerseusDL_canonical-latinLit/PerseusDL_canonical-latinLit/data/phi0474/phi001/phi0474.phi001.perseus-eng2.xml is not present\n",
      "../../data/raw/corpora/PerseusDL_canonical-latinLit/PerseusDL_canonical-latinLit/data/phi0474/phi012/phi0474.phi012.perseus-eng3.xml is not present\n",
      "../../data/raw/corpora/PerseusDL_canonical-latinLit/PerseusDL_canonical-latinLit/data/phi0474/phi002/phi0474.phi002.perseus-eng2.xml is not present\n",
      "../../data/raw/corpora/PerseusDL_canonical-latinLit/PerseusDL_canonical-latinLit/data/phi0474/phi059/phi0474.phi059.perseus-eng1.xml is not present\n",
      "../../data/raw/corpora/PerseusDL_canonical-latinLit/PerseusDL_canonical-latinLit/data/phi0474/phi053/phi0474.phi053.perseus-eng1.xml is not present\n",
      "../../data/raw/corpora/PerseusDL_canonical-latinLit/PerseusDL_canonical-latinLit/data/phi0474/phi055/phi0474.phi055.perseus-eng1.xml is not present\n",
      "../../data/raw/corpora/PerseusDL_canonical-latinLit/PerseusDL_canonical-latinLit/data/phi0474/phi014/phi0474.phi014.perseus-eng2.xml is not present\n",
      "../../data/raw/corpora/PerseusDL_canonical-latinLit/PerseusDL_canonical-latinLit/data/phi0474/phi010/phi0474.phi010.perseus-eng2.xml is not present\n",
      "../../data/raw/corpora/PerseusDL_canonical-latinLit/PerseusDL_canonical-latinLit/data/phi0474/phi035/phi0474.phi035.perseus-eng1.xml is not present\n",
      "../../data/raw/corpora/PerseusDL_canonical-latinLit/PerseusDL_canonical-latinLit/data/phi0474/phi058/phi0474.phi058.perseus-eng1.xml is not present\n",
      "../../data/raw/corpora/PerseusDL_canonical-latinLit/PerseusDL_canonical-latinLit/data/phi0474/phi003/phi0474.phi003.perseus-eng2.xml is not present\n",
      "../../data/raw/corpora/PerseusDL_canonical-latinLit/PerseusDL_canonical-latinLit/data/phi0474/phi017/phi0474.phi017.perseus-eng2.xml is not present\n",
      "../../data/raw/corpora/PerseusDL_canonical-latinLit/PerseusDL_canonical-latinLit/data/phi0474/phi009/phi0474.phi009.perseus-eng2.xml is not present\n",
      "../../data/raw/corpora/PerseusDL_canonical-latinLit/PerseusDL_canonical-latinLit/data/phi0474/phi011/phi0474.phi011.perseus-eng2.xml is not present\n",
      "../../data/raw/corpora/PerseusDL_canonical-latinLit/PerseusDL_canonical-latinLit/data/phi0474/phi057/phi0474.phi057.perseus-eng1.xml is not present\n",
      "../../data/raw/corpora/PerseusDL_canonical-latinLit/PerseusDL_canonical-latinLit/data/phi0836/phi002/phi0836.phi002.perseus-eng2.xml is not present\n",
      "../../data/raw/corpora/PerseusDL_canonical-latinLit/PerseusDL_canonical-latinLit/data/phi0631/phi001/phi0631.phi001.perseus-eng2.xml is not present\n",
      "../../data/raw/corpora/PerseusDL_canonical-latinLit/PerseusDL_canonical-latinLit/data/phi0631/phi002/phi0631.phi002.perseus-eng2.xml is not present\n",
      "../../data/raw/corpora/PerseusDL_canonical-latinLit/PerseusDL_canonical-latinLit/data/phi1348/abo014/phi1348.abo014.perseus-eng2.xml is not present\n",
      "../../data/raw/corpora/PerseusDL_canonical-latinLit/PerseusDL_canonical-latinLit/data/phi1348/abo015/phi1348.abo015.perseus-eng2.xml is not present\n",
      "../../data/raw/corpora/PerseusDL_canonical-latinLit/PerseusDL_canonical-latinLit/data/phi1348/abo016/phi1348.abo016.perseus-eng2.xml is not present\n",
      "../../data/raw/corpora/PerseusDL_canonical-latinLit/PerseusDL_canonical-latinLit/data/phi1348/abo020/phi1348.abo020.perseus-eng2.xml is not present\n",
      "../../data/raw/corpora/PerseusDL_canonical-latinLit/PerseusDL_canonical-latinLit/data/phi1348/abo018/phi1348.abo018.perseus-eng2.xml is not present\n",
      "../../data/raw/corpora/PerseusDL_canonical-latinLit/PerseusDL_canonical-latinLit/data/phi1348/abo012/phi1348.abo012.perseus-eng2.xml is not present\n",
      "../../data/raw/corpora/PerseusDL_canonical-latinLit/PerseusDL_canonical-latinLit/data/phi1348/abo022/phi1348.abo022.perseus-eng2.xml is not present\n",
      "../../data/raw/corpora/PerseusDL_canonical-latinLit/PerseusDL_canonical-latinLit/data/phi1348/abo011/phi1348.abo011.perseus-eng2.xml is not present\n",
      "../../data/raw/corpora/PerseusDL_canonical-latinLit/PerseusDL_canonical-latinLit/data/phi1348/abo021/phi1348.abo021.perseus-eng2.xml is not present\n",
      "../../data/raw/corpora/PerseusDL_canonical-latinLit/PerseusDL_canonical-latinLit/data/phi1348/abo019/phi1348.abo019.perseus-eng2.xml is not present\n",
      "../../data/raw/corpora/PerseusDL_canonical-latinLit/PerseusDL_canonical-latinLit/data/phi1348/abo017/phi1348.abo017.perseus-eng2.xml is not present\n",
      "../../data/raw/corpora/PerseusDL_canonical-latinLit/PerseusDL_canonical-latinLit/data/phi1348/abo013/phi1348.abo013.perseus-eng2.xml is not present\n",
      "../../data/raw/corpora/PerseusDL_canonical-latinLit/PerseusDL_canonical-latinLit/data/phi1254/phi001/phi1254.phi001.perseus-eng1.xml is not present\n",
      "../../data/raw/corpora/PerseusDL_canonical-latinLit/PerseusDL_canonical-latinLit/data/phi0690/phi001/phi0690.phi001.perseus-eng2.xml is not present\n",
      "../../data/raw/corpora/PerseusDL_canonical-latinLit/PerseusDL_canonical-latinLit/data/phi0690/phi002/phi0690.phi002.perseus-eng2.xml is not present\n"
     ]
    },
    {
     "name": "stderr",
     "output_type": "stream",
     "text": [
      "../../data/raw/corpora/PerseusDL_canonical-latinLit/PerseusDL_canonical-latinLit/data/phi0690/phi003/phi0690.phi003.perseus-eng2.xml is not present\n",
      "../../data/raw/corpora/PerseusDL_canonical-latinLit/PerseusDL_canonical-latinLit/data/phi1017/phi011/phi1017.phi011.perseus-eng2.xml is not present\n",
      "../../data/raw/corpora/PerseusDL_canonical-latinLit/PerseusDL_canonical-latinLit/data/phi0660/phi003/phi0660.phi003.perseus-eng2.xml is not present\n",
      "../../data/raw/corpora/PerseusDL_canonical-latinLit/PerseusDL_canonical-latinLit/data/phi1002/phi001/phi1002.phi001.perseus-eng2.xml is not present\n",
      "../../data/raw/corpora/PerseusDL_canonical-latinLit/PerseusDL_canonical-latinLit/data/phi0914/phi001/phi0914.phi001.perseus-eng3.xml is not present\n",
      "../../data/raw/corpora/PerseusDL_canonical-latinLit/PerseusDL_canonical-latinLit/data/phi0917/phi001/phi0917.phi001.perseus-eng2.xml is not present\n",
      "../../data/raw/corpora/PerseusDL_canonical-latinLit/PerseusDL_canonical-latinLit/data/phi0119/phi004/phi0119.phi004.perseus-eng2.xml is not present\n",
      "../../data/raw/corpora/PerseusDL_canonical-latinLit/PerseusDL_canonical-latinLit/data/phi0119/phi019/phi0119.phi019.perseus-eng2.xml is not present\n",
      "../../data/raw/corpora/PerseusDL_canonical-latinLit/PerseusDL_canonical-latinLit/data/phi0119/phi018/phi0119.phi018.perseus-eng2.xml is not present\n",
      "../../data/raw/corpora/PerseusDL_canonical-latinLit/PerseusDL_canonical-latinLit/data/phi0119/phi005/phi0119.phi005.perseus-eng2.xml is not present\n",
      "../../data/raw/corpora/PerseusDL_canonical-latinLit/PerseusDL_canonical-latinLit/data/phi0119/phi008/phi0119.phi008.perseus-eng2.xml is not present\n",
      "../../data/raw/corpora/PerseusDL_canonical-latinLit/PerseusDL_canonical-latinLit/data/phi0119/phi007/phi0119.phi007.perseus-eng2.xml is not present\n",
      "../../data/raw/corpora/PerseusDL_canonical-latinLit/PerseusDL_canonical-latinLit/data/phi0119/phi020/phi0119.phi020.perseus-eng2.xml is not present\n",
      "../../data/raw/corpora/PerseusDL_canonical-latinLit/PerseusDL_canonical-latinLit/data/phi0119/phi006/phi0119.phi006.perseus-eng2.xml is not present\n",
      "../../data/raw/corpora/PerseusDL_canonical-latinLit/PerseusDL_canonical-latinLit/data/phi0119/phi013/phi0119.phi013.perseus-eng2.xml is not present\n",
      "../../data/raw/corpora/PerseusDL_canonical-latinLit/PerseusDL_canonical-latinLit/data/phi0119/phi015/phi0119.phi015.perseus-eng2.xml is not present\n",
      "../../data/raw/corpora/PerseusDL_canonical-latinLit/PerseusDL_canonical-latinLit/data/phi0119/phi016/phi0119.phi016.perseus-eng2.xml is not present\n",
      "../../data/raw/corpora/PerseusDL_canonical-latinLit/PerseusDL_canonical-latinLit/data/phi0119/phi001/phi0119.phi001.perseus-eng2.xml is not present\n",
      "../../data/raw/corpora/PerseusDL_canonical-latinLit/PerseusDL_canonical-latinLit/data/phi0119/phi012/phi0119.phi012.perseus-eng2.xml is not present\n",
      "../../data/raw/corpora/PerseusDL_canonical-latinLit/PerseusDL_canonical-latinLit/data/phi0119/phi002/phi0119.phi002.perseus-eng2.xml is not present\n",
      "../../data/raw/corpora/PerseusDL_canonical-latinLit/PerseusDL_canonical-latinLit/data/phi0119/phi014/phi0119.phi014.perseus-eng2.xml is not present\n",
      "../../data/raw/corpora/PerseusDL_canonical-latinLit/PerseusDL_canonical-latinLit/data/phi0119/phi010/phi0119.phi010.perseus-eng2.xml is not present\n",
      "../../data/raw/corpora/PerseusDL_canonical-latinLit/PerseusDL_canonical-latinLit/data/phi0119/phi003/phi0119.phi003.perseus-eng2.xml is not present\n",
      "../../data/raw/corpora/PerseusDL_canonical-latinLit/PerseusDL_canonical-latinLit/data/phi0119/phi017/phi0119.phi017.perseus-eng2.xml is not present\n",
      "../../data/raw/corpora/PerseusDL_canonical-latinLit/PerseusDL_canonical-latinLit/data/phi0119/phi009/phi0119.phi009.perseus-eng2.xml is not present\n",
      "../../data/raw/corpora/PerseusDL_canonical-latinLit/PerseusDL_canonical-latinLit/data/phi0119/phi011/phi0119.phi011.perseus-eng2.xml is not present\n",
      "../../data/raw/corpora/PerseusDL_canonical-latinLit/PerseusDL_canonical-latinLit/data/phi0134/phi004/phi0134.phi004.perseus-eng2.xml is not present\n",
      "../../data/raw/corpora/PerseusDL_canonical-latinLit/PerseusDL_canonical-latinLit/data/phi0134/phi005/phi0134.phi005.perseus-eng2.xml is not present\n",
      "../../data/raw/corpora/PerseusDL_canonical-latinLit/PerseusDL_canonical-latinLit/data/phi0134/phi006/phi0134.phi006.perseus-eng2.xml is not present\n",
      "../../data/raw/corpora/PerseusDL_canonical-latinLit/PerseusDL_canonical-latinLit/data/phi0134/phi001/phi0134.phi001.perseus-eng2.xml is not present\n",
      "../../data/raw/corpora/PerseusDL_canonical-latinLit/PerseusDL_canonical-latinLit/data/phi0134/phi002/phi0134.phi002.perseus-eng2.xml is not present\n",
      "../../data/raw/corpora/PerseusDL_canonical-latinLit/PerseusDL_canonical-latinLit/data/phi0134/phi003/phi0134.phi003.perseus-eng2.xml is not present\n",
      "../../data/raw/corpora/PerseusDL_canonical-latinLit/PerseusDL_canonical-latinLit/data/phi0959/phi004/phi0959.phi004.perseus-eng2.xml is not present\n",
      "../../data/raw/corpora/PerseusDL_canonical-latinLit/PerseusDL_canonical-latinLit/data/phi0959/phi005/phi0959.phi005.perseus-eng2.xml is not present\n",
      "../../data/raw/corpora/PerseusDL_canonical-latinLit/PerseusDL_canonical-latinLit/data/phi0959/phi006/phi0959.phi006.perseus-eng3.xml is not present\n",
      "../../data/raw/corpora/PerseusDL_canonical-latinLit/PerseusDL_canonical-latinLit/data/phi0959/phi006/phi0959.phi006.perseus-eng4.xml is not present\n",
      "../../data/raw/corpora/PerseusDL_canonical-latinLit/PerseusDL_canonical-latinLit/data/phi0959/phi001/phi0959.phi001.perseus-eng2.xml is not present\n",
      "../../data/raw/corpora/PerseusDL_canonical-latinLit/PerseusDL_canonical-latinLit/data/phi0959/phi002/phi0959.phi002.perseus-eng2.xml is not present\n",
      "../../data/raw/corpora/PerseusDL_canonical-latinLit/PerseusDL_canonical-latinLit/data/phi0959/phi003/phi0959.phi003.perseus-eng2.xml is not present\n",
      "../../data/raw/corpora/PerseusDL_canonical-latinLit/PerseusDL_canonical-latinLit/data/stoa0023/stoa001/stoa0023.stoa001.perseus-eng2.xml is not present\n",
      "../../data/raw/corpora/PerseusDL_canonical-latinLit/PerseusDL_canonical-latinLit/data/stoa0089/stoa013/stoa0089.stoa013.perseus-eng1.xml is not present\n",
      "../../data/raw/corpora/PerseusDL_canonical-latinLit/PerseusDL_canonical-latinLit/data/stoa0089/stoa004/stoa0089.stoa004.perseus-eng1.xml is not present\n",
      "../../data/raw/corpora/PerseusDL_canonical-latinLit/PerseusDL_canonical-latinLit/data/stoa0089/stoa005/stoa0089.stoa005.perseus-eng1.xml is not present\n",
      "../../data/raw/corpora/PerseusDL_canonical-latinLit/PerseusDL_canonical-latinLit/data/stoa0089/stoa012/stoa0089.stoa012.perseus-eng1.xml is not present\n",
      "../../data/raw/corpora/PerseusDL_canonical-latinLit/PerseusDL_canonical-latinLit/data/stoa0089/stoa007/stoa0089.stoa007.perseus-eng1.xml is not present\n",
      "../../data/raw/corpora/PerseusDL_canonical-latinLit/PerseusDL_canonical-latinLit/data/stoa0089/stoa003/stoa0089.stoa003.perseus-eng1.xml is not present\n",
      "../../data/raw/corpora/PerseusDL_canonical-latinLit/PerseusDL_canonical-latinLit/data/stoa0089/stoa009/stoa0089.stoa009.perseus-eng1.xml is not present\n",
      "../../data/raw/corpora/PerseusDL_canonical-latinLit/PerseusDL_canonical-latinLit/data/stoa0089/stoa008/stoa0089.stoa008.perseus-eng1.xml is not present\n",
      "../../data/raw/corpora/PerseusDL_canonical-latinLit/PerseusDL_canonical-latinLit/data/stoa0089/stoa014/stoa0089.stoa014.perseus-eng1.xml is not present\n",
      "../../data/raw/corpora/PerseusDL_canonical-latinLit/PerseusDL_canonical-latinLit/data/stoa0089/stoa002/stoa0089.stoa002.perseus-eng1.xml is not present\n",
      "../../data/raw/corpora/PerseusDL_canonical-latinLit/PerseusDL_canonical-latinLit/data/stoa0089/stoa006/stoa0089.stoa006.perseus-eng1.xml is not present\n",
      "../../data/raw/corpora/PerseusDL_canonical-latinLit/PerseusDL_canonical-latinLit/data/stoa0089/stoa001/stoa0089.stoa001.perseus-eng1.xml is not present\n",
      "../../data/raw/corpora/PerseusDL_canonical-latinLit/PerseusDL_canonical-latinLit/data/stoa0089/stoa011/stoa0089.stoa011.perseus-eng1.xml is not present\n",
      "../../data/raw/corpora/PerseusDL_canonical-latinLit/PerseusDL_canonical-latinLit/data/stoa0089/stoa010/stoa0089.stoa010.perseus-eng1.xml is not present\n",
      "../../data/raw/corpora/PerseusDL_canonical-latinLit/PerseusDL_canonical-latinLit/data/phi1056/phi001/phi1056.phi001.perseus-eng1.xml is not present\n"
     ]
    },
    {
     "name": "stderr",
     "output_type": "stream",
     "text": [
      "../../data/raw/corpora/PerseusDL_canonical-latinLit/PerseusDL_canonical-latinLit/data/phi1351/phi004/phi1351.phi004.perseus-eng1.xml is not present\n",
      "../../data/raw/corpora/PerseusDL_canonical-latinLit/PerseusDL_canonical-latinLit/data/phi1351/phi001/phi1351.phi001.perseus-eng2.xml is not present\n",
      "../../data/raw/corpora/PerseusDL_canonical-latinLit/PerseusDL_canonical-latinLit/data/phi1351/phi001/phi1351.phi001.perseus-eng1.xml is not present\n",
      "../../data/raw/corpora/PerseusDL_canonical-latinLit/PerseusDL_canonical-latinLit/data/phi1351/phi002/phi1351.phi002.perseus-eng1.xml is not present\n",
      "../../data/raw/corpora/PerseusDL_canonical-latinLit/PerseusDL_canonical-latinLit/data/phi0550/phi001/phi0550.phi001.perseus-eng1.xml is not present\n"
     ]
    }
   ],
   "source": [
    "import glob\n",
    "from MyCapytain.resolvers.cts.local import CtsCapitainsLocalResolver\n",
    "\n",
    "\n",
    "repositories = list(glob.glob(CORPORA_PATH, recursive=False))\n",
    "resolver = CtsCapitainsLocalResolver(repositories)"
   ]
  },
  {
   "cell_type": "code",
   "execution_count": 114,
   "id": "certain-underground",
   "metadata": {},
   "outputs": [
    {
     "name": "stdout",
     "output_type": "stream",
     "text": [
      "Total time: 113.100 seconds\n",
      "Time per text: 0.030 seconds\n",
      "Docs: 3790\n"
     ]
    }
   ],
   "source": [
    "import time\n",
    "\n",
    "start = time.time()\n",
    "texts = 0\n",
    "for epoch in range(5):\n",
    "    for doc in resolver.texts:\n",
    "        if doc.lang == \"lat\":\n",
    "            xsl = get_xslt(doc.citation)\n",
    "            out = [\n",
    "                reff.split(\"]][[\")\n",
    "                for reff in str(xsl(resolver.getTextualNode(doc.id).xml)).strip().split(\"¬\")\n",
    "                if reff\n",
    "            ]\n",
    "            out = list(out)\n",
    "            texts += 1\n",
    "        \n",
    "print(f\"Total time: {time.time()-start:.3f} seconds\")\n",
    "print(f\"Time per text: {(time.time()-start)/(texts):.3f} seconds\")\n",
    "print(f\"Docs: {texts}\")"
   ]
  },
  {
   "cell_type": "code",
   "execution_count": 115,
   "id": "intensive-environment",
   "metadata": {},
   "outputs": [
    {
     "name": "stdout",
     "output_type": "stream",
     "text": [
      "Total time: 73.923 seconds\n",
      "Time per text: 0.020 seconds\n",
      "Docs: 3790\n"
     ]
    }
   ],
   "source": [
    "start = time.time()\n",
    "texts = 0\n",
    "for epoch in range(5):\n",
    "    for doc in resolver.texts:\n",
    "        if doc.lang == \"lat\":\n",
    "            citations = list([\n",
    "                reff\n",
    "                for level in range(doc.citation.depth)\n",
    "                for reff in resolver.getReffs(textId=doc.id, level=level+1)\n",
    "            ])\n",
    "            texts += 1\n",
    "        \n",
    "print(f\"Total time: {time.time()-start:.3f} seconds\")\n",
    "print(f\"Time per text: {(time.time()-start)/(texts):.3f} seconds\")\n",
    "print(f\"Docs: {texts}\")"
   ]
  },
  {
   "cell_type": "code",
   "execution_count": 116,
   "id": "urban-attraction",
   "metadata": {},
   "outputs": [
    {
     "name": "stdout",
     "output_type": "stream",
     "text": [
      "Total time: 110.086 seconds\n",
      "Time per text: 0.029 seconds\n",
      "Docs: 3790\n"
     ]
    }
   ],
   "source": [
    "import time\n",
    "\n",
    "start = time.time()\n",
    "texts = 0\n",
    "for epoch in range(5):\n",
    "    for doc in resolver.texts:\n",
    "        if doc.lang == \"lat\":\n",
    "            xsl = get_xslt(doc.citation)\n",
    "            data = str(xsl(resolver.getTextualNode(doc.id).xml))\n",
    "            texts += 1\n",
    "        \n",
    "print(f\"Total time: {time.time()-start:.3f} seconds\")\n",
    "print(f\"Time per text: {(time.time()-start)/(texts):.3f} seconds\")\n",
    "print(f\"Docs: {texts}\")"
   ]
  },
  {
   "cell_type": "code",
   "execution_count": 117,
   "id": "fifteen-nicholas",
   "metadata": {},
   "outputs": [],
   "source": [
    "# Retrieve only nodes that are matching the XPATH\n",
    "\n",
    "\n",
    "def get_xpath(citation):\n",
    "    return f\"{citation.scope}{citation.xpath}\".replace(\"='?'\", \"\").replace(\"=\\\"?\\\"\", \"\").replace('\"', \"'\")\n",
    "\n",
    "def get_xslt2(citation_scheme):\n",
    "    additional_xsl = \"\"\n",
    "    for level in range(len(citation_scheme)):\n",
    "        xpath = get_xpath(citation_scheme[level])\n",
    "        name = citation_scheme[level].name or \"unknown\"\n",
    "        \n",
    "        additional_xsl += '<xsl:template match=\"'+xpath+'\"><xsl:param name=\"previous\" />' + \"\"\"\n",
    "        <xsl:text>{'ref':'</xsl:text>\n",
    "        \"\"\"\n",
    "        \n",
    "        if level > 0:\n",
    "            cur = \"\"\"<xsl:value-of select=\"$previous\" /><xsl:text>.</xsl:text><xsl:value-of select=\"@n\"/>\"\"\"\n",
    "        else:\n",
    "            cur = \"\"\"<xsl:value-of select=\"@n\"/>\"\"\"\n",
    "        \n",
    "        additional_xsl += cur\n",
    "        \n",
    "        additional_xsl += f\"<xsl:text>', 'type': '{name}', 'children':[</xsl:text>\"\n",
    "        additional_xsl += \"\"\"<xsl:apply-templates select=\"node()\"><xsl:with-param name=\"previous\">\"\"\"+cur+\"\"\"</xsl:with-param></xsl:apply-templates><xsl:text>]},</xsl:text>\n",
    "        </xsl:template>\"\"\"\n",
    "\n",
    "    return ET.XSLT(ET.fromstring(\"\"\"<xsl:stylesheet xmlns:xsl=\"http://www.w3.org/1999/XSL/Transform\"\n",
    "        xmlns:xs=\"http://www.w3.org/2001/XMLSchema\"\n",
    "        exclude-result-prefixes=\"xs\" xmlns:tei=\"http://www.tei-c.org/ns/1.0\"\n",
    "        version=\"1.0\">\n",
    "        <xsl:output method=\"text\" encoding=\"UTF-8\"/>\n",
    "        <xsl:template match=\"node()\">\n",
    "            <xsl:param name=\"previous\" />\n",
    "            <xsl:apply-templates select=\"node()\"><xsl:with-param name=\"previous\" select=\"$previous\" /></xsl:apply-templates>\n",
    "        </xsl:template>\n",
    "        <xsl:template match=\"text()\" />\n",
    "        {previous}\n",
    "\n",
    "    </xsl:stylesheet>\"\"\".format(previous=additional_xsl)))"
   ]
  },
  {
   "cell_type": "code",
   "execution_count": 119,
   "id": "working-section",
   "metadata": {},
   "outputs": [
    {
     "name": "stdout",
     "output_type": "stream",
     "text": [
      "Total time: 259.493 seconds\n",
      "Time per text: 0.068 seconds\n",
      "Docs: 3790\n"
     ]
    }
   ],
   "source": [
    "import time\n",
    "\n",
    "start = time.time()\n",
    "texts = 0\n",
    "for epoch in range(5):\n",
    "    for doc in resolver.texts:\n",
    "        if doc.lang == \"lat\":\n",
    "            xsl = get_xslt2(doc.citation)\n",
    "            data = \"[\"+str(xsl(resolver.getTextualNode(doc.id).xml)).strip()[:-1]+\"]\"\n",
    "            texts += 1\n",
    "            elements = eval(data)\n",
    "            \n",
    "print(f\"Total time: {time.time()-start:.3f} seconds\")\n",
    "print(f\"Time per text: {(time.time()-start)/(texts):.3f} seconds\")\n",
    "print(f\"Docs: {texts}\")"
   ]
  },
  {
   "cell_type": "code",
   "execution_count": 121,
   "id": "understood-ethnic",
   "metadata": {},
   "outputs": [
    {
     "name": "stdout",
     "output_type": "stream",
     "text": [
      "Total time: 246.328 seconds\n",
      "Time per text: 0.065 seconds\n",
      "Docs: 3790\n"
     ]
    }
   ],
   "source": [
    "import time\n",
    "import json\n",
    "\n",
    "start = time.time()\n",
    "texts = 0\n",
    "for epoch in range(5):\n",
    "    for doc in resolver.texts:\n",
    "        if doc.lang == \"lat\":\n",
    "            xsl = get_xslt2(doc.citation)\n",
    "            data = \"[\"+str(xsl(resolver.getTextualNode(doc.id).xml)).strip()[:-1]+\"]\"\n",
    "            texts += 1\n",
    "            elements = json.loads(data.replace(\"'\", '\"').replace(\",]\", \"]\"))\n",
    "            \n",
    "print(f\"Total time: {time.time()-start:.3f} seconds\")\n",
    "print(f\"Time per text: {(time.time()-start)/(texts):.3f} seconds\")\n",
    "print(f\"Docs: {texts}\")"
   ]
  }
 ],
 "metadata": {
  "kernelspec": {
   "display_name": "Python 3",
   "language": "python",
   "name": "python3"
  },
  "language_info": {
   "codemirror_mode": {
    "name": "ipython",
    "version": 3
   },
   "file_extension": ".py",
   "mimetype": "text/x-python",
   "name": "python",
   "nbconvert_exporter": "python",
   "pygments_lexer": "ipython3",
   "version": "3.8.5"
  },
  "toc": {
   "base_numbering": 1,
   "nav_menu": {},
   "number_sections": true,
   "sideBar": true,
   "skip_h1_title": false,
   "title_cell": "Table of Contents",
   "title_sidebar": "Contents",
   "toc_cell": false,
   "toc_position": {},
   "toc_section_display": true,
   "toc_window_display": false
  }
 },
 "nbformat": 4,
 "nbformat_minor": 5
}
