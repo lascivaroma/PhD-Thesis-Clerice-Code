{
 "cells": [
  {
   "cell_type": "code",
   "execution_count": 10,
   "metadata": {},
   "outputs": [],
   "source": [
    "import glob\n",
    "import os\n",
    "from collections import Counter\n",
    "from typing import List\n",
    "\n",
    "cltk_tokenizer = glob.glob(\"../data/curated/corpus/pie-http/**/*.txt\")\n",
    "clsq_tokenizer = glob.glob(\"../data/curated/corpus/pie-http-original-tokenizer/**/*.txt\")\n",
    "\n",
    "\n",
    "def update_counter(file: str):\n",
    "    \"\"\" Read a file and returns a Counter \"\"\"\n",
    "    with open(file) as f:\n",
    "        data = Counter(f.read().split())\n",
    "    return data\n",
    "\n",
    "def read_path(directory: List[str]):\n",
    "    \"\"\" Reads a directory and return a full Counter\"\"\"\n",
    "    cnt = Counter()\n",
    "    for file in directory:\n",
    "        cnt.update(update_counter(file))\n",
    "    return cnt"
   ]
  },
  {
   "cell_type": "code",
   "execution_count": 11,
   "metadata": {},
   "outputs": [],
   "source": [
    "CLTK = read_path(cltk_tokenizer)\n",
    "CLSQ = read_path(clsq_tokenizer)"
   ]
  },
  {
   "cell_type": "code",
   "execution_count": 15,
   "metadata": {},
   "outputs": [
    {
     "name": "stdout",
     "output_type": "stream",
     "text": [
      "[('svm', 326171), ('et', 313613), ('qvi', 278016), ('in', 199434), ('vnvs', 190919), ('non', 132257), ('is', 127935), ('qvintvs', 126590), ('hic', 100444), ('vt', 90086), ('cvm', 77611), ('ad', 76275), ('o', 70035), ('ab', 65714), ('dico', 64753), ('ille', 64487), ('sed', 57504), ('si', 55971), ('qvadrantal', 52553), ('omnis', 51109)]\n",
      "[('svm', 325540), ('et', 313641), ('qvi', 277671), ('in', 199004), ('vnvs', 189501), ('qvintvs', 148184), ('non', 132274), ('is', 125116), ('hic', 100354), ('vt', 89648), ('ad', 74579), ('cvm', 73394), ('o', 71404), ('ab', 66027), ('dico', 64726), ('ille', 64431), ('sed', 57558), ('si', 56057), ('qvadrantal', 54848), ('omnis', 50428)]\n",
      "202\n",
      "200\n"
     ]
    }
   ],
   "source": [
    "print(CLTK.most_common(20))\n",
    "print(CLSQ.most_common(20))\n",
    "print(CLTK[\"lascivvs\"])\n",
    "print(CLSQ[\"lascivvs\"])"
   ]
  },
  {
   "cell_type": "code",
   "execution_count": 19,
   "metadata": {},
   "outputs": [],
   "source": [
    "from pandas import Series\n",
    "import numpy as np\n",
    "from operator import itemgetter\n",
    "import matplotlib.pyplot as matplot_plot"
   ]
  },
  {
   "cell_type": "code",
   "execution_count": 42,
   "metadata": {},
   "outputs": [
    {
     "data": {
      "image/png": "[encoded data removed]",
      "text/plain": [
       "<matplotlib.figure.Figure at 0x7effc51927f0>"
      ]
     },
     "metadata": {
      "needs_background": "light"
     },
     "output_type": "display_data"
    },
    {
     "data": {
      "image/png": "[encoded data removed]",
      "text/plain": [
       "<matplotlib.figure.Figure at 0x7eff7e615f98>"
      ]
     },
     "metadata": {
      "needs_background": "light"
     },
     "output_type": "display_data"
    }
   ],
   "source": [
    "#convert value of frequency to numpy array\n",
    "s1 = np.array(list(CLTK.values()))\n",
    "s2 = np.array(list(CLSQ.values()))\n",
    "\n",
    "#Calculate zipf and plot the data\n",
    "count, bins, ignored = matplot_plot.hist(s1[s1<60], 100, normed=True, color=\"green\")\n",
    "matplot_plot.title(\"Frequency distribution using lemmatization \\n results on CLTK tokenized corpora\")\n",
    "matplot_plot.show()\n",
    "count, bins, ignored = matplot_plot.hist(s2[s2<60], 100, normed=True, color=\"red\")\n",
    "matplot_plot.title(\"Frequency distribution using lemmatization \\n results on basic tokenized corpora\")\n",
    "matplot_plot.show()"
   ]
  },
  {
   "cell_type": "code",
   "execution_count": null,
   "metadata": {},
   "outputs": [],
   "source": []
  }
 ],
 "metadata": {
  "kernelspec": {
   "display_name": "Python 3",
   "language": "python",
   "name": "python3"
  },
  "language_info": {
   "codemirror_mode": {
    "name": "ipython",
    "version": 3
   },
   "file_extension": ".py",
   "mimetype": "text/x-python",
   "name": "python",
   "nbconvert_exporter": "python",
   "pygments_lexer": "ipython3",
   "version": "3.6.7"
  }
 },
 "nbformat": 4,
 "nbformat_minor": 2
}
