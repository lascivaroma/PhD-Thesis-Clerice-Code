{
 "cells": [
  {
   "cell_type": "code",
   "execution_count": 20,
   "metadata": {},
   "outputs": [],
   "source": [
    "import os\n",
    "import sys\n",
    "nb_dir = os.path.split(os.getcwd())[0]\n",
    "if nb_dir not in sys.path:\n",
    "    sys.path.append(nb_dir)\n",
    "\n",
    "os.makedirs(\"./models\", exist_ok=True)\n",
    "\n",
    "\n",
    "EXPERIENCES_COUNT = 1\n",
    "ITERATION_COUNT = 3"
   ]
  },
  {
   "cell_type": "code",
   "execution_count": 23,
   "metadata": {},
   "outputs": [],
   "source": [
    "from gensim.models.word2vec import Word2Vec, Word2VecVocab\n",
    "from gensim.models.keyedvectors import KeyedVectors\n",
    "from helpers.embeddings.gensim_model import GensimIterator\n",
    "\n",
    "\n",
    "def make_model(vocabulary) -> KeyedVectors:\n",
    "    model = Word2Vec(\n",
    "            size=100, window=5, min_count=1, workers=7,\n",
    "            hs=1, negative=0,  # Needed for lemmatisation\n",
    "            vocab=vocabulary\n",
    "        )\n",
    "    model.train(corpus, total_examples=model.corpus_count, epochs=model.iter)\n",
    "    return model.wv"
   ]
  },
  {
   "cell_type": "markdown",
   "metadata": {},
   "source": [
    "# Step 1 : Training Models"
   ]
  },
  {
   "cell_type": "code",
   "execution_count": 26,
   "metadata": {},
   "outputs": [
    {
     "name": "stdout",
     "output_type": "stream",
     "text": [
      "Starting experience 0 \n"
     ]
    },
    {
     "ename": "TypeError",
     "evalue": "__init__() got an unexpected keyword argument 'vocab'",
     "output_type": "error",
     "traceback": [
      "\u001b[0;31m---------------------------------------------------------------------------\u001b[0m",
      "\u001b[0;31mTypeError\u001b[0m                                 Traceback (most recent call last)",
      "\u001b[0;32m<ipython-input-26-b82962a4e640>\u001b[0m in \u001b[0;36m<module>\u001b[0;34m\u001b[0m\n\u001b[1;32m     16\u001b[0m     \u001b[0mexperiences\u001b[0m\u001b[0;34m.\u001b[0m\u001b[0mappend\u001b[0m\u001b[0;34m(\u001b[0m\u001b[0;34m[\u001b[0m\u001b[0;34m]\u001b[0m\u001b[0;34m)\u001b[0m\u001b[0;34m\u001b[0m\u001b[0m\n\u001b[1;32m     17\u001b[0m     \u001b[0;32mfor\u001b[0m \u001b[0miteration\u001b[0m \u001b[0;32min\u001b[0m \u001b[0mrange\u001b[0m\u001b[0;34m(\u001b[0m\u001b[0mITERATION_COUNT\u001b[0m\u001b[0;34m)\u001b[0m\u001b[0;34m:\u001b[0m\u001b[0;34m\u001b[0m\u001b[0m\n\u001b[0;32m---> 18\u001b[0;31m         \u001b[0mmodel\u001b[0m \u001b[0;34m=\u001b[0m \u001b[0mmake_model\u001b[0m\u001b[0;34m(\u001b[0m\u001b[0mvocabulary\u001b[0m\u001b[0;34m=\u001b[0m\u001b[0mvocab\u001b[0m\u001b[0;34m)\u001b[0m\u001b[0;34m\u001b[0m\u001b[0m\n\u001b[0m\u001b[1;32m     19\u001b[0m         \u001b[0mmodel\u001b[0m\u001b[0;34m.\u001b[0m\u001b[0mtrain\u001b[0m\u001b[0;34m(\u001b[0m\u001b[0msentences\u001b[0m\u001b[0;34m=\u001b[0m\u001b[0msentences\u001b[0m\u001b[0;34m)\u001b[0m\u001b[0;34m\u001b[0m\u001b[0m\n\u001b[1;32m     20\u001b[0m         \u001b[0;31m#GensimW2Vec(\u001b[0m\u001b[0;34m\u001b[0m\u001b[0;34m\u001b[0m\u001b[0m\n",
      "\u001b[0;32m<ipython-input-23-a82473348e93>\u001b[0m in \u001b[0;36mmake_model\u001b[0;34m(vocabulary)\u001b[0m\n\u001b[1;32m      8\u001b[0m             \u001b[0msize\u001b[0m\u001b[0;34m=\u001b[0m\u001b[0;36m100\u001b[0m\u001b[0;34m,\u001b[0m \u001b[0mwindow\u001b[0m\u001b[0;34m=\u001b[0m\u001b[0;36m5\u001b[0m\u001b[0;34m,\u001b[0m \u001b[0mmin_count\u001b[0m\u001b[0;34m=\u001b[0m\u001b[0;36m1\u001b[0m\u001b[0;34m,\u001b[0m \u001b[0mworkers\u001b[0m\u001b[0;34m=\u001b[0m\u001b[0;36m7\u001b[0m\u001b[0;34m,\u001b[0m\u001b[0;34m\u001b[0m\u001b[0m\n\u001b[1;32m      9\u001b[0m             \u001b[0mhs\u001b[0m\u001b[0;34m=\u001b[0m\u001b[0;36m1\u001b[0m\u001b[0;34m,\u001b[0m \u001b[0mnegative\u001b[0m\u001b[0;34m=\u001b[0m\u001b[0;36m0\u001b[0m\u001b[0;34m,\u001b[0m  \u001b[0;31m# Needed for lemmatisation\u001b[0m\u001b[0;34m\u001b[0m\u001b[0m\n\u001b[0;32m---> 10\u001b[0;31m             \u001b[0mvocab\u001b[0m\u001b[0;34m=\u001b[0m\u001b[0mvocabulary\u001b[0m\u001b[0;34m\u001b[0m\u001b[0m\n\u001b[0m\u001b[1;32m     11\u001b[0m         )\n\u001b[1;32m     12\u001b[0m     \u001b[0mmodel\u001b[0m\u001b[0;34m.\u001b[0m\u001b[0mtrain\u001b[0m\u001b[0;34m(\u001b[0m\u001b[0mcorpus\u001b[0m\u001b[0;34m,\u001b[0m \u001b[0mtotal_examples\u001b[0m\u001b[0;34m=\u001b[0m\u001b[0mmodel\u001b[0m\u001b[0;34m.\u001b[0m\u001b[0mcorpus_count\u001b[0m\u001b[0;34m,\u001b[0m \u001b[0mepochs\u001b[0m\u001b[0;34m=\u001b[0m\u001b[0mmodel\u001b[0m\u001b[0;34m.\u001b[0m\u001b[0miter\u001b[0m\u001b[0;34m)\u001b[0m\u001b[0;34m\u001b[0m\u001b[0m\n",
      "\u001b[0;31mTypeError\u001b[0m: __init__() got an unexpected keyword argument 'vocab'"
     ]
    }
   ],
   "source": [
    "import glob\n",
    "corpus_path = \"data/curated/corpus/generic/**/*.txt\"\n",
    "sentences = GensimIterator(\n",
    "    glob.glob(corpus_path) + \\\n",
    "    glob.glob(corpus_path.replace(\"*.\", \".\"))\n",
    ")\n",
    "\n",
    "vocab = Word2VecVocab(min_count=1)\n",
    "vocab.scan_vocab(sentences=sentences)\n",
    "\n",
    "\n",
    "for experience in range(EXPERIENCES_COUNT):\n",
    "    print(\"Starting experience %s \" % experience)\n",
    "    iterations = []\n",
    "    averaged = []\n",
    "    experiences.append([])\n",
    "    for iteration in range(ITERATION_COUNT):\n",
    "        model = make_model(vocabulary=vocab)\n",
    "        model.train(sentences=sentences)\n",
    "        #GensimW2Vec(\n",
    "        #    \"models/exp%s.iter%s\" % (experience, iteration),\n",
    "        #    \"../data/curated/corpus/generic/**/*.txt\"\n",
    "        #)\n",
    "        #model.load_or_compile()\n",
    "        experiences[-1].append(model)\n",
    "        print(\"Iteration %s trained\" % iteration)"
   ]
  },
  {
   "cell_type": "markdown",
   "metadata": {},
   "source": [
    "# Step 2 : Merge potential models"
   ]
  },
  {
   "cell_type": "code",
   "execution_count": 14,
   "metadata": {},
   "outputs": [
    {
     "name": "stdout",
     "output_type": "stream",
     "text": [
      "[<helpers.embeddings.gensim_model.GensimW2Vec object at 0x7efd3d1850b8>, <helpers.embeddings.gensim_model.GensimW2Vec object at 0x7efd7d74f668>, <helpers.embeddings.gensim_model.GensimW2Vec object at 0x7efd7c6aec18>, <helpers.embeddings.gensim_model.GensimW2Vec object at 0x7efd7c273e10>, <helpers.embeddings.gensim_model.GensimW2Vec object at 0x7efd5d8b9400>, <helpers.embeddings.gensim_model.GensimW2Vec object at 0x7efd76fd0630>, <helpers.embeddings.gensim_model.GensimW2Vec object at 0x7efd76679b38>, <helpers.embeddings.gensim_model.GensimW2Vec object at 0x7efd7960fcf8>, <helpers.embeddings.gensim_model.GensimW2Vec object at 0x7efd8659c320>, <helpers.embeddings.gensim_model.GensimW2Vec object at 0x7efd7f074a58>]\n",
      "1\n",
      "2\n",
      "3\n",
      "4\n",
      "5\n",
      "6\n",
      "7\n",
      "8\n",
      "9\n",
      "10\n"
     ]
    }
   ],
   "source": [
    "for experience in range(EXPERIENCES_COUNT):\n",
    "    models = experiences[experience]\n",
    "    merged = []\n",
    "    print(models)\n",
    "    for iteration in range(ITERATION_COUNT):\n",
    "        current = models[:iteration+1]\n",
    "        \n",
    "        "
   ]
  },
  {
   "cell_type": "markdown",
   "metadata": {},
   "source": [
    "# Step 3 : Select random words\n",
    "\n",
    "To have a fair representation, we should select words that appears at in different *deciles* of the corpus."
   ]
  },
  {
   "cell_type": "markdown",
   "metadata": {},
   "source": [
    "# Step 4 : Compute stability"
   ]
  },
  {
   "cell_type": "markdown",
   "metadata": {},
   "source": [
    "# Step 5 : Plot stability"
   ]
  }
 ],
 "metadata": {
  "kernelspec": {
   "display_name": "Python 3",
   "language": "python",
   "name": "python3"
  },
  "language_info": {
   "codemirror_mode": {
    "name": "ipython",
    "version": 3
   },
   "file_extension": ".py",
   "mimetype": "text/x-python",
   "name": "python",
   "nbconvert_exporter": "python",
   "pygments_lexer": "ipython3",
   "version": "3.5.2"
  }
 },
 "nbformat": 4,
 "nbformat_minor": 2
}
